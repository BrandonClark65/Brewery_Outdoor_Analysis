{
 "cells": [
  {
   "cell_type": "code",
   "execution_count": 1,
   "id": "504c0fa8",
   "metadata": {
    "scrolled": true
   },
   "outputs": [
    {
     "name": "stdout",
     "output_type": "stream",
     "text": [
      "Requirement already satisfied: yelpapi in c:\\users\\brandon\\anaconda3\\envs\\pythondata\\lib\\site-packages (2.5.0)\n",
      "Requirement already satisfied: requests in c:\\users\\brandon\\anaconda3\\envs\\pythondata\\lib\\site-packages (from yelpapi) (2.26.0)\n",
      "Requirement already satisfied: charset-normalizer~=2.0.0 in c:\\users\\brandon\\anaconda3\\envs\\pythondata\\lib\\site-packages (from requests->yelpapi) (2.0.4)\n",
      "Requirement already satisfied: urllib3<1.27,>=1.21.1 in c:\\users\\brandon\\anaconda3\\envs\\pythondata\\lib\\site-packages (from requests->yelpapi) (1.26.7)\n",
      "Requirement already satisfied: idna<4,>=2.5 in c:\\users\\brandon\\anaconda3\\envs\\pythondata\\lib\\site-packages (from requests->yelpapi) (3.2)\n",
      "Requirement already satisfied: certifi>=2017.4.17 in c:\\users\\brandon\\anaconda3\\envs\\pythondata\\lib\\site-packages (from requests->yelpapi) (2021.10.8)\n",
      "Note: you may need to restart the kernel to use updated packages.\n"
     ]
    }
   ],
   "source": [
    "pip install yelpapi"
   ]
  },
  {
   "cell_type": "code",
   "execution_count": 2,
   "id": "15b6f089",
   "metadata": {},
   "outputs": [],
   "source": [
    "# Import dependencies\n",
    "import pandas as pd\n",
    "import requests\n",
    "from config import api_key"
   ]
  },
  {
   "cell_type": "code",
   "execution_count": 3,
   "id": "e038bdd4",
   "metadata": {
    "scrolled": true
   },
   "outputs": [
    {
     "data": {
      "text/html": [
       "<div>\n",
       "<style scoped>\n",
       "    .dataframe tbody tr th:only-of-type {\n",
       "        vertical-align: middle;\n",
       "    }\n",
       "\n",
       "    .dataframe tbody tr th {\n",
       "        vertical-align: top;\n",
       "    }\n",
       "\n",
       "    .dataframe thead th {\n",
       "        text-align: right;\n",
       "    }\n",
       "</style>\n",
       "<table border=\"1\" class=\"dataframe\">\n",
       "  <thead>\n",
       "    <tr style=\"text-align: right;\">\n",
       "      <th></th>\n",
       "      <th>Unnamed: 0</th>\n",
       "      <th>name</th>\n",
       "      <th>city</th>\n",
       "      <th>state</th>\n",
       "    </tr>\n",
       "  </thead>\n",
       "  <tbody>\n",
       "    <tr>\n",
       "      <th>0</th>\n",
       "      <td>0</td>\n",
       "      <td>NorthGate Brewing</td>\n",
       "      <td>Minneapolis</td>\n",
       "      <td>MN</td>\n",
       "    </tr>\n",
       "    <tr>\n",
       "      <th>1</th>\n",
       "      <td>1</td>\n",
       "      <td>Against the Grain Brewery</td>\n",
       "      <td>Louisville</td>\n",
       "      <td>KY</td>\n",
       "    </tr>\n",
       "    <tr>\n",
       "      <th>2</th>\n",
       "      <td>2</td>\n",
       "      <td>Jack's Abby Craft Lagers</td>\n",
       "      <td>Framingham</td>\n",
       "      <td>MA</td>\n",
       "    </tr>\n",
       "    <tr>\n",
       "      <th>3</th>\n",
       "      <td>3</td>\n",
       "      <td>Mike Hess Brewing Company</td>\n",
       "      <td>San Diego</td>\n",
       "      <td>CA</td>\n",
       "    </tr>\n",
       "    <tr>\n",
       "      <th>4</th>\n",
       "      <td>4</td>\n",
       "      <td>Fort Point Beer Company</td>\n",
       "      <td>San Francisco</td>\n",
       "      <td>CA</td>\n",
       "    </tr>\n",
       "  </tbody>\n",
       "</table>\n",
       "</div>"
      ],
      "text/plain": [
       "   Unnamed: 0                       name           city state\n",
       "0           0         NorthGate Brewing     Minneapolis    MN\n",
       "1           1  Against the Grain Brewery     Louisville    KY\n",
       "2           2   Jack's Abby Craft Lagers     Framingham    MA\n",
       "3           3  Mike Hess Brewing Company      San Diego    CA\n",
       "4           4    Fort Point Beer Company  San Francisco    CA"
      ]
     },
     "execution_count": 3,
     "metadata": {},
     "output_type": "execute_result"
    }
   ],
   "source": [
    "# Read in breweries.csv\n",
    "breweries_df = pd.read_csv(\"Resources/breweries.csv\")\n",
    "breweries_df.head()"
   ]
  },
  {
   "cell_type": "code",
   "execution_count": 4,
   "id": "f810c9d2",
   "metadata": {
    "scrolled": true
   },
   "outputs": [
    {
     "data": {
      "text/plain": [
       "array(['Minneapolis', 'Louisville', 'Framingham', 'San Diego',\n",
       "       'San Francisco', 'Charleston', 'Denver', 'Bridgman', 'Holland',\n",
       "       'Grand Rapids', 'Petoskey', 'Marquette', 'Comstock Park',\n",
       "       'South Lyon', 'Indianapolis', 'Evansville', 'Plainfield',\n",
       "       'Granger', 'Martinsville', 'Valparaiso', 'Michigan City',\n",
       "       'Mishawaka', 'Columbus', 'Bargersville', 'Seven Points',\n",
       "       'Chandler', 'Kansas City', 'Stevens Point', 'Torrance', 'Buellton',\n",
       "       'Boulder', 'Dripping Springs', 'Kalamazoo', 'Murphysboro',\n",
       "       'East Fairfield', 'Portland', 'Export', 'Chicago', 'Manhattan',\n",
       "       'Brooklyn', 'Hooksett', 'Paso Robles', 'Atlanta', 'Troutville',\n",
       "       'Roseville', 'Lombard', 'Lemont', 'Lyons', 'Bloomington',\n",
       "       'St. Paul', 'Portage', 'Saint Louis', 'Brooklyn Center', 'Edwards',\n",
       "       'San Antonio', 'St Petersburg', 'Mt. Airy', 'Boone', 'Charlotte',\n",
       "       'Baltimore', 'Detroit', 'Madison', 'Warrenville', 'Duluth',\n",
       "       'Austin', 'Sheridan', 'Fort Collins', 'Chico', 'Houghton',\n",
       "       'Traverse City', 'Westerly', 'Kirkwood', 'East Windsor',\n",
       "       'Wilkes-Barre', 'Cincinnati', 'Athens', 'Dayton', 'Morganton',\n",
       "       'Hershey', 'Lexington', 'Newport', 'Anchorage', 'Lowell',\n",
       "       'Lone Tree', 'Pineland', 'Eagle', 'Bloomfield', 'North Woodstock',\n",
       "       'Vista', 'Temecula', 'Yardley', 'Laurel', 'Norfolk', 'Conroe',\n",
       "       'Durango', 'Milwaukee', 'Cheboygan', 'Ashland', 'Ipswich',\n",
       "       'Birmingham', 'Houston', 'Dallas', 'Blanco', \"St Mary's\",\n",
       "       'Wolcott', 'Weston', 'Hattiesburg', 'Monroe', 'Dillon', 'Ada',\n",
       "       'St Paul', 'Springdale', 'Tampa', 'Cold Spring', 'Providence',\n",
       "       'Loveland', 'Nantucket', 'Hayward', 'Cleveland', 'Arvada',\n",
       "       'Raleigh', 'Eugene', 'Latrobe', 'Baton Rouge', 'Sisters',\n",
       "       'Corvallis', 'Lewisburg', 'Phoenix', 'Flagstaff', 'Salt Lake City',\n",
       "       'Tempe', 'Fort Worth', 'Phoenixville', 'Lansdale', 'Aurora',\n",
       "       'Longmont', 'West Chester', 'Windsor', 'Garden City',\n",
       "       'White Salmon', 'Boonville', 'Shelburne', 'New Orleans', 'Gary',\n",
       "       'Cambridge', 'Pittsboro', 'Waynesville', 'Nellysford',\n",
       "       'Oklahoma City', 'Spring Lake', 'Paw Paw', 'Fredericksburg',\n",
       "       'Springfield', 'Lincoln', 'Seattle', 'Jackson', 'Middleton',\n",
       "       'Bend', 'Estacada', 'Hilo', 'Lafayette', 'Astoria', 'Kalona',\n",
       "       'Evanston', 'Verona', 'Spearfish', 'Farmers Branch', 'Richmond',\n",
       "       'Cherry Hill', 'Ponderay', 'Bozeman', 'Broomfield', 'Odessa',\n",
       "       'Atlantic Highlands', 'Middleburg Heights', 'Chatham',\n",
       "       'Washington', 'Lake Geneva', 'Rochester', 'Gloucester', 'Tucson',\n",
       "       'Lake Havasu City', 'Henderson', 'Boston', 'Charlottesville',\n",
       "       'Newburgh', 'Memphis', 'Los Angeles', 'College Station',\n",
       "       'Plant City', 'Stillwater', 'Greenville', 'Stamford',\n",
       "       'Southampton', 'Angola', 'Santa Cruz', 'Frankenmuth',\n",
       "       'Somerset Center', 'South Austin', 'Rogers', 'Mount Pleasant',\n",
       "       'Waterbury', 'Albuquerque', 'Hyannis', 'Bridgewater Corners',\n",
       "       'Shreveport', 'Juneau', 'Middlebury', 'Montauk', 'South Deerfield',\n",
       "       'Pawtucket', 'Mill Valley', 'Ridgefield Park', 'Kearney', 'Hays',\n",
       "       'Port Clinton', 'Gadsden', 'Idaho Springs', 'Lewiston',\n",
       "       'Northamtpon', 'Westminster', 'Pittsburgh', 'York', 'Utica',\n",
       "       'Danville', 'South Burlington', 'Canton', 'Everett',\n",
       "       'Virginia Beach', 'Boise', 'Woodinville', 'Nashville', 'Meridian',\n",
       "       'Bucryus', 'Avon', 'Wilmington', 'Belfast', 'Williamsburg',\n",
       "       'Centralia', 'Claremont', 'Lockland', 'Meadville',\n",
       "       'Black Mountain', 'Croydon', 'Burlington', 'Bronx', 'Tulsa',\n",
       "       'Diamond Springs', 'Fargo', 'Missoula', 'Papillion', \"St. John's\",\n",
       "       'Worcester', 'Boynton Beach', 'Palisade', 'Abingdon', 'Erie',\n",
       "       'Santee', 'Durham', 'South Bend', 'Green Bay', 'San Luis Obispo',\n",
       "       'Westfield', 'Bellingham', 'Monument', 'Philadelphia',\n",
       "       'Shelbyville', 'Fuquay-Varina', 'Lake Barrington', 'Pottstown',\n",
       "       'Midvale', 'Davenport', 'Mustang', 'Kent', 'Buena Vista',\n",
       "       'Carlsbad', 'Conestoga', 'Dunedin', 'Lahaina', 'Midwest City',\n",
       "       'Menominee', 'Jacksonville', 'Manheim', 'Afton', 'Crozet',\n",
       "       'Mt. Pleasant', 'Paonia', 'Brevard', 'Airway Heights', 'Santa Fe',\n",
       "       'Miami', 'Hudsonville', 'Sacramento', 'Douglas', 'Moab', 'Macon',\n",
       "       'Washougal', 'Ann Arbor', 'Eau Claire', 'Hamilton', 'Lakeside',\n",
       "       'Woodbridge', 'Huntsville', 'Arrington', 'Savannah', 'Biglerville',\n",
       "       'Denton', 'Roanoke', 'Ashburn', 'Slippery Rock', 'Asheville',\n",
       "       'Stratford', 'Medford', 'Kona', 'Royal Oak', \"O'Fallon\",\n",
       "       'Vadnais Heights', 'Lenoir', 'Leominster', 'Gainesville',\n",
       "       'Half Moon Bay', 'Pacific', 'Talkeetna', 'Hardy', 'Menominie',\n",
       "       'Soldotna', 'South San Francisco', 'Golden', 'Alpine',\n",
       "       'Jacksonville Beach', 'Tampa Bay', 'Knoxville', 'Spirit Lake',\n",
       "       'Tacoma', 'Minnetonka', 'Marietta', 'Redlands', 'Sheffield',\n",
       "       'Halethorpe', 'Telluride', 'Gig Harbor', 'Des Moines', 'Yakima',\n",
       "       'New York', 'Patchogue', 'Belmont', 'Silverton', 'Newburyport',\n",
       "       'Glendale', 'Stevensville', 'Leavenworth', 'Mooresville', 'Krebs',\n",
       "       'Fort Wayne', 'Cortland', 'Marlborough', 'Pawcatuck',\n",
       "       'Colorado Springs', 'Greeley', 'Myrtle Beach', 'Chattanooga',\n",
       "       'Frederick', 'Aspen', 'Reno', 'Dolores', 'Smithton',\n",
       "       'Abita Springs', 'Mammoth Lakes', 'Belt', 'Williams', 'Helena',\n",
       "       'Kinston', 'Battle Creek', 'Whitefish', 'Lancaster', 'Elmira',\n",
       "       'North Conway', 'Prescott', 'Pinedale', 'Libertyville',\n",
       "       'Covington', 'Wilson', 'Ukiah', 'Garrattsville'], dtype=object)"
      ]
     },
     "execution_count": 4,
     "metadata": {},
     "output_type": "execute_result"
    }
   ],
   "source": [
    "# create list with all of the cities in the breweries_df\n",
    "brewery_cities = breweries_df[\"city\"].unique()\n",
    "brewery_cities"
   ]
  },
  {
   "cell_type": "code",
   "execution_count": 22,
   "id": "7d6d021b",
   "metadata": {},
   "outputs": [],
   "source": [
    "# import yelpAPI\n",
    "from yelpapi import YelpAPI\n",
    "import argparse\n",
    "from pprint import pprint"
   ]
  },
  {
   "cell_type": "code",
   "execution_count": 6,
   "id": "8b4da87f",
   "metadata": {},
   "outputs": [],
   "source": [
    "# Create empty list to hold rei results of yelp api call\n",
    "rei_results = []"
   ]
  },
  {
   "cell_type": "code",
   "execution_count": 7,
   "id": "074a3fb0",
   "metadata": {},
   "outputs": [],
   "source": [
    "# Function to pull stores from yelp with location as the variable\n",
    "def get_rei_stores(location):\n",
    "    with YelpAPI(api_key) as yelp_api:\n",
    "        # city_data is the json file with all businesses returned from search\n",
    "        city_data = yelp_api.search_query(term='REI', location = location)\n",
    "        # For each business in the search, return business name and coordinates\n",
    "        for i in range(len(city_data['businesses'])):\n",
    "            business_name = city_data['businesses'][i]['name']\n",
    "            business_lat = city_data['businesses'][i]['coordinates']['latitude']\n",
    "            business_long = city_data['businesses'][i]['coordinates']['longitude']\n",
    "            business_type = city_data['businesses'][i]['categories'][0]['alias']\n",
    "            rei_results.append({\"Name\":business_name, \"Lat\":business_lat, \"Lng\":business_long, \"Business Type\":business_type})\n",
    "        "
   ]
  },
  {
   "cell_type": "code",
   "execution_count": 8,
   "id": "726f05df",
   "metadata": {},
   "outputs": [
    {
     "name": "stdout",
     "output_type": "stream",
     "text": [
      "An exception occurred for Kirkwood\n",
      "An exception occurred for Athens\n",
      "An exception occurred for Odessa\n",
      "An exception occurred for Angola\n"
     ]
    }
   ],
   "source": [
    "# Apply get_rei_stores function to each location in the brewery_cities list\n",
    "for city in brewery_cities:\n",
    "    try:\n",
    "        get_rei_stores(city)\n",
    "    except:\n",
    "        print(f\"An exception occurred for {city}\")"
   ]
  },
  {
   "cell_type": "code",
   "execution_count": 9,
   "id": "794ccde5",
   "metadata": {},
   "outputs": [
    {
     "data": {
      "text/html": [
       "<div>\n",
       "<style scoped>\n",
       "    .dataframe tbody tr th:only-of-type {\n",
       "        vertical-align: middle;\n",
       "    }\n",
       "\n",
       "    .dataframe tbody tr th {\n",
       "        vertical-align: top;\n",
       "    }\n",
       "\n",
       "    .dataframe thead th {\n",
       "        text-align: right;\n",
       "    }\n",
       "</style>\n",
       "<table border=\"1\" class=\"dataframe\">\n",
       "  <thead>\n",
       "    <tr style=\"text-align: right;\">\n",
       "      <th></th>\n",
       "      <th>Name</th>\n",
       "      <th>Lat</th>\n",
       "      <th>Lng</th>\n",
       "      <th>Business Type</th>\n",
       "    </tr>\n",
       "  </thead>\n",
       "  <tbody>\n",
       "    <tr>\n",
       "      <th>0</th>\n",
       "      <td>REI</td>\n",
       "      <td>45.016018</td>\n",
       "      <td>-93.182877</td>\n",
       "      <td>bikes</td>\n",
       "    </tr>\n",
       "    <tr>\n",
       "      <th>1</th>\n",
       "      <td>REI</td>\n",
       "      <td>44.860933</td>\n",
       "      <td>-93.291281</td>\n",
       "      <td>outdoorgear</td>\n",
       "    </tr>\n",
       "    <tr>\n",
       "      <th>2</th>\n",
       "      <td>REI</td>\n",
       "      <td>45.091260</td>\n",
       "      <td>-93.427546</td>\n",
       "      <td>sportswear</td>\n",
       "    </tr>\n",
       "    <tr>\n",
       "      <th>3</th>\n",
       "      <td>Midwest Mountaineering</td>\n",
       "      <td>44.970720</td>\n",
       "      <td>-93.246890</td>\n",
       "      <td>outdoorgear</td>\n",
       "    </tr>\n",
       "    <tr>\n",
       "      <th>4</th>\n",
       "      <td>Hoigaard's</td>\n",
       "      <td>44.930329</td>\n",
       "      <td>-93.347251</td>\n",
       "      <td>outdoorgear</td>\n",
       "    </tr>\n",
       "  </tbody>\n",
       "</table>\n",
       "</div>"
      ],
      "text/plain": [
       "                     Name        Lat        Lng Business Type\n",
       "0                     REI  45.016018 -93.182877         bikes\n",
       "1                     REI  44.860933 -93.291281   outdoorgear\n",
       "2                     REI  45.091260 -93.427546    sportswear\n",
       "3  Midwest Mountaineering  44.970720 -93.246890   outdoorgear\n",
       "4              Hoigaard's  44.930329 -93.347251   outdoorgear"
      ]
     },
     "execution_count": 9,
     "metadata": {},
     "output_type": "execute_result"
    }
   ],
   "source": [
    "# Convert to pandas DataFrame\n",
    "rei_df = pd.DataFrame(rei_results)\n",
    "rei_df.head()"
   ]
  },
  {
   "cell_type": "code",
   "execution_count": 10,
   "id": "cd64e96d",
   "metadata": {},
   "outputs": [
    {
     "data": {
      "text/plain": [
       "6514"
      ]
     },
     "execution_count": 10,
     "metadata": {},
     "output_type": "execute_result"
    }
   ],
   "source": [
    "# length of rei_df\n",
    "len(rei_df)"
   ]
  },
  {
   "cell_type": "code",
   "execution_count": null,
   "id": "2d4bf50f",
   "metadata": {},
   "outputs": [],
   "source": []
  },
  {
   "cell_type": "code",
   "execution_count": 11,
   "id": "1f4db164",
   "metadata": {},
   "outputs": [],
   "source": [
    "# Create empty list to hold north face results of yelp api call\n",
    "north_face_results = []"
   ]
  },
  {
   "cell_type": "code",
   "execution_count": 12,
   "id": "2c176573",
   "metadata": {},
   "outputs": [],
   "source": [
    "# Function to pull stores from yelp with location as the variable\n",
    "def get_northface_stores(location):\n",
    "    with YelpAPI(api_key) as yelp_api:\n",
    "        # city_data is the json file with all businesses returned from search\n",
    "        city_data = yelp_api.search_query(term='North Face', location = location)\n",
    "        # For each business in the search, return business name and coordinates\n",
    "        for i in range(len(city_data['businesses'])):\n",
    "            business_name = city_data['businesses'][i]['name']\n",
    "            business_lat = city_data['businesses'][i]['coordinates']['latitude']\n",
    "            business_long = city_data['businesses'][i]['coordinates']['longitude']\n",
    "            business_type = city_data['businesses'][i]['categories'][0]['alias']\n",
    "            north_face_results.append({\"Name\":business_name, \"Lat\":business_lat, \"Lng\": business_long, \"Business Type\":business_type})"
   ]
  },
  {
   "cell_type": "code",
   "execution_count": 13,
   "id": "11882ebe",
   "metadata": {},
   "outputs": [
    {
     "name": "stdout",
     "output_type": "stream",
     "text": [
      "An exception occurred for Martinsville\n",
      "An exception occurred for Kalamazoo\n",
      "An exception occurred for East Fairfield\n",
      "An exception occurred for Export\n",
      "An exception occurred for Bloomington\n",
      "An exception occurred for Mt. Airy\n",
      "An exception occurred for Baltimore\n",
      "An exception occurred for Kirkwood\n",
      "An exception occurred for Athens\n",
      "An exception occurred for Morganton\n",
      "An exception occurred for Pineland\n",
      "An exception occurred for Springdale\n",
      "An exception occurred for Cleveland\n",
      "An exception occurred for Latrobe\n",
      "An exception occurred for Corvallis\n",
      "An exception occurred for Aurora\n",
      "An exception occurred for Gary\n",
      "An exception occurred for Oklahoma City\n",
      "An exception occurred for Paw Paw\n",
      "An exception occurred for Richmond\n",
      "An exception occurred for Odessa\n",
      "An exception occurred for Middleburg Heights\n",
      "An exception occurred for Gloucester\n",
      "An exception occurred for Greenville\n",
      "An exception occurred for Angola\n",
      "An exception occurred for Somerset Center\n",
      "An exception occurred for Middlebury\n",
      "An exception occurred for Montauk\n",
      "An exception occurred for Hays\n",
      "An exception occurred for Pittsburgh\n",
      "An exception occurred for Canton\n",
      "An exception occurred for Williamsburg\n",
      "An exception occurred for Mustang\n",
      "An exception occurred for Midwest City\n",
      "An exception occurred for Airway Heights\n",
      "An exception occurred for Hudsonville\n",
      "An exception occurred for Slippery Rock\n",
      "An exception occurred for Golden\n",
      "An exception occurred for Tampa Bay\n",
      "An exception occurred for Sheffield\n",
      "An exception occurred for Halethorpe\n",
      "An exception occurred for Cortland\n",
      "An exception occurred for Battle Creek\n",
      "An exception occurred for Elmira\n",
      "An exception occurred for Wilson\n"
     ]
    }
   ],
   "source": [
    "# Apply get_northface_stores function to each location in the brewery_cities list\n",
    "for city in brewery_cities:\n",
    "    try:\n",
    "        get_northface_stores(city)\n",
    "    except:\n",
    "        print(f\"An exception occurred for {city}\")"
   ]
  },
  {
   "cell_type": "code",
   "execution_count": 14,
   "id": "323bd8f1",
   "metadata": {},
   "outputs": [
    {
     "data": {
      "text/html": [
       "<div>\n",
       "<style scoped>\n",
       "    .dataframe tbody tr th:only-of-type {\n",
       "        vertical-align: middle;\n",
       "    }\n",
       "\n",
       "    .dataframe tbody tr th {\n",
       "        vertical-align: top;\n",
       "    }\n",
       "\n",
       "    .dataframe thead th {\n",
       "        text-align: right;\n",
       "    }\n",
       "</style>\n",
       "<table border=\"1\" class=\"dataframe\">\n",
       "  <thead>\n",
       "    <tr style=\"text-align: right;\">\n",
       "      <th></th>\n",
       "      <th>Name</th>\n",
       "      <th>Lat</th>\n",
       "      <th>Lng</th>\n",
       "      <th>Business Type</th>\n",
       "    </tr>\n",
       "  </thead>\n",
       "  <tbody>\n",
       "    <tr>\n",
       "      <th>0</th>\n",
       "      <td>The North Face Mall of America</td>\n",
       "      <td>44.853423</td>\n",
       "      <td>-93.241164</td>\n",
       "      <td>sportswear</td>\n",
       "    </tr>\n",
       "    <tr>\n",
       "      <th>1</th>\n",
       "      <td>The North Face Galleria Edina</td>\n",
       "      <td>44.877098</td>\n",
       "      <td>-93.326189</td>\n",
       "      <td>sportswear</td>\n",
       "    </tr>\n",
       "    <tr>\n",
       "      <th>2</th>\n",
       "      <td>The North Face Albertville Premium Outlets</td>\n",
       "      <td>45.244440</td>\n",
       "      <td>-93.663390</td>\n",
       "      <td>outdoorgear</td>\n",
       "    </tr>\n",
       "    <tr>\n",
       "      <th>3</th>\n",
       "      <td>Fjällräven Uptown Outlet</td>\n",
       "      <td>44.948820</td>\n",
       "      <td>-93.298670</td>\n",
       "      <td>sportswear</td>\n",
       "    </tr>\n",
       "    <tr>\n",
       "      <th>4</th>\n",
       "      <td>Midwest Mountaineering</td>\n",
       "      <td>44.970720</td>\n",
       "      <td>-93.246890</td>\n",
       "      <td>outdoorgear</td>\n",
       "    </tr>\n",
       "  </tbody>\n",
       "</table>\n",
       "</div>"
      ],
      "text/plain": [
       "                                         Name        Lat        Lng  \\\n",
       "0              The North Face Mall of America  44.853423 -93.241164   \n",
       "1               The North Face Galleria Edina  44.877098 -93.326189   \n",
       "2  The North Face Albertville Premium Outlets  45.244440 -93.663390   \n",
       "3                    Fjällräven Uptown Outlet  44.948820 -93.298670   \n",
       "4                      Midwest Mountaineering  44.970720 -93.246890   \n",
       "\n",
       "  Business Type  \n",
       "0    sportswear  \n",
       "1    sportswear  \n",
       "2   outdoorgear  \n",
       "3    sportswear  \n",
       "4   outdoorgear  "
      ]
     },
     "execution_count": 14,
     "metadata": {},
     "output_type": "execute_result"
    }
   ],
   "source": [
    "# Convert to pandas DataFrame\n",
    "northface_df = pd.DataFrame(north_face_results)\n",
    "northface_df.head()"
   ]
  },
  {
   "cell_type": "code",
   "execution_count": 15,
   "id": "5ce038a4",
   "metadata": {},
   "outputs": [
    {
     "data": {
      "text/plain": [
       "4061"
      ]
     },
     "execution_count": 15,
     "metadata": {},
     "output_type": "execute_result"
    }
   ],
   "source": [
    "# length of northface_df\n",
    "len(northface_df)"
   ]
  },
  {
   "cell_type": "code",
   "execution_count": 16,
   "id": "f1efd5f7",
   "metadata": {},
   "outputs": [],
   "source": [
    "# Create empty list to hold columbia results of yelp api call\n",
    "columbia_results = []"
   ]
  },
  {
   "cell_type": "code",
   "execution_count": 17,
   "id": "7ee95941",
   "metadata": {},
   "outputs": [],
   "source": [
    "# Function to pull stores from yelp with location as the variable\n",
    "def get_columbia_stores(location):\n",
    "    with YelpAPI(api_key) as yelp_api:\n",
    "        # city_data is the json file with all businesses returned from search\n",
    "        city_data = yelp_api.search_query(term='Columbia', location = location)\n",
    "        # For each business in the search, return business name and coordinates\n",
    "        for i in range(len(city_data['businesses'])):\n",
    "            business_name = city_data['businesses'][i]['name']\n",
    "            business_lat = city_data['businesses'][i]['coordinates']['latitude']\n",
    "            business_long = city_data['businesses'][i]['coordinates']['longitude']\n",
    "            business_type = city_data['businesses'][i]['categories'][0]['alias']\n",
    "            north_face_results.append({\"Name\":business_name, \"Lat\":business_lat, \"Lng\": business_long, \"Business Type\":business_type})"
   ]
  },
  {
   "cell_type": "code",
   "execution_count": 18,
   "id": "c4b62062",
   "metadata": {},
   "outputs": [
    {
     "name": "stdout",
     "output_type": "stream",
     "text": [
      "An exception occurred for Martinsville\n",
      "An exception occurred for Mt. Airy\n",
      "An exception occurred for Baltimore\n",
      "An exception occurred for Detroit\n",
      "An exception occurred for Kirkwood\n",
      "An exception occurred for Athens\n",
      "An exception occurred for Durango\n",
      "An exception occurred for Ada\n",
      "An exception occurred for Eugene\n",
      "An exception occurred for Phoenixville\n",
      "An exception occurred for Lansdale\n",
      "An exception occurred for West Chester\n",
      "An exception occurred for Nellysford\n",
      "An exception occurred for Odessa\n",
      "An exception occurred for Washington\n",
      "An exception occurred for Angola\n",
      "An exception occurred for South Deerfield\n",
      "An exception occurred for Centralia\n",
      "An exception occurred for St. John's\n",
      "An exception occurred for Worcester\n",
      "An exception occurred for Pottstown\n",
      "An exception occurred for Crozet\n",
      "An exception occurred for Arrington\n",
      "An exception occurred for Royal Oak\n",
      "An exception occurred for Leominster\n",
      "An exception occurred for Tacoma\n",
      "An exception occurred for Halethorpe\n",
      "An exception occurred for Telluride\n",
      "An exception occurred for New York\n",
      "An exception occurred for Silverton\n",
      "An exception occurred for Leavenworth\n",
      "An exception occurred for Dolores\n",
      "An exception occurred for Elmira\n"
     ]
    }
   ],
   "source": [
    "# Apply get_columbia_stores function to each location in the brewery_cities list\n",
    "for city in brewery_cities:\n",
    "    try:\n",
    "        get_columbia_stores(city)\n",
    "    except:\n",
    "        print(f\"An exception occurred for {city}\")"
   ]
  },
  {
   "cell_type": "code",
   "execution_count": 19,
   "id": "e3e11d80",
   "metadata": {},
   "outputs": [
    {
     "data": {
      "text/html": [
       "<div>\n",
       "<style scoped>\n",
       "    .dataframe tbody tr th:only-of-type {\n",
       "        vertical-align: middle;\n",
       "    }\n",
       "\n",
       "    .dataframe tbody tr th {\n",
       "        vertical-align: top;\n",
       "    }\n",
       "\n",
       "    .dataframe thead th {\n",
       "        text-align: right;\n",
       "    }\n",
       "</style>\n",
       "<table border=\"1\" class=\"dataframe\">\n",
       "  <thead>\n",
       "    <tr style=\"text-align: right;\">\n",
       "      <th></th>\n",
       "      <th>Name</th>\n",
       "      <th>Lat</th>\n",
       "      <th>Lng</th>\n",
       "      <th>Business Type</th>\n",
       "    </tr>\n",
       "  </thead>\n",
       "  <tbody>\n",
       "    <tr>\n",
       "      <th>0</th>\n",
       "      <td>The North Face Mall of America</td>\n",
       "      <td>44.853423</td>\n",
       "      <td>-93.241164</td>\n",
       "      <td>sportswear</td>\n",
       "    </tr>\n",
       "    <tr>\n",
       "      <th>1</th>\n",
       "      <td>The North Face Galleria Edina</td>\n",
       "      <td>44.877098</td>\n",
       "      <td>-93.326189</td>\n",
       "      <td>sportswear</td>\n",
       "    </tr>\n",
       "    <tr>\n",
       "      <th>2</th>\n",
       "      <td>The North Face Albertville Premium Outlets</td>\n",
       "      <td>45.244440</td>\n",
       "      <td>-93.663390</td>\n",
       "      <td>outdoorgear</td>\n",
       "    </tr>\n",
       "    <tr>\n",
       "      <th>3</th>\n",
       "      <td>Fjällräven Uptown Outlet</td>\n",
       "      <td>44.948820</td>\n",
       "      <td>-93.298670</td>\n",
       "      <td>sportswear</td>\n",
       "    </tr>\n",
       "    <tr>\n",
       "      <th>4</th>\n",
       "      <td>Midwest Mountaineering</td>\n",
       "      <td>44.970720</td>\n",
       "      <td>-93.246890</td>\n",
       "      <td>outdoorgear</td>\n",
       "    </tr>\n",
       "  </tbody>\n",
       "</table>\n",
       "</div>"
      ],
      "text/plain": [
       "                                         Name        Lat        Lng  \\\n",
       "0              The North Face Mall of America  44.853423 -93.241164   \n",
       "1               The North Face Galleria Edina  44.877098 -93.326189   \n",
       "2  The North Face Albertville Premium Outlets  45.244440 -93.663390   \n",
       "3                    Fjällräven Uptown Outlet  44.948820 -93.298670   \n",
       "4                      Midwest Mountaineering  44.970720 -93.246890   \n",
       "\n",
       "  Business Type  \n",
       "0    sportswear  \n",
       "1    sportswear  \n",
       "2   outdoorgear  \n",
       "3    sportswear  \n",
       "4   outdoorgear  "
      ]
     },
     "execution_count": 19,
     "metadata": {},
     "output_type": "execute_result"
    }
   ],
   "source": [
    "# Convert to pandas DataFrame\n",
    "columbia_df = pd.DataFrame(north_face_results)\n",
    "columbia_df.head()"
   ]
  },
  {
   "cell_type": "code",
   "execution_count": 20,
   "id": "285ad1cf",
   "metadata": {},
   "outputs": [
    {
     "data": {
      "text/plain": [
       "9405"
      ]
     },
     "execution_count": 20,
     "metadata": {},
     "output_type": "execute_result"
    }
   ],
   "source": [
    "# length of columbia_df\n",
    "len(columbia_df)"
   ]
  },
  {
   "cell_type": "code",
   "execution_count": 27,
   "id": "a04acf89",
   "metadata": {},
   "outputs": [],
   "source": [
    "# Create empty List ot hold all outdoor gear stores\n",
    "outdoor_gear_results = []"
   ]
  },
  {
   "cell_type": "code",
   "execution_count": 30,
   "id": "01fe613a",
   "metadata": {},
   "outputs": [],
   "source": [
    "# Function to pull stores from yelp with location as the variable\n",
    "def get_outdoor_stores(location):\n",
    "    with YelpAPI(api_key) as yelp_api:\n",
    "        # city_data is the json file with all businesses returned from search\n",
    "        city_data = yelp_api.search_query(term='Outdoor Gear', location = location)\n",
    "        # For each business in the search, return business name and coordinates\n",
    "        for i in range(len(city_data['businesses'])):\n",
    "            business_name = city_data['businesses'][i]['name']\n",
    "            business_lat = city_data['businesses'][i]['coordinates']['latitude']\n",
    "            business_long = city_data['businesses'][i]['coordinates']['longitude']\n",
    "            business_type = city_data['businesses'][i]['categories'][0]['alias']\n",
    "            outdoor_gear_results.append({\"Name\":business_name, \"Lat\":business_lat, \"Lng\": business_long, \"Business Type\":business_type})"
   ]
  },
  {
   "cell_type": "code",
   "execution_count": 31,
   "id": "d65aa4d4",
   "metadata": {},
   "outputs": [
    {
     "name": "stdout",
     "output_type": "stream",
     "text": [
      "An exception occurred for Traverse City\n",
      "An exception occurred for Kirkwood\n",
      "An exception occurred for Athens\n",
      "An exception occurred for Odessa\n",
      "An exception occurred for Stamford\n",
      "An exception occurred for Angola\n"
     ]
    }
   ],
   "source": [
    "# Apply get_outdoor_stores function to each location in the brewery_cities list\n",
    "for city in brewery_cities:\n",
    "    try:\n",
    "        get_outdoor_stores(city)\n",
    "    except:\n",
    "        print(f\"An exception occurred for {city}\")"
   ]
  },
  {
   "cell_type": "code",
   "execution_count": 32,
   "id": "ec9d935e",
   "metadata": {},
   "outputs": [
    {
     "data": {
      "text/html": [
       "<div>\n",
       "<style scoped>\n",
       "    .dataframe tbody tr th:only-of-type {\n",
       "        vertical-align: middle;\n",
       "    }\n",
       "\n",
       "    .dataframe tbody tr th {\n",
       "        vertical-align: top;\n",
       "    }\n",
       "\n",
       "    .dataframe thead th {\n",
       "        text-align: right;\n",
       "    }\n",
       "</style>\n",
       "<table border=\"1\" class=\"dataframe\">\n",
       "  <thead>\n",
       "    <tr style=\"text-align: right;\">\n",
       "      <th></th>\n",
       "      <th>Name</th>\n",
       "      <th>Lat</th>\n",
       "      <th>Lng</th>\n",
       "      <th>Business Type</th>\n",
       "    </tr>\n",
       "  </thead>\n",
       "  <tbody>\n",
       "    <tr>\n",
       "      <th>0</th>\n",
       "      <td>The North Face Mall of America</td>\n",
       "      <td>44.853423</td>\n",
       "      <td>-93.241164</td>\n",
       "      <td>sportswear</td>\n",
       "    </tr>\n",
       "    <tr>\n",
       "      <th>1</th>\n",
       "      <td>The North Face Galleria Edina</td>\n",
       "      <td>44.877098</td>\n",
       "      <td>-93.326189</td>\n",
       "      <td>sportswear</td>\n",
       "    </tr>\n",
       "    <tr>\n",
       "      <th>2</th>\n",
       "      <td>The North Face Albertville Premium Outlets</td>\n",
       "      <td>45.244440</td>\n",
       "      <td>-93.663390</td>\n",
       "      <td>outdoorgear</td>\n",
       "    </tr>\n",
       "    <tr>\n",
       "      <th>3</th>\n",
       "      <td>Fjällräven Uptown Outlet</td>\n",
       "      <td>44.948820</td>\n",
       "      <td>-93.298670</td>\n",
       "      <td>sportswear</td>\n",
       "    </tr>\n",
       "    <tr>\n",
       "      <th>4</th>\n",
       "      <td>Midwest Mountaineering</td>\n",
       "      <td>44.970720</td>\n",
       "      <td>-93.246890</td>\n",
       "      <td>outdoorgear</td>\n",
       "    </tr>\n",
       "  </tbody>\n",
       "</table>\n",
       "</div>"
      ],
      "text/plain": [
       "                                         Name        Lat        Lng  \\\n",
       "0              The North Face Mall of America  44.853423 -93.241164   \n",
       "1               The North Face Galleria Edina  44.877098 -93.326189   \n",
       "2  The North Face Albertville Premium Outlets  45.244440 -93.663390   \n",
       "3                    Fjällräven Uptown Outlet  44.948820 -93.298670   \n",
       "4                      Midwest Mountaineering  44.970720 -93.246890   \n",
       "\n",
       "  Business Type  \n",
       "0    sportswear  \n",
       "1    sportswear  \n",
       "2   outdoorgear  \n",
       "3    sportswear  \n",
       "4   outdoorgear  "
      ]
     },
     "execution_count": 32,
     "metadata": {},
     "output_type": "execute_result"
    }
   ],
   "source": [
    "# Convert to pandas DataFrame\n",
    "outdoor_df = pd.DataFrame(north_face_results)\n",
    "columbia_df.head()"
   ]
  },
  {
   "cell_type": "code",
   "execution_count": 33,
   "id": "09bc3f55",
   "metadata": {},
   "outputs": [
    {
     "data": {
      "text/plain": [
       "14668"
      ]
     },
     "execution_count": 33,
     "metadata": {},
     "output_type": "execute_result"
    }
   ],
   "source": [
    "# length of outdoor_df\n",
    "len(outdoor_df)"
   ]
  },
  {
   "cell_type": "code",
   "execution_count": null,
   "id": "9bc0570d",
   "metadata": {},
   "outputs": [],
   "source": []
  }
 ],
 "metadata": {
  "kernelspec": {
   "display_name": "PythonData",
   "language": "python",
   "name": "pythondata"
  },
  "language_info": {
   "codemirror_mode": {
    "name": "ipython",
    "version": 3
   },
   "file_extension": ".py",
   "mimetype": "text/x-python",
   "name": "python",
   "nbconvert_exporter": "python",
   "pygments_lexer": "ipython3",
   "version": "3.7.11"
  }
 },
 "nbformat": 4,
 "nbformat_minor": 5
}
