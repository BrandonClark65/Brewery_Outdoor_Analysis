{
 "cells": [
  {
   "cell_type": "code",
   "execution_count": 5,
   "id": "c105cf6b",
   "metadata": {
    "scrolled": true
   },
   "outputs": [
    {
     "name": "stdout",
     "output_type": "stream",
     "text": [
      "Requirement already satisfied: yelpapi in c:\\users\\brandon\\anaconda3\\envs\\pythondata\\lib\\site-packages (2.5.0)\n",
      "Requirement already satisfied: requests in c:\\users\\brandon\\anaconda3\\envs\\pythondata\\lib\\site-packages (from yelpapi) (2.26.0)\n",
      "Requirement already satisfied: charset-normalizer~=2.0.0 in c:\\users\\brandon\\anaconda3\\envs\\pythondata\\lib\\site-packages (from requests->yelpapi) (2.0.4)\n",
      "Requirement already satisfied: urllib3<1.27,>=1.21.1 in c:\\users\\brandon\\anaconda3\\envs\\pythondata\\lib\\site-packages (from requests->yelpapi) (1.26.7)\n",
      "Requirement already satisfied: certifi>=2017.4.17 in c:\\users\\brandon\\anaconda3\\envs\\pythondata\\lib\\site-packages (from requests->yelpapi) (2021.10.8)\n",
      "Requirement already satisfied: idna<4,>=2.5 in c:\\users\\brandon\\anaconda3\\envs\\pythondata\\lib\\site-packages (from requests->yelpapi) (3.2)\n",
      "Note: you may need to restart the kernel to use updated packages.\n"
     ]
    }
   ],
   "source": [
    "pip install yelpapi"
   ]
  },
  {
   "cell_type": "code",
   "execution_count": 21,
   "id": "c643da2d",
   "metadata": {},
   "outputs": [],
   "source": [
    "# Import dependencies\n",
    "import pandas as pd\n",
    "import requests\n",
    "from config import api_key"
   ]
  },
  {
   "cell_type": "code",
   "execution_count": 23,
   "id": "d6e00efc",
   "metadata": {
    "scrolled": true
   },
   "outputs": [
    {
     "data": {
      "text/html": [
       "<div>\n",
       "<style scoped>\n",
       "    .dataframe tbody tr th:only-of-type {\n",
       "        vertical-align: middle;\n",
       "    }\n",
       "\n",
       "    .dataframe tbody tr th {\n",
       "        vertical-align: top;\n",
       "    }\n",
       "\n",
       "    .dataframe thead th {\n",
       "        text-align: right;\n",
       "    }\n",
       "</style>\n",
       "<table border=\"1\" class=\"dataframe\">\n",
       "  <thead>\n",
       "    <tr style=\"text-align: right;\">\n",
       "      <th></th>\n",
       "      <th>Unnamed: 0</th>\n",
       "      <th>name</th>\n",
       "      <th>city</th>\n",
       "      <th>state</th>\n",
       "    </tr>\n",
       "  </thead>\n",
       "  <tbody>\n",
       "    <tr>\n",
       "      <th>0</th>\n",
       "      <td>0</td>\n",
       "      <td>NorthGate Brewing</td>\n",
       "      <td>Minneapolis</td>\n",
       "      <td>MN</td>\n",
       "    </tr>\n",
       "    <tr>\n",
       "      <th>1</th>\n",
       "      <td>1</td>\n",
       "      <td>Against the Grain Brewery</td>\n",
       "      <td>Louisville</td>\n",
       "      <td>KY</td>\n",
       "    </tr>\n",
       "    <tr>\n",
       "      <th>2</th>\n",
       "      <td>2</td>\n",
       "      <td>Jack's Abby Craft Lagers</td>\n",
       "      <td>Framingham</td>\n",
       "      <td>MA</td>\n",
       "    </tr>\n",
       "    <tr>\n",
       "      <th>3</th>\n",
       "      <td>3</td>\n",
       "      <td>Mike Hess Brewing Company</td>\n",
       "      <td>San Diego</td>\n",
       "      <td>CA</td>\n",
       "    </tr>\n",
       "    <tr>\n",
       "      <th>4</th>\n",
       "      <td>4</td>\n",
       "      <td>Fort Point Beer Company</td>\n",
       "      <td>San Francisco</td>\n",
       "      <td>CA</td>\n",
       "    </tr>\n",
       "  </tbody>\n",
       "</table>\n",
       "</div>"
      ],
      "text/plain": [
       "   Unnamed: 0                       name           city state\n",
       "0           0         NorthGate Brewing     Minneapolis    MN\n",
       "1           1  Against the Grain Brewery     Louisville    KY\n",
       "2           2   Jack's Abby Craft Lagers     Framingham    MA\n",
       "3           3  Mike Hess Brewing Company      San Diego    CA\n",
       "4           4    Fort Point Beer Company  San Francisco    CA"
      ]
     },
     "execution_count": 23,
     "metadata": {},
     "output_type": "execute_result"
    }
   ],
   "source": [
    "# Read in breweries.csv\n",
    "breweries_df = pd.read_csv(\"Resources/breweries.csv\")\n",
    "breweries_df.head()"
   ]
  },
  {
   "cell_type": "code",
   "execution_count": 26,
   "id": "db98c036",
   "metadata": {
    "scrolled": true
   },
   "outputs": [
    {
     "data": {
      "text/plain": [
       "array(['Minneapolis', 'Louisville', 'Framingham', 'San Diego',\n",
       "       'San Francisco', 'Charleston', 'Denver', 'Bridgman', 'Holland',\n",
       "       'Grand Rapids', 'Petoskey', 'Marquette', 'Comstock Park',\n",
       "       'South Lyon', 'Indianapolis', 'Evansville', 'Plainfield',\n",
       "       'Granger', 'Martinsville', 'Valparaiso', 'Michigan City',\n",
       "       'Mishawaka', 'Columbus', 'Bargersville', 'Seven Points',\n",
       "       'Chandler', 'Kansas City', 'Stevens Point', 'Torrance', 'Buellton',\n",
       "       'Boulder', 'Dripping Springs', 'Kalamazoo', 'Murphysboro',\n",
       "       'East Fairfield', 'Portland', 'Export', 'Chicago', 'Manhattan',\n",
       "       'Brooklyn', 'Hooksett', 'Paso Robles', 'Atlanta', 'Troutville',\n",
       "       'Roseville', 'Lombard', 'Lemont', 'Lyons', 'Bloomington',\n",
       "       'St. Paul', 'Portage', 'Saint Louis', 'Brooklyn Center', 'Edwards',\n",
       "       'San Antonio', 'St Petersburg', 'Mt. Airy', 'Boone', 'Charlotte',\n",
       "       'Baltimore', 'Detroit', 'Madison', 'Warrenville', 'Duluth',\n",
       "       'Austin', 'Sheridan', 'Fort Collins', 'Chico', 'Houghton',\n",
       "       'Traverse City', 'Westerly', 'Kirkwood', 'East Windsor',\n",
       "       'Wilkes-Barre', 'Cincinnati', 'Athens', 'Dayton', 'Morganton',\n",
       "       'Hershey', 'Lexington', 'Newport', 'Anchorage', 'Lowell',\n",
       "       'Lone Tree', 'Pineland', 'Eagle', 'Bloomfield', 'North Woodstock',\n",
       "       'Vista', 'Temecula', 'Yardley', 'Laurel', 'Norfolk', 'Conroe',\n",
       "       'Durango', 'Milwaukee', 'Cheboygan', 'Ashland', 'Ipswich',\n",
       "       'Birmingham', 'Houston', 'Dallas', 'Blanco', \"St Mary's\",\n",
       "       'Wolcott', 'Weston', 'Hattiesburg', 'Monroe', 'Dillon', 'Ada',\n",
       "       'St Paul', 'Springdale', 'Tampa', 'Cold Spring', 'Providence',\n",
       "       'Loveland', 'Nantucket', 'Hayward', 'Cleveland', 'Arvada',\n",
       "       'Raleigh', 'Eugene', 'Latrobe', 'Baton Rouge', 'Sisters',\n",
       "       'Corvallis', 'Lewisburg', 'Phoenix', 'Flagstaff', 'Salt Lake City',\n",
       "       'Tempe', 'Fort Worth', 'Phoenixville', 'Lansdale', 'Aurora',\n",
       "       'Longmont', 'West Chester', 'Windsor', 'Garden City',\n",
       "       'White Salmon', 'Boonville', 'Shelburne', 'New Orleans', 'Gary',\n",
       "       'Cambridge', 'Pittsboro', 'Waynesville', 'Nellysford',\n",
       "       'Oklahoma City', 'Spring Lake', 'Paw Paw', 'Fredericksburg',\n",
       "       'Springfield', 'Lincoln', 'Seattle', 'Jackson', 'Middleton',\n",
       "       'Bend', 'Estacada', 'Hilo', 'Lafayette', 'Astoria', 'Kalona',\n",
       "       'Evanston', 'Verona', 'Spearfish', 'Farmers Branch', 'Richmond',\n",
       "       'Cherry Hill', 'Ponderay', 'Bozeman', 'Broomfield', 'Odessa',\n",
       "       'Atlantic Highlands', 'Middleburg Heights', 'Chatham',\n",
       "       'Washington', 'Lake Geneva', 'Rochester', 'Gloucester', 'Tucson',\n",
       "       'Lake Havasu City', 'Henderson', 'Boston', 'Charlottesville',\n",
       "       'Newburgh', 'Memphis', 'Los Angeles', 'College Station',\n",
       "       'Plant City', 'Stillwater', 'Greenville', 'Stamford',\n",
       "       'Southampton', 'Angola', 'Santa Cruz', 'Frankenmuth',\n",
       "       'Somerset Center', 'South Austin', 'Rogers', 'Mount Pleasant',\n",
       "       'Waterbury', 'Albuquerque', 'Hyannis', 'Bridgewater Corners',\n",
       "       'Shreveport', 'Juneau', 'Middlebury', 'Montauk', 'South Deerfield',\n",
       "       'Pawtucket', 'Mill Valley', 'Ridgefield Park', 'Kearney', 'Hays',\n",
       "       'Port Clinton', 'Gadsden', 'Idaho Springs', 'Lewiston',\n",
       "       'Northamtpon', 'Westminster', 'Pittsburgh', 'York', 'Utica',\n",
       "       'Danville', 'South Burlington', 'Canton', 'Everett',\n",
       "       'Virginia Beach', 'Boise', 'Woodinville', 'Nashville', 'Meridian',\n",
       "       'Bucryus', 'Avon', 'Wilmington', 'Belfast', 'Williamsburg',\n",
       "       'Centralia', 'Claremont', 'Lockland', 'Meadville',\n",
       "       'Black Mountain', 'Croydon', 'Burlington', 'Bronx', 'Tulsa',\n",
       "       'Diamond Springs', 'Fargo', 'Missoula', 'Papillion', \"St. John's\",\n",
       "       'Worcester', 'Boynton Beach', 'Palisade', 'Abingdon', 'Erie',\n",
       "       'Santee', 'Durham', 'South Bend', 'Green Bay', 'San Luis Obispo',\n",
       "       'Westfield', 'Bellingham', 'Monument', 'Philadelphia',\n",
       "       'Shelbyville', 'Fuquay-Varina', 'Lake Barrington', 'Pottstown',\n",
       "       'Midvale', 'Davenport', 'Mustang', 'Kent', 'Buena Vista',\n",
       "       'Carlsbad', 'Conestoga', 'Dunedin', 'Lahaina', 'Midwest City',\n",
       "       'Menominee', 'Jacksonville', 'Manheim', 'Afton', 'Crozet',\n",
       "       'Mt. Pleasant', 'Paonia', 'Brevard', 'Airway Heights', 'Santa Fe',\n",
       "       'Miami', 'Hudsonville', 'Sacramento', 'Douglas', 'Moab', 'Macon',\n",
       "       'Washougal', 'Ann Arbor', 'Eau Claire', 'Hamilton', 'Lakeside',\n",
       "       'Woodbridge', 'Huntsville', 'Arrington', 'Savannah', 'Biglerville',\n",
       "       'Denton', 'Roanoke', 'Ashburn', 'Slippery Rock', 'Asheville',\n",
       "       'Stratford', 'Medford', 'Kona', 'Royal Oak', \"O'Fallon\",\n",
       "       'Vadnais Heights', 'Lenoir', 'Leominster', 'Gainesville',\n",
       "       'Half Moon Bay', 'Pacific', 'Talkeetna', 'Hardy', 'Menominie',\n",
       "       'Soldotna', 'South San Francisco', 'Golden', 'Alpine',\n",
       "       'Jacksonville Beach', 'Tampa Bay', 'Knoxville', 'Spirit Lake',\n",
       "       'Tacoma', 'Minnetonka', 'Marietta', 'Redlands', 'Sheffield',\n",
       "       'Halethorpe', 'Telluride', 'Gig Harbor', 'Des Moines', 'Yakima',\n",
       "       'New York', 'Patchogue', 'Belmont', 'Silverton', 'Newburyport',\n",
       "       'Glendale', 'Stevensville', 'Leavenworth', 'Mooresville', 'Krebs',\n",
       "       'Fort Wayne', 'Cortland', 'Marlborough', 'Pawcatuck',\n",
       "       'Colorado Springs', 'Greeley', 'Myrtle Beach', 'Chattanooga',\n",
       "       'Frederick', 'Aspen', 'Reno', 'Dolores', 'Smithton',\n",
       "       'Abita Springs', 'Mammoth Lakes', 'Belt', 'Williams', 'Helena',\n",
       "       'Kinston', 'Battle Creek', 'Whitefish', 'Lancaster', 'Elmira',\n",
       "       'North Conway', 'Prescott', 'Pinedale', 'Libertyville',\n",
       "       'Covington', 'Wilson', 'Ukiah', 'Garrattsville'], dtype=object)"
      ]
     },
     "execution_count": 26,
     "metadata": {},
     "output_type": "execute_result"
    }
   ],
   "source": [
    "# create list with all of the cities in the breweries_df\n",
    "brewery_cities = breweries_df[\"city\"].unique()\n",
    "brewery_cities"
   ]
  },
  {
   "cell_type": "code",
   "execution_count": 12,
   "id": "23c4b231",
   "metadata": {},
   "outputs": [],
   "source": [
    "# import yelpAPI\n",
    "from yelpapi import YelpAPI\n",
    "import argparse\n",
    "from pprint import pprint"
   ]
  },
  {
   "cell_type": "code",
   "execution_count": 52,
   "id": "da8a57d8",
   "metadata": {},
   "outputs": [],
   "source": [
    "# Create empty list to hold results of yelp api call\n",
    "results = []"
   ]
  },
  {
   "cell_type": "code",
   "execution_count": 53,
   "id": "6cfe9f6e",
   "metadata": {},
   "outputs": [],
   "source": [
    "# Function to pull stores from yelp with location as the variable\n",
    "def get_rei_stores(location):\n",
    "    with YelpAPI(api_key) as yelp_api:\n",
    "        # city_data is the json file with all businesses returned from search\n",
    "        city_data = yelp_api.search_query(term='REI', location = location)\n",
    "        # For each business in the search, return business name and coordinates\n",
    "        for i in range(len(city_data['businesses'])):\n",
    "            business_name = city_data['businesses'][i]['name']\n",
    "            business_lat = city_data['businesses'][i]['coordinates']['latitude']\n",
    "            business_long = city_data['businesses'][i]['coordinates']['longitude']\n",
    "            results.append({\"Name\":business_name, \"Lat\":business_lat, \"Lng\": business_long})\n",
    "        "
   ]
  },
  {
   "cell_type": "code",
   "execution_count": 54,
   "id": "d350e95c",
   "metadata": {},
   "outputs": [
    {
     "name": "stdout",
     "output_type": "stream",
     "text": [
      "An exception occurred for Kirkwood\n",
      "An exception occurred for Athens\n",
      "An exception occurred for Odessa\n",
      "An exception occurred for Angola\n"
     ]
    }
   ],
   "source": [
    "# Apply get_rei_stores function to each location in the brewery_cities list\n",
    "for city in brewery_cities:\n",
    "    try:\n",
    "        get_rei_stores(city)\n",
    "    except:\n",
    "        print(f\"An exception occurred for {city}\")"
   ]
  },
  {
   "cell_type": "code",
   "execution_count": 55,
   "id": "0a14a68e",
   "metadata": {},
   "outputs": [
    {
     "data": {
      "text/html": [
       "<div>\n",
       "<style scoped>\n",
       "    .dataframe tbody tr th:only-of-type {\n",
       "        vertical-align: middle;\n",
       "    }\n",
       "\n",
       "    .dataframe tbody tr th {\n",
       "        vertical-align: top;\n",
       "    }\n",
       "\n",
       "    .dataframe thead th {\n",
       "        text-align: right;\n",
       "    }\n",
       "</style>\n",
       "<table border=\"1\" class=\"dataframe\">\n",
       "  <thead>\n",
       "    <tr style=\"text-align: right;\">\n",
       "      <th></th>\n",
       "      <th>Name</th>\n",
       "      <th>Lat</th>\n",
       "      <th>Lng</th>\n",
       "    </tr>\n",
       "  </thead>\n",
       "  <tbody>\n",
       "    <tr>\n",
       "      <th>0</th>\n",
       "      <td>REI</td>\n",
       "      <td>45.016018</td>\n",
       "      <td>-93.182877</td>\n",
       "    </tr>\n",
       "    <tr>\n",
       "      <th>1</th>\n",
       "      <td>REI</td>\n",
       "      <td>44.860933</td>\n",
       "      <td>-93.291281</td>\n",
       "    </tr>\n",
       "    <tr>\n",
       "      <th>2</th>\n",
       "      <td>REI</td>\n",
       "      <td>45.091260</td>\n",
       "      <td>-93.427546</td>\n",
       "    </tr>\n",
       "    <tr>\n",
       "      <th>3</th>\n",
       "      <td>Midwest Mountaineering</td>\n",
       "      <td>44.970720</td>\n",
       "      <td>-93.246890</td>\n",
       "    </tr>\n",
       "    <tr>\n",
       "      <th>4</th>\n",
       "      <td>Hoigaard's</td>\n",
       "      <td>44.930329</td>\n",
       "      <td>-93.347251</td>\n",
       "    </tr>\n",
       "  </tbody>\n",
       "</table>\n",
       "</div>"
      ],
      "text/plain": [
       "                     Name        Lat        Lng\n",
       "0                     REI  45.016018 -93.182877\n",
       "1                     REI  44.860933 -93.291281\n",
       "2                     REI  45.091260 -93.427546\n",
       "3  Midwest Mountaineering  44.970720 -93.246890\n",
       "4              Hoigaard's  44.930329 -93.347251"
      ]
     },
     "execution_count": 55,
     "metadata": {},
     "output_type": "execute_result"
    }
   ],
   "source": [
    "# Convert to pandas DataFrame\n",
    "rei_df = pd.DataFrame(results)\n",
    "rei_df.head()"
   ]
  },
  {
   "cell_type": "code",
   "execution_count": 57,
   "id": "57276da1",
   "metadata": {},
   "outputs": [
    {
     "data": {
      "text/plain": [
       "6402"
      ]
     },
     "execution_count": 57,
     "metadata": {},
     "output_type": "execute_result"
    }
   ],
   "source": [
    "# length of rei_df\n",
    "len(rei_df)"
   ]
  }
 ],
 "metadata": {
  "kernelspec": {
   "display_name": "PythonData",
   "language": "python",
   "name": "pythondata"
  },
  "language_info": {
   "codemirror_mode": {
    "name": "ipython",
    "version": 3
   },
   "file_extension": ".py",
   "mimetype": "text/x-python",
   "name": "python",
   "nbconvert_exporter": "python",
   "pygments_lexer": "ipython3",
   "version": "3.7.11"
  }
 },
 "nbformat": 4,
 "nbformat_minor": 5
}
