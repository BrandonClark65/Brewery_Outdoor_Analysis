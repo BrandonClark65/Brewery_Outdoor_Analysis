{
  "cells": [
    {
      "cell_type": "markdown",
      "id": "ak5MPrinVsLo",
      "metadata": {
        "id": "ak5MPrinVsLo"
      },
      "source": [
        "\n",
        "# Brewery Analysis: Machine Learning\n",
        "\n",
        "\n",
        "\n",
        "---\n",
        "\n",
        "\n",
        "\n",
        "*  Data is preprocessed and cleaned by removing unneeded columns, merging zip code/cities datasets, and limiting dataset to the top 1,000 most populated cities.\n",
        "*  To obtain the best possible predictive results, preliminary features should be explored, engineered, and carefully selected. Possible preliminary features for this model could be average income per zipcode, income per capita, and clothing stores per brewery count.\n",
        "*  The importance of correlation between breweries and outdoor clothing stores will drive which features will be engineered and selected, ultimately answering the hypthesis.\n",
        "*  Data was split into training and testing sets using train_test_split and a random state of 24. This will assist in evaluating the performance of the model in relation to the dataset.\n",
        "*  A linear regression model was chosen to best illustrate correlation between brewery location and outdoor clothing store location. Is there a strong relationship between the two? The benefits of using a linear regression is readability and abiility to answer basic questions. Limitations of a linear regression model will be sensitivity to outliers. With more time we would like to also set up a cluster model.\n",
        "\n",
        "\n",
        "\n"
      ]
    },
    {
      "cell_type": "code",
      "execution_count": 107,
      "id": "b76fee5c",
      "metadata": {
        "colab": {
          "base_uri": "https://localhost:8080/",
          "height": 339
        },
        "id": "b76fee5c",
        "outputId": "592736c6-e75c-4dc7-e424-8771ab7b0627"
      },
      "outputs": [],
      "source": [
        "# Import dependencies\n",
        "\n",
        "import pandas as pd\n",
        "from pathlib import Path\n",
        "import matplotlib.pyplot as plt\n",
        "import numpy as np\n",
        "\n",
        "from sklearn.linear_model import LinearRegression\n",
        "from sklearn.datasets import make_regression\n",
        "from sklearn.model_selection import train_test_split\n",
        "from sklearn import preprocessing\n",
        "from sklearn.preprocessing import OneHotEncoder\n",
        "\n",
        "from database_connection import ENGINE"
      ]
    },
    {
      "cell_type": "markdown",
      "id": "8MxDL1B6Zbyu",
      "metadata": {
        "id": "8MxDL1B6Zbyu"
      },
      "source": [
        "**# Test Linear Regression Model**"
      ]
    },
    {
      "cell_type": "code",
      "execution_count": 73,
      "id": "AUF5PVy2mqko",
      "metadata": {
        "id": "AUF5PVy2mqko"
      },
      "outputs": [],
      "source": [
        "\n",
        "X, y = make_regression(n_samples=100, n_features=1, random_state=24, noise=20, bias=50.0)"
      ]
    },
    {
      "cell_type": "code",
      "execution_count": 74,
      "id": "Zogdb6aaxS-b",
      "metadata": {
        "colab": {
          "base_uri": "https://localhost:8080/",
          "height": 282
        },
        "id": "Zogdb6aaxS-b",
        "outputId": "51ab9b51-79cc-4e2b-8dd9-e5e87877988e"
      },
      "outputs": [
        {
          "data": {
            "text/plain": [
              "<matplotlib.collections.PathCollection at 0x273cd0a2808>"
            ]
          },
          "execution_count": 74,
          "metadata": {},
          "output_type": "execute_result"
        },
        {
          "data": {
            "image/png": "[encoded data removed]",
            "text/plain": [
              "<Figure size 432x288 with 1 Axes>"
            ]
          },
          "metadata": {
            "needs_background": "light"
          },
          "output_type": "display_data"
        }
      ],
      "source": [
        "plt.scatter(X, y)"
      ]
    },
    {
      "cell_type": "code",
      "execution_count": 75,
      "id": "Xf0jq-3aZrxV",
      "metadata": {
        "colab": {
          "base_uri": "https://localhost:8080/"
        },
        "id": "Xf0jq-3aZrxV",
        "outputId": "ad25cd5f-a3fe-4e11-e31c-d1e8d86c8f6d"
      },
      "outputs": [
        {
          "data": {
            "text/plain": [
              "LinearRegression()"
            ]
          },
          "execution_count": 75,
          "metadata": {},
          "output_type": "execute_result"
        }
      ],
      "source": [
        "model = LinearRegression()\n",
        "model"
      ]
    },
    {
      "cell_type": "code",
      "execution_count": 76,
      "id": "UwDFXZn0meyS",
      "metadata": {
        "colab": {
          "base_uri": "https://localhost:8080/"
        },
        "id": "UwDFXZn0meyS",
        "outputId": "78750791-e9fd-4bbf-c1f0-16ff9eb4583b"
      },
      "outputs": [
        {
          "name": "stdout",
          "output_type": "stream",
          "text": [
            "LinearRegression()\n"
          ]
        }
      ],
      "source": [
        "model.fit(X, y)\n",
        "print(model)"
      ]
    },
    {
      "cell_type": "code",
      "execution_count": 77,
      "id": "tFHbidegmfCN",
      "metadata": {
        "colab": {
          "base_uri": "https://localhost:8080/"
        },
        "id": "tFHbidegmfCN",
        "outputId": "8b802f02-9de7-48b3-84d7-cf65ccf962a5"
      },
      "outputs": [
        {
          "name": "stdout",
          "output_type": "stream",
          "text": [
            "Weight coefficients:  [73.68622249]\n",
            "y-axis intercept:  52.35050319965709\n"
          ]
        }
      ],
      "source": [
        "print('Weight coefficients: ', model.coef_)\n",
        "print('y-axis intercept: ', model.intercept_) "
      ]
    },
    {
      "cell_type": "code",
      "execution_count": 49,
      "id": "wds6OnlamfGI",
      "metadata": {
        "colab": {
          "base_uri": "https://localhost:8080/"
        },
        "id": "wds6OnlamfGI",
        "outputId": "e5658d27-0dc5-41d8-aa66-06e0de5f23e8"
      },
      "outputs": [
        {
          "name": "stdout",
          "output_type": "stream",
          "text": [
            "True output: 51.573180999075355\n",
            "Predicted output: 61.05269396989403\n",
            "Prediction Error: 9.479512970818675\n"
          ]
        }
      ],
      "source": [
        "predictions = model.predict(X)\n",
        "print(f\"True output: {y[0]}\")\n",
        "print(f\"Predicted output: {predictions[0]}\")\n",
        "print(f\"Prediction Error: {predictions[0]-y[0]}\")"
      ]
    },
    {
      "cell_type": "code",
      "execution_count": 50,
      "id": "s9OxiJcwylKq",
      "metadata": {
        "colab": {
          "base_uri": "https://localhost:8080/",
          "height": 424
        },
        "id": "s9OxiJcwylKq",
        "outputId": "29ebfe08-6113-4110-ba2d-539eb7bd8e5a"
      },
      "outputs": [
        {
          "data": {
            "text/html": [
              "<div>\n",
              "<style scoped>\n",
              "    .dataframe tbody tr th:only-of-type {\n",
              "        vertical-align: middle;\n",
              "    }\n",
              "\n",
              "    .dataframe tbody tr th {\n",
              "        vertical-align: top;\n",
              "    }\n",
              "\n",
              "    .dataframe thead th {\n",
              "        text-align: right;\n",
              "    }\n",
              "</style>\n",
              "<table border=\"1\" class=\"dataframe\">\n",
              "  <thead>\n",
              "    <tr style=\"text-align: right;\">\n",
              "      <th></th>\n",
              "      <th>Predicted</th>\n",
              "      <th>Actual</th>\n",
              "      <th>Error</th>\n",
              "    </tr>\n",
              "  </thead>\n",
              "  <tbody>\n",
              "    <tr>\n",
              "      <th>0</th>\n",
              "      <td>61.052694</td>\n",
              "      <td>51.573181</td>\n",
              "      <td>9.479513</td>\n",
              "    </tr>\n",
              "    <tr>\n",
              "      <th>1</th>\n",
              "      <td>116.539022</td>\n",
              "      <td>135.744467</td>\n",
              "      <td>-19.205445</td>\n",
              "    </tr>\n",
              "    <tr>\n",
              "      <th>2</th>\n",
              "      <td>-45.354712</td>\n",
              "      <td>-34.665692</td>\n",
              "      <td>-10.689020</td>\n",
              "    </tr>\n",
              "    <tr>\n",
              "      <th>3</th>\n",
              "      <td>-19.366764</td>\n",
              "      <td>6.805878</td>\n",
              "      <td>-26.172642</td>\n",
              "    </tr>\n",
              "    <tr>\n",
              "      <th>4</th>\n",
              "      <td>120.974797</td>\n",
              "      <td>134.426874</td>\n",
              "      <td>-13.452077</td>\n",
              "    </tr>\n",
              "    <tr>\n",
              "      <th>...</th>\n",
              "      <td>...</td>\n",
              "      <td>...</td>\n",
              "      <td>...</td>\n",
              "    </tr>\n",
              "    <tr>\n",
              "      <th>95</th>\n",
              "      <td>111.587291</td>\n",
              "      <td>106.903818</td>\n",
              "      <td>4.683473</td>\n",
              "    </tr>\n",
              "    <tr>\n",
              "      <th>96</th>\n",
              "      <td>96.719525</td>\n",
              "      <td>118.261070</td>\n",
              "      <td>-21.541545</td>\n",
              "    </tr>\n",
              "    <tr>\n",
              "      <th>97</th>\n",
              "      <td>191.563874</td>\n",
              "      <td>181.988316</td>\n",
              "      <td>9.575558</td>\n",
              "    </tr>\n",
              "    <tr>\n",
              "      <th>98</th>\n",
              "      <td>21.512531</td>\n",
              "      <td>3.015834</td>\n",
              "      <td>18.496697</td>\n",
              "    </tr>\n",
              "    <tr>\n",
              "      <th>99</th>\n",
              "      <td>-67.666142</td>\n",
              "      <td>-86.634482</td>\n",
              "      <td>18.968339</td>\n",
              "    </tr>\n",
              "  </tbody>\n",
              "</table>\n",
              "<p>100 rows × 3 columns</p>\n",
              "</div>"
            ],
            "text/plain": [
              "     Predicted      Actual      Error\n",
              "0    61.052694   51.573181   9.479513\n",
              "1   116.539022  135.744467 -19.205445\n",
              "2   -45.354712  -34.665692 -10.689020\n",
              "3   -19.366764    6.805878 -26.172642\n",
              "4   120.974797  134.426874 -13.452077\n",
              "..         ...         ...        ...\n",
              "95  111.587291  106.903818   4.683473\n",
              "96   96.719525  118.261070 -21.541545\n",
              "97  191.563874  181.988316   9.575558\n",
              "98   21.512531    3.015834  18.496697\n",
              "99  -67.666142  -86.634482  18.968339\n",
              "\n",
              "[100 rows x 3 columns]"
            ]
          },
          "execution_count": 50,
          "metadata": {},
          "output_type": "execute_result"
        }
      ],
      "source": [
        "pd.DataFrame({\"Predicted\": predictions, \"Actual\": y, \"Error\": predictions - y})[[\"Predicted\", \"Actual\", \"Error\"]]"
      ]
    },
    {
      "cell_type": "code",
      "execution_count": null,
      "id": "AejdPWhjyuD8",
      "metadata": {
        "id": "AejdPWhjyuD8"
      },
      "outputs": [],
      "source": []
    },
    {
      "cell_type": "code",
      "execution_count": null,
      "id": "82jROeIdyuHI",
      "metadata": {
        "id": "82jROeIdyuHI"
      },
      "outputs": [],
      "source": []
    },
    {
      "cell_type": "markdown",
      "id": "be134445",
      "metadata": {
        "id": "be134445"
      },
      "source": [
        "# Data Selection"
      ]
    },
    {
      "cell_type": "code",
      "execution_count": 78,
      "id": "3964c456",
      "metadata": {},
      "outputs": [],
      "source": [
        "# Connect to needed databases \n",
        "# Connect to zip codes - cleaned database\n",
        "\n",
        "zip_codes_cleaned_query = '''\n",
        "    SELECT *\n",
        "    FROM zip_codes_cleaned\n",
        "'''\n",
        "\n",
        "zip_codes = pd.read_sql_query(\n",
        "    zip_codes_cleaned_query,\n",
        "    con=ENGINE\n",
        ")\n",
        "# Connect to breweries database\n",
        "\n",
        "breweries_query = '''\n",
        "    SELECT *\n",
        "    FROM breweries\n",
        "'''\n",
        "\n",
        "breweries = pd.read_sql_query(\n",
        "    breweries_query,\n",
        "    con=ENGINE\n",
        ")\n",
        "\n",
        "# Connect to outdoor clothing database\n",
        "\n",
        "outdoor_query = '''\n",
        "    SELECT *\n",
        "    FROM outdoor\n",
        "'''\n",
        "\n",
        "outdoor = pd.read_sql_query(\n",
        "    outdoor_query,\n",
        "    con=ENGINE\n",
        ")"
      ]
    },
    {
      "cell_type": "code",
      "execution_count": 79,
      "id": "d2944f43",
      "metadata": {},
      "outputs": [
        {
          "data": {
            "text/html": [
              "<div>\n",
              "<style scoped>\n",
              "    .dataframe tbody tr th:only-of-type {\n",
              "        vertical-align: middle;\n",
              "    }\n",
              "\n",
              "    .dataframe tbody tr th {\n",
              "        vertical-align: top;\n",
              "    }\n",
              "\n",
              "    .dataframe thead th {\n",
              "        text-align: right;\n",
              "    }\n",
              "</style>\n",
              "<table border=\"1\" class=\"dataframe\">\n",
              "  <thead>\n",
              "    <tr style=\"text-align: right;\">\n",
              "      <th></th>\n",
              "      <th>zip_code</th>\n",
              "      <th>city</th>\n",
              "      <th>state</th>\n",
              "      <th>county</th>\n",
              "      <th>latitude</th>\n",
              "      <th>longitude</th>\n",
              "      <th>irs_estimated_population</th>\n",
              "    </tr>\n",
              "  </thead>\n",
              "  <tbody>\n",
              "    <tr>\n",
              "      <th>24536</th>\n",
              "      <td>87942</td>\n",
              "      <td>Williamsburg</td>\n",
              "      <td>NM</td>\n",
              "      <td>Sierra County</td>\n",
              "      <td>33.06</td>\n",
              "      <td>-107.35</td>\n",
              "      <td>800</td>\n",
              "    </tr>\n",
              "    <tr>\n",
              "      <th>25214</th>\n",
              "      <td>92270</td>\n",
              "      <td>Rancho Mirage</td>\n",
              "      <td>CA</td>\n",
              "      <td>Riverside County</td>\n",
              "      <td>33.78</td>\n",
              "      <td>-116.41</td>\n",
              "      <td>13180</td>\n",
              "    </tr>\n",
              "    <tr>\n",
              "      <th>7081</th>\n",
              "      <td>32577</td>\n",
              "      <td>Molino</td>\n",
              "      <td>FL</td>\n",
              "      <td>Escambia County</td>\n",
              "      <td>30.71</td>\n",
              "      <td>-87.32</td>\n",
              "      <td>4750</td>\n",
              "    </tr>\n",
              "    <tr>\n",
              "      <th>21514</th>\n",
              "      <td>75551</td>\n",
              "      <td>Atlanta</td>\n",
              "      <td>TX</td>\n",
              "      <td>Cass County</td>\n",
              "      <td>33.11</td>\n",
              "      <td>-94.16</td>\n",
              "      <td>9110</td>\n",
              "    </tr>\n",
              "    <tr>\n",
              "      <th>4540</th>\n",
              "      <td>24941</td>\n",
              "      <td>Gap Mills</td>\n",
              "      <td>WV</td>\n",
              "      <td>Monroe County</td>\n",
              "      <td>37.56</td>\n",
              "      <td>-80.41</td>\n",
              "      <td>770</td>\n",
              "    </tr>\n",
              "    <tr>\n",
              "      <th>13456</th>\n",
              "      <td>52306</td>\n",
              "      <td>Mechanicsville</td>\n",
              "      <td>IA</td>\n",
              "      <td>Cedar County</td>\n",
              "      <td>41.90</td>\n",
              "      <td>-91.25</td>\n",
              "      <td>1450</td>\n",
              "    </tr>\n",
              "    <tr>\n",
              "      <th>3104</th>\n",
              "      <td>19601</td>\n",
              "      <td>Reading</td>\n",
              "      <td>PA</td>\n",
              "      <td>Berks County</td>\n",
              "      <td>40.36</td>\n",
              "      <td>-75.94</td>\n",
              "      <td>27740</td>\n",
              "    </tr>\n",
              "    <tr>\n",
              "      <th>26307</th>\n",
              "      <td>96034</td>\n",
              "      <td>Gazelle</td>\n",
              "      <td>CA</td>\n",
              "      <td>Siskiyou County</td>\n",
              "      <td>41.43</td>\n",
              "      <td>-122.61</td>\n",
              "      <td>210</td>\n",
              "    </tr>\n",
              "    <tr>\n",
              "      <th>2856</th>\n",
              "      <td>18825</td>\n",
              "      <td>Jackson</td>\n",
              "      <td>PA</td>\n",
              "      <td>Susquehanna County</td>\n",
              "      <td>41.81</td>\n",
              "      <td>-75.61</td>\n",
              "      <td>219</td>\n",
              "    </tr>\n",
              "    <tr>\n",
              "      <th>2448</th>\n",
              "      <td>17244</td>\n",
              "      <td>Orrstown</td>\n",
              "      <td>PA</td>\n",
              "      <td>Franklin County</td>\n",
              "      <td>40.05</td>\n",
              "      <td>-77.60</td>\n",
              "      <td>2260</td>\n",
              "    </tr>\n",
              "  </tbody>\n",
              "</table>\n",
              "</div>"
            ],
            "text/plain": [
              "       zip_code            city state              county  latitude  \\\n",
              "24536     87942    Williamsburg    NM       Sierra County     33.06   \n",
              "25214     92270   Rancho Mirage    CA    Riverside County     33.78   \n",
              "7081      32577          Molino    FL     Escambia County     30.71   \n",
              "21514     75551         Atlanta    TX         Cass County     33.11   \n",
              "4540      24941       Gap Mills    WV       Monroe County     37.56   \n",
              "13456     52306  Mechanicsville    IA        Cedar County     41.90   \n",
              "3104      19601         Reading    PA        Berks County     40.36   \n",
              "26307     96034         Gazelle    CA     Siskiyou County     41.43   \n",
              "2856      18825         Jackson    PA  Susquehanna County     41.81   \n",
              "2448      17244        Orrstown    PA     Franklin County     40.05   \n",
              "\n",
              "       longitude  irs_estimated_population  \n",
              "24536    -107.35                       800  \n",
              "25214    -116.41                     13180  \n",
              "7081      -87.32                      4750  \n",
              "21514     -94.16                      9110  \n",
              "4540      -80.41                       770  \n",
              "13456     -91.25                      1450  \n",
              "3104      -75.94                     27740  \n",
              "26307    -122.61                       210  \n",
              "2856      -75.61                       219  \n",
              "2448      -77.60                      2260  "
            ]
          },
          "execution_count": 79,
          "metadata": {},
          "output_type": "execute_result"
        }
      ],
      "source": [
        "zip_codes.sample(10)"
      ]
    },
    {
      "cell_type": "code",
      "execution_count": 22,
      "id": "64e21612",
      "metadata": {
        "id": "64e21612"
      },
      "outputs": [],
      "source": [
        "# Remove yelp id and closed columns from outdoor/brewery dataframe\n",
        "\n",
        "breweries_df = breweries.drop(['yelp_id', 'is_closed'], axis=1)\n",
        "outdoor_df = outdoor.drop(['yelp_id', 'is_closed'], axis=1)"
      ]
    },
    {
      "cell_type": "code",
      "execution_count": 38,
      "id": "2a7e0fe9",
      "metadata": {},
      "outputs": [],
      "source": [
        "breweries_df=breweries_df.rename(columns={\"name\": \"brewery\", \"rating\": \"brewery_rating\"})"
      ]
    },
    {
      "cell_type": "code",
      "execution_count": 80,
      "id": "6af9835f",
      "metadata": {},
      "outputs": [
        {
          "data": {
            "text/html": [
              "<div>\n",
              "<style scoped>\n",
              "    .dataframe tbody tr th:only-of-type {\n",
              "        vertical-align: middle;\n",
              "    }\n",
              "\n",
              "    .dataframe tbody tr th {\n",
              "        vertical-align: top;\n",
              "    }\n",
              "\n",
              "    .dataframe thead th {\n",
              "        text-align: right;\n",
              "    }\n",
              "</style>\n",
              "<table border=\"1\" class=\"dataframe\">\n",
              "  <thead>\n",
              "    <tr style=\"text-align: right;\">\n",
              "      <th></th>\n",
              "      <th>brewery</th>\n",
              "      <th>lat</th>\n",
              "      <th>lng</th>\n",
              "      <th>city</th>\n",
              "      <th>business_type</th>\n",
              "      <th>brewery_rating</th>\n",
              "      <th>zip_code</th>\n",
              "      <th>state</th>\n",
              "    </tr>\n",
              "  </thead>\n",
              "  <tbody>\n",
              "    <tr>\n",
              "      <th>320</th>\n",
              "      <td>Five Cities Brewing</td>\n",
              "      <td>41.573840</td>\n",
              "      <td>-90.500410</td>\n",
              "      <td>Bettendorf</td>\n",
              "      <td>breweries</td>\n",
              "      <td>4.0</td>\n",
              "      <td>52722</td>\n",
              "      <td>IA</td>\n",
              "    </tr>\n",
              "    <tr>\n",
              "      <th>316</th>\n",
              "      <td>WAKE Brewing</td>\n",
              "      <td>41.508170</td>\n",
              "      <td>-90.563700</td>\n",
              "      <td>Rock Island</td>\n",
              "      <td>brewpubs</td>\n",
              "      <td>4.5</td>\n",
              "      <td>61201</td>\n",
              "      <td>IL</td>\n",
              "    </tr>\n",
              "    <tr>\n",
              "      <th>28</th>\n",
              "      <td>El Bait Shop</td>\n",
              "      <td>41.582979</td>\n",
              "      <td>-93.618744</td>\n",
              "      <td>Des Moines</td>\n",
              "      <td>bars</td>\n",
              "      <td>4.5</td>\n",
              "      <td>50309</td>\n",
              "      <td>IA</td>\n",
              "    </tr>\n",
              "    <tr>\n",
              "      <th>234</th>\n",
              "      <td>Copperhead Brewery</td>\n",
              "      <td>30.316495</td>\n",
              "      <td>-95.462627</td>\n",
              "      <td>Conroe</td>\n",
              "      <td>breweries</td>\n",
              "      <td>4.5</td>\n",
              "      <td>77301</td>\n",
              "      <td>TX</td>\n",
              "    </tr>\n",
              "    <tr>\n",
              "      <th>176</th>\n",
              "      <td>Ferndale Project</td>\n",
              "      <td>42.450518</td>\n",
              "      <td>-83.143062</td>\n",
              "      <td>Ferndale</td>\n",
              "      <td>coffee</td>\n",
              "      <td>4.0</td>\n",
              "      <td>48220</td>\n",
              "      <td>MI</td>\n",
              "    </tr>\n",
              "    <tr>\n",
              "      <th>228</th>\n",
              "      <td>Asylum Brewing</td>\n",
              "      <td>33.849727</td>\n",
              "      <td>-117.861218</td>\n",
              "      <td>Anaheim</td>\n",
              "      <td>breweries</td>\n",
              "      <td>4.0</td>\n",
              "      <td>92806</td>\n",
              "      <td>CA</td>\n",
              "    </tr>\n",
              "    <tr>\n",
              "      <th>49</th>\n",
              "      <td>HIGHPOINT Brewing Company</td>\n",
              "      <td>34.102534</td>\n",
              "      <td>-117.814784</td>\n",
              "      <td>San Dimas</td>\n",
              "      <td>brewpubs</td>\n",
              "      <td>4.5</td>\n",
              "      <td>91773</td>\n",
              "      <td>CA</td>\n",
              "    </tr>\n",
              "    <tr>\n",
              "      <th>236</th>\n",
              "      <td>Tapped DraftHouse &amp; Kitchen - Conroe, TX</td>\n",
              "      <td>30.224838</td>\n",
              "      <td>-95.542395</td>\n",
              "      <td>Conroe</td>\n",
              "      <td>tradamerican</td>\n",
              "      <td>4.5</td>\n",
              "      <td>77384</td>\n",
              "      <td>TX</td>\n",
              "    </tr>\n",
              "    <tr>\n",
              "      <th>287</th>\n",
              "      <td>Rasselbock L.A. Kitchen &amp; Beer Garden</td>\n",
              "      <td>34.004130</td>\n",
              "      <td>-118.431020</td>\n",
              "      <td>Los Angeles</td>\n",
              "      <td>german</td>\n",
              "      <td>4.5</td>\n",
              "      <td>90066</td>\n",
              "      <td>CA</td>\n",
              "    </tr>\n",
              "    <tr>\n",
              "      <th>175</th>\n",
              "      <td>Michigan Beer Growler Company</td>\n",
              "      <td>42.518468</td>\n",
              "      <td>-83.223954</td>\n",
              "      <td>Beverly Hills</td>\n",
              "      <td>breweries</td>\n",
              "      <td>4.5</td>\n",
              "      <td>48025</td>\n",
              "      <td>MI</td>\n",
              "    </tr>\n",
              "  </tbody>\n",
              "</table>\n",
              "</div>"
            ],
            "text/plain": [
              "                                      brewery        lat         lng  \\\n",
              "320                       Five Cities Brewing  41.573840  -90.500410   \n",
              "316                              WAKE Brewing  41.508170  -90.563700   \n",
              "28                               El Bait Shop  41.582979  -93.618744   \n",
              "234                        Copperhead Brewery  30.316495  -95.462627   \n",
              "176                          Ferndale Project  42.450518  -83.143062   \n",
              "228                            Asylum Brewing  33.849727 -117.861218   \n",
              "49                  HIGHPOINT Brewing Company  34.102534 -117.814784   \n",
              "236  Tapped DraftHouse & Kitchen - Conroe, TX  30.224838  -95.542395   \n",
              "287     Rasselbock L.A. Kitchen & Beer Garden  34.004130 -118.431020   \n",
              "175             Michigan Beer Growler Company  42.518468  -83.223954   \n",
              "\n",
              "              city business_type  brewery_rating zip_code state  \n",
              "320     Bettendorf     breweries             4.0    52722    IA  \n",
              "316    Rock Island      brewpubs             4.5    61201    IL  \n",
              "28      Des Moines          bars             4.5    50309    IA  \n",
              "234         Conroe     breweries             4.5    77301    TX  \n",
              "176       Ferndale        coffee             4.0    48220    MI  \n",
              "228        Anaheim     breweries             4.0    92806    CA  \n",
              "49       San Dimas      brewpubs             4.5    91773    CA  \n",
              "236         Conroe  tradamerican             4.5    77384    TX  \n",
              "287    Los Angeles        german             4.5    90066    CA  \n",
              "175  Beverly Hills     breweries             4.5    48025    MI  "
            ]
          },
          "execution_count": 80,
          "metadata": {},
          "output_type": "execute_result"
        }
      ],
      "source": [
        "breweries_df.sample(10)"
      ]
    },
    {
      "cell_type": "code",
      "execution_count": 36,
      "id": "35200bd2",
      "metadata": {},
      "outputs": [],
      "source": [
        "outdoor_df=outdoor_df.rename(columns={\"name\": \"outdoor_store\", \"rating\": \"outdoor_rating\"})"
      ]
    },
    {
      "cell_type": "code",
      "execution_count": 37,
      "id": "495526dc",
      "metadata": {},
      "outputs": [
        {
          "data": {
            "text/html": [
              "<div>\n",
              "<style scoped>\n",
              "    .dataframe tbody tr th:only-of-type {\n",
              "        vertical-align: middle;\n",
              "    }\n",
              "\n",
              "    .dataframe tbody tr th {\n",
              "        vertical-align: top;\n",
              "    }\n",
              "\n",
              "    .dataframe thead th {\n",
              "        text-align: right;\n",
              "    }\n",
              "</style>\n",
              "<table border=\"1\" class=\"dataframe\">\n",
              "  <thead>\n",
              "    <tr style=\"text-align: right;\">\n",
              "      <th></th>\n",
              "      <th>outdoor_store</th>\n",
              "      <th>lat</th>\n",
              "      <th>lng</th>\n",
              "      <th>city</th>\n",
              "      <th>business_type</th>\n",
              "      <th>outdoor_rating</th>\n",
              "      <th>zip_code</th>\n",
              "      <th>state</th>\n",
              "    </tr>\n",
              "  </thead>\n",
              "  <tbody>\n",
              "    <tr>\n",
              "      <th>197</th>\n",
              "      <td>Sisu</td>\n",
              "      <td>33.913504</td>\n",
              "      <td>-117.931691</td>\n",
              "      <td>La Habra</td>\n",
              "      <td>menscloth</td>\n",
              "      <td>5.0</td>\n",
              "      <td>90631</td>\n",
              "      <td>CA</td>\n",
              "    </tr>\n",
              "    <tr>\n",
              "      <th>143</th>\n",
              "      <td>DICK'S Sporting Goods</td>\n",
              "      <td>33.953100</td>\n",
              "      <td>-84.231900</td>\n",
              "      <td>Norcross</td>\n",
              "      <td>sportswear</td>\n",
              "      <td>2.5</td>\n",
              "      <td>30092</td>\n",
              "      <td>GA</td>\n",
              "    </tr>\n",
              "    <tr>\n",
              "      <th>342</th>\n",
              "      <td>Appalachian Outfitters</td>\n",
              "      <td>41.219680</td>\n",
              "      <td>-81.492830</td>\n",
              "      <td>Peninsula</td>\n",
              "      <td>outdoorgear</td>\n",
              "      <td>3.0</td>\n",
              "      <td>44264</td>\n",
              "      <td>OH</td>\n",
              "    </tr>\n",
              "    <tr>\n",
              "      <th>253</th>\n",
              "      <td>Pilot Outfitters</td>\n",
              "      <td>34.014116</td>\n",
              "      <td>-118.449901</td>\n",
              "      <td>Santa Monica</td>\n",
              "      <td>outdoorgear</td>\n",
              "      <td>5.0</td>\n",
              "      <td>90405</td>\n",
              "      <td>CA</td>\n",
              "    </tr>\n",
              "    <tr>\n",
              "      <th>331</th>\n",
              "      <td>Northwest Outdoor Center</td>\n",
              "      <td>47.638281</td>\n",
              "      <td>-122.340328</td>\n",
              "      <td>Seattle</td>\n",
              "      <td>boating</td>\n",
              "      <td>4.5</td>\n",
              "      <td>98109</td>\n",
              "      <td>WA</td>\n",
              "    </tr>\n",
              "    <tr>\n",
              "      <th>339</th>\n",
              "      <td>Geiger's</td>\n",
              "      <td>41.485300</td>\n",
              "      <td>-81.798740</td>\n",
              "      <td>Lakewood</td>\n",
              "      <td>sportgoods</td>\n",
              "      <td>4.5</td>\n",
              "      <td>44107</td>\n",
              "      <td>OH</td>\n",
              "    </tr>\n",
              "    <tr>\n",
              "      <th>281</th>\n",
              "      <td>Big 5 Sporting Goods</td>\n",
              "      <td>34.470000</td>\n",
              "      <td>-117.247020</td>\n",
              "      <td>Apple Valley</td>\n",
              "      <td>huntingfishingsupplies</td>\n",
              "      <td>3.0</td>\n",
              "      <td>92308</td>\n",
              "      <td>CA</td>\n",
              "    </tr>\n",
              "    <tr>\n",
              "      <th>171</th>\n",
              "      <td>Sonoma Outfitters</td>\n",
              "      <td>38.445305</td>\n",
              "      <td>-122.686475</td>\n",
              "      <td>Santa Rosa</td>\n",
              "      <td>sportswear</td>\n",
              "      <td>3.0</td>\n",
              "      <td>95405</td>\n",
              "      <td>CA</td>\n",
              "    </tr>\n",
              "    <tr>\n",
              "      <th>67</th>\n",
              "      <td>Ocean Magic Surf Shop</td>\n",
              "      <td>26.932461</td>\n",
              "      <td>-80.078325</td>\n",
              "      <td>Jupiter</td>\n",
              "      <td>sportswear</td>\n",
              "      <td>4.0</td>\n",
              "      <td>33477</td>\n",
              "      <td>FL</td>\n",
              "    </tr>\n",
              "    <tr>\n",
              "      <th>4</th>\n",
              "      <td>The Climbing Life Guides</td>\n",
              "      <td>34.111679</td>\n",
              "      <td>-116.330658</td>\n",
              "      <td>Joshua Tree</td>\n",
              "      <td>climbing</td>\n",
              "      <td>5.0</td>\n",
              "      <td>92252</td>\n",
              "      <td>CA</td>\n",
              "    </tr>\n",
              "  </tbody>\n",
              "</table>\n",
              "</div>"
            ],
            "text/plain": [
              "                outdoor_store        lat         lng          city  \\\n",
              "197                      Sisu  33.913504 -117.931691      La Habra   \n",
              "143     DICK'S Sporting Goods  33.953100  -84.231900      Norcross   \n",
              "342    Appalachian Outfitters  41.219680  -81.492830     Peninsula   \n",
              "253          Pilot Outfitters  34.014116 -118.449901  Santa Monica   \n",
              "331  Northwest Outdoor Center  47.638281 -122.340328       Seattle   \n",
              "339                  Geiger's  41.485300  -81.798740      Lakewood   \n",
              "281      Big 5 Sporting Goods  34.470000 -117.247020  Apple Valley   \n",
              "171         Sonoma Outfitters  38.445305 -122.686475    Santa Rosa   \n",
              "67      Ocean Magic Surf Shop  26.932461  -80.078325       Jupiter   \n",
              "4    The Climbing Life Guides  34.111679 -116.330658   Joshua Tree   \n",
              "\n",
              "              business_type  outdoor_rating zip_code state  \n",
              "197               menscloth             5.0    90631    CA  \n",
              "143              sportswear             2.5    30092    GA  \n",
              "342             outdoorgear             3.0    44264    OH  \n",
              "253             outdoorgear             5.0    90405    CA  \n",
              "331                 boating             4.5    98109    WA  \n",
              "339              sportgoods             4.5    44107    OH  \n",
              "281  huntingfishingsupplies             3.0    92308    CA  \n",
              "171              sportswear             3.0    95405    CA  \n",
              "67               sportswear             4.0    33477    FL  \n",
              "4                  climbing             5.0    92252    CA  "
            ]
          },
          "execution_count": 37,
          "metadata": {},
          "output_type": "execute_result"
        }
      ],
      "source": [
        "outdoor_df.sample(10)"
      ]
    },
    {
      "cell_type": "code",
      "execution_count": null,
      "metadata": {},
      "outputs": [],
      "source": []
    },
    {
      "cell_type": "code",
      "execution_count": null,
      "id": "a2e8d183",
      "metadata": {
        "id": "a2e8d183"
      },
      "outputs": [],
      "source": [
        "# Group dataframe based on number of breweries and location"
      ]
    },
    {
      "cell_type": "code",
      "execution_count": 56,
      "id": "ec2fe383",
      "metadata": {
        "id": "ec2fe383"
      },
      "outputs": [],
      "source": [
        "# Merge dataframe with demographic into dataframe grouped by location\n",
        "#brewery_clothing_df = breweries_df.merge(outdoor_df, how='cross')"
      ]
    },
    {
      "cell_type": "markdown",
      "id": "24e04b58",
      "metadata": {
        "id": "24e04b58"
      },
      "source": [
        "# Data Processing"
      ]
    },
    {
      "cell_type": "code",
      "execution_count": 145,
      "id": "d99ad956",
      "metadata": {},
      "outputs": [],
      "source": [
        "X = breweries_df['brewery'].count().reshape(-1, 1)\n",
        "y = outdoor_df['outdoor_store'].count().reshape(-1, 1)"
      ]
    },
    {
      "cell_type": "code",
      "execution_count": 146,
      "id": "c158ab88",
      "metadata": {},
      "outputs": [
        {
          "data": {
            "text/plain": [
              "(1, 1)"
            ]
          },
          "execution_count": 146,
          "metadata": {},
          "output_type": "execute_result"
        }
      ],
      "source": [
        "y.shape"
      ]
    },
    {
      "cell_type": "code",
      "execution_count": 147,
      "id": "feaeb7f9",
      "metadata": {},
      "outputs": [
        {
          "data": {
            "text/plain": [
              "LinearRegression()"
            ]
          },
          "execution_count": 147,
          "metadata": {},
          "output_type": "execute_result"
        }
      ],
      "source": [
        "model.fit(X, y)"
      ]
    },
    {
      "cell_type": "code",
      "execution_count": 148,
      "id": "ca26bf4a",
      "metadata": {
        "id": "ca26bf4a"
      },
      "outputs": [
        {
          "data": {
            "text/plain": [
              "OneHotEncoder()"
            ]
          },
          "execution_count": 148,
          "metadata": {},
          "output_type": "execute_result"
        }
      ],
      "source": [
        "# Transform String Columns(Onehotencoder)\n",
        "encoder = OneHotEncoder(handle_unknown='error')\n",
        "encoder.fit(X)"
      ]
    },
    {
      "cell_type": "code",
      "execution_count": 149,
      "id": "8c829479",
      "metadata": {
        "id": "8c829479"
      },
      "outputs": [],
      "source": [
        "# Scale data if needed (StandardScaler)\n",
        "from sklearn.preprocessing import StandardScaler\n",
        "data_scaler = StandardScaler()"
      ]
    },
    {
      "cell_type": "code",
      "execution_count": 151,
      "id": "fef37795",
      "metadata": {
        "id": "fef37795"
      },
      "outputs": [
        {
          "ename": "AttributeError",
          "evalue": "'OneHotEncoder' object has no attribute 'ndim'",
          "output_type": "error",
          "traceback": [
            "\u001b[1;31m---------------------------------------------------------------------------\u001b[0m",
            "\u001b[1;31mAttributeError\u001b[0m                            Traceback (most recent call last)",
            "\u001b[1;32mC:\\Users\\Brans\\AppData\\Local\\Temp\\ipykernel_12544\\1086699200.py\u001b[0m in \u001b[0;36m<module>\u001b[1;34m\u001b[0m\n\u001b[1;32m----> 1\u001b[1;33m \u001b[0mbrewery_scaled\u001b[0m \u001b[1;33m=\u001b[0m \u001b[0mdata_scaler\u001b[0m\u001b[1;33m.\u001b[0m\u001b[0mfit\u001b[0m\u001b[1;33m(\u001b[0m\u001b[0mencoder\u001b[0m\u001b[1;33m)\u001b[0m\u001b[1;33m\u001b[0m\u001b[1;33m\u001b[0m\u001b[0m\n\u001b[0m\u001b[0;32m      2\u001b[0m \u001b[1;33m\u001b[0m\u001b[0m\n\u001b[0;32m      3\u001b[0m \u001b[0mbrewery_scaled\u001b[0m\u001b[1;33m[\u001b[0m\u001b[1;33m:\u001b[0m\u001b[1;36m25\u001b[0m\u001b[1;33m]\u001b[0m\u001b[1;33m\u001b[0m\u001b[1;33m\u001b[0m\u001b[0m\n",
            "\u001b[1;32mc:\\Users\\Brans\\anaconda3\\envs\\mlenv\\lib\\site-packages\\sklearn\\preprocessing\\_data.py\u001b[0m in \u001b[0;36mfit\u001b[1;34m(self, X, y, sample_weight)\u001b[0m\n\u001b[0;32m    804\u001b[0m         \u001b[1;31m# Reset internal state before fitting\u001b[0m\u001b[1;33m\u001b[0m\u001b[1;33m\u001b[0m\u001b[1;33m\u001b[0m\u001b[0m\n\u001b[0;32m    805\u001b[0m         \u001b[0mself\u001b[0m\u001b[1;33m.\u001b[0m\u001b[0m_reset\u001b[0m\u001b[1;33m(\u001b[0m\u001b[1;33m)\u001b[0m\u001b[1;33m\u001b[0m\u001b[1;33m\u001b[0m\u001b[0m\n\u001b[1;32m--> 806\u001b[1;33m         \u001b[1;32mreturn\u001b[0m \u001b[0mself\u001b[0m\u001b[1;33m.\u001b[0m\u001b[0mpartial_fit\u001b[0m\u001b[1;33m(\u001b[0m\u001b[0mX\u001b[0m\u001b[1;33m,\u001b[0m \u001b[0my\u001b[0m\u001b[1;33m,\u001b[0m \u001b[0msample_weight\u001b[0m\u001b[1;33m)\u001b[0m\u001b[1;33m\u001b[0m\u001b[1;33m\u001b[0m\u001b[0m\n\u001b[0m\u001b[0;32m    807\u001b[0m \u001b[1;33m\u001b[0m\u001b[0m\n\u001b[0;32m    808\u001b[0m     \u001b[1;32mdef\u001b[0m \u001b[0mpartial_fit\u001b[0m\u001b[1;33m(\u001b[0m\u001b[0mself\u001b[0m\u001b[1;33m,\u001b[0m \u001b[0mX\u001b[0m\u001b[1;33m,\u001b[0m \u001b[0my\u001b[0m\u001b[1;33m=\u001b[0m\u001b[1;32mNone\u001b[0m\u001b[1;33m,\u001b[0m \u001b[0msample_weight\u001b[0m\u001b[1;33m=\u001b[0m\u001b[1;32mNone\u001b[0m\u001b[1;33m)\u001b[0m\u001b[1;33m:\u001b[0m\u001b[1;33m\u001b[0m\u001b[1;33m\u001b[0m\u001b[0m\n",
            "\u001b[1;32mc:\\Users\\Brans\\anaconda3\\envs\\mlenv\\lib\\site-packages\\sklearn\\preprocessing\\_data.py\u001b[0m in \u001b[0;36mpartial_fit\u001b[1;34m(self, X, y, sample_weight)\u001b[0m\n\u001b[0;32m    845\u001b[0m             \u001b[0mdtype\u001b[0m\u001b[1;33m=\u001b[0m\u001b[0mFLOAT_DTYPES\u001b[0m\u001b[1;33m,\u001b[0m\u001b[1;33m\u001b[0m\u001b[1;33m\u001b[0m\u001b[0m\n\u001b[0;32m    846\u001b[0m             \u001b[0mforce_all_finite\u001b[0m\u001b[1;33m=\u001b[0m\u001b[1;34m\"allow-nan\"\u001b[0m\u001b[1;33m,\u001b[0m\u001b[1;33m\u001b[0m\u001b[1;33m\u001b[0m\u001b[0m\n\u001b[1;32m--> 847\u001b[1;33m             \u001b[0mreset\u001b[0m\u001b[1;33m=\u001b[0m\u001b[0mfirst_call\u001b[0m\u001b[1;33m,\u001b[0m\u001b[1;33m\u001b[0m\u001b[1;33m\u001b[0m\u001b[0m\n\u001b[0m\u001b[0;32m    848\u001b[0m         )\n\u001b[0;32m    849\u001b[0m         \u001b[0mn_features\u001b[0m \u001b[1;33m=\u001b[0m \u001b[0mX\u001b[0m\u001b[1;33m.\u001b[0m\u001b[0mshape\u001b[0m\u001b[1;33m[\u001b[0m\u001b[1;36m1\u001b[0m\u001b[1;33m]\u001b[0m\u001b[1;33m\u001b[0m\u001b[1;33m\u001b[0m\u001b[0m\n",
            "\u001b[1;32mc:\\Users\\Brans\\anaconda3\\envs\\mlenv\\lib\\site-packages\\sklearn\\base.py\u001b[0m in \u001b[0;36m_validate_data\u001b[1;34m(self, X, y, reset, validate_separately, **check_params)\u001b[0m\n\u001b[0;32m    564\u001b[0m             \u001b[1;32mraise\u001b[0m \u001b[0mValueError\u001b[0m\u001b[1;33m(\u001b[0m\u001b[1;34m\"Validation should be done on X, y or both.\"\u001b[0m\u001b[1;33m)\u001b[0m\u001b[1;33m\u001b[0m\u001b[1;33m\u001b[0m\u001b[0m\n\u001b[0;32m    565\u001b[0m         \u001b[1;32melif\u001b[0m \u001b[1;32mnot\u001b[0m \u001b[0mno_val_X\u001b[0m \u001b[1;32mand\u001b[0m \u001b[0mno_val_y\u001b[0m\u001b[1;33m:\u001b[0m\u001b[1;33m\u001b[0m\u001b[1;33m\u001b[0m\u001b[0m\n\u001b[1;32m--> 566\u001b[1;33m             \u001b[0mX\u001b[0m \u001b[1;33m=\u001b[0m \u001b[0mcheck_array\u001b[0m\u001b[1;33m(\u001b[0m\u001b[0mX\u001b[0m\u001b[1;33m,\u001b[0m \u001b[1;33m**\u001b[0m\u001b[0mcheck_params\u001b[0m\u001b[1;33m)\u001b[0m\u001b[1;33m\u001b[0m\u001b[1;33m\u001b[0m\u001b[0m\n\u001b[0m\u001b[0;32m    567\u001b[0m             \u001b[0mout\u001b[0m \u001b[1;33m=\u001b[0m \u001b[0mX\u001b[0m\u001b[1;33m\u001b[0m\u001b[1;33m\u001b[0m\u001b[0m\n\u001b[0;32m    568\u001b[0m         \u001b[1;32melif\u001b[0m \u001b[0mno_val_X\u001b[0m \u001b[1;32mand\u001b[0m \u001b[1;32mnot\u001b[0m \u001b[0mno_val_y\u001b[0m\u001b[1;33m:\u001b[0m\u001b[1;33m\u001b[0m\u001b[1;33m\u001b[0m\u001b[0m\n",
            "\u001b[1;32mc:\\Users\\Brans\\anaconda3\\envs\\mlenv\\lib\\site-packages\\sklearn\\utils\\validation.py\u001b[0m in \u001b[0;36mcheck_array\u001b[1;34m(array, accept_sparse, accept_large_sparse, dtype, order, copy, force_all_finite, ensure_2d, allow_nd, ensure_min_samples, ensure_min_features, estimator)\u001b[0m\n\u001b[0;32m    702\u001b[0m \u001b[1;33m\u001b[0m\u001b[0m\n\u001b[0;32m    703\u001b[0m     \u001b[1;31m# When all dataframe columns are sparse, convert to a sparse array\u001b[0m\u001b[1;33m\u001b[0m\u001b[1;33m\u001b[0m\u001b[1;33m\u001b[0m\u001b[0m\n\u001b[1;32m--> 704\u001b[1;33m     \u001b[1;32mif\u001b[0m \u001b[0mhasattr\u001b[0m\u001b[1;33m(\u001b[0m\u001b[0marray\u001b[0m\u001b[1;33m,\u001b[0m \u001b[1;34m\"sparse\"\u001b[0m\u001b[1;33m)\u001b[0m \u001b[1;32mand\u001b[0m \u001b[0marray\u001b[0m\u001b[1;33m.\u001b[0m\u001b[0mndim\u001b[0m \u001b[1;33m>\u001b[0m \u001b[1;36m1\u001b[0m\u001b[1;33m:\u001b[0m\u001b[1;33m\u001b[0m\u001b[1;33m\u001b[0m\u001b[0m\n\u001b[0m\u001b[0;32m    705\u001b[0m         \u001b[1;31m# DataFrame.sparse only supports `to_coo`\u001b[0m\u001b[1;33m\u001b[0m\u001b[1;33m\u001b[0m\u001b[1;33m\u001b[0m\u001b[0m\n\u001b[0;32m    706\u001b[0m         \u001b[0marray\u001b[0m \u001b[1;33m=\u001b[0m \u001b[0marray\u001b[0m\u001b[1;33m.\u001b[0m\u001b[0msparse\u001b[0m\u001b[1;33m.\u001b[0m\u001b[0mto_coo\u001b[0m\u001b[1;33m(\u001b[0m\u001b[1;33m)\u001b[0m\u001b[1;33m\u001b[0m\u001b[1;33m\u001b[0m\u001b[0m\n",
            "\u001b[1;31mAttributeError\u001b[0m: 'OneHotEncoder' object has no attribute 'ndim'"
          ]
        }
      ],
      "source": [
        "brewery_scaled = data_scaler.fit(encoder)\n",
        "\n",
        "brewery_scaled[:25]"
      ]
    },
    {
      "cell_type": "markdown",
      "id": "4fa0bb6f",
      "metadata": {
        "id": "4fa0bb6f"
      },
      "source": [
        "# Data Transformation"
      ]
    },
    {
      "cell_type": "code",
      "execution_count": 106,
      "id": "666858d7",
      "metadata": {},
      "outputs": [
        {
          "ename": "ValueError",
          "evalue": "x and y must be the same size",
          "output_type": "error",
          "traceback": [
            "\u001b[1;31m---------------------------------------------------------------------------\u001b[0m",
            "\u001b[1;31mValueError\u001b[0m                                Traceback (most recent call last)",
            "\u001b[1;32mC:\\Users\\Brans\\AppData\\Local\\Temp\\ipykernel_12544\\1176109311.py\u001b[0m in \u001b[0;36m<module>\u001b[1;34m\u001b[0m\n\u001b[1;32m----> 1\u001b[1;33m \u001b[0mplt\u001b[0m\u001b[1;33m.\u001b[0m\u001b[0mscatter\u001b[0m\u001b[1;33m(\u001b[0m\u001b[0mbreweries_df\u001b[0m\u001b[1;33m.\u001b[0m\u001b[0mbrewery\u001b[0m\u001b[1;33m,\u001b[0m \u001b[0moutdoor_df\u001b[0m\u001b[1;33m.\u001b[0m\u001b[0moutdoor_store\u001b[0m\u001b[1;33m)\u001b[0m\u001b[1;33m\u001b[0m\u001b[1;33m\u001b[0m\u001b[0m\n\u001b[0m\u001b[0;32m      2\u001b[0m \u001b[0mplt\u001b[0m\u001b[1;33m.\u001b[0m\u001b[0mxlabel\u001b[0m\u001b[1;33m(\u001b[0m\u001b[1;34m'Brewery'\u001b[0m\u001b[1;33m)\u001b[0m\u001b[1;33m\u001b[0m\u001b[1;33m\u001b[0m\u001b[0m\n\u001b[0;32m      3\u001b[0m \u001b[0mplt\u001b[0m\u001b[1;33m.\u001b[0m\u001b[0mylabel\u001b[0m\u001b[1;33m(\u001b[0m\u001b[1;34m'Outdoor Store'\u001b[0m\u001b[1;33m)\u001b[0m\u001b[1;33m\u001b[0m\u001b[1;33m\u001b[0m\u001b[0m\n\u001b[0;32m      4\u001b[0m \u001b[0mplt\u001b[0m\u001b[1;33m.\u001b[0m\u001b[0mshow\u001b[0m\u001b[1;33m(\u001b[0m\u001b[1;33m)\u001b[0m\u001b[1;33m\u001b[0m\u001b[1;33m\u001b[0m\u001b[0m\n",
            "\u001b[1;32mc:\\Users\\Brans\\anaconda3\\envs\\mlenv\\lib\\site-packages\\matplotlib\\pyplot.py\u001b[0m in \u001b[0;36mscatter\u001b[1;34m(x, y, s, c, marker, cmap, norm, vmin, vmax, alpha, linewidths, edgecolors, plotnonfinite, data, **kwargs)\u001b[0m\n\u001b[0;32m   2809\u001b[0m         \u001b[0mvmin\u001b[0m\u001b[1;33m=\u001b[0m\u001b[0mvmin\u001b[0m\u001b[1;33m,\u001b[0m \u001b[0mvmax\u001b[0m\u001b[1;33m=\u001b[0m\u001b[0mvmax\u001b[0m\u001b[1;33m,\u001b[0m \u001b[0malpha\u001b[0m\u001b[1;33m=\u001b[0m\u001b[0malpha\u001b[0m\u001b[1;33m,\u001b[0m \u001b[0mlinewidths\u001b[0m\u001b[1;33m=\u001b[0m\u001b[0mlinewidths\u001b[0m\u001b[1;33m,\u001b[0m\u001b[1;33m\u001b[0m\u001b[1;33m\u001b[0m\u001b[0m\n\u001b[0;32m   2810\u001b[0m         \u001b[0medgecolors\u001b[0m\u001b[1;33m=\u001b[0m\u001b[0medgecolors\u001b[0m\u001b[1;33m,\u001b[0m \u001b[0mplotnonfinite\u001b[0m\u001b[1;33m=\u001b[0m\u001b[0mplotnonfinite\u001b[0m\u001b[1;33m,\u001b[0m\u001b[1;33m\u001b[0m\u001b[1;33m\u001b[0m\u001b[0m\n\u001b[1;32m-> 2811\u001b[1;33m         **({\"data\": data} if data is not None else {}), **kwargs)\n\u001b[0m\u001b[0;32m   2812\u001b[0m     \u001b[0msci\u001b[0m\u001b[1;33m(\u001b[0m\u001b[0m__ret\u001b[0m\u001b[1;33m)\u001b[0m\u001b[1;33m\u001b[0m\u001b[1;33m\u001b[0m\u001b[0m\n\u001b[0;32m   2813\u001b[0m     \u001b[1;32mreturn\u001b[0m \u001b[0m__ret\u001b[0m\u001b[1;33m\u001b[0m\u001b[1;33m\u001b[0m\u001b[0m\n",
            "\u001b[1;32mc:\\Users\\Brans\\anaconda3\\envs\\mlenv\\lib\\site-packages\\matplotlib\\__init__.py\u001b[0m in \u001b[0;36minner\u001b[1;34m(ax, data, *args, **kwargs)\u001b[0m\n\u001b[0;32m   1410\u001b[0m     \u001b[1;32mdef\u001b[0m \u001b[0minner\u001b[0m\u001b[1;33m(\u001b[0m\u001b[0max\u001b[0m\u001b[1;33m,\u001b[0m \u001b[1;33m*\u001b[0m\u001b[0margs\u001b[0m\u001b[1;33m,\u001b[0m \u001b[0mdata\u001b[0m\u001b[1;33m=\u001b[0m\u001b[1;32mNone\u001b[0m\u001b[1;33m,\u001b[0m \u001b[1;33m**\u001b[0m\u001b[0mkwargs\u001b[0m\u001b[1;33m)\u001b[0m\u001b[1;33m:\u001b[0m\u001b[1;33m\u001b[0m\u001b[1;33m\u001b[0m\u001b[0m\n\u001b[0;32m   1411\u001b[0m         \u001b[1;32mif\u001b[0m \u001b[0mdata\u001b[0m \u001b[1;32mis\u001b[0m \u001b[1;32mNone\u001b[0m\u001b[1;33m:\u001b[0m\u001b[1;33m\u001b[0m\u001b[1;33m\u001b[0m\u001b[0m\n\u001b[1;32m-> 1412\u001b[1;33m             \u001b[1;32mreturn\u001b[0m \u001b[0mfunc\u001b[0m\u001b[1;33m(\u001b[0m\u001b[0max\u001b[0m\u001b[1;33m,\u001b[0m \u001b[1;33m*\u001b[0m\u001b[0mmap\u001b[0m\u001b[1;33m(\u001b[0m\u001b[0msanitize_sequence\u001b[0m\u001b[1;33m,\u001b[0m \u001b[0margs\u001b[0m\u001b[1;33m)\u001b[0m\u001b[1;33m,\u001b[0m \u001b[1;33m**\u001b[0m\u001b[0mkwargs\u001b[0m\u001b[1;33m)\u001b[0m\u001b[1;33m\u001b[0m\u001b[1;33m\u001b[0m\u001b[0m\n\u001b[0m\u001b[0;32m   1413\u001b[0m \u001b[1;33m\u001b[0m\u001b[0m\n\u001b[0;32m   1414\u001b[0m         \u001b[0mbound\u001b[0m \u001b[1;33m=\u001b[0m \u001b[0mnew_sig\u001b[0m\u001b[1;33m.\u001b[0m\u001b[0mbind\u001b[0m\u001b[1;33m(\u001b[0m\u001b[0max\u001b[0m\u001b[1;33m,\u001b[0m \u001b[1;33m*\u001b[0m\u001b[0margs\u001b[0m\u001b[1;33m,\u001b[0m \u001b[1;33m**\u001b[0m\u001b[0mkwargs\u001b[0m\u001b[1;33m)\u001b[0m\u001b[1;33m\u001b[0m\u001b[1;33m\u001b[0m\u001b[0m\n",
            "\u001b[1;32mc:\\Users\\Brans\\anaconda3\\envs\\mlenv\\lib\\site-packages\\matplotlib\\axes\\_axes.py\u001b[0m in \u001b[0;36mscatter\u001b[1;34m(self, x, y, s, c, marker, cmap, norm, vmin, vmax, alpha, linewidths, edgecolors, plotnonfinite, **kwargs)\u001b[0m\n\u001b[0;32m   4367\u001b[0m         \u001b[0my\u001b[0m \u001b[1;33m=\u001b[0m \u001b[0mnp\u001b[0m\u001b[1;33m.\u001b[0m\u001b[0mma\u001b[0m\u001b[1;33m.\u001b[0m\u001b[0mravel\u001b[0m\u001b[1;33m(\u001b[0m\u001b[0my\u001b[0m\u001b[1;33m)\u001b[0m\u001b[1;33m\u001b[0m\u001b[1;33m\u001b[0m\u001b[0m\n\u001b[0;32m   4368\u001b[0m         \u001b[1;32mif\u001b[0m \u001b[0mx\u001b[0m\u001b[1;33m.\u001b[0m\u001b[0msize\u001b[0m \u001b[1;33m!=\u001b[0m \u001b[0my\u001b[0m\u001b[1;33m.\u001b[0m\u001b[0msize\u001b[0m\u001b[1;33m:\u001b[0m\u001b[1;33m\u001b[0m\u001b[1;33m\u001b[0m\u001b[0m\n\u001b[1;32m-> 4369\u001b[1;33m             \u001b[1;32mraise\u001b[0m \u001b[0mValueError\u001b[0m\u001b[1;33m(\u001b[0m\u001b[1;34m\"x and y must be the same size\"\u001b[0m\u001b[1;33m)\u001b[0m\u001b[1;33m\u001b[0m\u001b[1;33m\u001b[0m\u001b[0m\n\u001b[0m\u001b[0;32m   4370\u001b[0m \u001b[1;33m\u001b[0m\u001b[0m\n\u001b[0;32m   4371\u001b[0m         \u001b[1;32mif\u001b[0m \u001b[0ms\u001b[0m \u001b[1;32mis\u001b[0m \u001b[1;32mNone\u001b[0m\u001b[1;33m:\u001b[0m\u001b[1;33m\u001b[0m\u001b[1;33m\u001b[0m\u001b[0m\n",
            "\u001b[1;31mValueError\u001b[0m: x and y must be the same size"
          ]
        },
        {
          "data": {
            "image/png": "[encoded data removed]",
            "text/plain": [
              "<Figure size 432x288 with 1 Axes>"
            ]
          },
          "metadata": {
            "needs_background": "light"
          },
          "output_type": "display_data"
        }
      ],
      "source": [
        "plt.scatter(breweries_df.brewery, outdoor_df.outdoor_store)\n",
        "plt.xlabel('Brewery')\n",
        "plt.ylabel('Outdoor Store')\n",
        "plt.show()"
      ]
    },
    {
      "cell_type": "code",
      "execution_count": null,
      "id": "f7d1e2b6",
      "metadata": {
        "id": "f7d1e2b6"
      },
      "outputs": [],
      "source": [
        "# Save Cleaned Data to csv"
      ]
    },
    {
      "cell_type": "code",
      "execution_count": null,
      "id": "16f3d3f3",
      "metadata": {
        "id": "16f3d3f3"
      },
      "outputs": [],
      "source": [
        "# Export cleaned data csv to sql table"
      ]
    },
    {
      "cell_type": "code",
      "execution_count": 153,
      "id": "f6c4cf75",
      "metadata": {},
      "outputs": [],
      "source": [
        "X = breweries_df[breweries_df.columns[1]]\n",
        "y = outdoor_df[outdoor_df.columns[1]]"
      ]
    },
    {
      "cell_type": "code",
      "execution_count": 155,
      "id": "d6e6f5cf",
      "metadata": {
        "id": "d6e6f5cf"
      },
      "outputs": [],
      "source": [
        "# Set X and y \n",
        "# X = demographic info + number of Breweries per location(zipcode tabulation area?)\n",
        "# y = number of stores\n",
        "X = breweries_df[breweries_df.columns[1]].count()\n",
        "y = outdoor_df[outdoor_df.columns[1]].count()"
      ]
    },
    {
      "cell_type": "code",
      "execution_count": 156,
      "id": "2fcda03b",
      "metadata": {
        "id": "2fcda03b"
      },
      "outputs": [
        {
          "ename": "TypeError",
          "evalue": "Singleton array 421 cannot be considered a valid collection.",
          "output_type": "error",
          "traceback": [
            "\u001b[1;31m---------------------------------------------------------------------------\u001b[0m",
            "\u001b[1;31mTypeError\u001b[0m                                 Traceback (most recent call last)",
            "\u001b[1;32mC:\\Users\\Brans\\AppData\\Local\\Temp\\ipykernel_12544\\1922420496.py\u001b[0m in \u001b[0;36m<module>\u001b[1;34m\u001b[0m\n\u001b[0;32m      1\u001b[0m \u001b[1;31m# traintestsplit\u001b[0m\u001b[1;33m\u001b[0m\u001b[1;33m\u001b[0m\u001b[1;33m\u001b[0m\u001b[0m\n\u001b[1;32m----> 2\u001b[1;33m \u001b[0mX_train\u001b[0m\u001b[1;33m,\u001b[0m \u001b[0mX_test\u001b[0m\u001b[1;33m,\u001b[0m \u001b[0my_train\u001b[0m\u001b[1;33m,\u001b[0m \u001b[0my_test\u001b[0m \u001b[1;33m=\u001b[0m \u001b[0mtrain_test_split\u001b[0m\u001b[1;33m(\u001b[0m\u001b[0mX\u001b[0m\u001b[1;33m,\u001b[0m \u001b[0my\u001b[0m\u001b[1;33m,\u001b[0m \u001b[0mrandom_state\u001b[0m\u001b[1;33m=\u001b[0m\u001b[1;36m24\u001b[0m\u001b[1;33m)\u001b[0m\u001b[1;33m\u001b[0m\u001b[1;33m\u001b[0m\u001b[0m\n\u001b[0m",
            "\u001b[1;32mc:\\Users\\Brans\\anaconda3\\envs\\mlenv\\lib\\site-packages\\sklearn\\model_selection\\_split.py\u001b[0m in \u001b[0;36mtrain_test_split\u001b[1;34m(test_size, train_size, random_state, shuffle, stratify, *arrays)\u001b[0m\n\u001b[0;32m   2415\u001b[0m         \u001b[1;32mraise\u001b[0m \u001b[0mValueError\u001b[0m\u001b[1;33m(\u001b[0m\u001b[1;34m\"At least one array required as input\"\u001b[0m\u001b[1;33m)\u001b[0m\u001b[1;33m\u001b[0m\u001b[1;33m\u001b[0m\u001b[0m\n\u001b[0;32m   2416\u001b[0m \u001b[1;33m\u001b[0m\u001b[0m\n\u001b[1;32m-> 2417\u001b[1;33m     \u001b[0marrays\u001b[0m \u001b[1;33m=\u001b[0m \u001b[0mindexable\u001b[0m\u001b[1;33m(\u001b[0m\u001b[1;33m*\u001b[0m\u001b[0marrays\u001b[0m\u001b[1;33m)\u001b[0m\u001b[1;33m\u001b[0m\u001b[1;33m\u001b[0m\u001b[0m\n\u001b[0m\u001b[0;32m   2418\u001b[0m \u001b[1;33m\u001b[0m\u001b[0m\n\u001b[0;32m   2419\u001b[0m     \u001b[0mn_samples\u001b[0m \u001b[1;33m=\u001b[0m \u001b[0m_num_samples\u001b[0m\u001b[1;33m(\u001b[0m\u001b[0marrays\u001b[0m\u001b[1;33m[\u001b[0m\u001b[1;36m0\u001b[0m\u001b[1;33m]\u001b[0m\u001b[1;33m)\u001b[0m\u001b[1;33m\u001b[0m\u001b[1;33m\u001b[0m\u001b[0m\n",
            "\u001b[1;32mc:\\Users\\Brans\\anaconda3\\envs\\mlenv\\lib\\site-packages\\sklearn\\utils\\validation.py\u001b[0m in \u001b[0;36mindexable\u001b[1;34m(*iterables)\u001b[0m\n\u001b[0;32m    376\u001b[0m \u001b[1;33m\u001b[0m\u001b[0m\n\u001b[0;32m    377\u001b[0m     \u001b[0mresult\u001b[0m \u001b[1;33m=\u001b[0m \u001b[1;33m[\u001b[0m\u001b[0m_make_indexable\u001b[0m\u001b[1;33m(\u001b[0m\u001b[0mX\u001b[0m\u001b[1;33m)\u001b[0m \u001b[1;32mfor\u001b[0m \u001b[0mX\u001b[0m \u001b[1;32min\u001b[0m \u001b[0miterables\u001b[0m\u001b[1;33m]\u001b[0m\u001b[1;33m\u001b[0m\u001b[1;33m\u001b[0m\u001b[0m\n\u001b[1;32m--> 378\u001b[1;33m     \u001b[0mcheck_consistent_length\u001b[0m\u001b[1;33m(\u001b[0m\u001b[1;33m*\u001b[0m\u001b[0mresult\u001b[0m\u001b[1;33m)\u001b[0m\u001b[1;33m\u001b[0m\u001b[1;33m\u001b[0m\u001b[0m\n\u001b[0m\u001b[0;32m    379\u001b[0m     \u001b[1;32mreturn\u001b[0m \u001b[0mresult\u001b[0m\u001b[1;33m\u001b[0m\u001b[1;33m\u001b[0m\u001b[0m\n\u001b[0;32m    380\u001b[0m \u001b[1;33m\u001b[0m\u001b[0m\n",
            "\u001b[1;32mc:\\Users\\Brans\\anaconda3\\envs\\mlenv\\lib\\site-packages\\sklearn\\utils\\validation.py\u001b[0m in \u001b[0;36mcheck_consistent_length\u001b[1;34m(*arrays)\u001b[0m\n\u001b[0;32m    327\u001b[0m     \"\"\"\n\u001b[0;32m    328\u001b[0m \u001b[1;33m\u001b[0m\u001b[0m\n\u001b[1;32m--> 329\u001b[1;33m     \u001b[0mlengths\u001b[0m \u001b[1;33m=\u001b[0m \u001b[1;33m[\u001b[0m\u001b[0m_num_samples\u001b[0m\u001b[1;33m(\u001b[0m\u001b[0mX\u001b[0m\u001b[1;33m)\u001b[0m \u001b[1;32mfor\u001b[0m \u001b[0mX\u001b[0m \u001b[1;32min\u001b[0m \u001b[0marrays\u001b[0m \u001b[1;32mif\u001b[0m \u001b[0mX\u001b[0m \u001b[1;32mis\u001b[0m \u001b[1;32mnot\u001b[0m \u001b[1;32mNone\u001b[0m\u001b[1;33m]\u001b[0m\u001b[1;33m\u001b[0m\u001b[1;33m\u001b[0m\u001b[0m\n\u001b[0m\u001b[0;32m    330\u001b[0m     \u001b[0muniques\u001b[0m \u001b[1;33m=\u001b[0m \u001b[0mnp\u001b[0m\u001b[1;33m.\u001b[0m\u001b[0munique\u001b[0m\u001b[1;33m(\u001b[0m\u001b[0mlengths\u001b[0m\u001b[1;33m)\u001b[0m\u001b[1;33m\u001b[0m\u001b[1;33m\u001b[0m\u001b[0m\n\u001b[0;32m    331\u001b[0m     \u001b[1;32mif\u001b[0m \u001b[0mlen\u001b[0m\u001b[1;33m(\u001b[0m\u001b[0muniques\u001b[0m\u001b[1;33m)\u001b[0m \u001b[1;33m>\u001b[0m \u001b[1;36m1\u001b[0m\u001b[1;33m:\u001b[0m\u001b[1;33m\u001b[0m\u001b[1;33m\u001b[0m\u001b[0m\n",
            "\u001b[1;32mc:\\Users\\Brans\\anaconda3\\envs\\mlenv\\lib\\site-packages\\sklearn\\utils\\validation.py\u001b[0m in \u001b[0;36m<listcomp>\u001b[1;34m(.0)\u001b[0m\n\u001b[0;32m    327\u001b[0m     \"\"\"\n\u001b[0;32m    328\u001b[0m \u001b[1;33m\u001b[0m\u001b[0m\n\u001b[1;32m--> 329\u001b[1;33m     \u001b[0mlengths\u001b[0m \u001b[1;33m=\u001b[0m \u001b[1;33m[\u001b[0m\u001b[0m_num_samples\u001b[0m\u001b[1;33m(\u001b[0m\u001b[0mX\u001b[0m\u001b[1;33m)\u001b[0m \u001b[1;32mfor\u001b[0m \u001b[0mX\u001b[0m \u001b[1;32min\u001b[0m \u001b[0marrays\u001b[0m \u001b[1;32mif\u001b[0m \u001b[0mX\u001b[0m \u001b[1;32mis\u001b[0m \u001b[1;32mnot\u001b[0m \u001b[1;32mNone\u001b[0m\u001b[1;33m]\u001b[0m\u001b[1;33m\u001b[0m\u001b[1;33m\u001b[0m\u001b[0m\n\u001b[0m\u001b[0;32m    330\u001b[0m     \u001b[0muniques\u001b[0m \u001b[1;33m=\u001b[0m \u001b[0mnp\u001b[0m\u001b[1;33m.\u001b[0m\u001b[0munique\u001b[0m\u001b[1;33m(\u001b[0m\u001b[0mlengths\u001b[0m\u001b[1;33m)\u001b[0m\u001b[1;33m\u001b[0m\u001b[1;33m\u001b[0m\u001b[0m\n\u001b[0;32m    331\u001b[0m     \u001b[1;32mif\u001b[0m \u001b[0mlen\u001b[0m\u001b[1;33m(\u001b[0m\u001b[0muniques\u001b[0m\u001b[1;33m)\u001b[0m \u001b[1;33m>\u001b[0m \u001b[1;36m1\u001b[0m\u001b[1;33m:\u001b[0m\u001b[1;33m\u001b[0m\u001b[1;33m\u001b[0m\u001b[0m\n",
            "\u001b[1;32mc:\\Users\\Brans\\anaconda3\\envs\\mlenv\\lib\\site-packages\\sklearn\\utils\\validation.py\u001b[0m in \u001b[0;36m_num_samples\u001b[1;34m(x)\u001b[0m\n\u001b[0;32m    268\u001b[0m         \u001b[1;32mif\u001b[0m \u001b[0mlen\u001b[0m\u001b[1;33m(\u001b[0m\u001b[0mx\u001b[0m\u001b[1;33m.\u001b[0m\u001b[0mshape\u001b[0m\u001b[1;33m)\u001b[0m \u001b[1;33m==\u001b[0m \u001b[1;36m0\u001b[0m\u001b[1;33m:\u001b[0m\u001b[1;33m\u001b[0m\u001b[1;33m\u001b[0m\u001b[0m\n\u001b[0;32m    269\u001b[0m             raise TypeError(\n\u001b[1;32m--> 270\u001b[1;33m                 \u001b[1;34m\"Singleton array %r cannot be considered a valid collection.\"\u001b[0m \u001b[1;33m%\u001b[0m \u001b[0mx\u001b[0m\u001b[1;33m\u001b[0m\u001b[1;33m\u001b[0m\u001b[0m\n\u001b[0m\u001b[0;32m    271\u001b[0m             )\n\u001b[0;32m    272\u001b[0m         \u001b[1;31m# Check that shape is returning an integer or default to len\u001b[0m\u001b[1;33m\u001b[0m\u001b[1;33m\u001b[0m\u001b[1;33m\u001b[0m\u001b[0m\n",
            "\u001b[1;31mTypeError\u001b[0m: Singleton array 421 cannot be considered a valid collection."
          ]
        }
      ],
      "source": [
        "# traintestsplit\n",
        "X_train, X_test, y_train, y_test = train_test_split(X, y, random_state=24)"
      ]
    },
    {
      "cell_type": "code",
      "execution_count": null,
      "id": "0bed1191",
      "metadata": {
        "id": "0bed1191"
      },
      "outputs": [],
      "source": [
        "# Create an instance of the model(LinearRegression)\n",
        "model = LinearRegression()"
      ]
    },
    {
      "cell_type": "code",
      "execution_count": null,
      "id": "435e9843",
      "metadata": {
        "id": "435e9843"
      },
      "outputs": [],
      "source": [
        "# Train the model with the dataset \n",
        "model.fit(X_train,y_train)"
      ]
    },
    {
      "cell_type": "code",
      "execution_count": null,
      "id": "a4590e9b",
      "metadata": {
        "id": "a4590e9b"
      },
      "outputs": [],
      "source": [
        "# Create predictions\n",
        "predictions = model.predict(X_test)\n",
        "\n",
        "print(predictions.shape)"
      ]
    },
    {
      "cell_type": "code",
      "execution_count": null,
      "id": "ac7817bd",
      "metadata": {
        "id": "ac7817bd"
      },
      "outputs": [],
      "source": [
        "# Validate the model\n",
        "# accuracy_score (not using accuracy for linear regression)\n",
        "#acc_score = accuracy_score(y_test, predictions)\n",
        "\n",
        "# confusion_matrix/classification_report\n",
        "cm = confusion_matrix(y_test, predictions)\n",
        "\n",
        "cm_df = pd.DataFrame(\n",
        "    cm, index=[\"Actual 0\", \"Actual 1\"], columns=[\"Predicted 0\", \"Predicted 1\"])"
      ]
    },
    {
      "cell_type": "code",
      "execution_count": null,
      "id": "71279c54",
      "metadata": {
        "id": "71279c54"
      },
      "outputs": [],
      "source": [
        "print(\"Confusion Matrix\")\n",
        "display(cm_df)\n",
        "print(f\"Accuracy Score : {acc_score}\")\n",
        "print(\"Classification Report\")\n",
        "print(classification_report(y_test, predictions))"
      ]
    },
    {
      "cell_type": "code",
      "execution_count": null,
      "id": "7ebcca02",
      "metadata": {
        "id": "7ebcca02"
      },
      "outputs": [],
      "source": [
        "# Find impact of different variables"
      ]
    }
  ],
  "metadata": {
    "colab": {
      "collapsed_sections": [],
      "name": "machine_learning_mockup.ipynb",
      "provenance": []
    },
    "kernelspec": {
      "display_name": "mlenv",
      "language": "python",
      "name": "mlenv"
    },
    "language_info": {
      "codemirror_mode": {
        "name": "ipython",
        "version": 3
      },
      "file_extension": ".py",
      "mimetype": "text/x-python",
      "name": "python",
      "nbconvert_exporter": "python",
      "pygments_lexer": "ipython3",
      "version": "3.7.13"
    }
  },
  "nbformat": 4,
  "nbformat_minor": 5
}
