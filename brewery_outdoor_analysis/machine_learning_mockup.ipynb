{
  "cells": [
    {
      "cell_type": "markdown",
      "id": "ak5MPrinVsLo",
      "metadata": {
        "id": "ak5MPrinVsLo"
      },
      "source": [
        "\n",
        "# Brewery Analysis: Machine Learning\n",
        "\n",
        "\n",
        "\n",
        "---\n",
        "\n",
        "\n",
        "\n",
        "*  Data is preprocessed and cleaned by removing unneeded columns, merging zip code/cities datasets, and limiting dataset to the top 1,000 most populated cities.\n",
        "*  To obtain the best possible predictive results, preliminary features should be explored, engineered, and carefully selected. Possible preliminary features for this model could be average income per zipcode, income per capita, and clothing stores per brewery count.\n",
        "*  The importance of correlation between breweries and outdoor clothing stores will drive which features will be engineered and selected, ultimately answering the hypthesis.\n",
        "* (How the data was trained and tested)\n",
        "* A linear regression model was chosen to best illustrate correlation between brewery location and outdoor clothing store location. Is there a strong relationship between the two? The benefits of using a linear regression is readability and abiility to answer basic questions. Limitations of a linear regression model will be sensitivity to outliers.\n",
        "\n",
        "\n",
        "\n"
      ]
    },
    {
      "cell_type": "code",
      "execution_count": 40,
      "id": "b76fee5c",
      "metadata": {
        "colab": {
          "base_uri": "https://localhost:8080/",
          "height": 339
        },
        "id": "b76fee5c",
        "outputId": "592736c6-e75c-4dc7-e424-8771ab7b0627"
      },
      "outputs": [],
      "source": [
        "# Import dependencies\n",
        "\n",
        "import pandas as pd\n",
        "from pathlib import Path\n",
        "import matplotlib.pyplot as plt\n",
        "from sklearn.linear_model import LinearRegression\n",
        "from sklearn.datasets import make_regression\n",
        "from sklearn.model_selection import train_test_split\n",
        "from database_connection import ENGINE"
      ]
    },
    {
      "cell_type": "markdown",
      "id": "8MxDL1B6Zbyu",
      "metadata": {
        "id": "8MxDL1B6Zbyu"
      },
      "source": [
        "# Test Linear Regression Model"
      ]
    },
    {
      "cell_type": "code",
      "execution_count": 44,
      "id": "AUF5PVy2mqko",
      "metadata": {
        "id": "AUF5PVy2mqko"
      },
      "outputs": [],
      "source": [
        "X, y = make_regression(n_samples=100, n_features=1, random_state=24, noise=20, bias=50.0)"
      ]
    },
    {
      "cell_type": "code",
      "execution_count": 45,
      "id": "Zogdb6aaxS-b",
      "metadata": {
        "colab": {
          "base_uri": "https://localhost:8080/",
          "height": 282
        },
        "id": "Zogdb6aaxS-b",
        "outputId": "51ab9b51-79cc-4e2b-8dd9-e5e87877988e"
      },
      "outputs": [
        {
          "data": {
            "text/plain": [
              "<matplotlib.collections.PathCollection at 0x273cd0a2b88>"
            ]
          },
          "execution_count": 45,
          "metadata": {},
          "output_type": "execute_result"
        },
        {
          "data": {
            "image/png": "[encoded data removed]",
            "text/plain": [
              "<Figure size 432x288 with 1 Axes>"
            ]
          },
          "metadata": {
            "needs_background": "light"
          },
          "output_type": "display_data"
        }
      ],
      "source": [
        "plt.scatter(X, y)"
      ]
    },
    {
      "cell_type": "code",
      "execution_count": 46,
      "id": "Xf0jq-3aZrxV",
      "metadata": {
        "colab": {
          "base_uri": "https://localhost:8080/"
        },
        "id": "Xf0jq-3aZrxV",
        "outputId": "ad25cd5f-a3fe-4e11-e31c-d1e8d86c8f6d"
      },
      "outputs": [
        {
          "data": {
            "text/plain": [
              "LinearRegression()"
            ]
          },
          "execution_count": 46,
          "metadata": {},
          "output_type": "execute_result"
        }
      ],
      "source": [
        "model = LinearRegression()\n",
        "model"
      ]
    },
    {
      "cell_type": "code",
      "execution_count": 47,
      "id": "UwDFXZn0meyS",
      "metadata": {
        "colab": {
          "base_uri": "https://localhost:8080/"
        },
        "id": "UwDFXZn0meyS",
        "outputId": "78750791-e9fd-4bbf-c1f0-16ff9eb4583b"
      },
      "outputs": [
        {
          "name": "stdout",
          "output_type": "stream",
          "text": [
            "LinearRegression()\n"
          ]
        }
      ],
      "source": [
        "model.fit(X, y)\n",
        "print(model)"
      ]
    },
    {
      "cell_type": "code",
      "execution_count": 48,
      "id": "tFHbidegmfCN",
      "metadata": {
        "colab": {
          "base_uri": "https://localhost:8080/"
        },
        "id": "tFHbidegmfCN",
        "outputId": "8b802f02-9de7-48b3-84d7-cf65ccf962a5"
      },
      "outputs": [
        {
          "name": "stdout",
          "output_type": "stream",
          "text": [
            "Weight coefficients:  [73.68622249]\n",
            "y-axis intercept:  52.35050319965709\n"
          ]
        }
      ],
      "source": [
        "print('Weight coefficients: ', model.coef_)\n",
        "print('y-axis intercept: ', model.intercept_) "
      ]
    },
    {
      "cell_type": "code",
      "execution_count": 49,
      "id": "wds6OnlamfGI",
      "metadata": {
        "colab": {
          "base_uri": "https://localhost:8080/"
        },
        "id": "wds6OnlamfGI",
        "outputId": "e5658d27-0dc5-41d8-aa66-06e0de5f23e8"
      },
      "outputs": [
        {
          "name": "stdout",
          "output_type": "stream",
          "text": [
            "True output: 51.573180999075355\n",
            "Predicted output: 61.05269396989403\n",
            "Prediction Error: 9.479512970818675\n"
          ]
        }
      ],
      "source": [
        "predictions = model.predict(X)\n",
        "print(f\"True output: {y[0]}\")\n",
        "print(f\"Predicted output: {predictions[0]}\")\n",
        "print(f\"Prediction Error: {predictions[0]-y[0]}\")"
      ]
    },
    {
      "cell_type": "code",
      "execution_count": 50,
      "id": "s9OxiJcwylKq",
      "metadata": {
        "colab": {
          "base_uri": "https://localhost:8080/",
          "height": 424
        },
        "id": "s9OxiJcwylKq",
        "outputId": "29ebfe08-6113-4110-ba2d-539eb7bd8e5a"
      },
      "outputs": [
        {
          "data": {
            "text/html": [
              "<div>\n",
              "<style scoped>\n",
              "    .dataframe tbody tr th:only-of-type {\n",
              "        vertical-align: middle;\n",
              "    }\n",
              "\n",
              "    .dataframe tbody tr th {\n",
              "        vertical-align: top;\n",
              "    }\n",
              "\n",
              "    .dataframe thead th {\n",
              "        text-align: right;\n",
              "    }\n",
              "</style>\n",
              "<table border=\"1\" class=\"dataframe\">\n",
              "  <thead>\n",
              "    <tr style=\"text-align: right;\">\n",
              "      <th></th>\n",
              "      <th>Predicted</th>\n",
              "      <th>Actual</th>\n",
              "      <th>Error</th>\n",
              "    </tr>\n",
              "  </thead>\n",
              "  <tbody>\n",
              "    <tr>\n",
              "      <th>0</th>\n",
              "      <td>61.052694</td>\n",
              "      <td>51.573181</td>\n",
              "      <td>9.479513</td>\n",
              "    </tr>\n",
              "    <tr>\n",
              "      <th>1</th>\n",
              "      <td>116.539022</td>\n",
              "      <td>135.744467</td>\n",
              "      <td>-19.205445</td>\n",
              "    </tr>\n",
              "    <tr>\n",
              "      <th>2</th>\n",
              "      <td>-45.354712</td>\n",
              "      <td>-34.665692</td>\n",
              "      <td>-10.689020</td>\n",
              "    </tr>\n",
              "    <tr>\n",
              "      <th>3</th>\n",
              "      <td>-19.366764</td>\n",
              "      <td>6.805878</td>\n",
              "      <td>-26.172642</td>\n",
              "    </tr>\n",
              "    <tr>\n",
              "      <th>4</th>\n",
              "      <td>120.974797</td>\n",
              "      <td>134.426874</td>\n",
              "      <td>-13.452077</td>\n",
              "    </tr>\n",
              "    <tr>\n",
              "      <th>...</th>\n",
              "      <td>...</td>\n",
              "      <td>...</td>\n",
              "      <td>...</td>\n",
              "    </tr>\n",
              "    <tr>\n",
              "      <th>95</th>\n",
              "      <td>111.587291</td>\n",
              "      <td>106.903818</td>\n",
              "      <td>4.683473</td>\n",
              "    </tr>\n",
              "    <tr>\n",
              "      <th>96</th>\n",
              "      <td>96.719525</td>\n",
              "      <td>118.261070</td>\n",
              "      <td>-21.541545</td>\n",
              "    </tr>\n",
              "    <tr>\n",
              "      <th>97</th>\n",
              "      <td>191.563874</td>\n",
              "      <td>181.988316</td>\n",
              "      <td>9.575558</td>\n",
              "    </tr>\n",
              "    <tr>\n",
              "      <th>98</th>\n",
              "      <td>21.512531</td>\n",
              "      <td>3.015834</td>\n",
              "      <td>18.496697</td>\n",
              "    </tr>\n",
              "    <tr>\n",
              "      <th>99</th>\n",
              "      <td>-67.666142</td>\n",
              "      <td>-86.634482</td>\n",
              "      <td>18.968339</td>\n",
              "    </tr>\n",
              "  </tbody>\n",
              "</table>\n",
              "<p>100 rows × 3 columns</p>\n",
              "</div>"
            ],
            "text/plain": [
              "     Predicted      Actual      Error\n",
              "0    61.052694   51.573181   9.479513\n",
              "1   116.539022  135.744467 -19.205445\n",
              "2   -45.354712  -34.665692 -10.689020\n",
              "3   -19.366764    6.805878 -26.172642\n",
              "4   120.974797  134.426874 -13.452077\n",
              "..         ...         ...        ...\n",
              "95  111.587291  106.903818   4.683473\n",
              "96   96.719525  118.261070 -21.541545\n",
              "97  191.563874  181.988316   9.575558\n",
              "98   21.512531    3.015834  18.496697\n",
              "99  -67.666142  -86.634482  18.968339\n",
              "\n",
              "[100 rows x 3 columns]"
            ]
          },
          "execution_count": 50,
          "metadata": {},
          "output_type": "execute_result"
        }
      ],
      "source": [
        "pd.DataFrame({\"Predicted\": predictions, \"Actual\": y, \"Error\": predictions - y})[[\"Predicted\", \"Actual\", \"Error\"]]"
      ]
    },
    {
      "cell_type": "code",
      "execution_count": null,
      "id": "AejdPWhjyuD8",
      "metadata": {
        "id": "AejdPWhjyuD8"
      },
      "outputs": [],
      "source": []
    },
    {
      "cell_type": "code",
      "execution_count": null,
      "id": "82jROeIdyuHI",
      "metadata": {
        "id": "82jROeIdyuHI"
      },
      "outputs": [],
      "source": []
    },
    {
      "cell_type": "markdown",
      "id": "be134445",
      "metadata": {
        "id": "be134445"
      },
      "source": [
        "# Data Selection"
      ]
    },
    {
      "cell_type": "code",
      "execution_count": 24,
      "id": "3964c456",
      "metadata": {},
      "outputs": [],
      "source": [
        "# Connect to needed databases \n",
        "# Connect to zip codes - cleaned database\n",
        "\n",
        "zip_codes_cleaned_query = '''\n",
        "    SELECT *\n",
        "    FROM zip_codes_cleaned\n",
        "'''\n",
        "\n",
        "zip_codes = pd.read_sql_query(\n",
        "    zip_codes_cleaned_query,\n",
        "    con=ENGINE\n",
        ")\n",
        "# Connect to breweries database\n",
        "\n",
        "breweries_query = '''\n",
        "    SELECT *\n",
        "    FROM breweries\n",
        "'''\n",
        "\n",
        "breweries = pd.read_sql_query(\n",
        "    breweries_query,\n",
        "    con=ENGINE\n",
        ")\n",
        "\n",
        "# Connect to outdoor clothing database\n",
        "\n",
        "outdoor_query = '''\n",
        "    SELECT *\n",
        "    FROM outdoor\n",
        "'''\n",
        "\n",
        "outdoor = pd.read_sql_query(\n",
        "    outdoor_query,\n",
        "    con=ENGINE\n",
        ")"
      ]
    },
    {
      "cell_type": "code",
      "execution_count": 25,
      "id": "d2944f43",
      "metadata": {},
      "outputs": [
        {
          "data": {
            "text/html": [
              "<div>\n",
              "<style scoped>\n",
              "    .dataframe tbody tr th:only-of-type {\n",
              "        vertical-align: middle;\n",
              "    }\n",
              "\n",
              "    .dataframe tbody tr th {\n",
              "        vertical-align: top;\n",
              "    }\n",
              "\n",
              "    .dataframe thead th {\n",
              "        text-align: right;\n",
              "    }\n",
              "</style>\n",
              "<table border=\"1\" class=\"dataframe\">\n",
              "  <thead>\n",
              "    <tr style=\"text-align: right;\">\n",
              "      <th></th>\n",
              "      <th>zip_code</th>\n",
              "      <th>city</th>\n",
              "      <th>state</th>\n",
              "      <th>county</th>\n",
              "      <th>latitude</th>\n",
              "      <th>longitude</th>\n",
              "      <th>irs_estimated_population</th>\n",
              "    </tr>\n",
              "  </thead>\n",
              "  <tbody>\n",
              "    <tr>\n",
              "      <th>7324</th>\n",
              "      <td>33185</td>\n",
              "      <td>Miami</td>\n",
              "      <td>FL</td>\n",
              "      <td>Miami-Dade County</td>\n",
              "      <td>25.73</td>\n",
              "      <td>-80.45</td>\n",
              "      <td>27380</td>\n",
              "    </tr>\n",
              "    <tr>\n",
              "      <th>23762</th>\n",
              "      <td>83641</td>\n",
              "      <td>Melba</td>\n",
              "      <td>ID</td>\n",
              "      <td>Canyon County</td>\n",
              "      <td>43.36</td>\n",
              "      <td>-116.55</td>\n",
              "      <td>3300</td>\n",
              "    </tr>\n",
              "    <tr>\n",
              "      <th>19463</th>\n",
              "      <td>68789</td>\n",
              "      <td>Winnetoon</td>\n",
              "      <td>NE</td>\n",
              "      <td>Knox County</td>\n",
              "      <td>42.51</td>\n",
              "      <td>-97.96</td>\n",
              "      <td>183</td>\n",
              "    </tr>\n",
              "    <tr>\n",
              "      <th>23031</th>\n",
              "      <td>80026</td>\n",
              "      <td>Lafayette</td>\n",
              "      <td>CO</td>\n",
              "      <td>Boulder County</td>\n",
              "      <td>39.99</td>\n",
              "      <td>-105.09</td>\n",
              "      <td>29430</td>\n",
              "    </tr>\n",
              "    <tr>\n",
              "      <th>5927</th>\n",
              "      <td>29203</td>\n",
              "      <td>Columbia</td>\n",
              "      <td>SC</td>\n",
              "      <td>Richland County</td>\n",
              "      <td>34.10</td>\n",
              "      <td>-81.04</td>\n",
              "      <td>29930</td>\n",
              "    </tr>\n",
              "    <tr>\n",
              "      <th>19582</th>\n",
              "      <td>68981</td>\n",
              "      <td>Upland</td>\n",
              "      <td>NE</td>\n",
              "      <td>Franklin County</td>\n",
              "      <td>40.31</td>\n",
              "      <td>-98.90</td>\n",
              "      <td>300</td>\n",
              "    </tr>\n",
              "    <tr>\n",
              "      <th>815</th>\n",
              "      <td>12748</td>\n",
              "      <td>Jeffersonville</td>\n",
              "      <td>NY</td>\n",
              "      <td>Sullivan County</td>\n",
              "      <td>41.78</td>\n",
              "      <td>-74.93</td>\n",
              "      <td>1590</td>\n",
              "    </tr>\n",
              "    <tr>\n",
              "      <th>15794</th>\n",
              "      <td>58577</td>\n",
              "      <td>Washburn</td>\n",
              "      <td>ND</td>\n",
              "      <td>McLean County</td>\n",
              "      <td>47.29</td>\n",
              "      <td>-101.02</td>\n",
              "      <td>1640</td>\n",
              "    </tr>\n",
              "    <tr>\n",
              "      <th>15771</th>\n",
              "      <td>58542</td>\n",
              "      <td>Hague</td>\n",
              "      <td>ND</td>\n",
              "      <td>Emmons County</td>\n",
              "      <td>46.02</td>\n",
              "      <td>-99.99</td>\n",
              "      <td>210</td>\n",
              "    </tr>\n",
              "    <tr>\n",
              "      <th>8159</th>\n",
              "      <td>36255</td>\n",
              "      <td>Cragford</td>\n",
              "      <td>AL</td>\n",
              "      <td>Clay County</td>\n",
              "      <td>33.21</td>\n",
              "      <td>-85.69</td>\n",
              "      <td>730</td>\n",
              "    </tr>\n",
              "  </tbody>\n",
              "</table>\n",
              "</div>"
            ],
            "text/plain": [
              "       zip_code            city state             county  latitude  longitude  \\\n",
              "7324      33185           Miami    FL  Miami-Dade County     25.73     -80.45   \n",
              "23762     83641           Melba    ID      Canyon County     43.36    -116.55   \n",
              "19463     68789       Winnetoon    NE        Knox County     42.51     -97.96   \n",
              "23031     80026       Lafayette    CO     Boulder County     39.99    -105.09   \n",
              "5927      29203        Columbia    SC    Richland County     34.10     -81.04   \n",
              "19582     68981          Upland    NE    Franklin County     40.31     -98.90   \n",
              "815       12748  Jeffersonville    NY    Sullivan County     41.78     -74.93   \n",
              "15794     58577        Washburn    ND      McLean County     47.29    -101.02   \n",
              "15771     58542           Hague    ND      Emmons County     46.02     -99.99   \n",
              "8159      36255        Cragford    AL        Clay County     33.21     -85.69   \n",
              "\n",
              "       irs_estimated_population  \n",
              "7324                      27380  \n",
              "23762                      3300  \n",
              "19463                       183  \n",
              "23031                     29430  \n",
              "5927                      29930  \n",
              "19582                       300  \n",
              "815                        1590  \n",
              "15794                      1640  \n",
              "15771                       210  \n",
              "8159                        730  "
            ]
          },
          "execution_count": 25,
          "metadata": {},
          "output_type": "execute_result"
        }
      ],
      "source": [
        "zip_codes.sample(10)"
      ]
    },
    {
      "cell_type": "code",
      "execution_count": 22,
      "id": "64e21612",
      "metadata": {
        "id": "64e21612"
      },
      "outputs": [],
      "source": [
        "# Remove yelp id and closed columns from outdoor/brewery dataframe\n",
        "\n",
        "breweries_df = breweries.drop(['yelp_id', 'is_closed'], axis=1)\n",
        "outdoor_df = outdoor.drop(['yelp_id', 'is_closed'], axis=1)"
      ]
    },
    {
      "cell_type": "code",
      "execution_count": 38,
      "id": "2a7e0fe9",
      "metadata": {},
      "outputs": [],
      "source": [
        "breweries_df=breweries_df.rename(columns={\"name\": \"brewery\", \"rating\": \"brewery_rating\"})"
      ]
    },
    {
      "cell_type": "code",
      "execution_count": 39,
      "id": "6af9835f",
      "metadata": {},
      "outputs": [
        {
          "data": {
            "text/html": [
              "<div>\n",
              "<style scoped>\n",
              "    .dataframe tbody tr th:only-of-type {\n",
              "        vertical-align: middle;\n",
              "    }\n",
              "\n",
              "    .dataframe tbody tr th {\n",
              "        vertical-align: top;\n",
              "    }\n",
              "\n",
              "    .dataframe thead th {\n",
              "        text-align: right;\n",
              "    }\n",
              "</style>\n",
              "<table border=\"1\" class=\"dataframe\">\n",
              "  <thead>\n",
              "    <tr style=\"text-align: right;\">\n",
              "      <th></th>\n",
              "      <th>brewery</th>\n",
              "      <th>lat</th>\n",
              "      <th>lng</th>\n",
              "      <th>city</th>\n",
              "      <th>business_type</th>\n",
              "      <th>brewery_rating</th>\n",
              "      <th>zip_code</th>\n",
              "      <th>state</th>\n",
              "    </tr>\n",
              "  </thead>\n",
              "  <tbody>\n",
              "    <tr>\n",
              "      <th>130</th>\n",
              "      <td>One Trick Pony Brewery</td>\n",
              "      <td>41.571930</td>\n",
              "      <td>-87.570969</td>\n",
              "      <td>Lansing</td>\n",
              "      <td>breweries</td>\n",
              "      <td>4.5</td>\n",
              "      <td>60438</td>\n",
              "      <td>IL</td>\n",
              "    </tr>\n",
              "    <tr>\n",
              "      <th>252</th>\n",
              "      <td>Beaver Street Brewery &amp; Whistle Stop Cafe</td>\n",
              "      <td>35.196550</td>\n",
              "      <td>-111.651440</td>\n",
              "      <td>Flagstaff</td>\n",
              "      <td>brewpubs</td>\n",
              "      <td>4.0</td>\n",
              "      <td>86001</td>\n",
              "      <td>AZ</td>\n",
              "    </tr>\n",
              "    <tr>\n",
              "      <th>414</th>\n",
              "      <td>The Laird Arcade Brewery</td>\n",
              "      <td>41.114260</td>\n",
              "      <td>-83.176680</td>\n",
              "      <td>Tiffin</td>\n",
              "      <td>breweries</td>\n",
              "      <td>3.5</td>\n",
              "      <td>44883</td>\n",
              "      <td>OH</td>\n",
              "    </tr>\n",
              "    <tr>\n",
              "      <th>3</th>\n",
              "      <td>Parkway Market &amp; Spirits</td>\n",
              "      <td>33.729940</td>\n",
              "      <td>-116.198760</td>\n",
              "      <td>Indio</td>\n",
              "      <td>beer_and_wine</td>\n",
              "      <td>4.5</td>\n",
              "      <td>92203</td>\n",
              "      <td>CA</td>\n",
              "    </tr>\n",
              "    <tr>\n",
              "      <th>393</th>\n",
              "      <td>Brew Garden</td>\n",
              "      <td>41.307922</td>\n",
              "      <td>-81.814339</td>\n",
              "      <td>Strongsville</td>\n",
              "      <td>tradamerican</td>\n",
              "      <td>2.5</td>\n",
              "      <td>44136</td>\n",
              "      <td>OH</td>\n",
              "    </tr>\n",
              "    <tr>\n",
              "      <th>17</th>\n",
              "      <td>Three Tigers Brewing Company</td>\n",
              "      <td>40.068667</td>\n",
              "      <td>-82.518186</td>\n",
              "      <td>Granville</td>\n",
              "      <td>vietnamese</td>\n",
              "      <td>4.0</td>\n",
              "      <td>43023</td>\n",
              "      <td>OH</td>\n",
              "    </tr>\n",
              "    <tr>\n",
              "      <th>155</th>\n",
              "      <td>Gate City Brewing Company</td>\n",
              "      <td>34.023693</td>\n",
              "      <td>-84.362181</td>\n",
              "      <td>Roswell</td>\n",
              "      <td>breweries</td>\n",
              "      <td>4.0</td>\n",
              "      <td>30075</td>\n",
              "      <td>GA</td>\n",
              "    </tr>\n",
              "    <tr>\n",
              "      <th>401</th>\n",
              "      <td>Findlay Brewing Company</td>\n",
              "      <td>41.037530</td>\n",
              "      <td>-83.647910</td>\n",
              "      <td>Findlay</td>\n",
              "      <td>breweries</td>\n",
              "      <td>4.0</td>\n",
              "      <td>45840</td>\n",
              "      <td>OH</td>\n",
              "    </tr>\n",
              "    <tr>\n",
              "      <th>282</th>\n",
              "      <td>Culture Brewing</td>\n",
              "      <td>33.885511</td>\n",
              "      <td>-118.409133</td>\n",
              "      <td>Manhattan Beach</td>\n",
              "      <td>breweries</td>\n",
              "      <td>4.0</td>\n",
              "      <td>90266</td>\n",
              "      <td>CA</td>\n",
              "    </tr>\n",
              "    <tr>\n",
              "      <th>71</th>\n",
              "      <td>Stormhouse Brewing</td>\n",
              "      <td>26.834700</td>\n",
              "      <td>-80.060410</td>\n",
              "      <td>North Palm Beach</td>\n",
              "      <td>brewpubs</td>\n",
              "      <td>4.0</td>\n",
              "      <td>33408</td>\n",
              "      <td>FL</td>\n",
              "    </tr>\n",
              "  </tbody>\n",
              "</table>\n",
              "</div>"
            ],
            "text/plain": [
              "                                       brewery        lat         lng  \\\n",
              "130                     One Trick Pony Brewery  41.571930  -87.570969   \n",
              "252  Beaver Street Brewery & Whistle Stop Cafe  35.196550 -111.651440   \n",
              "414                   The Laird Arcade Brewery  41.114260  -83.176680   \n",
              "3                     Parkway Market & Spirits  33.729940 -116.198760   \n",
              "393                                Brew Garden  41.307922  -81.814339   \n",
              "17                Three Tigers Brewing Company  40.068667  -82.518186   \n",
              "155                  Gate City Brewing Company  34.023693  -84.362181   \n",
              "401                    Findlay Brewing Company  41.037530  -83.647910   \n",
              "282                            Culture Brewing  33.885511 -118.409133   \n",
              "71                          Stormhouse Brewing  26.834700  -80.060410   \n",
              "\n",
              "                 city  business_type  brewery_rating zip_code state  \n",
              "130           Lansing      breweries             4.5    60438    IL  \n",
              "252         Flagstaff       brewpubs             4.0    86001    AZ  \n",
              "414            Tiffin      breweries             3.5    44883    OH  \n",
              "3               Indio  beer_and_wine             4.5    92203    CA  \n",
              "393      Strongsville   tradamerican             2.5    44136    OH  \n",
              "17          Granville     vietnamese             4.0    43023    OH  \n",
              "155           Roswell      breweries             4.0    30075    GA  \n",
              "401           Findlay      breweries             4.0    45840    OH  \n",
              "282   Manhattan Beach      breweries             4.0    90266    CA  \n",
              "71   North Palm Beach       brewpubs             4.0    33408    FL  "
            ]
          },
          "execution_count": 39,
          "metadata": {},
          "output_type": "execute_result"
        }
      ],
      "source": [
        "breweries_df.sample(10)"
      ]
    },
    {
      "cell_type": "code",
      "execution_count": 36,
      "id": "35200bd2",
      "metadata": {},
      "outputs": [],
      "source": [
        "outdoor_df=outdoor_df.rename(columns={\"name\": \"outdoor_store\", \"rating\": \"outdoor_rating\"})"
      ]
    },
    {
      "cell_type": "code",
      "execution_count": 37,
      "id": "495526dc",
      "metadata": {},
      "outputs": [
        {
          "data": {
            "text/html": [
              "<div>\n",
              "<style scoped>\n",
              "    .dataframe tbody tr th:only-of-type {\n",
              "        vertical-align: middle;\n",
              "    }\n",
              "\n",
              "    .dataframe tbody tr th {\n",
              "        vertical-align: top;\n",
              "    }\n",
              "\n",
              "    .dataframe thead th {\n",
              "        text-align: right;\n",
              "    }\n",
              "</style>\n",
              "<table border=\"1\" class=\"dataframe\">\n",
              "  <thead>\n",
              "    <tr style=\"text-align: right;\">\n",
              "      <th></th>\n",
              "      <th>outdoor_store</th>\n",
              "      <th>lat</th>\n",
              "      <th>lng</th>\n",
              "      <th>city</th>\n",
              "      <th>business_type</th>\n",
              "      <th>outdoor_rating</th>\n",
              "      <th>zip_code</th>\n",
              "      <th>state</th>\n",
              "    </tr>\n",
              "  </thead>\n",
              "  <tbody>\n",
              "    <tr>\n",
              "      <th>197</th>\n",
              "      <td>Sisu</td>\n",
              "      <td>33.913504</td>\n",
              "      <td>-117.931691</td>\n",
              "      <td>La Habra</td>\n",
              "      <td>menscloth</td>\n",
              "      <td>5.0</td>\n",
              "      <td>90631</td>\n",
              "      <td>CA</td>\n",
              "    </tr>\n",
              "    <tr>\n",
              "      <th>143</th>\n",
              "      <td>DICK'S Sporting Goods</td>\n",
              "      <td>33.953100</td>\n",
              "      <td>-84.231900</td>\n",
              "      <td>Norcross</td>\n",
              "      <td>sportswear</td>\n",
              "      <td>2.5</td>\n",
              "      <td>30092</td>\n",
              "      <td>GA</td>\n",
              "    </tr>\n",
              "    <tr>\n",
              "      <th>342</th>\n",
              "      <td>Appalachian Outfitters</td>\n",
              "      <td>41.219680</td>\n",
              "      <td>-81.492830</td>\n",
              "      <td>Peninsula</td>\n",
              "      <td>outdoorgear</td>\n",
              "      <td>3.0</td>\n",
              "      <td>44264</td>\n",
              "      <td>OH</td>\n",
              "    </tr>\n",
              "    <tr>\n",
              "      <th>253</th>\n",
              "      <td>Pilot Outfitters</td>\n",
              "      <td>34.014116</td>\n",
              "      <td>-118.449901</td>\n",
              "      <td>Santa Monica</td>\n",
              "      <td>outdoorgear</td>\n",
              "      <td>5.0</td>\n",
              "      <td>90405</td>\n",
              "      <td>CA</td>\n",
              "    </tr>\n",
              "    <tr>\n",
              "      <th>331</th>\n",
              "      <td>Northwest Outdoor Center</td>\n",
              "      <td>47.638281</td>\n",
              "      <td>-122.340328</td>\n",
              "      <td>Seattle</td>\n",
              "      <td>boating</td>\n",
              "      <td>4.5</td>\n",
              "      <td>98109</td>\n",
              "      <td>WA</td>\n",
              "    </tr>\n",
              "    <tr>\n",
              "      <th>339</th>\n",
              "      <td>Geiger's</td>\n",
              "      <td>41.485300</td>\n",
              "      <td>-81.798740</td>\n",
              "      <td>Lakewood</td>\n",
              "      <td>sportgoods</td>\n",
              "      <td>4.5</td>\n",
              "      <td>44107</td>\n",
              "      <td>OH</td>\n",
              "    </tr>\n",
              "    <tr>\n",
              "      <th>281</th>\n",
              "      <td>Big 5 Sporting Goods</td>\n",
              "      <td>34.470000</td>\n",
              "      <td>-117.247020</td>\n",
              "      <td>Apple Valley</td>\n",
              "      <td>huntingfishingsupplies</td>\n",
              "      <td>3.0</td>\n",
              "      <td>92308</td>\n",
              "      <td>CA</td>\n",
              "    </tr>\n",
              "    <tr>\n",
              "      <th>171</th>\n",
              "      <td>Sonoma Outfitters</td>\n",
              "      <td>38.445305</td>\n",
              "      <td>-122.686475</td>\n",
              "      <td>Santa Rosa</td>\n",
              "      <td>sportswear</td>\n",
              "      <td>3.0</td>\n",
              "      <td>95405</td>\n",
              "      <td>CA</td>\n",
              "    </tr>\n",
              "    <tr>\n",
              "      <th>67</th>\n",
              "      <td>Ocean Magic Surf Shop</td>\n",
              "      <td>26.932461</td>\n",
              "      <td>-80.078325</td>\n",
              "      <td>Jupiter</td>\n",
              "      <td>sportswear</td>\n",
              "      <td>4.0</td>\n",
              "      <td>33477</td>\n",
              "      <td>FL</td>\n",
              "    </tr>\n",
              "    <tr>\n",
              "      <th>4</th>\n",
              "      <td>The Climbing Life Guides</td>\n",
              "      <td>34.111679</td>\n",
              "      <td>-116.330658</td>\n",
              "      <td>Joshua Tree</td>\n",
              "      <td>climbing</td>\n",
              "      <td>5.0</td>\n",
              "      <td>92252</td>\n",
              "      <td>CA</td>\n",
              "    </tr>\n",
              "  </tbody>\n",
              "</table>\n",
              "</div>"
            ],
            "text/plain": [
              "                outdoor_store        lat         lng          city  \\\n",
              "197                      Sisu  33.913504 -117.931691      La Habra   \n",
              "143     DICK'S Sporting Goods  33.953100  -84.231900      Norcross   \n",
              "342    Appalachian Outfitters  41.219680  -81.492830     Peninsula   \n",
              "253          Pilot Outfitters  34.014116 -118.449901  Santa Monica   \n",
              "331  Northwest Outdoor Center  47.638281 -122.340328       Seattle   \n",
              "339                  Geiger's  41.485300  -81.798740      Lakewood   \n",
              "281      Big 5 Sporting Goods  34.470000 -117.247020  Apple Valley   \n",
              "171         Sonoma Outfitters  38.445305 -122.686475    Santa Rosa   \n",
              "67      Ocean Magic Surf Shop  26.932461  -80.078325       Jupiter   \n",
              "4    The Climbing Life Guides  34.111679 -116.330658   Joshua Tree   \n",
              "\n",
              "              business_type  outdoor_rating zip_code state  \n",
              "197               menscloth             5.0    90631    CA  \n",
              "143              sportswear             2.5    30092    GA  \n",
              "342             outdoorgear             3.0    44264    OH  \n",
              "253             outdoorgear             5.0    90405    CA  \n",
              "331                 boating             4.5    98109    WA  \n",
              "339              sportgoods             4.5    44107    OH  \n",
              "281  huntingfishingsupplies             3.0    92308    CA  \n",
              "171              sportswear             3.0    95405    CA  \n",
              "67               sportswear             4.0    33477    FL  \n",
              "4                  climbing             5.0    92252    CA  "
            ]
          },
          "execution_count": 37,
          "metadata": {},
          "output_type": "execute_result"
        }
      ],
      "source": [
        "outdoor_df.sample(10)"
      ]
    },
    {
      "cell_type": "code",
      "execution_count": null,
      "id": "a2e8d183",
      "metadata": {
        "id": "a2e8d183"
      },
      "outputs": [],
      "source": [
        "# Group dataframe based on number of breweries and location"
      ]
    },
    {
      "cell_type": "code",
      "execution_count": null,
      "id": "ec2fe383",
      "metadata": {
        "id": "ec2fe383"
      },
      "outputs": [],
      "source": [
        "# Merge dataframe with demographic infro dataframe grouped by location\n",
        "brewery_clothing_df = brewery_df.merge(clothing_df, )"
      ]
    },
    {
      "cell_type": "markdown",
      "id": "24e04b58",
      "metadata": {
        "id": "24e04b58"
      },
      "source": [
        "# Data Processing"
      ]
    },
    {
      "cell_type": "code",
      "execution_count": null,
      "id": "ca26bf4a",
      "metadata": {
        "id": "ca26bf4a"
      },
      "outputs": [],
      "source": [
        "# Transform String Columns(Onehotencoder)"
      ]
    },
    {
      "cell_type": "code",
      "execution_count": null,
      "id": "8c829479",
      "metadata": {
        "id": "8c829479"
      },
      "outputs": [],
      "source": [
        "# Scale data if needed (StandardScaler)\n",
        "from sklearn.preprocessing import StandardScaler\n",
        "data_scaler = StandardScaler()"
      ]
    },
    {
      "cell_type": "code",
      "execution_count": null,
      "id": "fef37795",
      "metadata": {
        "id": "fef37795"
      },
      "outputs": [],
      "source": [
        "brewery_scaled = data_scaler.fit(encoded_df)\n",
        "\n",
        "brewery_scaled[:5]"
      ]
    },
    {
      "cell_type": "markdown",
      "id": "4fa0bb6f",
      "metadata": {
        "id": "4fa0bb6f"
      },
      "source": [
        "# Data Transformation"
      ]
    },
    {
      "cell_type": "code",
      "execution_count": null,
      "id": "f7d1e2b6",
      "metadata": {
        "id": "f7d1e2b6"
      },
      "outputs": [],
      "source": [
        "# Save Cleaned Data to csv"
      ]
    },
    {
      "cell_type": "code",
      "execution_count": null,
      "id": "16f3d3f3",
      "metadata": {
        "id": "16f3d3f3"
      },
      "outputs": [],
      "source": [
        "# Export cleaned data csv to sql table"
      ]
    },
    {
      "cell_type": "code",
      "execution_count": null,
      "id": "d6e6f5cf",
      "metadata": {
        "id": "d6e6f5cf"
      },
      "outputs": [],
      "source": [
        "# Set X and y \n",
        "# X = demographic info + number of Breweries per location(zipcode tabulation area?)\n",
        "# y = number of stores"
      ]
    },
    {
      "cell_type": "code",
      "execution_count": null,
      "id": "2fcda03b",
      "metadata": {
        "id": "2fcda03b"
      },
      "outputs": [],
      "source": [
        "# traintestsplit\n",
        "X_train, X_test, y_train, y_test = train_test_split(X, y, random_state=24)"
      ]
    },
    {
      "cell_type": "code",
      "execution_count": null,
      "id": "0bed1191",
      "metadata": {
        "id": "0bed1191"
      },
      "outputs": [],
      "source": [
        "# Create an instance of the model(LinearRegression)\n",
        "model = LinearRegression()"
      ]
    },
    {
      "cell_type": "code",
      "execution_count": null,
      "id": "435e9843",
      "metadata": {
        "id": "435e9843"
      },
      "outputs": [],
      "source": [
        "# Train the model with the dataset \n",
        "model.fit(X_train,y_train)"
      ]
    },
    {
      "cell_type": "code",
      "execution_count": null,
      "id": "a4590e9b",
      "metadata": {
        "id": "a4590e9b"
      },
      "outputs": [],
      "source": [
        "# Create predictions\n",
        "predictions = model.predict(X_test)\n",
        "\n",
        "print(predictions.shape)"
      ]
    },
    {
      "cell_type": "code",
      "execution_count": null,
      "id": "ac7817bd",
      "metadata": {
        "id": "ac7817bd"
      },
      "outputs": [],
      "source": [
        "# Validate the model\n",
        "# accuracy_score\n",
        "acc_score = accuracy_score(y_test, predictions)\n",
        "\n",
        "# confusion_matrix/classification_report\n",
        "cm = confusion_matrix(y_test, predictions)\n",
        "\n",
        "cm_df = pd.DataFrame(\n",
        "    cm, index=[\"Actual 0\", \"Actual 1\"], columns=[\"Predicted 0\", \"Predicted 1\"])"
      ]
    },
    {
      "cell_type": "code",
      "execution_count": null,
      "id": "71279c54",
      "metadata": {
        "id": "71279c54"
      },
      "outputs": [],
      "source": [
        "print(\"Confusion Matrix\")\n",
        "display(cm_df)\n",
        "print(f\"Accuracy Score : {acc_score}\")\n",
        "print(\"Classification Report\")\n",
        "print(classification_report(y_test, predictions))"
      ]
    },
    {
      "cell_type": "code",
      "execution_count": null,
      "id": "7ebcca02",
      "metadata": {
        "id": "7ebcca02"
      },
      "outputs": [],
      "source": [
        "# Find impact of different variables"
      ]
    }
  ],
  "metadata": {
    "colab": {
      "collapsed_sections": [],
      "name": "machine_learning_mockup.ipynb",
      "provenance": []
    },
    "kernelspec": {
      "display_name": "mlenv",
      "language": "python",
      "name": "mlenv"
    },
    "language_info": {
      "codemirror_mode": {
        "name": "ipython",
        "version": 3
      },
      "file_extension": ".py",
      "mimetype": "text/x-python",
      "name": "python",
      "nbconvert_exporter": "python",
      "pygments_lexer": "ipython3",
      "version": "3.7.13"
    }
  },
  "nbformat": 4,
  "nbformat_minor": 5
}
