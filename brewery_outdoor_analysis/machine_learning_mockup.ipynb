{
 "cells": [
  {
   "cell_type": "markdown",
   "id": "ak5MPrinVsLo",
   "metadata": {
    "id": "ak5MPrinVsLo"
   },
   "source": [
    "\n",
    "# Brewery Analysis: Machine Learning\n",
    "\n",
    "\n",
    "\n",
    "---\n",
    "\n",
    "\n",
    "\n",
    "*  Data is preprocessed and cleaned by removing unneeded columns, merging zip code/cities datasets, and limiting dataset to the top 1,000 most populated cities.\n",
    "*  To obtain the best possible predictive results, preliminary features should be explored, engineered, and carefully selected. Possible preliminary features for this model could be average income per zipcode, income per capita, and clothing stores per brewery count.\n",
    "*  The importance of correlation between breweries and outdoor clothing stores will drive which features will be engineered and selected, ultimately answering the hypthesis.\n",
    "*  Data was split into training and testing sets using train_test_split and a random state of 24. This will assist in evaluating the performance of the model in relation to the dataset.\n",
    "*  A linear regression model was chosen to best illustrate correlation between brewery location and outdoor clothing store location. Is there a strong relationship between the two? The benefits of using a linear regression is readability and abiility to answer basic questions. Limitations of a linear regression model will be sensitivity to outliers. With more time we would like to also set up a cluster model.\n",
    "\n",
    "\n",
    "\n"
   ]
  },
  {
   "cell_type": "code",
   "execution_count": 1,
   "id": "b76fee5c",
   "metadata": {
    "colab": {
     "base_uri": "https://localhost:8080/",
     "height": 339
    },
    "id": "b76fee5c",
    "outputId": "592736c6-e75c-4dc7-e424-8771ab7b0627"
   },
   "outputs": [],
   "source": [
    "# Import dependencies\n",
    "\n",
    "import pandas as pd\n",
    "from pathlib import Path\n",
    "import matplotlib.pyplot as plt\n",
    "import numpy as np\n",
    "\n",
    "from sklearn.linear_model import LinearRegression\n",
    "from sklearn.datasets import make_regression\n",
    "from sklearn.model_selection import train_test_split\n",
    "from sklearn import preprocessing\n",
    "from sklearn.preprocessing import OneHotEncoder\n",
    "\n",
    "from database_connection import ENGINE"
   ]
  },
  {
   "cell_type": "markdown",
   "id": "be134445",
   "metadata": {
    "id": "be134445"
   },
   "source": [
    "# Data Selection"
   ]
  },
  {
   "cell_type": "code",
   "execution_count": 16,
   "id": "7c73aced",
   "metadata": {},
   "outputs": [
    {
     "data": {
      "text/html": [
       "<div>\n",
       "<style scoped>\n",
       "    .dataframe tbody tr th:only-of-type {\n",
       "        vertical-align: middle;\n",
       "    }\n",
       "\n",
       "    .dataframe tbody tr th {\n",
       "        vertical-align: top;\n",
       "    }\n",
       "\n",
       "    .dataframe thead th {\n",
       "        text-align: right;\n",
       "    }\n",
       "</style>\n",
       "<table border=\"1\" class=\"dataframe\">\n",
       "  <thead>\n",
       "    <tr style=\"text-align: right;\">\n",
       "      <th></th>\n",
       "      <th>city</th>\n",
       "      <th>state</th>\n",
       "      <th>mean_income</th>\n",
       "      <th>min_income</th>\n",
       "      <th>max_income</th>\n",
       "      <th>median_income</th>\n",
       "      <th>first_quartile_income</th>\n",
       "      <th>third_quartile_income</th>\n",
       "      <th>num_breweries</th>\n",
       "      <th>num_outdoor_stores</th>\n",
       "      <th>population</th>\n",
       "      <th>ts_updated</th>\n",
       "    </tr>\n",
       "  </thead>\n",
       "  <tbody>\n",
       "    <tr>\n",
       "      <th>514</th>\n",
       "      <td>Loveland</td>\n",
       "      <td>OH</td>\n",
       "      <td>478127</td>\n",
       "      <td>78057</td>\n",
       "      <td>1311344</td>\n",
       "      <td>237236</td>\n",
       "      <td>196246</td>\n",
       "      <td>676037</td>\n",
       "      <td>0</td>\n",
       "      <td>0</td>\n",
       "      <td>53170</td>\n",
       "      <td>2022-08-22 05:28:06.714394+00:00</td>\n",
       "    </tr>\n",
       "    <tr>\n",
       "      <th>58</th>\n",
       "      <td>Beaumont</td>\n",
       "      <td>TX</td>\n",
       "      <td>79164</td>\n",
       "      <td>6400</td>\n",
       "      <td>714831</td>\n",
       "      <td>50872</td>\n",
       "      <td>28334</td>\n",
       "      <td>85776</td>\n",
       "      <td>0</td>\n",
       "      <td>0</td>\n",
       "      <td>105460</td>\n",
       "      <td>2022-08-22 05:28:06.714394+00:00</td>\n",
       "    </tr>\n",
       "    <tr>\n",
       "      <th>757</th>\n",
       "      <td>Rochester</td>\n",
       "      <td>MI</td>\n",
       "      <td>335934</td>\n",
       "      <td>31253</td>\n",
       "      <td>1588386</td>\n",
       "      <td>140185</td>\n",
       "      <td>70724</td>\n",
       "      <td>544017</td>\n",
       "      <td>1</td>\n",
       "      <td>19</td>\n",
       "      <td>96760</td>\n",
       "      <td>2022-08-22 05:28:06.714394+00:00</td>\n",
       "    </tr>\n",
       "    <tr>\n",
       "      <th>579</th>\n",
       "      <td>Mobile</td>\n",
       "      <td>AL</td>\n",
       "      <td>68070</td>\n",
       "      <td>2075</td>\n",
       "      <td>610010</td>\n",
       "      <td>47994</td>\n",
       "      <td>17118</td>\n",
       "      <td>82215</td>\n",
       "      <td>0</td>\n",
       "      <td>0</td>\n",
       "      <td>212623</td>\n",
       "      <td>2022-08-22 05:28:06.714394+00:00</td>\n",
       "    </tr>\n",
       "    <tr>\n",
       "      <th>41</th>\n",
       "      <td>Augusta</td>\n",
       "      <td>GA</td>\n",
       "      <td>133955</td>\n",
       "      <td>8020</td>\n",
       "      <td>532445</td>\n",
       "      <td>89993</td>\n",
       "      <td>26715</td>\n",
       "      <td>196782</td>\n",
       "      <td>0</td>\n",
       "      <td>0</td>\n",
       "      <td>158640</td>\n",
       "      <td>2022-08-22 05:28:06.714394+00:00</td>\n",
       "    </tr>\n",
       "    <tr>\n",
       "      <th>829</th>\n",
       "      <td>Scottsdale</td>\n",
       "      <td>AZ</td>\n",
       "      <td>365571</td>\n",
       "      <td>10088</td>\n",
       "      <td>4714919</td>\n",
       "      <td>137526</td>\n",
       "      <td>45211</td>\n",
       "      <td>245785</td>\n",
       "      <td>0</td>\n",
       "      <td>0</td>\n",
       "      <td>252530</td>\n",
       "      <td>2022-08-22 05:28:06.714394+00:00</td>\n",
       "    </tr>\n",
       "    <tr>\n",
       "      <th>155</th>\n",
       "      <td>Charlottesville</td>\n",
       "      <td>VA</td>\n",
       "      <td>283621</td>\n",
       "      <td>24730</td>\n",
       "      <td>1227425</td>\n",
       "      <td>130774</td>\n",
       "      <td>86172</td>\n",
       "      <td>313524</td>\n",
       "      <td>0</td>\n",
       "      <td>0</td>\n",
       "      <td>95939</td>\n",
       "      <td>2022-08-22 05:28:06.714394+00:00</td>\n",
       "    </tr>\n",
       "    <tr>\n",
       "      <th>983</th>\n",
       "      <td>Winter Park</td>\n",
       "      <td>FL</td>\n",
       "      <td>404510</td>\n",
       "      <td>37760</td>\n",
       "      <td>2712811</td>\n",
       "      <td>190176</td>\n",
       "      <td>87195</td>\n",
       "      <td>292738</td>\n",
       "      <td>0</td>\n",
       "      <td>0</td>\n",
       "      <td>62100</td>\n",
       "      <td>2022-08-22 05:28:06.714394+00:00</td>\n",
       "    </tr>\n",
       "    <tr>\n",
       "      <th>115</th>\n",
       "      <td>Buford</td>\n",
       "      <td>GA</td>\n",
       "      <td>293165</td>\n",
       "      <td>95180</td>\n",
       "      <td>583840</td>\n",
       "      <td>205004</td>\n",
       "      <td>196436</td>\n",
       "      <td>456388</td>\n",
       "      <td>0</td>\n",
       "      <td>0</td>\n",
       "      <td>99110</td>\n",
       "      <td>2022-08-22 05:28:06.714394+00:00</td>\n",
       "    </tr>\n",
       "    <tr>\n",
       "      <th>803</th>\n",
       "      <td>San Francisco</td>\n",
       "      <td>CA</td>\n",
       "      <td>497790</td>\n",
       "      <td>2354</td>\n",
       "      <td>4551004</td>\n",
       "      <td>147734</td>\n",
       "      <td>50580</td>\n",
       "      <td>405965</td>\n",
       "      <td>0</td>\n",
       "      <td>0</td>\n",
       "      <td>733090</td>\n",
       "      <td>2022-08-22 05:28:06.714394+00:00</td>\n",
       "    </tr>\n",
       "  </tbody>\n",
       "</table>\n",
       "</div>"
      ],
      "text/plain": [
       "                city state  mean_income  min_income  max_income  \\\n",
       "514         Loveland    OH       478127       78057     1311344   \n",
       "58          Beaumont    TX        79164        6400      714831   \n",
       "757        Rochester    MI       335934       31253     1588386   \n",
       "579           Mobile    AL        68070        2075      610010   \n",
       "41           Augusta    GA       133955        8020      532445   \n",
       "829       Scottsdale    AZ       365571       10088     4714919   \n",
       "155  Charlottesville    VA       283621       24730     1227425   \n",
       "983      Winter Park    FL       404510       37760     2712811   \n",
       "115           Buford    GA       293165       95180      583840   \n",
       "803    San Francisco    CA       497790        2354     4551004   \n",
       "\n",
       "     median_income  first_quartile_income  third_quartile_income  \\\n",
       "514         237236                 196246                 676037   \n",
       "58           50872                  28334                  85776   \n",
       "757         140185                  70724                 544017   \n",
       "579          47994                  17118                  82215   \n",
       "41           89993                  26715                 196782   \n",
       "829         137526                  45211                 245785   \n",
       "155         130774                  86172                 313524   \n",
       "983         190176                  87195                 292738   \n",
       "115         205004                 196436                 456388   \n",
       "803         147734                  50580                 405965   \n",
       "\n",
       "     num_breweries  num_outdoor_stores  population  \\\n",
       "514              0                   0       53170   \n",
       "58               0                   0      105460   \n",
       "757              1                  19       96760   \n",
       "579              0                   0      212623   \n",
       "41               0                   0      158640   \n",
       "829              0                   0      252530   \n",
       "155              0                   0       95939   \n",
       "983              0                   0       62100   \n",
       "115              0                   0       99110   \n",
       "803              0                   0      733090   \n",
       "\n",
       "                          ts_updated  \n",
       "514 2022-08-22 05:28:06.714394+00:00  \n",
       "58  2022-08-22 05:28:06.714394+00:00  \n",
       "757 2022-08-22 05:28:06.714394+00:00  \n",
       "579 2022-08-22 05:28:06.714394+00:00  \n",
       "41  2022-08-22 05:28:06.714394+00:00  \n",
       "829 2022-08-22 05:28:06.714394+00:00  \n",
       "155 2022-08-22 05:28:06.714394+00:00  \n",
       "983 2022-08-22 05:28:06.714394+00:00  \n",
       "115 2022-08-22 05:28:06.714394+00:00  \n",
       "803 2022-08-22 05:28:06.714394+00:00  "
      ]
     },
     "execution_count": 16,
     "metadata": {},
     "output_type": "execute_result"
    }
   ],
   "source": [
    "# Connect to city_summary database\n",
    "city_summary = '''\n",
    "    SELECT *\n",
    "    FROM city_summary\n",
    "'''\n",
    "\n",
    "city_summary_df = pd.read_sql_query(\n",
    "    city_summary,\n",
    "    con=ENGINE\n",
    ")\n",
    "\n",
    "city_summary_df.sample(10)"
   ]
  },
  {
   "cell_type": "markdown",
   "id": "24e04b58",
   "metadata": {
    "id": "24e04b58"
   },
   "source": [
    "# Data Processing"
   ]
  },
  {
   "cell_type": "code",
   "execution_count": 18,
   "id": "ff0b9022",
   "metadata": {},
   "outputs": [
    {
     "name": "stdout",
     "output_type": "stream",
     "text": [
      "(25, 1)\n",
      "(25, 1)\n"
     ]
    }
   ],
   "source": [
    "# Set X and y for linear regression model\n",
    "X = city_summary_df.num_breweries.values.reshape(-1,1)\n",
    "y = city_summary_df.num_outdoor_stores.values.reshape(-1,1)\n",
    "print(X.shape)\n",
    "print(y.shape)"
   ]
  },
  {
   "cell_type": "markdown",
   "id": "4fa0bb6f",
   "metadata": {
    "id": "4fa0bb6f"
   },
   "source": [
    "# Data Transformation"
   ]
  },
  {
   "cell_type": "code",
   "execution_count": 19,
   "id": "666858d7",
   "metadata": {},
   "outputs": [
    {
     "data": {
      "image/png": "[encoded data removed]",
      "text/plain": [
       "<Figure size 432x288 with 1 Axes>"
      ]
     },
     "metadata": {
      "needs_background": "light"
     },
     "output_type": "display_data"
    }
   ],
   "source": [
    "plt.scatter(city_summary_top25.num_breweries, city_summary_top25.num_outdoor_stores)\n",
    "plt.xlabel('Breweries')\n",
    "plt.ylabel('Outdoor Stores')\n",
    "plt.show()"
   ]
  },
  {
   "cell_type": "code",
   "execution_count": 20,
   "id": "0bed1191",
   "metadata": {
    "id": "0bed1191"
   },
   "outputs": [],
   "source": [
    "# Create an instance of the model(LinearRegression)\n",
    "model = LinearRegression()"
   ]
  },
  {
   "cell_type": "code",
   "execution_count": 21,
   "id": "435e9843",
   "metadata": {
    "id": "435e9843"
   },
   "outputs": [
    {
     "data": {
      "text/plain": [
       "LinearRegression()"
      ]
     },
     "execution_count": 21,
     "metadata": {},
     "output_type": "execute_result"
    }
   ],
   "source": [
    "# Train the model with the dataset \n",
    "model.fit(X,y)"
   ]
  },
  {
   "cell_type": "code",
   "execution_count": 22,
   "id": "2c49a0de",
   "metadata": {
    "scrolled": true
   },
   "outputs": [
    {
     "data": {
      "text/plain": [
       "0.4017175530767336"
      ]
     },
     "execution_count": 22,
     "metadata": {},
     "output_type": "execute_result"
    }
   ],
   "source": [
    "# r squared value of the model\n",
    "model.score(X,y)"
   ]
  },
  {
   "cell_type": "code",
   "execution_count": 23,
   "id": "c1633e57",
   "metadata": {},
   "outputs": [],
   "source": [
    "y_pred = model.predict(X)"
   ]
  },
  {
   "cell_type": "code",
   "execution_count": 24,
   "id": "4e1cec38",
   "metadata": {
    "scrolled": true
   },
   "outputs": [
    {
     "data": {
      "image/png": "[encoded data removed]",
      "text/plain": [
       "<Figure size 432x288 with 1 Axes>"
      ]
     },
     "metadata": {
      "needs_background": "light"
     },
     "output_type": "display_data"
    }
   ],
   "source": [
    "# Visualize trendline\n",
    "plt.scatter(X, y)\n",
    "plt.plot(X, y_pred, color='red')\n",
    "plt.show()"
   ]
  },
  {
   "cell_type": "code",
   "execution_count": 25,
   "id": "7cba53ff",
   "metadata": {},
   "outputs": [
    {
     "name": "stdout",
     "output_type": "stream",
     "text": [
      "Weight coefficients:  [[0.71445608]]\n",
      "y-axis intercept:  [6.5357254]\n"
     ]
    }
   ],
   "source": [
    "# Find model slope and intercept\n",
    "print('Weight coefficients: ', model.coef_)\n",
    "print('y-axis intercept: ', model.intercept_) "
   ]
  },
  {
   "cell_type": "code",
   "execution_count": 26,
   "id": "6035e37c",
   "metadata": {},
   "outputs": [
    {
     "name": "stdout",
     "output_type": "stream",
     "text": [
      "y = 0.7144560821321165x + 6.535725396660791\n"
     ]
    }
   ],
   "source": [
    "# Model formula\n",
    "print(f\"y = {model.coef_[0][0]}x + {model.intercept_[0]}\")"
   ]
  },
  {
   "cell_type": "code",
   "execution_count": 27,
   "id": "4082a16f",
   "metadata": {},
   "outputs": [
    {
     "name": "stdout",
     "output_type": "stream",
     "text": [
      "True output: [12]\n",
      "Predicted output: [19.39593488]\n",
      "Prediction Error: [7.39593488]\n"
     ]
    }
   ],
   "source": [
    "# Find Accuracy of predictions\n",
    "predictions = model.predict(X)\n",
    "print(f\"True output: {y[0]}\")\n",
    "print(f\"Predicted output: {predictions[0]}\")\n",
    "print(f\"Prediction Error: {predictions[0]-y[0]}\")"
   ]
  },
  {
   "cell_type": "code",
   "execution_count": 28,
   "id": "94e71c41",
   "metadata": {},
   "outputs": [
    {
     "ename": "ValueError",
     "evalue": "If using all scalar values, you must pass an index",
     "output_type": "error",
     "traceback": [
      "\u001b[1;31m---------------------------------------------------------------------------\u001b[0m",
      "\u001b[1;31mValueError\u001b[0m                                Traceback (most recent call last)",
      "\u001b[1;32m~\\AppData\\Local\\Temp\\ipykernel_34052\\439350871.py\u001b[0m in \u001b[0;36m<module>\u001b[1;34m\u001b[0m\n\u001b[1;32m----> 1\u001b[1;33m \u001b[0mpredictions_df\u001b[0m \u001b[1;33m=\u001b[0m \u001b[0mpd\u001b[0m\u001b[1;33m.\u001b[0m\u001b[0mDataFrame\u001b[0m\u001b[1;33m(\u001b[0m\u001b[1;33m{\u001b[0m\u001b[1;34m\"Predicted\"\u001b[0m\u001b[1;33m:\u001b[0m \u001b[0mpredictions\u001b[0m\u001b[1;33m,\u001b[0m \u001b[1;34m\"Actual\"\u001b[0m\u001b[1;33m:\u001b[0m \u001b[0my\u001b[0m\u001b[1;33m,\u001b[0m \u001b[1;34m\"Error\"\u001b[0m\u001b[1;33m:\u001b[0m \u001b[0mpredictions\u001b[0m \u001b[1;33m-\u001b[0m \u001b[0my\u001b[0m\u001b[1;33m}\u001b[0m\u001b[1;33m)\u001b[0m\u001b[1;33m[\u001b[0m\u001b[1;33m[\u001b[0m\u001b[1;34m\"Predicted\"\u001b[0m\u001b[1;33m,\u001b[0m \u001b[1;34m\"Actual\"\u001b[0m\u001b[1;33m,\u001b[0m \u001b[1;34m\"Error\"\u001b[0m\u001b[1;33m]\u001b[0m\u001b[1;33m]\u001b[0m\u001b[1;33m\u001b[0m\u001b[1;33m\u001b[0m\u001b[0m\n\u001b[0m",
      "\u001b[1;32m~\\anaconda3\\envs\\mlenv\\lib\\site-packages\\pandas\\core\\frame.py\u001b[0m in \u001b[0;36m__init__\u001b[1;34m(self, data, index, columns, dtype, copy)\u001b[0m\n\u001b[0;32m    612\u001b[0m         \u001b[1;32melif\u001b[0m \u001b[0misinstance\u001b[0m\u001b[1;33m(\u001b[0m\u001b[0mdata\u001b[0m\u001b[1;33m,\u001b[0m \u001b[0mdict\u001b[0m\u001b[1;33m)\u001b[0m\u001b[1;33m:\u001b[0m\u001b[1;33m\u001b[0m\u001b[1;33m\u001b[0m\u001b[0m\n\u001b[0;32m    613\u001b[0m             \u001b[1;31m# GH#38939 de facto copy defaults to False only in non-dict cases\u001b[0m\u001b[1;33m\u001b[0m\u001b[1;33m\u001b[0m\u001b[1;33m\u001b[0m\u001b[0m\n\u001b[1;32m--> 614\u001b[1;33m             \u001b[0mmgr\u001b[0m \u001b[1;33m=\u001b[0m \u001b[0mdict_to_mgr\u001b[0m\u001b[1;33m(\u001b[0m\u001b[0mdata\u001b[0m\u001b[1;33m,\u001b[0m \u001b[0mindex\u001b[0m\u001b[1;33m,\u001b[0m \u001b[0mcolumns\u001b[0m\u001b[1;33m,\u001b[0m \u001b[0mdtype\u001b[0m\u001b[1;33m=\u001b[0m\u001b[0mdtype\u001b[0m\u001b[1;33m,\u001b[0m \u001b[0mcopy\u001b[0m\u001b[1;33m=\u001b[0m\u001b[0mcopy\u001b[0m\u001b[1;33m,\u001b[0m \u001b[0mtyp\u001b[0m\u001b[1;33m=\u001b[0m\u001b[0mmanager\u001b[0m\u001b[1;33m)\u001b[0m\u001b[1;33m\u001b[0m\u001b[1;33m\u001b[0m\u001b[0m\n\u001b[0m\u001b[0;32m    615\u001b[0m         \u001b[1;32melif\u001b[0m \u001b[0misinstance\u001b[0m\u001b[1;33m(\u001b[0m\u001b[0mdata\u001b[0m\u001b[1;33m,\u001b[0m \u001b[0mma\u001b[0m\u001b[1;33m.\u001b[0m\u001b[0mMaskedArray\u001b[0m\u001b[1;33m)\u001b[0m\u001b[1;33m:\u001b[0m\u001b[1;33m\u001b[0m\u001b[1;33m\u001b[0m\u001b[0m\n\u001b[0;32m    616\u001b[0m             \u001b[1;32mimport\u001b[0m \u001b[0mnumpy\u001b[0m\u001b[1;33m.\u001b[0m\u001b[0mma\u001b[0m\u001b[1;33m.\u001b[0m\u001b[0mmrecords\u001b[0m \u001b[1;32mas\u001b[0m \u001b[0mmrecords\u001b[0m\u001b[1;33m\u001b[0m\u001b[1;33m\u001b[0m\u001b[0m\n",
      "\u001b[1;32m~\\anaconda3\\envs\\mlenv\\lib\\site-packages\\pandas\\core\\internals\\construction.py\u001b[0m in \u001b[0;36mdict_to_mgr\u001b[1;34m(data, index, columns, dtype, typ, copy)\u001b[0m\n\u001b[0;32m    463\u001b[0m \u001b[1;33m\u001b[0m\u001b[0m\n\u001b[0;32m    464\u001b[0m     return arrays_to_mgr(\n\u001b[1;32m--> 465\u001b[1;33m         \u001b[0marrays\u001b[0m\u001b[1;33m,\u001b[0m \u001b[0mdata_names\u001b[0m\u001b[1;33m,\u001b[0m \u001b[0mindex\u001b[0m\u001b[1;33m,\u001b[0m \u001b[0mcolumns\u001b[0m\u001b[1;33m,\u001b[0m \u001b[0mdtype\u001b[0m\u001b[1;33m=\u001b[0m\u001b[0mdtype\u001b[0m\u001b[1;33m,\u001b[0m \u001b[0mtyp\u001b[0m\u001b[1;33m=\u001b[0m\u001b[0mtyp\u001b[0m\u001b[1;33m,\u001b[0m \u001b[0mconsolidate\u001b[0m\u001b[1;33m=\u001b[0m\u001b[0mcopy\u001b[0m\u001b[1;33m\u001b[0m\u001b[1;33m\u001b[0m\u001b[0m\n\u001b[0m\u001b[0;32m    466\u001b[0m     )\n\u001b[0;32m    467\u001b[0m \u001b[1;33m\u001b[0m\u001b[0m\n",
      "\u001b[1;32m~\\anaconda3\\envs\\mlenv\\lib\\site-packages\\pandas\\core\\internals\\construction.py\u001b[0m in \u001b[0;36marrays_to_mgr\u001b[1;34m(arrays, arr_names, index, columns, dtype, verify_integrity, typ, consolidate)\u001b[0m\n\u001b[0;32m    117\u001b[0m         \u001b[1;31m# figure out the index, if necessary\u001b[0m\u001b[1;33m\u001b[0m\u001b[1;33m\u001b[0m\u001b[1;33m\u001b[0m\u001b[0m\n\u001b[0;32m    118\u001b[0m         \u001b[1;32mif\u001b[0m \u001b[0mindex\u001b[0m \u001b[1;32mis\u001b[0m \u001b[1;32mNone\u001b[0m\u001b[1;33m:\u001b[0m\u001b[1;33m\u001b[0m\u001b[1;33m\u001b[0m\u001b[0m\n\u001b[1;32m--> 119\u001b[1;33m             \u001b[0mindex\u001b[0m \u001b[1;33m=\u001b[0m \u001b[0m_extract_index\u001b[0m\u001b[1;33m(\u001b[0m\u001b[0marrays\u001b[0m\u001b[1;33m)\u001b[0m\u001b[1;33m\u001b[0m\u001b[1;33m\u001b[0m\u001b[0m\n\u001b[0m\u001b[0;32m    120\u001b[0m         \u001b[1;32melse\u001b[0m\u001b[1;33m:\u001b[0m\u001b[1;33m\u001b[0m\u001b[1;33m\u001b[0m\u001b[0m\n\u001b[0;32m    121\u001b[0m             \u001b[0mindex\u001b[0m \u001b[1;33m=\u001b[0m \u001b[0mensure_index\u001b[0m\u001b[1;33m(\u001b[0m\u001b[0mindex\u001b[0m\u001b[1;33m)\u001b[0m\u001b[1;33m\u001b[0m\u001b[1;33m\u001b[0m\u001b[0m\n",
      "\u001b[1;32m~\\anaconda3\\envs\\mlenv\\lib\\site-packages\\pandas\\core\\internals\\construction.py\u001b[0m in \u001b[0;36m_extract_index\u001b[1;34m(data)\u001b[0m\n\u001b[0;32m    623\u001b[0m \u001b[1;33m\u001b[0m\u001b[0m\n\u001b[0;32m    624\u001b[0m         \u001b[1;32mif\u001b[0m \u001b[1;32mnot\u001b[0m \u001b[0mindexes\u001b[0m \u001b[1;32mand\u001b[0m \u001b[1;32mnot\u001b[0m \u001b[0mraw_lengths\u001b[0m\u001b[1;33m:\u001b[0m\u001b[1;33m\u001b[0m\u001b[1;33m\u001b[0m\u001b[0m\n\u001b[1;32m--> 625\u001b[1;33m             \u001b[1;32mraise\u001b[0m \u001b[0mValueError\u001b[0m\u001b[1;33m(\u001b[0m\u001b[1;34m\"If using all scalar values, you must pass an index\"\u001b[0m\u001b[1;33m)\u001b[0m\u001b[1;33m\u001b[0m\u001b[1;33m\u001b[0m\u001b[0m\n\u001b[0m\u001b[0;32m    626\u001b[0m \u001b[1;33m\u001b[0m\u001b[0m\n\u001b[0;32m    627\u001b[0m         \u001b[1;32mif\u001b[0m \u001b[0mhave_series\u001b[0m\u001b[1;33m:\u001b[0m\u001b[1;33m\u001b[0m\u001b[1;33m\u001b[0m\u001b[0m\n",
      "\u001b[1;31mValueError\u001b[0m: If using all scalar values, you must pass an index"
     ]
    }
   ],
   "source": [
    "predictions_df = pd.DataFrame({\"Predicted\": predictions, \"Actual\": y, \"Error\": predictions - y})[[\"Predicted\", \"Actual\", \"Error\"]]"
   ]
  },
  {
   "cell_type": "markdown",
   "id": "4dcd4263",
   "metadata": {},
   "source": [
    "# Multiple Linear Regression"
   ]
  },
  {
   "cell_type": "code",
   "execution_count": 29,
   "id": "f1c0a965",
   "metadata": {},
   "outputs": [
    {
     "data": {
      "text/html": [
       "<div>\n",
       "<style scoped>\n",
       "    .dataframe tbody tr th:only-of-type {\n",
       "        vertical-align: middle;\n",
       "    }\n",
       "\n",
       "    .dataframe tbody tr th {\n",
       "        vertical-align: top;\n",
       "    }\n",
       "\n",
       "    .dataframe thead th {\n",
       "        text-align: right;\n",
       "    }\n",
       "</style>\n",
       "<table border=\"1\" class=\"dataframe\">\n",
       "  <thead>\n",
       "    <tr style=\"text-align: right;\">\n",
       "      <th></th>\n",
       "      <th>mean_income</th>\n",
       "      <th>min_income</th>\n",
       "      <th>max_income</th>\n",
       "      <th>median_income</th>\n",
       "      <th>first_quartile_income</th>\n",
       "      <th>third_quartile_income</th>\n",
       "      <th>num_breweries</th>\n",
       "      <th>num_outdoor_stores</th>\n",
       "      <th>population</th>\n",
       "    </tr>\n",
       "  </thead>\n",
       "  <tbody>\n",
       "    <tr>\n",
       "      <th>512</th>\n",
       "      <td>139141</td>\n",
       "      <td>1426</td>\n",
       "      <td>1223918</td>\n",
       "      <td>86366</td>\n",
       "      <td>42768</td>\n",
       "      <td>161692</td>\n",
       "      <td>18</td>\n",
       "      <td>12</td>\n",
       "      <td>648720</td>\n",
       "    </tr>\n",
       "    <tr>\n",
       "      <th>239</th>\n",
       "      <td>240090</td>\n",
       "      <td>61766</td>\n",
       "      <td>624247</td>\n",
       "      <td>221871</td>\n",
       "      <td>140416</td>\n",
       "      <td>293728</td>\n",
       "      <td>16</td>\n",
       "      <td>18</td>\n",
       "      <td>87190</td>\n",
       "    </tr>\n",
       "    <tr>\n",
       "      <th>728</th>\n",
       "      <td>217650</td>\n",
       "      <td>33467</td>\n",
       "      <td>738266</td>\n",
       "      <td>126500</td>\n",
       "      <td>98431</td>\n",
       "      <td>303616</td>\n",
       "      <td>15</td>\n",
       "      <td>18</td>\n",
       "      <td>85600</td>\n",
       "    </tr>\n",
       "    <tr>\n",
       "      <th>342</th>\n",
       "      <td>143490</td>\n",
       "      <td>76342</td>\n",
       "      <td>331255</td>\n",
       "      <td>120646</td>\n",
       "      <td>99310</td>\n",
       "      <td>165655</td>\n",
       "      <td>15</td>\n",
       "      <td>20</td>\n",
       "      <td>58075</td>\n",
       "    </tr>\n",
       "    <tr>\n",
       "      <th>136</th>\n",
       "      <td>212034</td>\n",
       "      <td>55212</td>\n",
       "      <td>507431</td>\n",
       "      <td>160977</td>\n",
       "      <td>132312</td>\n",
       "      <td>287227</td>\n",
       "      <td>14</td>\n",
       "      <td>18</td>\n",
       "      <td>79570</td>\n",
       "    </tr>\n",
       "  </tbody>\n",
       "</table>\n",
       "</div>"
      ],
      "text/plain": [
       "     mean_income  min_income  max_income  median_income  \\\n",
       "512       139141        1426     1223918          86366   \n",
       "239       240090       61766      624247         221871   \n",
       "728       217650       33467      738266         126500   \n",
       "342       143490       76342      331255         120646   \n",
       "136       212034       55212      507431         160977   \n",
       "\n",
       "     first_quartile_income  third_quartile_income  num_breweries  \\\n",
       "512                  42768                 161692             18   \n",
       "239                 140416                 293728             16   \n",
       "728                  98431                 303616             15   \n",
       "342                  99310                 165655             15   \n",
       "136                 132312                 287227             14   \n",
       "\n",
       "     num_outdoor_stores  population  \n",
       "512                  12      648720  \n",
       "239                  18       87190  \n",
       "728                  18       85600  \n",
       "342                  20       58075  \n",
       "136                  18       79570  "
      ]
     },
     "execution_count": 29,
     "metadata": {},
     "output_type": "execute_result"
    }
   ],
   "source": [
    "# Remove categorical inputs that are not needed for this model\n",
    "mlr_city_summary = city_summary_top25.drop(columns = [\"city\",\"state\",\"ts_updated\"])\n",
    "mlr_city_summary.head()"
   ]
  },
  {
   "cell_type": "code",
   "execution_count": 30,
   "id": "b2e79f99",
   "metadata": {},
   "outputs": [
    {
     "data": {
      "text/plain": [
       "Index(['mean_income', 'min_income', 'max_income', 'median_income',\n",
       "       'first_quartile_income', 'third_quartile_income', 'num_breweries',\n",
       "       'num_outdoor_stores', 'population'],\n",
       "      dtype='object')"
      ]
     },
     "execution_count": 30,
     "metadata": {},
     "output_type": "execute_result"
    }
   ],
   "source": [
    "# Get column names to be used when creating scaled df\n",
    "mlr_city_summary_columns = mlr_city_summary.columns\n",
    "mlr_city_summary_columns"
   ]
  },
  {
   "cell_type": "code",
   "execution_count": 31,
   "id": "f01ea7bb",
   "metadata": {},
   "outputs": [
    {
     "data": {
      "text/plain": [
       "Index(['mean_income', 'min_income', 'max_income', 'median_income',\n",
       "       'first_quartile_income', 'third_quartile_income', 'num_breweries',\n",
       "       'population'],\n",
       "      dtype='object')"
      ]
     },
     "execution_count": 31,
     "metadata": {},
     "output_type": "execute_result"
    }
   ],
   "source": [
    "# Get column names without num_outdoor_stores to be used in ColumnTransformer function\n",
    "summary_columns_no_outdoor = mlr_city_summary.columns.drop(\"num_outdoor_stores\")\n",
    "summary_columns_no_outdoor"
   ]
  },
  {
   "cell_type": "code",
   "execution_count": 32,
   "id": "42208441",
   "metadata": {},
   "outputs": [],
   "source": [
    "# Column names for use in making city_summary_scaled_df \n",
    "# Since ColumnTransformer function flipped the population and num_outdoor_stores columns, this is reflected in the column names\n",
    "columns = ['mean_income', 'min_income', 'max_income', 'median_income',\n",
    "       'first_quartile_income', 'third_quartile_income', 'num_breweries', \n",
    "           'population', 'num_outdoor_stores']"
   ]
  },
  {
   "cell_type": "code",
   "execution_count": 33,
   "id": "6e22b237",
   "metadata": {},
   "outputs": [],
   "source": [
    "# Scale data using StandardScaler and ColumnTransformer\n",
    "from sklearn.compose import ColumnTransformer\n",
    "from sklearn.preprocessing import StandardScaler\n",
    "\n",
    "# features is the dataframe being passed into the ColumnTransformer function\n",
    "features = mlr_city_summary\n",
    "\n",
    "# ColumnTransformer applys the StandardScaler Function to all columns in the summary_columns_no_outdoor list, \n",
    "# and passes over any others(num_outdoor_stores)\n",
    "ct = ColumnTransformer([\n",
    "        ('data_scaler', StandardScaler(), summary_columns_no_outdoor)\n",
    "    ], remainder='passthrough')\n",
    "\n",
    "city_summary_scaled = ct.fit_transform(features)"
   ]
  },
  {
   "cell_type": "code",
   "execution_count": 34,
   "id": "9d206a8d",
   "metadata": {},
   "outputs": [
    {
     "data": {
      "text/html": [
       "<div>\n",
       "<style scoped>\n",
       "    .dataframe tbody tr th:only-of-type {\n",
       "        vertical-align: middle;\n",
       "    }\n",
       "\n",
       "    .dataframe tbody tr th {\n",
       "        vertical-align: top;\n",
       "    }\n",
       "\n",
       "    .dataframe thead th {\n",
       "        text-align: right;\n",
       "    }\n",
       "</style>\n",
       "<table border=\"1\" class=\"dataframe\">\n",
       "  <thead>\n",
       "    <tr style=\"text-align: right;\">\n",
       "      <th></th>\n",
       "      <th>mean_income</th>\n",
       "      <th>min_income</th>\n",
       "      <th>max_income</th>\n",
       "      <th>median_income</th>\n",
       "      <th>first_quartile_income</th>\n",
       "      <th>third_quartile_income</th>\n",
       "      <th>num_breweries</th>\n",
       "      <th>population</th>\n",
       "      <th>num_outdoor_stores</th>\n",
       "    </tr>\n",
       "  </thead>\n",
       "  <tbody>\n",
       "    <tr>\n",
       "      <th>0</th>\n",
       "      <td>-0.667556</td>\n",
       "      <td>-1.072347</td>\n",
       "      <td>0.323211</td>\n",
       "      <td>-0.855866</td>\n",
       "      <td>-0.897734</td>\n",
       "      <td>-0.801286</td>\n",
       "      <td>1.742586</td>\n",
       "      <td>4.330859</td>\n",
       "      <td>12.0</td>\n",
       "    </tr>\n",
       "    <tr>\n",
       "      <th>1</th>\n",
       "      <td>0.202536</td>\n",
       "      <td>0.868569</td>\n",
       "      <td>-0.324622</td>\n",
       "      <td>1.013106</td>\n",
       "      <td>0.916156</td>\n",
       "      <td>0.263856</td>\n",
       "      <td>1.382548</td>\n",
       "      <td>-0.378224</td>\n",
       "      <td>18.0</td>\n",
       "    </tr>\n",
       "    <tr>\n",
       "      <th>2</th>\n",
       "      <td>0.009123</td>\n",
       "      <td>-0.041706</td>\n",
       "      <td>-0.201446</td>\n",
       "      <td>-0.302312</td>\n",
       "      <td>0.136251</td>\n",
       "      <td>0.343623</td>\n",
       "      <td>1.202529</td>\n",
       "      <td>-0.391558</td>\n",
       "      <td>18.0</td>\n",
       "    </tr>\n",
       "    <tr>\n",
       "      <th>3</th>\n",
       "      <td>-0.630072</td>\n",
       "      <td>1.337425</td>\n",
       "      <td>-0.641146</td>\n",
       "      <td>-0.383054</td>\n",
       "      <td>0.152579</td>\n",
       "      <td>-0.769316</td>\n",
       "      <td>1.202529</td>\n",
       "      <td>-0.622388</td>\n",
       "      <td>20.0</td>\n",
       "    </tr>\n",
       "    <tr>\n",
       "      <th>4</th>\n",
       "      <td>-0.039282</td>\n",
       "      <td>0.657751</td>\n",
       "      <td>-0.450820</td>\n",
       "      <td>0.173217</td>\n",
       "      <td>0.765617</td>\n",
       "      <td>0.211412</td>\n",
       "      <td>1.022509</td>\n",
       "      <td>-0.442127</td>\n",
       "      <td>18.0</td>\n",
       "    </tr>\n",
       "  </tbody>\n",
       "</table>\n",
       "</div>"
      ],
      "text/plain": [
       "   mean_income  min_income  max_income  median_income  first_quartile_income  \\\n",
       "0    -0.667556   -1.072347    0.323211      -0.855866              -0.897734   \n",
       "1     0.202536    0.868569   -0.324622       1.013106               0.916156   \n",
       "2     0.009123   -0.041706   -0.201446      -0.302312               0.136251   \n",
       "3    -0.630072    1.337425   -0.641146      -0.383054               0.152579   \n",
       "4    -0.039282    0.657751   -0.450820       0.173217               0.765617   \n",
       "\n",
       "   third_quartile_income  num_breweries  population  num_outdoor_stores  \n",
       "0              -0.801286       1.742586    4.330859                12.0  \n",
       "1               0.263856       1.382548   -0.378224                18.0  \n",
       "2               0.343623       1.202529   -0.391558                18.0  \n",
       "3              -0.769316       1.202529   -0.622388                20.0  \n",
       "4               0.211412       1.022509   -0.442127                18.0  "
      ]
     },
     "execution_count": 34,
     "metadata": {},
     "output_type": "execute_result"
    }
   ],
   "source": [
    "# Create new dataframe with the scaled data, leaving the num_outdoor_stores not scaled since it is out output\n",
    "city_summary_scaled_df = pd.DataFrame(city_summary_scaled, columns = columns)\n",
    "city_summary_scaled_df.head()"
   ]
  },
  {
   "cell_type": "code",
   "execution_count": 35,
   "id": "c84ae66c",
   "metadata": {},
   "outputs": [],
   "source": [
    "# Set X and y for model\n",
    "X = city_summary_scaled_df.drop(columns = \"num_outdoor_stores\")\n",
    "y = city_summary_scaled_df[\"num_outdoor_stores\"]"
   ]
  },
  {
   "cell_type": "code",
   "execution_count": 36,
   "id": "6b785a9d",
   "metadata": {},
   "outputs": [],
   "source": [
    "# Split the data\n",
    "X_train, X_test, y_train, y_test = train_test_split(X, y, random_state =27)"
   ]
  },
  {
   "cell_type": "code",
   "execution_count": 37,
   "id": "1a5c75b7",
   "metadata": {},
   "outputs": [
    {
     "data": {
      "text/plain": [
       "LinearRegression()"
      ]
     },
     "execution_count": 37,
     "metadata": {},
     "output_type": "execute_result"
    }
   ],
   "source": [
    "# Create an object of LinearRegression class\n",
    "lr = LinearRegression()\n",
    "\n",
    "# fitting the training data\n",
    "lr.fit(X_train,y_train)"
   ]
  },
  {
   "cell_type": "code",
   "execution_count": 38,
   "id": "bc1c379c",
   "metadata": {
    "scrolled": true
   },
   "outputs": [
    {
     "data": {
      "text/plain": [
       "array([ 6.70111414,  2.6943444 , 16.36476065, -2.78090006, 12.99480278,\n",
       "       13.17793712, 11.69135255])"
      ]
     },
     "execution_count": 38,
     "metadata": {},
     "output_type": "execute_result"
    }
   ],
   "source": [
    "# Get predictions\n",
    "y_pred = lr.predict(X_test)\n",
    "y_pred"
   ]
  },
  {
   "cell_type": "code",
   "execution_count": 39,
   "id": "410fccf5",
   "metadata": {},
   "outputs": [
    {
     "data": {
      "text/html": [
       "<div>\n",
       "<style scoped>\n",
       "    .dataframe tbody tr th:only-of-type {\n",
       "        vertical-align: middle;\n",
       "    }\n",
       "\n",
       "    .dataframe tbody tr th {\n",
       "        vertical-align: top;\n",
       "    }\n",
       "\n",
       "    .dataframe thead th {\n",
       "        text-align: right;\n",
       "    }\n",
       "</style>\n",
       "<table border=\"1\" class=\"dataframe\">\n",
       "  <thead>\n",
       "    <tr style=\"text-align: right;\">\n",
       "      <th></th>\n",
       "      <th>Predicted</th>\n",
       "      <th>Actual</th>\n",
       "      <th>Error</th>\n",
       "    </tr>\n",
       "  </thead>\n",
       "  <tbody>\n",
       "    <tr>\n",
       "      <th>20</th>\n",
       "      <td>6.701114</td>\n",
       "      <td>6.0</td>\n",
       "      <td>0.701114</td>\n",
       "    </tr>\n",
       "    <tr>\n",
       "      <th>23</th>\n",
       "      <td>2.694344</td>\n",
       "      <td>0.0</td>\n",
       "      <td>2.694344</td>\n",
       "    </tr>\n",
       "    <tr>\n",
       "      <th>7</th>\n",
       "      <td>16.364761</td>\n",
       "      <td>16.0</td>\n",
       "      <td>0.364761</td>\n",
       "    </tr>\n",
       "    <tr>\n",
       "      <th>18</th>\n",
       "      <td>-2.780900</td>\n",
       "      <td>1.0</td>\n",
       "      <td>-3.780900</td>\n",
       "    </tr>\n",
       "    <tr>\n",
       "      <th>11</th>\n",
       "      <td>12.994803</td>\n",
       "      <td>19.0</td>\n",
       "      <td>-6.005197</td>\n",
       "    </tr>\n",
       "    <tr>\n",
       "      <th>12</th>\n",
       "      <td>13.177937</td>\n",
       "      <td>11.0</td>\n",
       "      <td>2.177937</td>\n",
       "    </tr>\n",
       "    <tr>\n",
       "      <th>9</th>\n",
       "      <td>11.691353</td>\n",
       "      <td>18.0</td>\n",
       "      <td>-6.308647</td>\n",
       "    </tr>\n",
       "  </tbody>\n",
       "</table>\n",
       "</div>"
      ],
      "text/plain": [
       "    Predicted  Actual     Error\n",
       "20   6.701114     6.0  0.701114\n",
       "23   2.694344     0.0  2.694344\n",
       "7   16.364761    16.0  0.364761\n",
       "18  -2.780900     1.0 -3.780900\n",
       "11  12.994803    19.0 -6.005197\n",
       "12  13.177937    11.0  2.177937\n",
       "9   11.691353    18.0 -6.308647"
      ]
     },
     "execution_count": 39,
     "metadata": {},
     "output_type": "execute_result"
    }
   ],
   "source": [
    "# Display the predicted vs actual values for number of outdoor stores\n",
    "error_df = pd.DataFrame({\"Predicted\": y_pred, \"Actual\": y_test, \"Error\": y_pred - y_test})[[\"Predicted\", \"Actual\", \"Error\"]]\n",
    "error_df"
   ]
  },
  {
   "cell_type": "code",
   "execution_count": 40,
   "id": "05159d08",
   "metadata": {},
   "outputs": [
    {
     "name": "stdout",
     "output_type": "stream",
     "text": [
      "r2 score is 0.7286994673658351\n",
      "mean_sqrd_error is 14.68344923562868\n",
      "root_mean_squared error is 3.83189890728196\n"
     ]
    }
   ],
   "source": [
    "# importing r2_score module\n",
    "from sklearn.metrics import r2_score\n",
    "from sklearn.metrics import mean_squared_error\n",
    "# predicting the accuracy score\n",
    "score=r2_score(y_test,y_pred)\n",
    "print(f'r2 score is {score}')\n",
    "print(f'mean_sqrd_error is {mean_squared_error(y_test,y_pred)}')\n",
    "print(f'root_mean_squared error is {np.sqrt(mean_squared_error(y_test,y_pred))}')"
   ]
  },
  {
   "cell_type": "code",
   "execution_count": 42,
   "id": "7ebcca02",
   "metadata": {
    "id": "7ebcca02"
   },
   "outputs": [
    {
     "data": {
      "text/plain": [
       "array([ 3.22231813,  1.42628222, -5.10012635, -1.00021435, -3.66938223,\n",
       "        3.38507728,  4.55249874, -0.65387877])"
      ]
     },
     "execution_count": 42,
     "metadata": {},
     "output_type": "execute_result"
    }
   ],
   "source": [
    "# Find impact of different variables\n",
    "lr.coef_"
   ]
  },
  {
   "cell_type": "code",
   "execution_count": 43,
   "id": "cf7a41fe",
   "metadata": {},
   "outputs": [
    {
     "data": {
      "text/plain": [
       "12.07373646351203"
      ]
     },
     "execution_count": 43,
     "metadata": {},
     "output_type": "execute_result"
    }
   ],
   "source": [
    "# Find the intercept\n",
    "lr.intercept_"
   ]
  }
 ],
 "metadata": {
  "colab": {
   "collapsed_sections": [],
   "name": "machine_learning_mockup.ipynb",
   "provenance": []
  },
  "kernelspec": {
   "display_name": "mlenv",
   "language": "python",
   "name": "mlenv"
  },
  "language_info": {
   "codemirror_mode": {
    "name": "ipython",
    "version": 3
   },
   "file_extension": ".py",
   "mimetype": "text/x-python",
   "name": "python",
   "nbconvert_exporter": "python",
   "pygments_lexer": "ipython3",
   "version": "3.7.13"
  }
 },
 "nbformat": 4,
 "nbformat_minor": 5
}
