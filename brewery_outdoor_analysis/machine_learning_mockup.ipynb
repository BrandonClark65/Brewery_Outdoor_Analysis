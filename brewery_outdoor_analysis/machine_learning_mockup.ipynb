{
 "cells": [
  {
   "cell_type": "markdown",
   "id": "ak5MPrinVsLo",
   "metadata": {
    "id": "ak5MPrinVsLo"
   },
   "source": [
    "\n",
    "# Brewery Analysis: Machine Learning\n",
    "\n",
    "\n",
    "\n",
    "---\n",
    "\n",
    "\n",
    "\n",
    "*  Data is preprocessed and cleaned by removing unneeded columns, merging zip code/cities datasets, and limiting dataset to the top 1,000 most populated cities.\n",
    "*  To obtain the best possible predictive results, preliminary features should be explored, engineered, and carefully selected. Possible preliminary features for this model could be average income per zipcode, income per capita, and clothing stores per brewery count.\n",
    "*  The importance of correlation between breweries and outdoor clothing stores will drive which features will be engineered and selected, ultimately answering the hypthesis.\n",
    "*  Data was split into training and testing sets using train_test_split and a random state of 24. This will assist in evaluating the performance of the model in relation to the dataset.\n",
    "*  A linear regression model was chosen to best illustrate correlation between brewery location and outdoor clothing store location. Is there a strong relationship between the two? The benefits of using a linear regression is readability and abiility to answer basic questions. Limitations of a linear regression model will be sensitivity to outliers. With more time we would like to also set up a cluster model.\n",
    "\n",
    "\n",
    "\n"
   ]
  },
  {
   "cell_type": "code",
   "execution_count": 1,
   "id": "b76fee5c",
   "metadata": {
    "colab": {
     "base_uri": "https://localhost:8080/",
     "height": 339
    },
    "id": "b76fee5c",
    "outputId": "592736c6-e75c-4dc7-e424-8771ab7b0627"
   },
   "outputs": [],
   "source": [
    "# Import dependencies\n",
    "\n",
    "import pandas as pd\n",
    "from pathlib import Path\n",
    "import matplotlib.pyplot as plt\n",
    "import numpy as np\n",
    "\n",
    "from sklearn.linear_model import LinearRegression\n",
    "from sklearn.datasets import make_regression\n",
    "from sklearn.model_selection import train_test_split\n",
    "from sklearn import preprocessing\n",
    "from sklearn.preprocessing import OneHotEncoder\n",
    "\n",
    "from database_connection import ENGINE"
   ]
  },
  {
   "cell_type": "markdown",
   "id": "be134445",
   "metadata": {
    "id": "be134445"
   },
   "source": [
    "# Data Selection"
   ]
  },
  {
   "cell_type": "code",
   "execution_count": 2,
   "id": "7c73aced",
   "metadata": {},
   "outputs": [
    {
     "data": {
      "text/html": [
       "<div>\n",
       "<style scoped>\n",
       "    .dataframe tbody tr th:only-of-type {\n",
       "        vertical-align: middle;\n",
       "    }\n",
       "\n",
       "    .dataframe tbody tr th {\n",
       "        vertical-align: top;\n",
       "    }\n",
       "\n",
       "    .dataframe thead th {\n",
       "        text-align: right;\n",
       "    }\n",
       "</style>\n",
       "<table border=\"1\" class=\"dataframe\">\n",
       "  <thead>\n",
       "    <tr style=\"text-align: right;\">\n",
       "      <th></th>\n",
       "      <th>city</th>\n",
       "      <th>state</th>\n",
       "      <th>mean_income</th>\n",
       "      <th>min_income</th>\n",
       "      <th>max_income</th>\n",
       "      <th>median_income</th>\n",
       "      <th>first_quartile_income</th>\n",
       "      <th>third_quartile_income</th>\n",
       "      <th>num_breweries</th>\n",
       "      <th>breweries_num_one_star_reviews</th>\n",
       "      <th>breweries_num_five_star_reviews</th>\n",
       "      <th>breweries_mean_rating</th>\n",
       "      <th>num_outdoor_stores</th>\n",
       "      <th>outdoor_num_one_star_reviews</th>\n",
       "      <th>outdoor_num_five_star_reviews</th>\n",
       "      <th>outdoor_mean_rating</th>\n",
       "      <th>population</th>\n",
       "      <th>lat</th>\n",
       "      <th>lon</th>\n",
       "      <th>ts_updated</th>\n",
       "    </tr>\n",
       "  </thead>\n",
       "  <tbody>\n",
       "    <tr>\n",
       "      <th>775</th>\n",
       "      <td>Saginaw</td>\n",
       "      <td>MI</td>\n",
       "      <td>70169</td>\n",
       "      <td>3200</td>\n",
       "      <td>259292</td>\n",
       "      <td>57699</td>\n",
       "      <td>38432</td>\n",
       "      <td>103200</td>\n",
       "      <td>2</td>\n",
       "      <td>0</td>\n",
       "      <td>1</td>\n",
       "      <td>4.750000</td>\n",
       "      <td>16</td>\n",
       "      <td>1</td>\n",
       "      <td>4</td>\n",
       "      <td>3.687500</td>\n",
       "      <td>104420</td>\n",
       "      <td>43.431429</td>\n",
       "      <td>-83.992857</td>\n",
       "      <td>2022-08-26 03:42:03.821133+00:00</td>\n",
       "    </tr>\n",
       "    <tr>\n",
       "      <th>869</th>\n",
       "      <td>Statesville</td>\n",
       "      <td>NC</td>\n",
       "      <td>148363</td>\n",
       "      <td>77456</td>\n",
       "      <td>224844</td>\n",
       "      <td>154923</td>\n",
       "      <td>117470</td>\n",
       "      <td>183055</td>\n",
       "      <td>16</td>\n",
       "      <td>0</td>\n",
       "      <td>4</td>\n",
       "      <td>4.500000</td>\n",
       "      <td>2</td>\n",
       "      <td>0</td>\n",
       "      <td>0</td>\n",
       "      <td>3.750000</td>\n",
       "      <td>62950</td>\n",
       "      <td>35.825000</td>\n",
       "      <td>-80.885000</td>\n",
       "      <td>2022-08-26 03:42:03.821133+00:00</td>\n",
       "    </tr>\n",
       "    <tr>\n",
       "      <th>530</th>\n",
       "      <td>Manassas</td>\n",
       "      <td>VA</td>\n",
       "      <td>223664</td>\n",
       "      <td>33707</td>\n",
       "      <td>672266</td>\n",
       "      <td>185866</td>\n",
       "      <td>92404</td>\n",
       "      <td>276335</td>\n",
       "      <td>21</td>\n",
       "      <td>0</td>\n",
       "      <td>0</td>\n",
       "      <td>4.214286</td>\n",
       "      <td>9</td>\n",
       "      <td>0</td>\n",
       "      <td>0</td>\n",
       "      <td>3.166667</td>\n",
       "      <td>146210</td>\n",
       "      <td>38.735000</td>\n",
       "      <td>-77.467500</td>\n",
       "      <td>2022-08-26 03:42:03.821133+00:00</td>\n",
       "    </tr>\n",
       "    <tr>\n",
       "      <th>91</th>\n",
       "      <td>Bozeman</td>\n",
       "      <td>MT</td>\n",
       "      <td>307866</td>\n",
       "      <td>74578</td>\n",
       "      <td>1110184</td>\n",
       "      <td>182596</td>\n",
       "      <td>112654</td>\n",
       "      <td>371750</td>\n",
       "      <td>13</td>\n",
       "      <td>0</td>\n",
       "      <td>3</td>\n",
       "      <td>4.423077</td>\n",
       "      <td>9</td>\n",
       "      <td>1</td>\n",
       "      <td>3</td>\n",
       "      <td>3.611111</td>\n",
       "      <td>60270</td>\n",
       "      <td>45.710000</td>\n",
       "      <td>-111.050000</td>\n",
       "      <td>2022-08-26 03:42:03.821133+00:00</td>\n",
       "    </tr>\n",
       "    <tr>\n",
       "      <th>268</th>\n",
       "      <td>Ellicott City</td>\n",
       "      <td>MD</td>\n",
       "      <td>482674</td>\n",
       "      <td>39708</td>\n",
       "      <td>2031080</td>\n",
       "      <td>149615</td>\n",
       "      <td>100422</td>\n",
       "      <td>802673</td>\n",
       "      <td>3</td>\n",
       "      <td>0</td>\n",
       "      <td>1</td>\n",
       "      <td>4.500000</td>\n",
       "      <td>3</td>\n",
       "      <td>0</td>\n",
       "      <td>0</td>\n",
       "      <td>3.666667</td>\n",
       "      <td>88660</td>\n",
       "      <td>39.265000</td>\n",
       "      <td>-76.815000</td>\n",
       "      <td>2022-08-26 03:42:03.821133+00:00</td>\n",
       "    </tr>\n",
       "    <tr>\n",
       "      <th>903</th>\n",
       "      <td>Troy</td>\n",
       "      <td>MI</td>\n",
       "      <td>195586</td>\n",
       "      <td>17332</td>\n",
       "      <td>961503</td>\n",
       "      <td>88674</td>\n",
       "      <td>55039</td>\n",
       "      <td>280624</td>\n",
       "      <td>23</td>\n",
       "      <td>0</td>\n",
       "      <td>0</td>\n",
       "      <td>4.043478</td>\n",
       "      <td>23</td>\n",
       "      <td>1</td>\n",
       "      <td>1</td>\n",
       "      <td>3.108696</td>\n",
       "      <td>83310</td>\n",
       "      <td>42.575000</td>\n",
       "      <td>-83.155000</td>\n",
       "      <td>2022-08-26 03:42:03.821133+00:00</td>\n",
       "    </tr>\n",
       "    <tr>\n",
       "      <th>233</th>\n",
       "      <td>Delray Beach</td>\n",
       "      <td>FL</td>\n",
       "      <td>319952</td>\n",
       "      <td>20603</td>\n",
       "      <td>3028847</td>\n",
       "      <td>116724</td>\n",
       "      <td>76318</td>\n",
       "      <td>203285</td>\n",
       "      <td>4</td>\n",
       "      <td>0</td>\n",
       "      <td>0</td>\n",
       "      <td>4.250000</td>\n",
       "      <td>3</td>\n",
       "      <td>0</td>\n",
       "      <td>0</td>\n",
       "      <td>4.166667</td>\n",
       "      <td>101780</td>\n",
       "      <td>26.454000</td>\n",
       "      <td>-80.114000</td>\n",
       "      <td>2022-08-26 03:42:03.821133+00:00</td>\n",
       "    </tr>\n",
       "    <tr>\n",
       "      <th>105</th>\n",
       "      <td>Bronx</td>\n",
       "      <td>NY</td>\n",
       "      <td>190994</td>\n",
       "      <td>6584</td>\n",
       "      <td>828080</td>\n",
       "      <td>151406</td>\n",
       "      <td>73888</td>\n",
       "      <td>280342</td>\n",
       "      <td>33</td>\n",
       "      <td>0</td>\n",
       "      <td>5</td>\n",
       "      <td>4.378788</td>\n",
       "      <td>31</td>\n",
       "      <td>1</td>\n",
       "      <td>4</td>\n",
       "      <td>3.693548</td>\n",
       "      <td>1216340</td>\n",
       "      <td>40.849200</td>\n",
       "      <td>-73.878400</td>\n",
       "      <td>2022-08-26 03:42:03.821133+00:00</td>\n",
       "    </tr>\n",
       "    <tr>\n",
       "      <th>720</th>\n",
       "      <td>Powder Springs</td>\n",
       "      <td>GA</td>\n",
       "      <td>366917</td>\n",
       "      <td>140763</td>\n",
       "      <td>713630</td>\n",
       "      <td>280138</td>\n",
       "      <td>269128</td>\n",
       "      <td>461065</td>\n",
       "      <td>10</td>\n",
       "      <td>0</td>\n",
       "      <td>0</td>\n",
       "      <td>4.350000</td>\n",
       "      <td>11</td>\n",
       "      <td>1</td>\n",
       "      <td>2</td>\n",
       "      <td>3.272727</td>\n",
       "      <td>63510</td>\n",
       "      <td>33.860000</td>\n",
       "      <td>-84.680000</td>\n",
       "      <td>2022-08-26 03:42:03.821133+00:00</td>\n",
       "    </tr>\n",
       "    <tr>\n",
       "      <th>770</th>\n",
       "      <td>Roswell</td>\n",
       "      <td>GA</td>\n",
       "      <td>523671</td>\n",
       "      <td>65959</td>\n",
       "      <td>2736867</td>\n",
       "      <td>160960</td>\n",
       "      <td>140253</td>\n",
       "      <td>675052</td>\n",
       "      <td>23</td>\n",
       "      <td>0</td>\n",
       "      <td>2</td>\n",
       "      <td>4.282609</td>\n",
       "      <td>18</td>\n",
       "      <td>1</td>\n",
       "      <td>1</td>\n",
       "      <td>3.250000</td>\n",
       "      <td>93700</td>\n",
       "      <td>34.030000</td>\n",
       "      <td>-84.330000</td>\n",
       "      <td>2022-08-26 03:42:03.821133+00:00</td>\n",
       "    </tr>\n",
       "  </tbody>\n",
       "</table>\n",
       "</div>"
      ],
      "text/plain": [
       "               city state  mean_income  min_income  max_income  median_income  \\\n",
       "775         Saginaw    MI        70169        3200      259292          57699   \n",
       "869     Statesville    NC       148363       77456      224844         154923   \n",
       "530        Manassas    VA       223664       33707      672266         185866   \n",
       "91          Bozeman    MT       307866       74578     1110184         182596   \n",
       "268   Ellicott City    MD       482674       39708     2031080         149615   \n",
       "903            Troy    MI       195586       17332      961503          88674   \n",
       "233    Delray Beach    FL       319952       20603     3028847         116724   \n",
       "105           Bronx    NY       190994        6584      828080         151406   \n",
       "720  Powder Springs    GA       366917      140763      713630         280138   \n",
       "770         Roswell    GA       523671       65959     2736867         160960   \n",
       "\n",
       "     first_quartile_income  third_quartile_income  num_breweries  \\\n",
       "775                  38432                 103200              2   \n",
       "869                 117470                 183055             16   \n",
       "530                  92404                 276335             21   \n",
       "91                  112654                 371750             13   \n",
       "268                 100422                 802673              3   \n",
       "903                  55039                 280624             23   \n",
       "233                  76318                 203285              4   \n",
       "105                  73888                 280342             33   \n",
       "720                 269128                 461065             10   \n",
       "770                 140253                 675052             23   \n",
       "\n",
       "     breweries_num_one_star_reviews  breweries_num_five_star_reviews  \\\n",
       "775                               0                                1   \n",
       "869                               0                                4   \n",
       "530                               0                                0   \n",
       "91                                0                                3   \n",
       "268                               0                                1   \n",
       "903                               0                                0   \n",
       "233                               0                                0   \n",
       "105                               0                                5   \n",
       "720                               0                                0   \n",
       "770                               0                                2   \n",
       "\n",
       "     breweries_mean_rating  num_outdoor_stores  outdoor_num_one_star_reviews  \\\n",
       "775               4.750000                  16                             1   \n",
       "869               4.500000                   2                             0   \n",
       "530               4.214286                   9                             0   \n",
       "91                4.423077                   9                             1   \n",
       "268               4.500000                   3                             0   \n",
       "903               4.043478                  23                             1   \n",
       "233               4.250000                   3                             0   \n",
       "105               4.378788                  31                             1   \n",
       "720               4.350000                  11                             1   \n",
       "770               4.282609                  18                             1   \n",
       "\n",
       "     outdoor_num_five_star_reviews  outdoor_mean_rating  population  \\\n",
       "775                              4             3.687500      104420   \n",
       "869                              0             3.750000       62950   \n",
       "530                              0             3.166667      146210   \n",
       "91                               3             3.611111       60270   \n",
       "268                              0             3.666667       88660   \n",
       "903                              1             3.108696       83310   \n",
       "233                              0             4.166667      101780   \n",
       "105                              4             3.693548     1216340   \n",
       "720                              2             3.272727       63510   \n",
       "770                              1             3.250000       93700   \n",
       "\n",
       "           lat         lon                       ts_updated  \n",
       "775  43.431429  -83.992857 2022-08-26 03:42:03.821133+00:00  \n",
       "869  35.825000  -80.885000 2022-08-26 03:42:03.821133+00:00  \n",
       "530  38.735000  -77.467500 2022-08-26 03:42:03.821133+00:00  \n",
       "91   45.710000 -111.050000 2022-08-26 03:42:03.821133+00:00  \n",
       "268  39.265000  -76.815000 2022-08-26 03:42:03.821133+00:00  \n",
       "903  42.575000  -83.155000 2022-08-26 03:42:03.821133+00:00  \n",
       "233  26.454000  -80.114000 2022-08-26 03:42:03.821133+00:00  \n",
       "105  40.849200  -73.878400 2022-08-26 03:42:03.821133+00:00  \n",
       "720  33.860000  -84.680000 2022-08-26 03:42:03.821133+00:00  \n",
       "770  34.030000  -84.330000 2022-08-26 03:42:03.821133+00:00  "
      ]
     },
     "execution_count": 2,
     "metadata": {},
     "output_type": "execute_result"
    }
   ],
   "source": [
    "# Connect to city_summary database\n",
    "city_summary = '''\n",
    "    SELECT *\n",
    "    FROM city_summary\n",
    "'''\n",
    "\n",
    "city_summary_df = pd.read_sql_query(\n",
    "    city_summary,\n",
    "    con=ENGINE\n",
    ")\n",
    "\n",
    "city_summary_df.sample(10)"
   ]
  },
  {
   "cell_type": "markdown",
   "id": "24e04b58",
   "metadata": {
    "id": "24e04b58"
   },
   "source": [
    "# Data Processing"
   ]
  },
  {
   "cell_type": "code",
   "execution_count": 3,
   "id": "ff0b9022",
   "metadata": {},
   "outputs": [
    {
     "name": "stdout",
     "output_type": "stream",
     "text": [
      "(1000, 1)\n",
      "(1000, 1)\n"
     ]
    }
   ],
   "source": [
    "# Set X and y for linear regression model\n",
    "X = city_summary_df.num_breweries.values.reshape(-1,1)\n",
    "y = city_summary_df.num_outdoor_stores.values.reshape(-1,1)\n",
    "print(X.shape)\n",
    "print(y.shape)"
   ]
  },
  {
   "cell_type": "markdown",
   "id": "4fa0bb6f",
   "metadata": {
    "id": "4fa0bb6f"
   },
   "source": [
    "# Data Transformation"
   ]
  },
  {
   "cell_type": "code",
   "execution_count": 4,
   "id": "666858d7",
   "metadata": {},
   "outputs": [
    {
     "data": {
      "image/png": "[encoded data removed]",
      "text/plain": [
       "<Figure size 432x288 with 1 Axes>"
      ]
     },
     "metadata": {
      "needs_background": "light"
     },
     "output_type": "display_data"
    }
   ],
   "source": [
    "plt.scatter(city_summary_df.num_breweries, city_summary_df.num_outdoor_stores)\n",
    "plt.xlabel('Breweries')\n",
    "plt.ylabel('Outdoor Stores')\n",
    "plt.show()"
   ]
  },
  {
   "cell_type": "code",
   "execution_count": 5,
   "id": "0bed1191",
   "metadata": {
    "id": "0bed1191"
   },
   "outputs": [],
   "source": [
    "# Create an instance of the model(LinearRegression)\n",
    "model = LinearRegression()"
   ]
  },
  {
   "cell_type": "code",
   "execution_count": 6,
   "id": "435e9843",
   "metadata": {
    "id": "435e9843"
   },
   "outputs": [
    {
     "data": {
      "text/plain": [
       "LinearRegression()"
      ]
     },
     "execution_count": 6,
     "metadata": {},
     "output_type": "execute_result"
    }
   ],
   "source": [
    "# Train the model with the dataset \n",
    "model.fit(X,y)"
   ]
  },
  {
   "cell_type": "code",
   "execution_count": 7,
   "id": "2c49a0de",
   "metadata": {
    "scrolled": true
   },
   "outputs": [
    {
     "data": {
      "text/plain": [
       "0.461028852811069"
      ]
     },
     "execution_count": 7,
     "metadata": {},
     "output_type": "execute_result"
    }
   ],
   "source": [
    "# r squared value of the model\n",
    "model.score(X,y)"
   ]
  },
  {
   "cell_type": "code",
   "execution_count": 8,
   "id": "c1633e57",
   "metadata": {},
   "outputs": [],
   "source": [
    "y_pred = model.predict(X)"
   ]
  },
  {
   "cell_type": "code",
   "execution_count": 10,
   "id": "4e1cec38",
   "metadata": {
    "scrolled": true
   },
   "outputs": [
    {
     "data": {
      "image/png": "[encoded data removed]",
      "text/plain": [
       "<Figure size 432x288 with 1 Axes>"
      ]
     },
     "metadata": {
      "needs_background": "light"
     },
     "output_type": "display_data"
    }
   ],
   "source": [
    "# Visualize trendline\n",
    "plt.scatter(X, y)\n",
    "plt.plot(X, y_pred, color='red')\n",
    "plt.xlabel('Breweries')\n",
    "plt.ylabel('Outdoor Stores')\n",
    "plt.show()"
   ]
  },
  {
   "cell_type": "code",
   "execution_count": 11,
   "id": "7cba53ff",
   "metadata": {},
   "outputs": [
    {
     "name": "stdout",
     "output_type": "stream",
     "text": [
      "Weight coefficients:  [[0.46000485]]\n",
      "y-axis intercept:  [6.37202088]\n"
     ]
    }
   ],
   "source": [
    "# Find model slope and intercept\n",
    "print('Weight coefficients: ', model.coef_)\n",
    "print('y-axis intercept: ', model.intercept_) "
   ]
  },
  {
   "cell_type": "code",
   "execution_count": 12,
   "id": "6035e37c",
   "metadata": {},
   "outputs": [
    {
     "name": "stdout",
     "output_type": "stream",
     "text": [
      "y = 0.46000484951871856x + 6.372020880102107\n"
     ]
    }
   ],
   "source": [
    "# Model formula\n",
    "print(f\"y = {model.coef_[0][0]}x + {model.intercept_[0]}\")"
   ]
  },
  {
   "cell_type": "code",
   "execution_count": 13,
   "id": "4082a16f",
   "metadata": {},
   "outputs": [
    {
     "name": "stdout",
     "output_type": "stream",
     "text": [
      "True output: [1]\n",
      "Predicted output: [8.67204513]\n",
      "Prediction Error: [7.67204513]\n"
     ]
    }
   ],
   "source": [
    "# Find Accuracy of predictions\n",
    "predictions = model.predict(X)\n",
    "print(f\"True output: {y[0]}\")\n",
    "print(f\"Predicted output: {predictions[0]}\")\n",
    "print(f\"Prediction Error: {predictions[0]-y[0]}\")"
   ]
  },
  {
   "cell_type": "markdown",
   "id": "4dcd4263",
   "metadata": {},
   "source": [
    "# Multiple Linear Regression"
   ]
  },
  {
   "cell_type": "code",
   "execution_count": 14,
   "id": "f1c0a965",
   "metadata": {},
   "outputs": [
    {
     "data": {
      "text/html": [
       "<div>\n",
       "<style scoped>\n",
       "    .dataframe tbody tr th:only-of-type {\n",
       "        vertical-align: middle;\n",
       "    }\n",
       "\n",
       "    .dataframe tbody tr th {\n",
       "        vertical-align: top;\n",
       "    }\n",
       "\n",
       "    .dataframe thead th {\n",
       "        text-align: right;\n",
       "    }\n",
       "</style>\n",
       "<table border=\"1\" class=\"dataframe\">\n",
       "  <thead>\n",
       "    <tr style=\"text-align: right;\">\n",
       "      <th></th>\n",
       "      <th>mean_income</th>\n",
       "      <th>min_income</th>\n",
       "      <th>max_income</th>\n",
       "      <th>median_income</th>\n",
       "      <th>first_quartile_income</th>\n",
       "      <th>third_quartile_income</th>\n",
       "      <th>num_breweries</th>\n",
       "      <th>num_outdoor_stores</th>\n",
       "      <th>population</th>\n",
       "    </tr>\n",
       "  </thead>\n",
       "  <tbody>\n",
       "    <tr>\n",
       "      <th>87</th>\n",
       "      <td>295660</td>\n",
       "      <td>27329</td>\n",
       "      <td>2097292</td>\n",
       "      <td>98815</td>\n",
       "      <td>63327</td>\n",
       "      <td>284971</td>\n",
       "      <td>45</td>\n",
       "      <td>35</td>\n",
       "      <td>93200</td>\n",
       "    </tr>\n",
       "    <tr>\n",
       "      <th>991</th>\n",
       "      <td>148338</td>\n",
       "      <td>34922</td>\n",
       "      <td>561619</td>\n",
       "      <td>113896</td>\n",
       "      <td>80584</td>\n",
       "      <td>162387</td>\n",
       "      <td>11</td>\n",
       "      <td>5</td>\n",
       "      <td>116940</td>\n",
       "    </tr>\n",
       "    <tr>\n",
       "      <th>973</th>\n",
       "      <td>83472</td>\n",
       "      <td>442</td>\n",
       "      <td>955395</td>\n",
       "      <td>56544</td>\n",
       "      <td>22044</td>\n",
       "      <td>94860</td>\n",
       "      <td>8</td>\n",
       "      <td>8</td>\n",
       "      <td>365640</td>\n",
       "    </tr>\n",
       "    <tr>\n",
       "      <th>546</th>\n",
       "      <td>274803</td>\n",
       "      <td>84874</td>\n",
       "      <td>579982</td>\n",
       "      <td>242898</td>\n",
       "      <td>198095</td>\n",
       "      <td>354469</td>\n",
       "      <td>0</td>\n",
       "      <td>12</td>\n",
       "      <td>98700</td>\n",
       "    </tr>\n",
       "    <tr>\n",
       "      <th>474</th>\n",
       "      <td>206998</td>\n",
       "      <td>382</td>\n",
       "      <td>2988078</td>\n",
       "      <td>146002</td>\n",
       "      <td>77941</td>\n",
       "      <td>246129</td>\n",
       "      <td>25</td>\n",
       "      <td>39</td>\n",
       "      <td>1384620</td>\n",
       "    </tr>\n",
       "  </tbody>\n",
       "</table>\n",
       "</div>"
      ],
      "text/plain": [
       "     mean_income  min_income  max_income  median_income  \\\n",
       "87        295660       27329     2097292          98815   \n",
       "991       148338       34922      561619         113896   \n",
       "973        83472         442      955395          56544   \n",
       "546       274803       84874      579982         242898   \n",
       "474       206998         382     2988078         146002   \n",
       "\n",
       "     first_quartile_income  third_quartile_income  num_breweries  \\\n",
       "87                   63327                 284971             45   \n",
       "991                  80584                 162387             11   \n",
       "973                  22044                  94860              8   \n",
       "546                 198095                 354469              0   \n",
       "474                  77941                 246129             25   \n",
       "\n",
       "     num_outdoor_stores  population  \n",
       "87                   35       93200  \n",
       "991                   5      116940  \n",
       "973                   8      365640  \n",
       "546                  12       98700  \n",
       "474                  39     1384620  "
      ]
     },
     "execution_count": 14,
     "metadata": {},
     "output_type": "execute_result"
    }
   ],
   "source": [
    "# Remove categorical inputs that are not needed for this model\n",
    "mlr_city_summary = city_summary_df.drop(columns = [\"city\",\"state\",\"ts_updated\",\"breweries_num_one_star_reviews\",\"breweries_num_five_star_reviews\",\"outdoor_num_one_star_reviews\",\"outdoor_num_five_star_reviews\",\"lat\",\"lon\",'breweries_mean_rating','outdoor_mean_rating'])\n",
    "mlr_city_summary.sample(5)"
   ]
  },
  {
   "cell_type": "code",
   "execution_count": 15,
   "id": "b2e79f99",
   "metadata": {},
   "outputs": [
    {
     "data": {
      "text/plain": [
       "Index(['mean_income', 'min_income', 'max_income', 'median_income',\n",
       "       'first_quartile_income', 'third_quartile_income', 'num_breweries',\n",
       "       'num_outdoor_stores', 'population'],\n",
       "      dtype='object')"
      ]
     },
     "execution_count": 15,
     "metadata": {},
     "output_type": "execute_result"
    }
   ],
   "source": [
    "# Get column names to be used when creating scaled df\n",
    "mlr_city_summary_columns = mlr_city_summary.columns\n",
    "mlr_city_summary_columns"
   ]
  },
  {
   "cell_type": "code",
   "execution_count": 16,
   "id": "f01ea7bb",
   "metadata": {},
   "outputs": [
    {
     "data": {
      "text/plain": [
       "Index(['mean_income', 'min_income', 'max_income', 'median_income',\n",
       "       'first_quartile_income', 'third_quartile_income', 'num_breweries',\n",
       "       'population'],\n",
       "      dtype='object')"
      ]
     },
     "execution_count": 16,
     "metadata": {},
     "output_type": "execute_result"
    }
   ],
   "source": [
    "# Get column names without num_outdoor_stores to be used in ColumnTransformer function\n",
    "summary_columns_no_outdoor = mlr_city_summary.columns.drop(\"num_outdoor_stores\")\n",
    "summary_columns_no_outdoor"
   ]
  },
  {
   "cell_type": "code",
   "execution_count": 17,
   "id": "42208441",
   "metadata": {},
   "outputs": [],
   "source": [
    "# Column names for use in making city_summary_scaled_df \n",
    "# Since ColumnTransformer function flipped the population and num_outdoor_stores columns, this is reflected in the column names\n",
    "columns = ['mean_income', 'min_income', 'max_income', 'median_income',\n",
    "       'first_quartile_income', 'third_quartile_income', 'num_breweries',\n",
    "       'population', 'num_outdoor_stores']"
   ]
  },
  {
   "cell_type": "code",
   "execution_count": 18,
   "id": "6e22b237",
   "metadata": {},
   "outputs": [],
   "source": [
    "# Scale data using StandardScaler and ColumnTransformer\n",
    "from sklearn.compose import ColumnTransformer\n",
    "from sklearn.preprocessing import StandardScaler\n",
    "\n",
    "# features is the dataframe being passed into the ColumnTransformer function\n",
    "features = mlr_city_summary\n",
    "\n",
    "# ColumnTransformer applys the StandardScaler Function to all columns in the summary_columns_no_outdoor list, \n",
    "# and passes over any others(num_outdoor_stores)\n",
    "ct = ColumnTransformer([\n",
    "        ('data_scaler', StandardScaler(), summary_columns_no_outdoor)\n",
    "    ], remainder='passthrough')\n",
    "\n",
    "city_summary_scaled = ct.fit_transform(features)"
   ]
  },
  {
   "cell_type": "code",
   "execution_count": 19,
   "id": "9d206a8d",
   "metadata": {},
   "outputs": [
    {
     "data": {
      "text/html": [
       "<div>\n",
       "<style scoped>\n",
       "    .dataframe tbody tr th:only-of-type {\n",
       "        vertical-align: middle;\n",
       "    }\n",
       "\n",
       "    .dataframe tbody tr th {\n",
       "        vertical-align: top;\n",
       "    }\n",
       "\n",
       "    .dataframe thead th {\n",
       "        text-align: right;\n",
       "    }\n",
       "</style>\n",
       "<table border=\"1\" class=\"dataframe\">\n",
       "  <thead>\n",
       "    <tr style=\"text-align: right;\">\n",
       "      <th></th>\n",
       "      <th>mean_income</th>\n",
       "      <th>min_income</th>\n",
       "      <th>max_income</th>\n",
       "      <th>median_income</th>\n",
       "      <th>first_quartile_income</th>\n",
       "      <th>third_quartile_income</th>\n",
       "      <th>num_breweries</th>\n",
       "      <th>population</th>\n",
       "      <th>num_outdoor_stores</th>\n",
       "    </tr>\n",
       "  </thead>\n",
       "  <tbody>\n",
       "    <tr>\n",
       "      <th>151</th>\n",
       "      <td>0.840024</td>\n",
       "      <td>-0.162996</td>\n",
       "      <td>0.696608</td>\n",
       "      <td>-0.695428</td>\n",
       "      <td>-0.467883</td>\n",
       "      <td>0.578333</td>\n",
       "      <td>-0.109476</td>\n",
       "      <td>-0.311695</td>\n",
       "      <td>6.0</td>\n",
       "    </tr>\n",
       "    <tr>\n",
       "      <th>475</th>\n",
       "      <td>-0.384345</td>\n",
       "      <td>-0.268356</td>\n",
       "      <td>-0.366647</td>\n",
       "      <td>-0.220703</td>\n",
       "      <td>-0.061847</td>\n",
       "      <td>-0.376619</td>\n",
       "      <td>-0.535087</td>\n",
       "      <td>-0.183813</td>\n",
       "      <td>27.0</td>\n",
       "    </tr>\n",
       "    <tr>\n",
       "      <th>144</th>\n",
       "      <td>2.942685</td>\n",
       "      <td>1.945449</td>\n",
       "      <td>0.604703</td>\n",
       "      <td>2.340782</td>\n",
       "      <td>2.829663</td>\n",
       "      <td>4.032135</td>\n",
       "      <td>-0.582377</td>\n",
       "      <td>-0.320735</td>\n",
       "      <td>4.0</td>\n",
       "    </tr>\n",
       "    <tr>\n",
       "      <th>65</th>\n",
       "      <td>0.050855</td>\n",
       "      <td>-0.183482</td>\n",
       "      <td>-0.408409</td>\n",
       "      <td>0.704520</td>\n",
       "      <td>0.638664</td>\n",
       "      <td>0.107074</td>\n",
       "      <td>-0.676957</td>\n",
       "      <td>-0.290707</td>\n",
       "      <td>9.0</td>\n",
       "    </tr>\n",
       "    <tr>\n",
       "      <th>605</th>\n",
       "      <td>0.802121</td>\n",
       "      <td>-0.741189</td>\n",
       "      <td>3.126024</td>\n",
       "      <td>-0.703522</td>\n",
       "      <td>-0.652269</td>\n",
       "      <td>-0.375533</td>\n",
       "      <td>-0.440507</td>\n",
       "      <td>0.629409</td>\n",
       "      <td>5.0</td>\n",
       "    </tr>\n",
       "  </tbody>\n",
       "</table>\n",
       "</div>"
      ],
      "text/plain": [
       "     mean_income  min_income  max_income  median_income  \\\n",
       "151     0.840024   -0.162996    0.696608      -0.695428   \n",
       "475    -0.384345   -0.268356   -0.366647      -0.220703   \n",
       "144     2.942685    1.945449    0.604703       2.340782   \n",
       "65      0.050855   -0.183482   -0.408409       0.704520   \n",
       "605     0.802121   -0.741189    3.126024      -0.703522   \n",
       "\n",
       "     first_quartile_income  third_quartile_income  num_breweries  population  \\\n",
       "151              -0.467883               0.578333      -0.109476   -0.311695   \n",
       "475              -0.061847              -0.376619      -0.535087   -0.183813   \n",
       "144               2.829663               4.032135      -0.582377   -0.320735   \n",
       "65                0.638664               0.107074      -0.676957   -0.290707   \n",
       "605              -0.652269              -0.375533      -0.440507    0.629409   \n",
       "\n",
       "     num_outdoor_stores  \n",
       "151                 6.0  \n",
       "475                27.0  \n",
       "144                 4.0  \n",
       "65                  9.0  \n",
       "605                 5.0  "
      ]
     },
     "execution_count": 19,
     "metadata": {},
     "output_type": "execute_result"
    }
   ],
   "source": [
    "# Create new dataframe with the scaled data, leaving the num_outdoor_stores not scaled since it is out output\n",
    "city_summary_scaled_df = pd.DataFrame(city_summary_scaled, columns = columns)\n",
    "city_summary_scaled_df.sample(5)"
   ]
  },
  {
   "cell_type": "code",
   "execution_count": 20,
   "id": "c84ae66c",
   "metadata": {},
   "outputs": [],
   "source": [
    "# Set X and y for model\n",
    "X = city_summary_scaled_df.drop(columns = \"num_outdoor_stores\")\n",
    "y = city_summary_scaled_df[\"num_outdoor_stores\"]"
   ]
  },
  {
   "cell_type": "code",
   "execution_count": 21,
   "id": "6b785a9d",
   "metadata": {},
   "outputs": [],
   "source": [
    "# Split the data\n",
    "X_train, X_test, y_train, y_test = train_test_split(X, y, random_state =27)"
   ]
  },
  {
   "cell_type": "code",
   "execution_count": 22,
   "id": "1a5c75b7",
   "metadata": {},
   "outputs": [
    {
     "data": {
      "text/plain": [
       "LinearRegression()"
      ]
     },
     "execution_count": 22,
     "metadata": {},
     "output_type": "execute_result"
    }
   ],
   "source": [
    "# Create an object of LinearRegression class\n",
    "lr = LinearRegression()\n",
    "\n",
    "# fitting the training data\n",
    "lr.fit(X_train,y_train)"
   ]
  },
  {
   "cell_type": "code",
   "execution_count": 23,
   "id": "bc1c379c",
   "metadata": {
    "scrolled": true
   },
   "outputs": [
    {
     "data": {
      "text/plain": [
       "array([32.16233268, 11.6906615 , 12.46934351, 11.89034517, 10.44894426,\n",
       "       11.90923449, 56.96754013, 15.74324744, 17.51019906, 37.58571639,\n",
       "        5.88475478,  7.15791004, 46.58604509, 10.74206379,  9.69629615,\n",
       "        7.70539431,  9.4795153 ,  8.57973986,  7.59068344, 12.04280323,\n",
       "       28.89365686,  7.89156273, 32.62036596,  6.63592722, 12.7383625 ,\n",
       "        7.74533746, 12.08161642,  6.34413784, 14.93731062,  7.02412611,\n",
       "        6.8934051 ,  7.18478858, 14.02573308,  6.53580115,  8.72725679,\n",
       "       11.40237024,  8.94723981, 27.68976832,  6.37472677, 13.86795925,\n",
       "       13.1750552 , 12.15438292, 56.46523321, 25.78468655, 12.13760055,\n",
       "       10.2828263 ,  8.78039862, 12.1319835 , 12.28503123,  8.53591184,\n",
       "       16.63446978,  7.33209563,  7.16036243,  7.87573626,  7.88721525,\n",
       "       31.25688179, 13.73839567, 24.3881156 ,  9.57339594,  5.91771609,\n",
       "        5.40988211,  6.2641639 ,  6.33097313,  8.08345609,  6.72316861,\n",
       "        6.96422492, 19.90191943,  9.68578782,  7.40172824,  5.92044641,\n",
       "       10.07015666,  6.20761392,  8.16304649,  8.28295881, 17.55473752,\n",
       "       10.71306314, 25.11961394,  9.45833334,  8.47979388, 20.11633892,\n",
       "        8.40903127,  9.94176337,  7.7001735 , 11.10799972,  9.97399745,\n",
       "       12.62877695,  7.22346164,  9.11277905, 39.71080147,  8.71279479,\n",
       "        9.94689377,  7.24609708, 45.18241784,  6.95332921, 38.06021601,\n",
       "        9.31428348, 11.40779278,  6.36692806, 13.14972507,  6.99670626,\n",
       "       10.8040685 ,  8.64478833, 15.09455096, 12.09773076, 11.9159585 ,\n",
       "       82.6321367 ,  7.50383023, 38.75928244,  6.80441609,  7.74676188,\n",
       "       13.6881187 ,  6.29595942, 12.29034882,  6.49820449, 18.93439432,\n",
       "        6.2578328 , 10.40782267,  9.4276039 , 46.94440155,  8.05334471,\n",
       "       33.36977233, 13.6386286 , 10.31339952,  8.85112992, 11.8226319 ,\n",
       "       21.57394751, 29.00536536,  8.46370049,  8.57544426,  6.54216868,\n",
       "       15.66802971, 12.78381901, 75.31824453, 11.94216658, 13.7226359 ,\n",
       "        9.58764859, 13.00201909,  7.15249525, 10.98432201, 11.74326886,\n",
       "       10.57697004,  9.73094154, 36.43287416,  7.09106118, 17.12864183,\n",
       "        8.22857043,  7.58239706, 32.77587239, 14.17662944,  9.4070651 ,\n",
       "       17.78676357,  5.87186188, 21.63071897,  6.52956342, 17.52996306,\n",
       "       13.54883786,  7.8700304 ,  8.28608146,  5.23096254, 11.04613501,\n",
       "       11.34680329, 19.61819736, 11.45248915, 14.06347622,  6.92244257,\n",
       "       10.13228262, 15.44479906, 20.9267499 , 14.76387592,  8.64627128,\n",
       "        6.67679795, 12.70830337,  9.91587608,  6.14151171, 16.51475025,\n",
       "        7.46099056,  5.40336191,  7.92002215, 13.34330731,  7.34792063,\n",
       "       11.15642671,  6.26810518,  7.43127941,  8.37520191, 22.2398149 ,\n",
       "       11.62499941, 10.34674251, 11.16952744,  9.86060703,  7.22341331,\n",
       "       27.74878791, 14.1550391 ,  5.0627794 , 21.9914575 ,  5.87269119,\n",
       "        9.84094588, 11.79632129, 11.05040554,  7.19215046,  6.91975201,\n",
       "        9.33125766,  8.61199347, 11.07581457, 23.47270279,  8.31799079,\n",
       "       16.24592871, 11.9828509 ,  9.61043615, 50.51026942,  6.75904305,\n",
       "       28.17465198,  8.36381575,  6.3042298 ,  9.3745425 , 13.5588522 ,\n",
       "       12.57276062, 12.3209035 , 12.38638744,  8.16378895, 19.07935753,\n",
       "       15.16741148, 29.4368604 , 11.62327081, 25.36394143, 10.0634574 ,\n",
       "       38.54234613,  7.28005828, 11.86120401, 10.73965571,  7.49269141,\n",
       "        7.40116143,  5.74646335, 13.53090264,  8.64965614,  7.50985484,\n",
       "       26.05884732, 19.51136454,  9.3789874 , 12.14203281, 12.6564045 ,\n",
       "       15.39102219, 18.86021866, 28.59652927,  8.07308211,  7.63011824,\n",
       "       31.2410939 , 17.94803637,  9.51939806, 12.09609867,  7.94704239])"
      ]
     },
     "execution_count": 23,
     "metadata": {},
     "output_type": "execute_result"
    }
   ],
   "source": [
    "# Get predictions\n",
    "y_pred = lr.predict(X_test)\n",
    "y_pred"
   ]
  },
  {
   "cell_type": "code",
   "execution_count": 35,
   "id": "410fccf5",
   "metadata": {},
   "outputs": [
    {
     "data": {
      "text/html": [
       "<div>\n",
       "<style scoped>\n",
       "    .dataframe tbody tr th:only-of-type {\n",
       "        vertical-align: middle;\n",
       "    }\n",
       "\n",
       "    .dataframe tbody tr th {\n",
       "        vertical-align: top;\n",
       "    }\n",
       "\n",
       "    .dataframe thead th {\n",
       "        text-align: right;\n",
       "    }\n",
       "</style>\n",
       "<table border=\"1\" class=\"dataframe\">\n",
       "  <thead>\n",
       "    <tr style=\"text-align: right;\">\n",
       "      <th></th>\n",
       "      <th>Predicted</th>\n",
       "      <th>Actual</th>\n",
       "      <th>Error</th>\n",
       "    </tr>\n",
       "  </thead>\n",
       "  <tbody>\n",
       "    <tr>\n",
       "      <th>754</th>\n",
       "      <td>32.162333</td>\n",
       "      <td>49.0</td>\n",
       "      <td>-16.837667</td>\n",
       "    </tr>\n",
       "    <tr>\n",
       "      <th>768</th>\n",
       "      <td>11.690661</td>\n",
       "      <td>21.0</td>\n",
       "      <td>-9.309339</td>\n",
       "    </tr>\n",
       "    <tr>\n",
       "      <th>23</th>\n",
       "      <td>12.469344</td>\n",
       "      <td>9.0</td>\n",
       "      <td>3.469344</td>\n",
       "    </tr>\n",
       "    <tr>\n",
       "      <th>47</th>\n",
       "      <td>11.890345</td>\n",
       "      <td>5.0</td>\n",
       "      <td>6.890345</td>\n",
       "    </tr>\n",
       "    <tr>\n",
       "      <th>453</th>\n",
       "      <td>10.448944</td>\n",
       "      <td>10.0</td>\n",
       "      <td>0.448944</td>\n",
       "    </tr>\n",
       "    <tr>\n",
       "      <th>...</th>\n",
       "      <td>...</td>\n",
       "      <td>...</td>\n",
       "      <td>...</td>\n",
       "    </tr>\n",
       "    <tr>\n",
       "      <th>330</th>\n",
       "      <td>31.241094</td>\n",
       "      <td>15.0</td>\n",
       "      <td>16.241094</td>\n",
       "    </tr>\n",
       "    <tr>\n",
       "      <th>969</th>\n",
       "      <td>17.948036</td>\n",
       "      <td>34.0</td>\n",
       "      <td>-16.051964</td>\n",
       "    </tr>\n",
       "    <tr>\n",
       "      <th>156</th>\n",
       "      <td>9.519398</td>\n",
       "      <td>14.0</td>\n",
       "      <td>-4.480602</td>\n",
       "    </tr>\n",
       "    <tr>\n",
       "      <th>395</th>\n",
       "      <td>12.096099</td>\n",
       "      <td>11.0</td>\n",
       "      <td>1.096099</td>\n",
       "    </tr>\n",
       "    <tr>\n",
       "      <th>659</th>\n",
       "      <td>7.947042</td>\n",
       "      <td>34.0</td>\n",
       "      <td>-26.052958</td>\n",
       "    </tr>\n",
       "  </tbody>\n",
       "</table>\n",
       "<p>250 rows × 3 columns</p>\n",
       "</div>"
      ],
      "text/plain": [
       "     Predicted  Actual      Error\n",
       "754  32.162333    49.0 -16.837667\n",
       "768  11.690661    21.0  -9.309339\n",
       "23   12.469344     9.0   3.469344\n",
       "47   11.890345     5.0   6.890345\n",
       "453  10.448944    10.0   0.448944\n",
       "..         ...     ...        ...\n",
       "330  31.241094    15.0  16.241094\n",
       "969  17.948036    34.0 -16.051964\n",
       "156   9.519398    14.0  -4.480602\n",
       "395  12.096099    11.0   1.096099\n",
       "659   7.947042    34.0 -26.052958\n",
       "\n",
       "[250 rows x 3 columns]"
      ]
     },
     "execution_count": 35,
     "metadata": {},
     "output_type": "execute_result"
    }
   ],
   "source": [
    "# Display the predicted vs actual values for number of outdoor stores\n",
    "error_df = pd.DataFrame({\"Predicted\": y_pred, \"Actual\": y_test, \"Error\": y_pred - y_test})[[\"Predicted\", \"Actual\", \"Error\"]]\n",
    "error_df"
   ]
  },
  {
   "cell_type": "code",
   "execution_count": 25,
   "id": "05159d08",
   "metadata": {},
   "outputs": [
    {
     "name": "stdout",
     "output_type": "stream",
     "text": [
      "r2 score is 0.35964534295787653\n",
      "mean_sqrd_error is 107.01275068633758\n",
      "root_mean_squared error is 10.344696742115623\n"
     ]
    }
   ],
   "source": [
    "# importing r2_score module\n",
    "from sklearn.metrics import r2_score\n",
    "from sklearn.metrics import mean_squared_error\n",
    "# predicting the accuracy score\n",
    "score=r2_score(y_test,y_pred)\n",
    "print(f'r2 score is {score}')\n",
    "print(f'mean_sqrd_error is {mean_squared_error(y_test,y_pred)}')\n",
    "print(f'root_mean_squared error is {np.sqrt(mean_squared_error(y_test,y_pred))}')"
   ]
  },
  {
   "cell_type": "code",
   "execution_count": 26,
   "id": "7ebcca02",
   "metadata": {
    "id": "7ebcca02"
   },
   "outputs": [
    {
     "data": {
      "text/plain": [
       "array([-1.79125573,  0.83250165,  1.86156457,  0.15134888, -0.0227737 ,\n",
       "        1.33073063,  9.37775659,  1.42879037])"
      ]
     },
     "execution_count": 26,
     "metadata": {},
     "output_type": "execute_result"
    }
   ],
   "source": [
    "# Find impact of different variables\n",
    "lr.coef_"
   ]
  },
  {
   "cell_type": "code",
   "execution_count": 27,
   "id": "cf7a41fe",
   "metadata": {},
   "outputs": [
    {
     "data": {
      "text/plain": [
       "13.907976896094105"
      ]
     },
     "execution_count": 27,
     "metadata": {},
     "output_type": "execute_result"
    }
   ],
   "source": [
    "# Find the intercept\n",
    "lr.intercept_"
   ]
  },
  {
   "cell_type": "code",
   "execution_count": 38,
   "id": "dd136777",
   "metadata": {},
   "outputs": [
    {
     "data": {
      "text/plain": [
       "1000"
      ]
     },
     "execution_count": 38,
     "metadata": {},
     "output_type": "execute_result"
    }
   ],
   "source": [
    "# Finding the error for all cities\n",
    "full_df_pred = lr.predict(X)\n",
    "len(full_df_pred)"
   ]
  },
  {
   "cell_type": "code",
   "execution_count": 41,
   "id": "46d7c596",
   "metadata": {},
   "outputs": [
    {
     "data": {
      "text/html": [
       "<div>\n",
       "<style scoped>\n",
       "    .dataframe tbody tr th:only-of-type {\n",
       "        vertical-align: middle;\n",
       "    }\n",
       "\n",
       "    .dataframe tbody tr th {\n",
       "        vertical-align: top;\n",
       "    }\n",
       "\n",
       "    .dataframe thead th {\n",
       "        text-align: right;\n",
       "    }\n",
       "</style>\n",
       "<table border=\"1\" class=\"dataframe\">\n",
       "  <thead>\n",
       "    <tr style=\"text-align: right;\">\n",
       "      <th></th>\n",
       "      <th>City</th>\n",
       "      <th>State</th>\n",
       "      <th>Predicted</th>\n",
       "      <th>Actual</th>\n",
       "      <th>Error</th>\n",
       "    </tr>\n",
       "  </thead>\n",
       "  <tbody>\n",
       "    <tr>\n",
       "      <th>0</th>\n",
       "      <td>Abilene</td>\n",
       "      <td>TX</td>\n",
       "      <td>6.932826</td>\n",
       "      <td>1.0</td>\n",
       "      <td>-5.932826</td>\n",
       "    </tr>\n",
       "    <tr>\n",
       "      <th>1</th>\n",
       "      <td>Acworth</td>\n",
       "      <td>GA</td>\n",
       "      <td>11.628354</td>\n",
       "      <td>15.0</td>\n",
       "      <td>3.371646</td>\n",
       "    </tr>\n",
       "    <tr>\n",
       "      <th>2</th>\n",
       "      <td>Aiken</td>\n",
       "      <td>SC</td>\n",
       "      <td>10.764954</td>\n",
       "      <td>10.0</td>\n",
       "      <td>-0.764954</td>\n",
       "    </tr>\n",
       "    <tr>\n",
       "      <th>3</th>\n",
       "      <td>Akron</td>\n",
       "      <td>OH</td>\n",
       "      <td>25.215611</td>\n",
       "      <td>12.0</td>\n",
       "      <td>-13.215611</td>\n",
       "    </tr>\n",
       "    <tr>\n",
       "      <th>4</th>\n",
       "      <td>Alameda</td>\n",
       "      <td>CA</td>\n",
       "      <td>13.494938</td>\n",
       "      <td>5.0</td>\n",
       "      <td>-8.494938</td>\n",
       "    </tr>\n",
       "    <tr>\n",
       "      <th>...</th>\n",
       "      <td>...</td>\n",
       "      <td>...</td>\n",
       "      <td>...</td>\n",
       "      <td>...</td>\n",
       "      <td>...</td>\n",
       "    </tr>\n",
       "    <tr>\n",
       "      <th>995</th>\n",
       "      <td>Youngstown</td>\n",
       "      <td>OH</td>\n",
       "      <td>7.745337</td>\n",
       "      <td>2.0</td>\n",
       "      <td>-5.745337</td>\n",
       "    </tr>\n",
       "    <tr>\n",
       "      <th>996</th>\n",
       "      <td>Ypsilanti</td>\n",
       "      <td>MI</td>\n",
       "      <td>14.025733</td>\n",
       "      <td>12.0</td>\n",
       "      <td>-2.025733</td>\n",
       "    </tr>\n",
       "    <tr>\n",
       "      <th>997</th>\n",
       "      <td>Yuba City</td>\n",
       "      <td>CA</td>\n",
       "      <td>8.479794</td>\n",
       "      <td>2.0</td>\n",
       "      <td>-6.479794</td>\n",
       "    </tr>\n",
       "    <tr>\n",
       "      <th>998</th>\n",
       "      <td>Yukon</td>\n",
       "      <td>OK</td>\n",
       "      <td>22.284831</td>\n",
       "      <td>18.0</td>\n",
       "      <td>-4.284831</td>\n",
       "    </tr>\n",
       "    <tr>\n",
       "      <th>999</th>\n",
       "      <td>Yuma</td>\n",
       "      <td>AZ</td>\n",
       "      <td>5.560147</td>\n",
       "      <td>0.0</td>\n",
       "      <td>-5.560147</td>\n",
       "    </tr>\n",
       "  </tbody>\n",
       "</table>\n",
       "<p>1000 rows × 5 columns</p>\n",
       "</div>"
      ],
      "text/plain": [
       "           City State  Predicted  Actual      Error\n",
       "0       Abilene    TX   6.932826     1.0  -5.932826\n",
       "1       Acworth    GA  11.628354    15.0   3.371646\n",
       "2         Aiken    SC  10.764954    10.0  -0.764954\n",
       "3         Akron    OH  25.215611    12.0 -13.215611\n",
       "4       Alameda    CA  13.494938     5.0  -8.494938\n",
       "..          ...   ...        ...     ...        ...\n",
       "995  Youngstown    OH   7.745337     2.0  -5.745337\n",
       "996   Ypsilanti    MI  14.025733    12.0  -2.025733\n",
       "997   Yuba City    CA   8.479794     2.0  -6.479794\n",
       "998       Yukon    OK  22.284831    18.0  -4.284831\n",
       "999        Yuma    AZ   5.560147     0.0  -5.560147\n",
       "\n",
       "[1000 rows x 5 columns]"
      ]
     },
     "execution_count": 41,
     "metadata": {},
     "output_type": "execute_result"
    }
   ],
   "source": [
    "# Display the predicted vs actual values for number of outdoor stores\n",
    "full_error_df = pd.DataFrame({\"City\":city_summary_df[\"city\"], \"State\":city_summary_df[\"state\"], \"Predicted\": full_df_pred, \"Actual\": y, \"Error\": y - full_df_pred})[[\"City\",\"State\",\"Predicted\", \"Actual\", \"Error\"]]\n",
    "full_error_df"
   ]
  },
  {
   "cell_type": "code",
   "execution_count": null,
   "id": "3bc2deb9",
   "metadata": {},
   "outputs": [],
   "source": []
  }
 ],
 "metadata": {
  "colab": {
   "collapsed_sections": [],
   "name": "machine_learning_mockup.ipynb",
   "provenance": []
  },
  "kernelspec": {
   "display_name": "mlenv",
   "language": "python",
   "name": "mlenv"
  },
  "language_info": {
   "codemirror_mode": {
    "name": "ipython",
    "version": 3
   },
   "file_extension": ".py",
   "mimetype": "text/x-python",
   "name": "python",
   "nbconvert_exporter": "python",
   "pygments_lexer": "ipython3",
   "version": "3.7.13"
  }
 },
 "nbformat": 4,
 "nbformat_minor": 5
}
