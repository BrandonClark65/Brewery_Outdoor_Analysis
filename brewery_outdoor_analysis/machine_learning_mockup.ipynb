{
 "cells": [
  {
   "cell_type": "markdown",
   "id": "ak5MPrinVsLo",
   "metadata": {
    "id": "ak5MPrinVsLo"
   },
   "source": [
    "\n",
    "# Brewery Analysis: Machine Learning\n",
    "\n",
    "\n",
    "\n",
    "---\n",
    "\n",
    "\n",
    "\n",
    "*  Data is preprocessed and cleaned by removing unneeded columns, merging zip code/cities datasets, and limiting dataset to the top 1,000 most populated cities.\n",
    "*  To obtain the best possible predictive results, preliminary features should be explored, engineered, and carefully selected. Possible preliminary features for this model could be average income per zipcode, income per capita, and clothing stores per brewery count.\n",
    "*  The importance of correlation between breweries and outdoor clothing stores will drive which features will be engineered and selected, ultimately answering the hypthesis.\n",
    "*  Data was split into training and testing sets using train_test_split and a random state of 24. This will assist in evaluating the performance of the model in relation to the dataset.\n",
    "*  A linear regression model was chosen to best illustrate correlation between brewery location and outdoor clothing store location. Is there a strong relationship between the two? The benefits of using a linear regression is readability and abiility to answer basic questions. Limitations of a linear regression model will be sensitivity to outliers. With more time we would like to also set up a cluster model.\n",
    "\n",
    "\n",
    "\n"
   ]
  },
  {
   "cell_type": "code",
   "execution_count": 1,
   "id": "b76fee5c",
   "metadata": {
    "colab": {
     "base_uri": "https://localhost:8080/",
     "height": 339
    },
    "id": "b76fee5c",
    "outputId": "592736c6-e75c-4dc7-e424-8771ab7b0627"
   },
   "outputs": [],
   "source": [
    "# Import dependencies\n",
    "\n",
    "import pandas as pd\n",
    "from pathlib import Path\n",
    "import matplotlib.pyplot as plt\n",
    "import numpy as np\n",
    "\n",
    "from sklearn.linear_model import LinearRegression\n",
    "from sklearn.datasets import make_regression\n",
    "from sklearn.model_selection import train_test_split\n",
    "from sklearn import preprocessing\n",
    "from sklearn.preprocessing import OneHotEncoder\n",
    "\n",
    "from database_connection import ENGINE"
   ]
  },
  {
   "cell_type": "markdown",
   "id": "be134445",
   "metadata": {
    "id": "be134445"
   },
   "source": [
    "# Data Selection"
   ]
  },
  {
   "cell_type": "code",
   "execution_count": 2,
   "id": "7c73aced",
   "metadata": {},
   "outputs": [
    {
     "data": {
      "text/html": [
       "<div>\n",
       "<style scoped>\n",
       "    .dataframe tbody tr th:only-of-type {\n",
       "        vertical-align: middle;\n",
       "    }\n",
       "\n",
       "    .dataframe tbody tr th {\n",
       "        vertical-align: top;\n",
       "    }\n",
       "\n",
       "    .dataframe thead th {\n",
       "        text-align: right;\n",
       "    }\n",
       "</style>\n",
       "<table border=\"1\" class=\"dataframe\">\n",
       "  <thead>\n",
       "    <tr style=\"text-align: right;\">\n",
       "      <th></th>\n",
       "      <th>city</th>\n",
       "      <th>state</th>\n",
       "      <th>mean_income</th>\n",
       "      <th>min_income</th>\n",
       "      <th>max_income</th>\n",
       "      <th>median_income</th>\n",
       "      <th>first_quartile_income</th>\n",
       "      <th>third_quartile_income</th>\n",
       "      <th>num_breweries</th>\n",
       "      <th>breweries_num_one_star_reviews</th>\n",
       "      <th>breweries_num_five_star_reviews</th>\n",
       "      <th>breweries_mean_rating</th>\n",
       "      <th>num_outdoor_stores</th>\n",
       "      <th>outdoor_num_one_star_reviews</th>\n",
       "      <th>outdoor_num_five_star_reviews</th>\n",
       "      <th>outdoor_mean_rating</th>\n",
       "      <th>population</th>\n",
       "      <th>lat</th>\n",
       "      <th>lon</th>\n",
       "      <th>ts_updated</th>\n",
       "    </tr>\n",
       "  </thead>\n",
       "  <tbody>\n",
       "    <tr>\n",
       "      <th>301</th>\n",
       "      <td>Columbus</td>\n",
       "      <td>IN</td>\n",
       "      <td>215376</td>\n",
       "      <td>44523</td>\n",
       "      <td>500863</td>\n",
       "      <td>196715</td>\n",
       "      <td>120479</td>\n",
       "      <td>270910</td>\n",
       "      <td>20</td>\n",
       "      <td>0</td>\n",
       "      <td>3</td>\n",
       "      <td>4.025000</td>\n",
       "      <td>4</td>\n",
       "      <td>0</td>\n",
       "      <td>2</td>\n",
       "      <td>4.625000</td>\n",
       "      <td>67360</td>\n",
       "      <td>39.220000</td>\n",
       "      <td>-85.870000</td>\n",
       "      <td>2022-08-24 21:00:34.821677+00:00</td>\n",
       "    </tr>\n",
       "    <tr>\n",
       "      <th>592</th>\n",
       "      <td>Gig Harbor</td>\n",
       "      <td>WA</td>\n",
       "      <td>192013</td>\n",
       "      <td>12513</td>\n",
       "      <td>1004382</td>\n",
       "      <td>80458</td>\n",
       "      <td>45805</td>\n",
       "      <td>131844</td>\n",
       "      <td>15</td>\n",
       "      <td>0</td>\n",
       "      <td>2</td>\n",
       "      <td>4.233333</td>\n",
       "      <td>6</td>\n",
       "      <td>0</td>\n",
       "      <td>2</td>\n",
       "      <td>4.250000</td>\n",
       "      <td>53110</td>\n",
       "      <td>47.340000</td>\n",
       "      <td>-122.643333</td>\n",
       "      <td>2022-08-24 21:00:34.821677+00:00</td>\n",
       "    </tr>\n",
       "    <tr>\n",
       "      <th>716</th>\n",
       "      <td>Pasadena</td>\n",
       "      <td>TX</td>\n",
       "      <td>98606</td>\n",
       "      <td>6377</td>\n",
       "      <td>298102</td>\n",
       "      <td>94946</td>\n",
       "      <td>62964</td>\n",
       "      <td>114787</td>\n",
       "      <td>8</td>\n",
       "      <td>0</td>\n",
       "      <td>0</td>\n",
       "      <td>4.312500</td>\n",
       "      <td>6</td>\n",
       "      <td>0</td>\n",
       "      <td>1</td>\n",
       "      <td>3.333333</td>\n",
       "      <td>128167</td>\n",
       "      <td>29.670000</td>\n",
       "      <td>-95.160000</td>\n",
       "      <td>2022-08-24 21:00:34.821677+00:00</td>\n",
       "    </tr>\n",
       "    <tr>\n",
       "      <th>554</th>\n",
       "      <td>Smyrna</td>\n",
       "      <td>GA</td>\n",
       "      <td>301770</td>\n",
       "      <td>44362</td>\n",
       "      <td>950920</td>\n",
       "      <td>222218</td>\n",
       "      <td>114047</td>\n",
       "      <td>431970</td>\n",
       "      <td>12</td>\n",
       "      <td>0</td>\n",
       "      <td>0</td>\n",
       "      <td>4.208333</td>\n",
       "      <td>2</td>\n",
       "      <td>0</td>\n",
       "      <td>0</td>\n",
       "      <td>4.250000</td>\n",
       "      <td>69060</td>\n",
       "      <td>33.855000</td>\n",
       "      <td>-84.525000</td>\n",
       "      <td>2022-08-24 21:00:34.821677+00:00</td>\n",
       "    </tr>\n",
       "    <tr>\n",
       "      <th>378</th>\n",
       "      <td>Greenville</td>\n",
       "      <td>NC</td>\n",
       "      <td>228233</td>\n",
       "      <td>100313</td>\n",
       "      <td>601172</td>\n",
       "      <td>173988</td>\n",
       "      <td>152739</td>\n",
       "      <td>244276</td>\n",
       "      <td>10</td>\n",
       "      <td>0</td>\n",
       "      <td>1</td>\n",
       "      <td>4.100000</td>\n",
       "      <td>6</td>\n",
       "      <td>0</td>\n",
       "      <td>3</td>\n",
       "      <td>4.583333</td>\n",
       "      <td>80740</td>\n",
       "      <td>35.625000</td>\n",
       "      <td>-77.375000</td>\n",
       "      <td>2022-08-24 21:00:34.821677+00:00</td>\n",
       "    </tr>\n",
       "    <tr>\n",
       "      <th>292</th>\n",
       "      <td>Lakeland</td>\n",
       "      <td>FL</td>\n",
       "      <td>132822</td>\n",
       "      <td>12257</td>\n",
       "      <td>676157</td>\n",
       "      <td>113858</td>\n",
       "      <td>60763</td>\n",
       "      <td>156618</td>\n",
       "      <td>10</td>\n",
       "      <td>0</td>\n",
       "      <td>1</td>\n",
       "      <td>4.000000</td>\n",
       "      <td>2</td>\n",
       "      <td>0</td>\n",
       "      <td>0</td>\n",
       "      <td>3.750000</td>\n",
       "      <td>219280</td>\n",
       "      <td>28.051111</td>\n",
       "      <td>-81.948889</td>\n",
       "      <td>2022-08-24 21:00:34.821677+00:00</td>\n",
       "    </tr>\n",
       "    <tr>\n",
       "      <th>988</th>\n",
       "      <td>Acworth</td>\n",
       "      <td>GA</td>\n",
       "      <td>302309</td>\n",
       "      <td>86787</td>\n",
       "      <td>847078</td>\n",
       "      <td>196166</td>\n",
       "      <td>167784</td>\n",
       "      <td>284085</td>\n",
       "      <td>4</td>\n",
       "      <td>0</td>\n",
       "      <td>1</td>\n",
       "      <td>4.625000</td>\n",
       "      <td>7</td>\n",
       "      <td>0</td>\n",
       "      <td>0</td>\n",
       "      <td>3.357143</td>\n",
       "      <td>96420</td>\n",
       "      <td>34.075000</td>\n",
       "      <td>-84.650000</td>\n",
       "      <td>2022-08-24 21:00:34.821677+00:00</td>\n",
       "    </tr>\n",
       "    <tr>\n",
       "      <th>532</th>\n",
       "      <td>Saint Peters</td>\n",
       "      <td>MO</td>\n",
       "      <td>457651</td>\n",
       "      <td>126447</td>\n",
       "      <td>1040039</td>\n",
       "      <td>397994</td>\n",
       "      <td>332992</td>\n",
       "      <td>453578</td>\n",
       "      <td>5</td>\n",
       "      <td>0</td>\n",
       "      <td>1</td>\n",
       "      <td>4.200000</td>\n",
       "      <td>5</td>\n",
       "      <td>0</td>\n",
       "      <td>1</td>\n",
       "      <td>3.600000</td>\n",
       "      <td>71500</td>\n",
       "      <td>38.770000</td>\n",
       "      <td>-90.600000</td>\n",
       "      <td>2022-08-24 21:00:34.821677+00:00</td>\n",
       "    </tr>\n",
       "    <tr>\n",
       "      <th>687</th>\n",
       "      <td>Fairfield</td>\n",
       "      <td>CA</td>\n",
       "      <td>356293</td>\n",
       "      <td>53728</td>\n",
       "      <td>851553</td>\n",
       "      <td>295931</td>\n",
       "      <td>160034</td>\n",
       "      <td>446326</td>\n",
       "      <td>17</td>\n",
       "      <td>0</td>\n",
       "      <td>2</td>\n",
       "      <td>4.294118</td>\n",
       "      <td>6</td>\n",
       "      <td>0</td>\n",
       "      <td>0</td>\n",
       "      <td>3.416667</td>\n",
       "      <td>109260</td>\n",
       "      <td>38.255000</td>\n",
       "      <td>-122.060000</td>\n",
       "      <td>2022-08-24 21:00:34.821677+00:00</td>\n",
       "    </tr>\n",
       "    <tr>\n",
       "      <th>686</th>\n",
       "      <td>Duluth</td>\n",
       "      <td>MN</td>\n",
       "      <td>64842</td>\n",
       "      <td>5129</td>\n",
       "      <td>311144</td>\n",
       "      <td>35086</td>\n",
       "      <td>22128</td>\n",
       "      <td>70050</td>\n",
       "      <td>17</td>\n",
       "      <td>0</td>\n",
       "      <td>3</td>\n",
       "      <td>4.294118</td>\n",
       "      <td>18</td>\n",
       "      <td>0</td>\n",
       "      <td>4</td>\n",
       "      <td>3.944444</td>\n",
       "      <td>94930</td>\n",
       "      <td>46.813000</td>\n",
       "      <td>-92.124000</td>\n",
       "      <td>2022-08-24 21:00:34.821677+00:00</td>\n",
       "    </tr>\n",
       "  </tbody>\n",
       "</table>\n",
       "</div>"
      ],
      "text/plain": [
       "             city state  mean_income  min_income  max_income  median_income  \\\n",
       "301      Columbus    IN       215376       44523      500863         196715   \n",
       "592    Gig Harbor    WA       192013       12513     1004382          80458   \n",
       "716      Pasadena    TX        98606        6377      298102          94946   \n",
       "554        Smyrna    GA       301770       44362      950920         222218   \n",
       "378    Greenville    NC       228233      100313      601172         173988   \n",
       "292      Lakeland    FL       132822       12257      676157         113858   \n",
       "988       Acworth    GA       302309       86787      847078         196166   \n",
       "532  Saint Peters    MO       457651      126447     1040039         397994   \n",
       "687     Fairfield    CA       356293       53728      851553         295931   \n",
       "686        Duluth    MN        64842        5129      311144          35086   \n",
       "\n",
       "     first_quartile_income  third_quartile_income  num_breweries  \\\n",
       "301                 120479                 270910             20   \n",
       "592                  45805                 131844             15   \n",
       "716                  62964                 114787              8   \n",
       "554                 114047                 431970             12   \n",
       "378                 152739                 244276             10   \n",
       "292                  60763                 156618             10   \n",
       "988                 167784                 284085              4   \n",
       "532                 332992                 453578              5   \n",
       "687                 160034                 446326             17   \n",
       "686                  22128                  70050             17   \n",
       "\n",
       "     breweries_num_one_star_reviews  breweries_num_five_star_reviews  \\\n",
       "301                               0                                3   \n",
       "592                               0                                2   \n",
       "716                               0                                0   \n",
       "554                               0                                0   \n",
       "378                               0                                1   \n",
       "292                               0                                1   \n",
       "988                               0                                1   \n",
       "532                               0                                1   \n",
       "687                               0                                2   \n",
       "686                               0                                3   \n",
       "\n",
       "     breweries_mean_rating  num_outdoor_stores  outdoor_num_one_star_reviews  \\\n",
       "301               4.025000                   4                             0   \n",
       "592               4.233333                   6                             0   \n",
       "716               4.312500                   6                             0   \n",
       "554               4.208333                   2                             0   \n",
       "378               4.100000                   6                             0   \n",
       "292               4.000000                   2                             0   \n",
       "988               4.625000                   7                             0   \n",
       "532               4.200000                   5                             0   \n",
       "687               4.294118                   6                             0   \n",
       "686               4.294118                  18                             0   \n",
       "\n",
       "     outdoor_num_five_star_reviews  outdoor_mean_rating  population  \\\n",
       "301                              2             4.625000       67360   \n",
       "592                              2             4.250000       53110   \n",
       "716                              1             3.333333      128167   \n",
       "554                              0             4.250000       69060   \n",
       "378                              3             4.583333       80740   \n",
       "292                              0             3.750000      219280   \n",
       "988                              0             3.357143       96420   \n",
       "532                              1             3.600000       71500   \n",
       "687                              0             3.416667      109260   \n",
       "686                              4             3.944444       94930   \n",
       "\n",
       "           lat         lon                       ts_updated  \n",
       "301  39.220000  -85.870000 2022-08-24 21:00:34.821677+00:00  \n",
       "592  47.340000 -122.643333 2022-08-24 21:00:34.821677+00:00  \n",
       "716  29.670000  -95.160000 2022-08-24 21:00:34.821677+00:00  \n",
       "554  33.855000  -84.525000 2022-08-24 21:00:34.821677+00:00  \n",
       "378  35.625000  -77.375000 2022-08-24 21:00:34.821677+00:00  \n",
       "292  28.051111  -81.948889 2022-08-24 21:00:34.821677+00:00  \n",
       "988  34.075000  -84.650000 2022-08-24 21:00:34.821677+00:00  \n",
       "532  38.770000  -90.600000 2022-08-24 21:00:34.821677+00:00  \n",
       "687  38.255000 -122.060000 2022-08-24 21:00:34.821677+00:00  \n",
       "686  46.813000  -92.124000 2022-08-24 21:00:34.821677+00:00  "
      ]
     },
     "execution_count": 2,
     "metadata": {},
     "output_type": "execute_result"
    }
   ],
   "source": [
    "# Connect to city_summary database\n",
    "city_summary = '''\n",
    "    SELECT *\n",
    "    FROM city_summary\n",
    "'''\n",
    "\n",
    "city_summary_df = pd.read_sql_query(\n",
    "    city_summary,\n",
    "    con=ENGINE\n",
    ")\n",
    "\n",
    "city_summary_df.sample(10)"
   ]
  },
  {
   "cell_type": "markdown",
   "id": "24e04b58",
   "metadata": {
    "id": "24e04b58"
   },
   "source": [
    "# Data Processing"
   ]
  },
  {
   "cell_type": "code",
   "execution_count": 4,
   "id": "ff0b9022",
   "metadata": {},
   "outputs": [
    {
     "name": "stdout",
     "output_type": "stream",
     "text": [
      "(1000, 1)\n",
      "(1000, 1)\n"
     ]
    }
   ],
   "source": [
    "# Set X and y for linear regression model\n",
    "X = city_summary_df.num_breweries.values.reshape(-1,1)\n",
    "y = city_summary_df.num_outdoor_stores.values.reshape(-1,1)\n",
    "print(X.shape)\n",
    "print(y.shape)"
   ]
  },
  {
   "cell_type": "markdown",
   "id": "4fa0bb6f",
   "metadata": {
    "id": "4fa0bb6f"
   },
   "source": [
    "# Data Transformation"
   ]
  },
  {
   "cell_type": "code",
   "execution_count": 5,
   "id": "666858d7",
   "metadata": {},
   "outputs": [
    {
     "data": {
      "image/png": "[encoded data removed]",
      "text/plain": [
       "<Figure size 432x288 with 1 Axes>"
      ]
     },
     "metadata": {
      "needs_background": "light"
     },
     "output_type": "display_data"
    }
   ],
   "source": [
    "plt.scatter(city_summary_df.num_breweries, city_summary_df.num_outdoor_stores)\n",
    "plt.xlabel('Breweries')\n",
    "plt.ylabel('Outdoor Stores')\n",
    "plt.show()"
   ]
  },
  {
   "cell_type": "code",
   "execution_count": 6,
   "id": "0bed1191",
   "metadata": {
    "id": "0bed1191"
   },
   "outputs": [],
   "source": [
    "# Create an instance of the model(LinearRegression)\n",
    "model = LinearRegression()"
   ]
  },
  {
   "cell_type": "code",
   "execution_count": 7,
   "id": "435e9843",
   "metadata": {
    "id": "435e9843"
   },
   "outputs": [
    {
     "data": {
      "text/plain": [
       "LinearRegression()"
      ]
     },
     "execution_count": 7,
     "metadata": {},
     "output_type": "execute_result"
    }
   ],
   "source": [
    "# Train the model with the dataset \n",
    "model.fit(X,y)"
   ]
  },
  {
   "cell_type": "code",
   "execution_count": 8,
   "id": "2c49a0de",
   "metadata": {
    "scrolled": true
   },
   "outputs": [
    {
     "data": {
      "text/plain": [
       "0.18187765031067693"
      ]
     },
     "execution_count": 8,
     "metadata": {},
     "output_type": "execute_result"
    }
   ],
   "source": [
    "# r squared value of the model\n",
    "model.score(X,y)"
   ]
  },
  {
   "cell_type": "code",
   "execution_count": 9,
   "id": "c1633e57",
   "metadata": {},
   "outputs": [],
   "source": [
    "y_pred = model.predict(X)"
   ]
  },
  {
   "cell_type": "code",
   "execution_count": 10,
   "id": "4e1cec38",
   "metadata": {
    "scrolled": true
   },
   "outputs": [
    {
     "data": {
      "image/png": "[encoded data removed]",
      "text/plain": [
       "<Figure size 432x288 with 1 Axes>"
      ]
     },
     "metadata": {
      "needs_background": "light"
     },
     "output_type": "display_data"
    }
   ],
   "source": [
    "# Visualize trendline\n",
    "plt.scatter(X, y)\n",
    "plt.plot(X, y_pred, color='red')\n",
    "plt.show()"
   ]
  },
  {
   "cell_type": "code",
   "execution_count": 11,
   "id": "7cba53ff",
   "metadata": {},
   "outputs": [
    {
     "name": "stdout",
     "output_type": "stream",
     "text": [
      "Weight coefficients:  [[0.29016989]]\n",
      "y-axis intercept:  [2.02925685]\n"
     ]
    }
   ],
   "source": [
    "# Find model slope and intercept\n",
    "print('Weight coefficients: ', model.coef_)\n",
    "print('y-axis intercept: ', model.intercept_) "
   ]
  },
  {
   "cell_type": "code",
   "execution_count": 12,
   "id": "6035e37c",
   "metadata": {},
   "outputs": [
    {
     "name": "stdout",
     "output_type": "stream",
     "text": [
      "y = 0.29016988606941885x + 2.0292568525372836\n"
     ]
    }
   ],
   "source": [
    "# Model formula\n",
    "print(f\"y = {model.coef_[0][0]}x + {model.intercept_[0]}\")"
   ]
  },
  {
   "cell_type": "code",
   "execution_count": 13,
   "id": "4082a16f",
   "metadata": {},
   "outputs": [
    {
     "name": "stdout",
     "output_type": "stream",
     "text": [
      "True output: [2]\n",
      "Predicted output: [2.02925685]\n",
      "Prediction Error: [0.02925685]\n"
     ]
    }
   ],
   "source": [
    "# Find Accuracy of predictions\n",
    "predictions = model.predict(X)\n",
    "print(f\"True output: {y[0]}\")\n",
    "print(f\"Predicted output: {predictions[0]}\")\n",
    "print(f\"Prediction Error: {predictions[0]-y[0]}\")"
   ]
  },
  {
   "cell_type": "markdown",
   "id": "4dcd4263",
   "metadata": {},
   "source": [
    "# Multiple Linear Regression"
   ]
  },
  {
   "cell_type": "code",
   "execution_count": 33,
   "id": "f1c0a965",
   "metadata": {},
   "outputs": [
    {
     "data": {
      "text/html": [
       "<div>\n",
       "<style scoped>\n",
       "    .dataframe tbody tr th:only-of-type {\n",
       "        vertical-align: middle;\n",
       "    }\n",
       "\n",
       "    .dataframe tbody tr th {\n",
       "        vertical-align: top;\n",
       "    }\n",
       "\n",
       "    .dataframe thead th {\n",
       "        text-align: right;\n",
       "    }\n",
       "</style>\n",
       "<table border=\"1\" class=\"dataframe\">\n",
       "  <thead>\n",
       "    <tr style=\"text-align: right;\">\n",
       "      <th></th>\n",
       "      <th>mean_income</th>\n",
       "      <th>min_income</th>\n",
       "      <th>max_income</th>\n",
       "      <th>median_income</th>\n",
       "      <th>first_quartile_income</th>\n",
       "      <th>third_quartile_income</th>\n",
       "      <th>num_breweries</th>\n",
       "      <th>num_outdoor_stores</th>\n",
       "      <th>population</th>\n",
       "    </tr>\n",
       "  </thead>\n",
       "  <tbody>\n",
       "    <tr>\n",
       "      <th>327</th>\n",
       "      <td>339378</td>\n",
       "      <td>10973</td>\n",
       "      <td>2893386</td>\n",
       "      <td>103727</td>\n",
       "      <td>36562</td>\n",
       "      <td>237597</td>\n",
       "      <td>19</td>\n",
       "      <td>13</td>\n",
       "      <td>77960</td>\n",
       "    </tr>\n",
       "    <tr>\n",
       "      <th>390</th>\n",
       "      <td>236011</td>\n",
       "      <td>70099</td>\n",
       "      <td>426022</td>\n",
       "      <td>221161</td>\n",
       "      <td>174594</td>\n",
       "      <td>294202</td>\n",
       "      <td>10</td>\n",
       "      <td>3</td>\n",
       "      <td>61220</td>\n",
       "    </tr>\n",
       "    <tr>\n",
       "      <th>631</th>\n",
       "      <td>158853</td>\n",
       "      <td>6474</td>\n",
       "      <td>1069559</td>\n",
       "      <td>125138</td>\n",
       "      <td>56380</td>\n",
       "      <td>185278</td>\n",
       "      <td>20</td>\n",
       "      <td>10</td>\n",
       "      <td>182690</td>\n",
       "    </tr>\n",
       "    <tr>\n",
       "      <th>894</th>\n",
       "      <td>190075</td>\n",
       "      <td>4749</td>\n",
       "      <td>2563042</td>\n",
       "      <td>105781</td>\n",
       "      <td>70957</td>\n",
       "      <td>181234</td>\n",
       "      <td>12</td>\n",
       "      <td>4</td>\n",
       "      <td>671910</td>\n",
       "    </tr>\n",
       "    <tr>\n",
       "      <th>80</th>\n",
       "      <td>302278</td>\n",
       "      <td>26885</td>\n",
       "      <td>1502201</td>\n",
       "      <td>146240</td>\n",
       "      <td>78216</td>\n",
       "      <td>352416</td>\n",
       "      <td>9</td>\n",
       "      <td>2</td>\n",
       "      <td>98030</td>\n",
       "    </tr>\n",
       "  </tbody>\n",
       "</table>\n",
       "</div>"
      ],
      "text/plain": [
       "     mean_income  min_income  max_income  median_income  \\\n",
       "327       339378       10973     2893386         103727   \n",
       "390       236011       70099      426022         221161   \n",
       "631       158853        6474     1069559         125138   \n",
       "894       190075        4749     2563042         105781   \n",
       "80        302278       26885     1502201         146240   \n",
       "\n",
       "     first_quartile_income  third_quartile_income  num_breweries  \\\n",
       "327                  36562                 237597             19   \n",
       "390                 174594                 294202             10   \n",
       "631                  56380                 185278             20   \n",
       "894                  70957                 181234             12   \n",
       "80                   78216                 352416              9   \n",
       "\n",
       "     num_outdoor_stores  population  \n",
       "327                  13       77960  \n",
       "390                   3       61220  \n",
       "631                  10      182690  \n",
       "894                   4      671910  \n",
       "80                    2       98030  "
      ]
     },
     "execution_count": 33,
     "metadata": {},
     "output_type": "execute_result"
    }
   ],
   "source": [
    "# Remove categorical inputs that are not needed for this model\n",
    "mlr_city_summary = city_summary_df.drop(columns = [\"city\",\"state\",\"ts_updated\",\"breweries_num_one_star_reviews\",\"breweries_num_five_star_reviews\",\"outdoor_num_one_star_reviews\",\"outdoor_num_five_star_reviews\",\"lat\",\"lon\",'breweries_mean_rating','outdoor_mean_rating'])\n",
    "mlr_city_summary.sample(5)"
   ]
  },
  {
   "cell_type": "code",
   "execution_count": 34,
   "id": "b2e79f99",
   "metadata": {},
   "outputs": [
    {
     "data": {
      "text/plain": [
       "Index(['mean_income', 'min_income', 'max_income', 'median_income',\n",
       "       'first_quartile_income', 'third_quartile_income', 'num_breweries',\n",
       "       'num_outdoor_stores', 'population'],\n",
       "      dtype='object')"
      ]
     },
     "execution_count": 34,
     "metadata": {},
     "output_type": "execute_result"
    }
   ],
   "source": [
    "# Get column names to be used when creating scaled df\n",
    "mlr_city_summary_columns = mlr_city_summary.columns\n",
    "mlr_city_summary_columns"
   ]
  },
  {
   "cell_type": "code",
   "execution_count": 35,
   "id": "f01ea7bb",
   "metadata": {},
   "outputs": [
    {
     "data": {
      "text/plain": [
       "Index(['mean_income', 'min_income', 'max_income', 'median_income',\n",
       "       'first_quartile_income', 'third_quartile_income', 'num_breweries',\n",
       "       'population'],\n",
       "      dtype='object')"
      ]
     },
     "execution_count": 35,
     "metadata": {},
     "output_type": "execute_result"
    }
   ],
   "source": [
    "# Get column names without num_outdoor_stores to be used in ColumnTransformer function\n",
    "summary_columns_no_outdoor = mlr_city_summary.columns.drop(\"num_outdoor_stores\")\n",
    "summary_columns_no_outdoor"
   ]
  },
  {
   "cell_type": "code",
   "execution_count": 36,
   "id": "42208441",
   "metadata": {},
   "outputs": [],
   "source": [
    "# Column names for use in making city_summary_scaled_df \n",
    "# Since ColumnTransformer function flipped the population and num_outdoor_stores columns, this is reflected in the column names\n",
    "columns = ['mean_income', 'min_income', 'max_income', 'median_income',\n",
    "       'first_quartile_income', 'third_quartile_income', 'num_breweries',\n",
    "       'population', 'num_outdoor_stores']"
   ]
  },
  {
   "cell_type": "code",
   "execution_count": 37,
   "id": "6e22b237",
   "metadata": {},
   "outputs": [],
   "source": [
    "# Scale data using StandardScaler and ColumnTransformer\n",
    "from sklearn.compose import ColumnTransformer\n",
    "from sklearn.preprocessing import StandardScaler\n",
    "\n",
    "# features is the dataframe being passed into the ColumnTransformer function\n",
    "features = mlr_city_summary\n",
    "\n",
    "# ColumnTransformer applys the StandardScaler Function to all columns in the summary_columns_no_outdoor list, \n",
    "# and passes over any others(num_outdoor_stores)\n",
    "ct = ColumnTransformer([\n",
    "        ('data_scaler', StandardScaler(), summary_columns_no_outdoor)\n",
    "    ], remainder='passthrough')\n",
    "\n",
    "city_summary_scaled = ct.fit_transform(features)"
   ]
  },
  {
   "cell_type": "code",
   "execution_count": 38,
   "id": "9d206a8d",
   "metadata": {},
   "outputs": [
    {
     "data": {
      "text/html": [
       "<div>\n",
       "<style scoped>\n",
       "    .dataframe tbody tr th:only-of-type {\n",
       "        vertical-align: middle;\n",
       "    }\n",
       "\n",
       "    .dataframe tbody tr th {\n",
       "        vertical-align: top;\n",
       "    }\n",
       "\n",
       "    .dataframe thead th {\n",
       "        text-align: right;\n",
       "    }\n",
       "</style>\n",
       "<table border=\"1\" class=\"dataframe\">\n",
       "  <thead>\n",
       "    <tr style=\"text-align: right;\">\n",
       "      <th></th>\n",
       "      <th>mean_income</th>\n",
       "      <th>min_income</th>\n",
       "      <th>max_income</th>\n",
       "      <th>median_income</th>\n",
       "      <th>first_quartile_income</th>\n",
       "      <th>third_quartile_income</th>\n",
       "      <th>num_breweries</th>\n",
       "      <th>population</th>\n",
       "      <th>num_outdoor_stores</th>\n",
       "    </tr>\n",
       "  </thead>\n",
       "  <tbody>\n",
       "    <tr>\n",
       "      <th>231</th>\n",
       "      <td>-1.122758</td>\n",
       "      <td>-0.651778</td>\n",
       "      <td>-0.765554</td>\n",
       "      <td>-1.203471</td>\n",
       "      <td>-0.886513</td>\n",
       "      <td>-1.023532</td>\n",
       "      <td>-0.304265</td>\n",
       "      <td>-0.424586</td>\n",
       "      <td>2.0</td>\n",
       "    </tr>\n",
       "    <tr>\n",
       "      <th>781</th>\n",
       "      <td>-0.252602</td>\n",
       "      <td>0.356691</td>\n",
       "      <td>-0.432083</td>\n",
       "      <td>-0.268709</td>\n",
       "      <td>0.229165</td>\n",
       "      <td>-0.070632</td>\n",
       "      <td>-0.108596</td>\n",
       "      <td>-0.411911</td>\n",
       "      <td>7.0</td>\n",
       "    </tr>\n",
       "    <tr>\n",
       "      <th>426</th>\n",
       "      <td>-1.318324</td>\n",
       "      <td>-0.798139</td>\n",
       "      <td>-0.775603</td>\n",
       "      <td>-1.497411</td>\n",
       "      <td>-1.158572</td>\n",
       "      <td>-1.248958</td>\n",
       "      <td>0.282742</td>\n",
       "      <td>-0.444529</td>\n",
       "      <td>10.0</td>\n",
       "    </tr>\n",
       "    <tr>\n",
       "      <th>286</th>\n",
       "      <td>-0.693075</td>\n",
       "      <td>-0.330998</td>\n",
       "      <td>-0.618379</td>\n",
       "      <td>-0.555630</td>\n",
       "      <td>-0.360766</td>\n",
       "      <td>-0.572350</td>\n",
       "      <td>-1.086941</td>\n",
       "      <td>-0.195306</td>\n",
       "      <td>5.0</td>\n",
       "    </tr>\n",
       "    <tr>\n",
       "      <th>854</th>\n",
       "      <td>2.387919</td>\n",
       "      <td>2.320815</td>\n",
       "      <td>0.310102</td>\n",
       "      <td>2.195358</td>\n",
       "      <td>2.578242</td>\n",
       "      <td>3.465631</td>\n",
       "      <td>-0.891272</td>\n",
       "      <td>-0.348038</td>\n",
       "      <td>4.0</td>\n",
       "    </tr>\n",
       "  </tbody>\n",
       "</table>\n",
       "</div>"
      ],
      "text/plain": [
       "     mean_income  min_income  max_income  median_income  \\\n",
       "231    -1.122758   -0.651778   -0.765554      -1.203471   \n",
       "781    -0.252602    0.356691   -0.432083      -0.268709   \n",
       "426    -1.318324   -0.798139   -0.775603      -1.497411   \n",
       "286    -0.693075   -0.330998   -0.618379      -0.555630   \n",
       "854     2.387919    2.320815    0.310102       2.195358   \n",
       "\n",
       "     first_quartile_income  third_quartile_income  num_breweries  population  \\\n",
       "231              -0.886513              -1.023532      -0.304265   -0.424586   \n",
       "781               0.229165              -0.070632      -0.108596   -0.411911   \n",
       "426              -1.158572              -1.248958       0.282742   -0.444529   \n",
       "286              -0.360766              -0.572350      -1.086941   -0.195306   \n",
       "854               2.578242               3.465631      -0.891272   -0.348038   \n",
       "\n",
       "     num_outdoor_stores  \n",
       "231                 2.0  \n",
       "781                 7.0  \n",
       "426                10.0  \n",
       "286                 5.0  \n",
       "854                 4.0  "
      ]
     },
     "execution_count": 38,
     "metadata": {},
     "output_type": "execute_result"
    }
   ],
   "source": [
    "# Create new dataframe with the scaled data, leaving the num_outdoor_stores not scaled since it is out output\n",
    "city_summary_scaled_df = pd.DataFrame(city_summary_scaled, columns = columns)\n",
    "city_summary_scaled_df.sample(5)"
   ]
  },
  {
   "cell_type": "code",
   "execution_count": 39,
   "id": "c84ae66c",
   "metadata": {},
   "outputs": [],
   "source": [
    "# Set X and y for model\n",
    "X = city_summary_scaled_df.drop(columns = \"num_outdoor_stores\")\n",
    "y = city_summary_scaled_df[\"num_outdoor_stores\"]"
   ]
  },
  {
   "cell_type": "code",
   "execution_count": 40,
   "id": "6b785a9d",
   "metadata": {},
   "outputs": [],
   "source": [
    "# Split the data\n",
    "X_train, X_test, y_train, y_test = train_test_split(X, y, random_state =27)"
   ]
  },
  {
   "cell_type": "code",
   "execution_count": 41,
   "id": "1a5c75b7",
   "metadata": {},
   "outputs": [
    {
     "data": {
      "text/plain": [
       "LinearRegression()"
      ]
     },
     "execution_count": 41,
     "metadata": {},
     "output_type": "execute_result"
    }
   ],
   "source": [
    "# Create an object of LinearRegression class\n",
    "lr = LinearRegression()\n",
    "\n",
    "# fitting the training data\n",
    "lr.fit(X_train,y_train)"
   ]
  },
  {
   "cell_type": "code",
   "execution_count": 42,
   "id": "bc1c379c",
   "metadata": {
    "scrolled": true
   },
   "outputs": [
    {
     "data": {
      "text/plain": [
       "array([ 3.68180877,  7.89757975,  4.06983197,  4.3700393 ,  8.09216457,\n",
       "        6.15419287,  5.46029903,  6.04457817,  4.28276954,  8.33887731,\n",
       "        5.66402971,  7.30622823,  4.97439441,  7.73558635,  7.81911144,\n",
       "        4.75083547,  7.69745106,  3.5667385 ,  5.25645355,  3.20955572,\n",
       "        5.07205508,  4.72220442,  5.96294302,  8.85156597,  2.59292003,\n",
       "        2.62371391,  9.07670094,  5.86827172,  4.47755223,  5.16823862,\n",
       "        5.00004809,  4.8979788 ,  2.7946244 ,  3.55688992,  3.74190599,\n",
       "        8.05297067,  3.52331433,  4.07875961,  2.73577027,  3.38190176,\n",
       "        3.43269864,  6.44951986,  4.72643607,  4.86661583,  4.99402463,\n",
       "        4.28317438,  5.46889109,  3.38170331,  4.92804104,  3.87990611,\n",
       "        6.10222177,  6.85824907,  3.40983256,  4.29262317,  4.12816466,\n",
       "        5.10303821,  7.79611565,  7.47183868,  3.47277617,  8.93451146,\n",
       "        5.39734044,  4.78910244,  7.036277  ,  7.50888274,  3.50682694,\n",
       "        4.86730389,  6.24257568,  9.15608188,  5.53929125,  6.40420543,\n",
       "        4.88406959,  4.20735581,  3.42482805,  2.61440347,  4.40839225,\n",
       "        7.50413017,  5.21026802,  6.58631012,  3.14942531,  6.12919252,\n",
       "        5.88998202,  4.89089793,  6.21666399,  4.34209283,  6.86910481,\n",
       "        5.73519615, 10.61693417,  5.39987859,  6.1630739 ,  4.077615  ,\n",
       "        7.37447497,  6.74797695,  5.94235325,  3.40787877,  6.74787154,\n",
       "        6.17235876,  5.14606711,  4.28553867,  6.74910018,  3.39785994,\n",
       "        2.53209333,  7.63787305,  6.70439766,  5.57568589,  4.64259434,\n",
       "        5.66443404,  7.31166714,  5.86680346,  4.40288825,  3.01786038,\n",
       "        4.18025008,  4.31680792,  5.59045901,  4.99314791,  5.56122051,\n",
       "        6.3028922 ,  7.97143956,  3.9136173 ,  8.01394567,  5.2173955 ,\n",
       "        6.16917378,  4.84528025,  5.51918818,  5.80936797,  6.65599956,\n",
       "        8.05832749,  3.21850784,  6.21240048,  4.40936967,  6.23574183,\n",
       "        4.58908689,  8.22348846,  3.03783151,  3.52308161,  6.03009575,\n",
       "        4.38259056,  8.14042828,  5.2412808 ,  5.62627522,  3.52245934,\n",
       "        5.23838167,  3.13017459,  7.95639605,  2.55369848,  4.3800292 ,\n",
       "        5.66965456,  5.76509711,  3.64476645,  3.93403884,  5.22535765,\n",
       "        4.9803663 ,  4.40979176,  7.04052965,  5.97499947,  6.81025828,\n",
       "        6.47685984,  5.91687901,  5.34684795,  6.54175205,  3.48687685,\n",
       "        5.08975552,  7.72554772,  3.46043821,  4.98092005,  2.88260077,\n",
       "        6.27812068,  7.94869245,  7.06965352,  8.27927497,  5.12222763,\n",
       "        4.49245105,  8.66882873,  6.36539039,  4.27394384,  5.90948443,\n",
       "        8.16594508,  5.1221397 ,  5.59268242,  5.14526511,  6.1203014 ,\n",
       "        3.47123144,  7.59284244,  6.56626298,  2.93833382,  6.00114995,\n",
       "        2.74983011,  3.64820606,  2.93097091,  7.20019998,  7.74184143,\n",
       "        4.6937791 ,  4.81764965,  6.84077706,  3.49071157,  3.48663385,\n",
       "        3.65639444,  6.32349849,  7.15978572,  4.49544247,  6.33506731,\n",
       "        3.59937598,  5.39662353,  2.91873888,  6.28124765,  6.64508034,\n",
       "        6.53531488,  6.84484922,  5.13654027,  6.91937885,  5.85686861,\n",
       "        6.98410529,  4.31844404,  4.10426304,  7.82092208,  6.56881777,\n",
       "        8.15882297,  5.49777296,  9.04527231,  4.77103233,  3.96556071,\n",
       "        6.15825223,  4.02925951,  2.83274266,  6.42600679,  5.43068006,\n",
       "        4.0225278 ,  9.06492221,  6.13622916,  5.49556594,  5.03015411,\n",
       "        6.88578245,  2.9217829 ,  7.13322686,  5.33789818,  3.7387515 ,\n",
       "        5.35553633,  6.88791398,  4.1842928 ,  3.33866223,  3.91141312,\n",
       "        6.44718379,  7.07785273,  8.54763106,  5.0429194 ,  5.97645261,\n",
       "        4.95015971,  6.80863119,  5.232132  ,  6.48745912,  8.27054513])"
      ]
     },
     "execution_count": 42,
     "metadata": {},
     "output_type": "execute_result"
    }
   ],
   "source": [
    "# Get predictions\n",
    "y_pred = lr.predict(X_test)\n",
    "y_pred"
   ]
  },
  {
   "cell_type": "code",
   "execution_count": 43,
   "id": "410fccf5",
   "metadata": {},
   "outputs": [
    {
     "data": {
      "text/html": [
       "<div>\n",
       "<style scoped>\n",
       "    .dataframe tbody tr th:only-of-type {\n",
       "        vertical-align: middle;\n",
       "    }\n",
       "\n",
       "    .dataframe tbody tr th {\n",
       "        vertical-align: top;\n",
       "    }\n",
       "\n",
       "    .dataframe thead th {\n",
       "        text-align: right;\n",
       "    }\n",
       "</style>\n",
       "<table border=\"1\" class=\"dataframe\">\n",
       "  <thead>\n",
       "    <tr style=\"text-align: right;\">\n",
       "      <th></th>\n",
       "      <th>Predicted</th>\n",
       "      <th>Actual</th>\n",
       "      <th>Error</th>\n",
       "    </tr>\n",
       "  </thead>\n",
       "  <tbody>\n",
       "    <tr>\n",
       "      <th>754</th>\n",
       "      <td>3.681809</td>\n",
       "      <td>8.0</td>\n",
       "      <td>-4.318191</td>\n",
       "    </tr>\n",
       "    <tr>\n",
       "      <th>768</th>\n",
       "      <td>7.897580</td>\n",
       "      <td>14.0</td>\n",
       "      <td>-6.102420</td>\n",
       "    </tr>\n",
       "    <tr>\n",
       "      <th>23</th>\n",
       "      <td>4.069832</td>\n",
       "      <td>3.0</td>\n",
       "      <td>1.069832</td>\n",
       "    </tr>\n",
       "    <tr>\n",
       "      <th>47</th>\n",
       "      <td>4.370039</td>\n",
       "      <td>7.0</td>\n",
       "      <td>-2.629961</td>\n",
       "    </tr>\n",
       "    <tr>\n",
       "      <th>453</th>\n",
       "      <td>8.092165</td>\n",
       "      <td>4.0</td>\n",
       "      <td>4.092165</td>\n",
       "    </tr>\n",
       "    <tr>\n",
       "      <th>...</th>\n",
       "      <td>...</td>\n",
       "      <td>...</td>\n",
       "      <td>...</td>\n",
       "    </tr>\n",
       "    <tr>\n",
       "      <th>330</th>\n",
       "      <td>4.950160</td>\n",
       "      <td>2.0</td>\n",
       "      <td>2.950160</td>\n",
       "    </tr>\n",
       "    <tr>\n",
       "      <th>969</th>\n",
       "      <td>6.808631</td>\n",
       "      <td>8.0</td>\n",
       "      <td>-1.191369</td>\n",
       "    </tr>\n",
       "    <tr>\n",
       "      <th>156</th>\n",
       "      <td>5.232132</td>\n",
       "      <td>6.0</td>\n",
       "      <td>-0.767868</td>\n",
       "    </tr>\n",
       "    <tr>\n",
       "      <th>395</th>\n",
       "      <td>6.487459</td>\n",
       "      <td>2.0</td>\n",
       "      <td>4.487459</td>\n",
       "    </tr>\n",
       "    <tr>\n",
       "      <th>659</th>\n",
       "      <td>8.270545</td>\n",
       "      <td>7.0</td>\n",
       "      <td>1.270545</td>\n",
       "    </tr>\n",
       "  </tbody>\n",
       "</table>\n",
       "<p>250 rows × 3 columns</p>\n",
       "</div>"
      ],
      "text/plain": [
       "     Predicted  Actual     Error\n",
       "754   3.681809     8.0 -4.318191\n",
       "768   7.897580    14.0 -6.102420\n",
       "23    4.069832     3.0  1.069832\n",
       "47    4.370039     7.0 -2.629961\n",
       "453   8.092165     4.0  4.092165\n",
       "..         ...     ...       ...\n",
       "330   4.950160     2.0  2.950160\n",
       "969   6.808631     8.0 -1.191369\n",
       "156   5.232132     6.0 -0.767868\n",
       "395   6.487459     2.0  4.487459\n",
       "659   8.270545     7.0  1.270545\n",
       "\n",
       "[250 rows x 3 columns]"
      ]
     },
     "execution_count": 43,
     "metadata": {},
     "output_type": "execute_result"
    }
   ],
   "source": [
    "# Display the predicted vs actual values for number of outdoor stores\n",
    "error_df = pd.DataFrame({\"Predicted\": y_pred, \"Actual\": y_test, \"Error\": y_pred - y_test})[[\"Predicted\", \"Actual\", \"Error\"]]\n",
    "error_df"
   ]
  },
  {
   "cell_type": "code",
   "execution_count": 44,
   "id": "05159d08",
   "metadata": {},
   "outputs": [
    {
     "name": "stdout",
     "output_type": "stream",
     "text": [
      "r2 score is 0.10035962825263\n",
      "mean_sqrd_error is 10.486568029236045\n",
      "root_mean_squared error is 3.2382970878589945\n"
     ]
    }
   ],
   "source": [
    "# importing r2_score module\n",
    "from sklearn.metrics import r2_score\n",
    "from sklearn.metrics import mean_squared_error\n",
    "# predicting the accuracy score\n",
    "score=r2_score(y_test,y_pred)\n",
    "print(f'r2 score is {score}')\n",
    "print(f'mean_sqrd_error is {mean_squared_error(y_test,y_pred)}')\n",
    "print(f'root_mean_squared error is {np.sqrt(mean_squared_error(y_test,y_pred))}')"
   ]
  },
  {
   "cell_type": "code",
   "execution_count": 45,
   "id": "7ebcca02",
   "metadata": {
    "id": "7ebcca02"
   },
   "outputs": [
    {
     "data": {
      "text/plain": [
       "array([ 0.53079052, -0.10232197, -0.15365912, -0.11519817,  0.13558864,\n",
       "       -0.53404309,  1.54042546,  0.42540372])"
      ]
     },
     "execution_count": 45,
     "metadata": {},
     "output_type": "execute_result"
    }
   ],
   "source": [
    "# Find impact of different variables\n",
    "lr.coef_"
   ]
  },
  {
   "cell_type": "code",
   "execution_count": 46,
   "id": "cf7a41fe",
   "metadata": {},
   "outputs": [
    {
     "data": {
      "text/plain": [
       "5.1989884965227295"
      ]
     },
     "execution_count": 46,
     "metadata": {},
     "output_type": "execute_result"
    }
   ],
   "source": [
    "# Find the intercept\n",
    "lr.intercept_"
   ]
  },
  {
   "cell_type": "code",
   "execution_count": null,
   "id": "dd136777",
   "metadata": {},
   "outputs": [],
   "source": []
  }
 ],
 "metadata": {
  "colab": {
   "collapsed_sections": [],
   "name": "machine_learning_mockup.ipynb",
   "provenance": []
  },
  "kernelspec": {
   "display_name": "mlenv",
   "language": "python",
   "name": "mlenv"
  },
  "language_info": {
   "codemirror_mode": {
    "name": "ipython",
    "version": 3
   },
   "file_extension": ".py",
   "mimetype": "text/x-python",
   "name": "python",
   "nbconvert_exporter": "python",
   "pygments_lexer": "ipython3",
   "version": "3.7.13"
  }
 },
 "nbformat": 4,
 "nbformat_minor": 5
}
