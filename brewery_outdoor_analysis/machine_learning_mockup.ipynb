{
 "cells": [
  {
   "cell_type": "code",
   "execution_count": 4,
   "id": "b76fee5c",
   "metadata": {
    "id": "b76fee5c"
   },
   "outputs": [],
   "source": [
    "# Import dependencies\n",
    "\n",
    "import pandas as pd\n",
    "from pathlib import Path\n",
    "import matplotlib.pyplot as plt\n",
    "import psycopg2\n",
    "\n",
    "from sklearn.linear_model import LinearRegression\n",
    "from sklearn.datasets import make_regression\n",
    "from sklearn.model_selection import train_test_split\n",
    "\n",
    "from database_connection import ENGINE"
   ]
  },
  {
   "cell_type": "markdown",
   "id": "8MxDL1B6Zbyu",
   "metadata": {
    "id": "8MxDL1B6Zbyu",
    "tags": []
   },
   "source": [
    "# Test Linear Regression Model"
   ]
  },
  {
   "cell_type": "code",
   "execution_count": 5,
   "id": "ab3e2688-ee32-4818-8b14-eed76ce8834c",
   "metadata": {},
   "outputs": [],
   "source": [
    "# Read top cities table\n",
    "top_us_cities_query = '''\n",
    "    SELECT *\n",
    "    FROM top_us_cities\n",
    "'''    \n",
    "cities = pd.read_sql_query(\n",
    "    top_us_cities_query,\n",
    "    con=ENGINE\n",
    ")                          "
   ]
  },
  {
   "cell_type": "code",
   "execution_count": 7,
   "id": "18c8fe2a-fa0e-4ea7-b359-6d37133a8342",
   "metadata": {},
   "outputs": [
    {
     "data": {
      "text/html": [
       "<div>\n",
       "<style scoped>\n",
       "    .dataframe tbody tr th:only-of-type {\n",
       "        vertical-align: middle;\n",
       "    }\n",
       "\n",
       "    .dataframe tbody tr th {\n",
       "        vertical-align: top;\n",
       "    }\n",
       "\n",
       "    .dataframe thead th {\n",
       "        text-align: right;\n",
       "    }\n",
       "</style>\n",
       "<table border=\"1\" class=\"dataframe\">\n",
       "  <thead>\n",
       "    <tr style=\"text-align: right;\">\n",
       "      <th></th>\n",
       "      <th>city</th>\n",
       "      <th>states</th>\n",
       "      <th>population</th>\n",
       "      <th>lat</th>\n",
       "      <th>lon</th>\n",
       "    </tr>\n",
       "  </thead>\n",
       "  <tbody>\n",
       "    <tr>\n",
       "      <th>421</th>\n",
       "      <td>New Rochelle</td>\n",
       "      <td>New York</td>\n",
       "      <td>79446</td>\n",
       "      <td>40.911488</td>\n",
       "      <td>-73.782355</td>\n",
       "    </tr>\n",
       "    <tr>\n",
       "      <th>561</th>\n",
       "      <td>Boulder</td>\n",
       "      <td>Colorado</td>\n",
       "      <td>103166</td>\n",
       "      <td>40.014986</td>\n",
       "      <td>-105.270546</td>\n",
       "    </tr>\n",
       "    <tr>\n",
       "      <th>824</th>\n",
       "      <td>Hurst</td>\n",
       "      <td>Texas</td>\n",
       "      <td>38448</td>\n",
       "      <td>32.823462</td>\n",
       "      <td>-97.170568</td>\n",
       "    </tr>\n",
       "    <tr>\n",
       "      <th>180</th>\n",
       "      <td>San Buenaventura (Ventura)</td>\n",
       "      <td>California</td>\n",
       "      <td>108817</td>\n",
       "      <td>34.274646</td>\n",
       "      <td>-119.229032</td>\n",
       "    </tr>\n",
       "    <tr>\n",
       "      <th>71</th>\n",
       "      <td>Fountain Valley</td>\n",
       "      <td>California</td>\n",
       "      <td>56707</td>\n",
       "      <td>33.709185</td>\n",
       "      <td>-117.953670</td>\n",
       "    </tr>\n",
       "    <tr>\n",
       "      <th>649</th>\n",
       "      <td>Beaumont</td>\n",
       "      <td>Texas</td>\n",
       "      <td>117796</td>\n",
       "      <td>30.080174</td>\n",
       "      <td>-94.126556</td>\n",
       "    </tr>\n",
       "    <tr>\n",
       "      <th>538</th>\n",
       "      <td>Lake Oswego</td>\n",
       "      <td>Oregon</td>\n",
       "      <td>37610</td>\n",
       "      <td>45.420675</td>\n",
       "      <td>-122.670650</td>\n",
       "    </tr>\n",
       "    <tr>\n",
       "      <th>293</th>\n",
       "      <td>San Leandro</td>\n",
       "      <td>California</td>\n",
       "      <td>87965</td>\n",
       "      <td>37.724930</td>\n",
       "      <td>-122.156077</td>\n",
       "    </tr>\n",
       "    <tr>\n",
       "      <th>845</th>\n",
       "      <td>Hallandale Beach</td>\n",
       "      <td>Florida</td>\n",
       "      <td>38632</td>\n",
       "      <td>25.981202</td>\n",
       "      <td>-80.148379</td>\n",
       "    </tr>\n",
       "    <tr>\n",
       "      <th>787</th>\n",
       "      <td>Attleboro</td>\n",
       "      <td>Massachusetts</td>\n",
       "      <td>43886</td>\n",
       "      <td>41.944544</td>\n",
       "      <td>-71.285608</td>\n",
       "    </tr>\n",
       "    <tr>\n",
       "      <th>309</th>\n",
       "      <td>Duncanville</td>\n",
       "      <td>Texas</td>\n",
       "      <td>39605</td>\n",
       "      <td>32.651800</td>\n",
       "      <td>-96.908337</td>\n",
       "    </tr>\n",
       "    <tr>\n",
       "      <th>962</th>\n",
       "      <td>Joplin</td>\n",
       "      <td>Missouri</td>\n",
       "      <td>50789</td>\n",
       "      <td>37.084227</td>\n",
       "      <td>-94.513281</td>\n",
       "    </tr>\n",
       "    <tr>\n",
       "      <th>762</th>\n",
       "      <td>Draper</td>\n",
       "      <td>Utah</td>\n",
       "      <td>45285</td>\n",
       "      <td>40.524671</td>\n",
       "      <td>-111.863823</td>\n",
       "    </tr>\n",
       "    <tr>\n",
       "      <th>869</th>\n",
       "      <td>Dearborn</td>\n",
       "      <td>Michigan</td>\n",
       "      <td>95884</td>\n",
       "      <td>42.322260</td>\n",
       "      <td>-83.176315</td>\n",
       "    </tr>\n",
       "    <tr>\n",
       "      <th>209</th>\n",
       "      <td>St. Cloud</td>\n",
       "      <td>Minnesota</td>\n",
       "      <td>66297</td>\n",
       "      <td>45.557945</td>\n",
       "      <td>-94.163240</td>\n",
       "    </tr>\n",
       "    <tr>\n",
       "      <th>674</th>\n",
       "      <td>Hampton</td>\n",
       "      <td>Virginia</td>\n",
       "      <td>136699</td>\n",
       "      <td>37.029869</td>\n",
       "      <td>-76.345222</td>\n",
       "    </tr>\n",
       "    <tr>\n",
       "      <th>995</th>\n",
       "      <td>West New York</td>\n",
       "      <td>New Jersey</td>\n",
       "      <td>52122</td>\n",
       "      <td>40.787879</td>\n",
       "      <td>-74.014306</td>\n",
       "    </tr>\n",
       "    <tr>\n",
       "      <th>437</th>\n",
       "      <td>Peoria</td>\n",
       "      <td>Arizona</td>\n",
       "      <td>162592</td>\n",
       "      <td>33.580596</td>\n",
       "      <td>-112.237378</td>\n",
       "    </tr>\n",
       "    <tr>\n",
       "      <th>465</th>\n",
       "      <td>Newport Beach</td>\n",
       "      <td>California</td>\n",
       "      <td>87273</td>\n",
       "      <td>33.618910</td>\n",
       "      <td>-117.928947</td>\n",
       "    </tr>\n",
       "    <tr>\n",
       "      <th>362</th>\n",
       "      <td>Camden</td>\n",
       "      <td>New Jersey</td>\n",
       "      <td>76903</td>\n",
       "      <td>39.925946</td>\n",
       "      <td>-75.119620</td>\n",
       "    </tr>\n",
       "  </tbody>\n",
       "</table>\n",
       "</div>"
      ],
      "text/plain": [
       "                           city         states population        lat  \\\n",
       "421                New Rochelle       New York      79446  40.911488   \n",
       "561                     Boulder       Colorado     103166  40.014986   \n",
       "824                       Hurst          Texas      38448  32.823462   \n",
       "180  San Buenaventura (Ventura)     California     108817  34.274646   \n",
       "71              Fountain Valley     California      56707  33.709185   \n",
       "649                    Beaumont          Texas     117796  30.080174   \n",
       "538                 Lake Oswego         Oregon      37610  45.420675   \n",
       "293                 San Leandro     California      87965  37.724930   \n",
       "845            Hallandale Beach        Florida      38632  25.981202   \n",
       "787                   Attleboro  Massachusetts      43886  41.944544   \n",
       "309                 Duncanville          Texas      39605  32.651800   \n",
       "962                      Joplin       Missouri      50789  37.084227   \n",
       "762                      Draper           Utah      45285  40.524671   \n",
       "869                    Dearborn       Michigan      95884  42.322260   \n",
       "209                   St. Cloud      Minnesota      66297  45.557945   \n",
       "674                     Hampton       Virginia     136699  37.029869   \n",
       "995               West New York     New Jersey      52122  40.787879   \n",
       "437                      Peoria        Arizona     162592  33.580596   \n",
       "465               Newport Beach     California      87273  33.618910   \n",
       "362                      Camden     New Jersey      76903  39.925946   \n",
       "\n",
       "            lon  \n",
       "421  -73.782355  \n",
       "561 -105.270546  \n",
       "824  -97.170568  \n",
       "180 -119.229032  \n",
       "71  -117.953670  \n",
       "649  -94.126556  \n",
       "538 -122.670650  \n",
       "293 -122.156077  \n",
       "845  -80.148379  \n",
       "787  -71.285608  \n",
       "309  -96.908337  \n",
       "962  -94.513281  \n",
       "762 -111.863823  \n",
       "869  -83.176315  \n",
       "209  -94.163240  \n",
       "674  -76.345222  \n",
       "995  -74.014306  \n",
       "437 -112.237378  \n",
       "465 -117.928947  \n",
       "362  -75.119620  "
      ]
     },
     "execution_count": 7,
     "metadata": {},
     "output_type": "execute_result"
    }
   ],
   "source": [
    "cities.sample(20)"
   ]
  },
  {
   "cell_type": "code",
   "execution_count": null,
   "id": "AUF5PVy2mqko",
   "metadata": {
    "id": "AUF5PVy2mqko"
   },
   "outputs": [],
   "source": [
    "X, y = make_regression(n_samples=100, n_features=1, random_state=24, noise=20, bias=50.0)"
   ]
  },
  {
   "cell_type": "code",
   "execution_count": null,
   "id": "Zogdb6aaxS-b",
   "metadata": {
    "colab": {
     "base_uri": "https://localhost:8080/",
     "height": 282
    },
    "id": "Zogdb6aaxS-b",
    "outputId": "51ab9b51-79cc-4e2b-8dd9-e5e87877988e"
   },
   "outputs": [
    {
     "data": {
      "text/plain": [
       "<matplotlib.collections.PathCollection at 0x7f2bf6518190>"
      ]
     },
     "execution_count": 28,
     "metadata": {},
     "output_type": "execute_result"
    },
    {
     "data": {
      "image/png": "[encoded data removed]",
      "text/plain": [
       "<Figure size 432x288 with 1 Axes>"
      ]
     },
     "metadata": {
      "needs_background": "light"
     },
     "output_type": "display_data"
    }
   ],
   "source": [
    "plt.scatter(X, y)"
   ]
  },
  {
   "cell_type": "code",
   "execution_count": null,
   "id": "Xf0jq-3aZrxV",
   "metadata": {
    "colab": {
     "base_uri": "https://localhost:8080/"
    },
    "id": "Xf0jq-3aZrxV",
    "outputId": "ad25cd5f-a3fe-4e11-e31c-d1e8d86c8f6d"
   },
   "outputs": [
    {
     "data": {
      "text/plain": [
       "LinearRegression()"
      ]
     },
     "execution_count": 29,
     "metadata": {},
     "output_type": "execute_result"
    }
   ],
   "source": [
    "model = LinearRegression()\n",
    "model"
   ]
  },
  {
   "cell_type": "code",
   "execution_count": null,
   "id": "UwDFXZn0meyS",
   "metadata": {
    "colab": {
     "base_uri": "https://localhost:8080/"
    },
    "id": "UwDFXZn0meyS",
    "outputId": "78750791-e9fd-4bbf-c1f0-16ff9eb4583b"
   },
   "outputs": [
    {
     "name": "stdout",
     "output_type": "stream",
     "text": [
      "LinearRegression()\n"
     ]
    }
   ],
   "source": [
    "model.fit(X, y)\n",
    "print(model)"
   ]
  },
  {
   "cell_type": "code",
   "execution_count": null,
   "id": "tFHbidegmfCN",
   "metadata": {
    "colab": {
     "base_uri": "https://localhost:8080/"
    },
    "id": "tFHbidegmfCN",
    "outputId": "8b802f02-9de7-48b3-84d7-cf65ccf962a5"
   },
   "outputs": [
    {
     "name": "stdout",
     "output_type": "stream",
     "text": [
      "Weight coefficients:  [73.68622249]\n",
      "y-axis intercept:  52.3505031996571\n"
     ]
    }
   ],
   "source": [
    "print('Weight coefficients: ', model.coef_)\n",
    "print('y-axis intercept: ', model.intercept_) "
   ]
  },
  {
   "cell_type": "code",
   "execution_count": null,
   "id": "wds6OnlamfGI",
   "metadata": {
    "colab": {
     "base_uri": "https://localhost:8080/"
    },
    "id": "wds6OnlamfGI",
    "outputId": "e5658d27-0dc5-41d8-aa66-06e0de5f23e8"
   },
   "outputs": [
    {
     "name": "stdout",
     "output_type": "stream",
     "text": [
      "True output: 51.573180999075355\n",
      "Predicted output: 61.05269396989404\n",
      "Prediction Error: 9.479512970818682\n"
     ]
    }
   ],
   "source": [
    "predictions = model.predict(X)\n",
    "print(f\"True output: {y[0]}\")\n",
    "print(f\"Predicted output: {predictions[0]}\")\n",
    "print(f\"Prediction Error: {predictions[0]-y[0]}\")"
   ]
  },
  {
   "cell_type": "code",
   "execution_count": null,
   "id": "s9OxiJcwylKq",
   "metadata": {
    "colab": {
     "base_uri": "https://localhost:8080/",
     "height": 424
    },
    "id": "s9OxiJcwylKq",
    "outputId": "29ebfe08-6113-4110-ba2d-539eb7bd8e5a"
   },
   "outputs": [
    {
     "data": {
      "text/html": [
       "\n",
       "  <div id=\"df-49d727f6-d2f4-4d08-92b7-994ac3cd80b4\">\n",
       "    <div class=\"colab-df-container\">\n",
       "      <div>\n",
       "<style scoped>\n",
       "    .dataframe tbody tr th:only-of-type {\n",
       "        vertical-align: middle;\n",
       "    }\n",
       "\n",
       "    .dataframe tbody tr th {\n",
       "        vertical-align: top;\n",
       "    }\n",
       "\n",
       "    .dataframe thead th {\n",
       "        text-align: right;\n",
       "    }\n",
       "</style>\n",
       "<table border=\"1\" class=\"dataframe\">\n",
       "  <thead>\n",
       "    <tr style=\"text-align: right;\">\n",
       "      <th></th>\n",
       "      <th>Predicted</th>\n",
       "      <th>Actual</th>\n",
       "      <th>Error</th>\n",
       "    </tr>\n",
       "  </thead>\n",
       "  <tbody>\n",
       "    <tr>\n",
       "      <th>0</th>\n",
       "      <td>61.052694</td>\n",
       "      <td>51.573181</td>\n",
       "      <td>9.479513</td>\n",
       "    </tr>\n",
       "    <tr>\n",
       "      <th>1</th>\n",
       "      <td>116.539022</td>\n",
       "      <td>135.744467</td>\n",
       "      <td>-19.205445</td>\n",
       "    </tr>\n",
       "    <tr>\n",
       "      <th>2</th>\n",
       "      <td>-45.354712</td>\n",
       "      <td>-34.665692</td>\n",
       "      <td>-10.689020</td>\n",
       "    </tr>\n",
       "    <tr>\n",
       "      <th>3</th>\n",
       "      <td>-19.366764</td>\n",
       "      <td>6.805878</td>\n",
       "      <td>-26.172642</td>\n",
       "    </tr>\n",
       "    <tr>\n",
       "      <th>4</th>\n",
       "      <td>120.974797</td>\n",
       "      <td>134.426874</td>\n",
       "      <td>-13.452077</td>\n",
       "    </tr>\n",
       "    <tr>\n",
       "      <th>...</th>\n",
       "      <td>...</td>\n",
       "      <td>...</td>\n",
       "      <td>...</td>\n",
       "    </tr>\n",
       "    <tr>\n",
       "      <th>95</th>\n",
       "      <td>111.587291</td>\n",
       "      <td>106.903818</td>\n",
       "      <td>4.683473</td>\n",
       "    </tr>\n",
       "    <tr>\n",
       "      <th>96</th>\n",
       "      <td>96.719525</td>\n",
       "      <td>118.261070</td>\n",
       "      <td>-21.541545</td>\n",
       "    </tr>\n",
       "    <tr>\n",
       "      <th>97</th>\n",
       "      <td>191.563874</td>\n",
       "      <td>181.988316</td>\n",
       "      <td>9.575558</td>\n",
       "    </tr>\n",
       "    <tr>\n",
       "      <th>98</th>\n",
       "      <td>21.512531</td>\n",
       "      <td>3.015834</td>\n",
       "      <td>18.496697</td>\n",
       "    </tr>\n",
       "    <tr>\n",
       "      <th>99</th>\n",
       "      <td>-67.666142</td>\n",
       "      <td>-86.634482</td>\n",
       "      <td>18.968339</td>\n",
       "    </tr>\n",
       "  </tbody>\n",
       "</table>\n",
       "<p>100 rows × 3 columns</p>\n",
       "</div>\n",
       "      <button class=\"colab-df-convert\" onclick=\"convertToInteractive('df-49d727f6-d2f4-4d08-92b7-994ac3cd80b4')\"\n",
       "              title=\"Convert this dataframe to an interactive table.\"\n",
       "              style=\"display:none;\">\n",
       "        \n",
       "  <svg xmlns=\"http://www.w3.org/2000/svg\" height=\"24px\"viewBox=\"0 0 24 24\"\n",
       "       width=\"24px\">\n",
       "    <path d=\"M0 0h24v24H0V0z\" fill=\"none\"/>\n",
       "    <path d=\"M18.56 5.44l.94 2.06.94-2.06 2.06-.94-2.06-.94-.94-2.06-.94 2.06-2.06.94zm-11 1L8.5 8.5l.94-2.06 2.06-.94-2.06-.94L8.5 2.5l-.94 2.06-2.06.94zm10 10l.94 2.06.94-2.06 2.06-.94-2.06-.94-.94-2.06-.94 2.06-2.06.94z\"/><path d=\"M17.41 7.96l-1.37-1.37c-.4-.4-.92-.59-1.43-.59-.52 0-1.04.2-1.43.59L10.3 9.45l-7.72 7.72c-.78.78-.78 2.05 0 2.83L4 21.41c.39.39.9.59 1.41.59.51 0 1.02-.2 1.41-.59l7.78-7.78 2.81-2.81c.8-.78.8-2.07 0-2.86zM5.41 20L4 18.59l7.72-7.72 1.47 1.35L5.41 20z\"/>\n",
       "  </svg>\n",
       "      </button>\n",
       "      \n",
       "  <style>\n",
       "    .colab-df-container {\n",
       "      display:flex;\n",
       "      flex-wrap:wrap;\n",
       "      gap: 12px;\n",
       "    }\n",
       "\n",
       "    .colab-df-convert {\n",
       "      background-color: #E8F0FE;\n",
       "      border: none;\n",
       "      border-radius: 50%;\n",
       "      cursor: pointer;\n",
       "      display: none;\n",
       "      fill: #1967D2;\n",
       "      height: 32px;\n",
       "      padding: 0 0 0 0;\n",
       "      width: 32px;\n",
       "    }\n",
       "\n",
       "    .colab-df-convert:hover {\n",
       "      background-color: #E2EBFA;\n",
       "      box-shadow: 0px 1px 2px rgba(60, 64, 67, 0.3), 0px 1px 3px 1px rgba(60, 64, 67, 0.15);\n",
       "      fill: #174EA6;\n",
       "    }\n",
       "\n",
       "    [theme=dark] .colab-df-convert {\n",
       "      background-color: #3B4455;\n",
       "      fill: #D2E3FC;\n",
       "    }\n",
       "\n",
       "    [theme=dark] .colab-df-convert:hover {\n",
       "      background-color: #434B5C;\n",
       "      box-shadow: 0px 1px 3px 1px rgba(0, 0, 0, 0.15);\n",
       "      filter: drop-shadow(0px 1px 2px rgba(0, 0, 0, 0.3));\n",
       "      fill: #FFFFFF;\n",
       "    }\n",
       "  </style>\n",
       "\n",
       "      <script>\n",
       "        const buttonEl =\n",
       "          document.querySelector('#df-49d727f6-d2f4-4d08-92b7-994ac3cd80b4 button.colab-df-convert');\n",
       "        buttonEl.style.display =\n",
       "          google.colab.kernel.accessAllowed ? 'block' : 'none';\n",
       "\n",
       "        async function convertToInteractive(key) {\n",
       "          const element = document.querySelector('#df-49d727f6-d2f4-4d08-92b7-994ac3cd80b4');\n",
       "          const dataTable =\n",
       "            await google.colab.kernel.invokeFunction('convertToInteractive',\n",
       "                                                     [key], {});\n",
       "          if (!dataTable) return;\n",
       "\n",
       "          const docLinkHtml = 'Like what you see? Visit the ' +\n",
       "            '<a target=\"_blank\" href=https://colab.research.google.com/notebooks/data_table.ipynb>data table notebook</a>'\n",
       "            + ' to learn more about interactive tables.';\n",
       "          element.innerHTML = '';\n",
       "          dataTable['output_type'] = 'display_data';\n",
       "          await google.colab.output.renderOutput(dataTable, element);\n",
       "          const docLink = document.createElement('div');\n",
       "          docLink.innerHTML = docLinkHtml;\n",
       "          element.appendChild(docLink);\n",
       "        }\n",
       "      </script>\n",
       "    </div>\n",
       "  </div>\n",
       "  "
      ],
      "text/plain": [
       "     Predicted      Actual      Error\n",
       "0    61.052694   51.573181   9.479513\n",
       "1   116.539022  135.744467 -19.205445\n",
       "2   -45.354712  -34.665692 -10.689020\n",
       "3   -19.366764    6.805878 -26.172642\n",
       "4   120.974797  134.426874 -13.452077\n",
       "..         ...         ...        ...\n",
       "95  111.587291  106.903818   4.683473\n",
       "96   96.719525  118.261070 -21.541545\n",
       "97  191.563874  181.988316   9.575558\n",
       "98   21.512531    3.015834  18.496697\n",
       "99  -67.666142  -86.634482  18.968339\n",
       "\n",
       "[100 rows x 3 columns]"
      ]
     },
     "execution_count": 33,
     "metadata": {},
     "output_type": "execute_result"
    }
   ],
   "source": [
    "pd.DataFrame({\"Predicted\": predictions, \"Actual\": y, \"Error\": predictions - y})[[\"Predicted\", \"Actual\", \"Error\"]]"
   ]
  },
  {
   "cell_type": "code",
   "execution_count": null,
   "id": "AejdPWhjyuD8",
   "metadata": {
    "id": "AejdPWhjyuD8"
   },
   "outputs": [],
   "source": []
  },
  {
   "cell_type": "code",
   "execution_count": null,
   "id": "82jROeIdyuHI",
   "metadata": {
    "id": "82jROeIdyuHI"
   },
   "outputs": [],
   "source": []
  },
  {
   "cell_type": "markdown",
   "id": "be134445",
   "metadata": {
    "id": "be134445"
   },
   "source": [
    "# Data Selection"
   ]
  },
  {
   "cell_type": "code",
   "execution_count": null,
   "id": "20d06293",
   "metadata": {
    "id": "20d06293"
   },
   "outputs": [],
   "source": [
    "file_path_brewery = Path(\"../Resources/brewery.csv\")\n",
    "file_path_income = Path(\"../Resources/income_data.csv\")"
   ]
  },
  {
   "cell_type": "code",
   "execution_count": null,
   "id": "d61abbb3",
   "metadata": {
    "id": "d61abbb3"
   },
   "outputs": [],
   "source": [
    "# Read CSV\n",
    "brewery_df = pd.read_csv(file_path_brewery)\n",
    "\n",
    "brewery_df.head()"
   ]
  },
  {
   "cell_type": "code",
   "execution_count": null,
   "id": "8c9461d0",
   "metadata": {
    "id": "8c9461d0"
   },
   "outputs": [],
   "source": [
    "# Read clothing CSV\n",
    "income_df = pd.read_csv(file_path_income)\n",
    "\n",
    "income_df.head()"
   ]
  },
  {
   "cell_type": "code",
   "execution_count": null,
   "id": "64e21612",
   "metadata": {
    "id": "64e21612"
   },
   "outputs": [],
   "source": [
    "# Remove not useful columns from dataframe"
   ]
  },
  {
   "cell_type": "code",
   "execution_count": null,
   "id": "a2e8d183",
   "metadata": {
    "id": "a2e8d183"
   },
   "outputs": [],
   "source": [
    "# Group dataframe based on number of breweries and location"
   ]
  },
  {
   "cell_type": "code",
   "execution_count": null,
   "id": "ec2fe383",
   "metadata": {
    "id": "ec2fe383"
   },
   "outputs": [],
   "source": [
    "# Merge dataframe with demographic infro dataframe grouped by location\n",
    "brewery_demo_df = brewery_df.merge(clothing_df, )"
   ]
  },
  {
   "cell_type": "markdown",
   "id": "24e04b58",
   "metadata": {
    "id": "24e04b58"
   },
   "source": [
    "# Data Processing"
   ]
  },
  {
   "cell_type": "code",
   "execution_count": null,
   "id": "ca26bf4a",
   "metadata": {
    "id": "ca26bf4a"
   },
   "outputs": [],
   "source": [
    "# Transform String Columns(Onehotencoder)"
   ]
  },
  {
   "cell_type": "code",
   "execution_count": null,
   "id": "8c829479",
   "metadata": {
    "id": "8c829479"
   },
   "outputs": [],
   "source": [
    "# Scale data if needed (StandardScaler)\n",
    "from sklearn.preprocessing import StandardScaler\n",
    "data_scaler = StandardScaler()"
   ]
  },
  {
   "cell_type": "code",
   "execution_count": null,
   "id": "fef37795",
   "metadata": {
    "id": "fef37795"
   },
   "outputs": [],
   "source": [
    "brewery_scaled = data_scaler.fit(encoded_df)\n",
    "\n",
    "brewery_scaled[:5]"
   ]
  },
  {
   "cell_type": "markdown",
   "id": "4fa0bb6f",
   "metadata": {
    "id": "4fa0bb6f"
   },
   "source": [
    "# Data Transformation"
   ]
  },
  {
   "cell_type": "code",
   "execution_count": null,
   "id": "f7d1e2b6",
   "metadata": {
    "id": "f7d1e2b6"
   },
   "outputs": [],
   "source": [
    "# Save Cleaned Data to csv"
   ]
  },
  {
   "cell_type": "code",
   "execution_count": null,
   "id": "16f3d3f3",
   "metadata": {
    "id": "16f3d3f3"
   },
   "outputs": [],
   "source": [
    "# Export cleaned data csv to sql table"
   ]
  },
  {
   "cell_type": "code",
   "execution_count": null,
   "id": "d6e6f5cf",
   "metadata": {
    "id": "d6e6f5cf"
   },
   "outputs": [],
   "source": [
    "# Set X and y \n",
    "# X = demographic info + number of Breweries per location(zipcode tabulation area?)\n",
    "# y = number of stores"
   ]
  },
  {
   "cell_type": "code",
   "execution_count": null,
   "id": "2fcda03b",
   "metadata": {
    "id": "2fcda03b"
   },
   "outputs": [],
   "source": [
    "# traintestsplit\n",
    "X_train, X_test, y_train, y_test = train_test_split(X, y, random_state=24)"
   ]
  },
  {
   "cell_type": "code",
   "execution_count": null,
   "id": "0bed1191",
   "metadata": {
    "id": "0bed1191"
   },
   "outputs": [],
   "source": [
    "# Create an instance of the model(LinearRegression)\n",
    "model = LinearRegression()"
   ]
  },
  {
   "cell_type": "code",
   "execution_count": null,
   "id": "435e9843",
   "metadata": {
    "id": "435e9843"
   },
   "outputs": [],
   "source": [
    "# Train the model with the dataset \n",
    "model.fit(X_train,y_train)"
   ]
  },
  {
   "cell_type": "code",
   "execution_count": null,
   "id": "a4590e9b",
   "metadata": {
    "id": "a4590e9b"
   },
   "outputs": [],
   "source": [
    "# Create predictions\n",
    "predictions = model.predict(X_test)\n",
    "\n",
    "print(predictions.shape)"
   ]
  },
  {
   "cell_type": "code",
   "execution_count": null,
   "id": "ac7817bd",
   "metadata": {
    "id": "ac7817bd"
   },
   "outputs": [],
   "source": [
    "# Validate the model\n",
    "# accuracy_score\n",
    "acc_score = accuracy_score(y_test, predictions)\n",
    "\n",
    "# confusion_matrix/classification_report\n",
    "cm = confusion_matrix(y_test, predictions)\n",
    "\n",
    "cm_df = pd.DataFrame(\n",
    "    cm, index=[\"Actual 0\", \"Actual 1\"], columns=[\"Predicted 0\", \"Predicted 1\"])"
   ]
  },
  {
   "cell_type": "code",
   "execution_count": null,
   "id": "71279c54",
   "metadata": {
    "id": "71279c54"
   },
   "outputs": [],
   "source": [
    "print(\"Confusion Matrix\")\n",
    "display(cm_df)\n",
    "print(f\"Accuracy Score : {acc_score}\")\n",
    "print(\"Classification Report\")\n",
    "print(classification_report(y_test, predictions))"
   ]
  },
  {
   "cell_type": "code",
   "execution_count": null,
   "id": "7ebcca02",
   "metadata": {
    "id": "7ebcca02"
   },
   "outputs": [],
   "source": [
    "# Find impact of different variables"
   ]
  }
 ],
 "metadata": {
  "colab": {
   "collapsed_sections": [],
   "name": "Copy of machine_learning_mockup.ipynb",
   "provenance": []
  },
  "kernelspec": {
   "display_name": "mlenv",
   "language": "python",
   "name": "mlenv"
  },
  "language_info": {
   "codemirror_mode": {
    "name": "ipython",
    "version": 3
   },
   "file_extension": ".py",
   "mimetype": "text/x-python",
   "name": "python",
   "nbconvert_exporter": "python",
   "pygments_lexer": "ipython3",
   "version": "3.7.13"
  }
 },
 "nbformat": 4,
 "nbformat_minor": 5
}
