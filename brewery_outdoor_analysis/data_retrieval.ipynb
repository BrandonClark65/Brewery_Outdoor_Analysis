{
 "cells": [
  {
   "cell_type": "code",
   "execution_count": 1,
   "id": "af3dcc5d",
   "metadata": {},
   "outputs": [],
   "source": [
    "# Import dependencies\n",
    "import pandas as pd\n",
    "import requests\n",
    "from database_connection import ENGINE\n",
    "from config import api_key"
   ]
  },
  {
   "cell_type": "code",
   "execution_count": 2,
   "id": "7c004dc0",
   "metadata": {},
   "outputs": [],
   "source": [
    "# import yelpAPI\n",
    "from yelpapi import YelpAPI\n",
    "import argparse\n",
    "from pprint import pprint"
   ]
  },
  {
   "cell_type": "code",
   "execution_count": 3,
   "id": "82507cc6",
   "metadata": {},
   "outputs": [],
   "source": [
    "# grab the top 1000 US cities from the database\n",
    "top_us_cities_query = '''\n",
    "SELECT *\n",
    "FROM top_us_cities\n",
    "'''\n",
    "cities = pd.read_sql(\n",
    "    top_us_cities_query,\n",
    "    con=ENGINE\n",
    ")"
   ]
  },
  {
   "cell_type": "code",
   "execution_count": 4,
   "id": "e4794912-3af0-4c12-89e6-0ea2ce59013b",
   "metadata": {},
   "outputs": [],
   "source": [
    "# create a sample DataFrame of 25 cities for initial testing purposes\n",
    "cities = cities.sample(25)"
   ]
  },
  {
   "cell_type": "code",
   "execution_count": 5,
   "id": "1e5c70cf",
   "metadata": {
    "scrolled": true
   },
   "outputs": [
    {
     "data": {
      "text/plain": [
       "564             Coachella, CA\n",
       "700                Newark, OH\n",
       "760            Des Moines, IA\n",
       "69                  Chino, CA\n",
       "903               Turlock, CA\n",
       "837    Palm Beach Gardens, FL\n",
       "205              Kentwood, MI\n",
       "320               Madison, AL\n",
       "139          Calumet City, IL\n",
       "841            Alpharetta, GA\n",
       "424             Royal Oak, MI\n",
       "335            Santa Rosa, CA\n",
       "856            St. George, UT\n",
       "124                  Brea, CA\n",
       "152                Conroe, TX\n",
       "99              Flagstaff, AZ\n",
       "536             Inglewood, CA\n",
       "314               Hayward, CA\n",
       "638              Hesperia, CA\n",
       "983             Davenport, IA\n",
       "306            Sugar Land, TX\n",
       "736                Lorain, OH\n",
       "96                 Burien, WA\n",
       "288                 Parma, OH\n",
       "377               Findlay, OH\n",
       "dtype: object"
      ]
     },
     "execution_count": 5,
     "metadata": {},
     "output_type": "execute_result"
    }
   ],
   "source": [
    "# create list of city, state combinations\n",
    "cities_list = cities['city'] + ', ' + cities['abbr']\n",
    "cities_list"
   ]
  },
  {
   "cell_type": "code",
   "execution_count": 6,
   "id": "49b14a12-51b9-4ac6-9236-25a38fc13865",
   "metadata": {},
   "outputs": [],
   "source": [
    "# Create empty list to hold all breweries\n",
    "brewery_results = []"
   ]
  },
  {
   "cell_type": "code",
   "execution_count": 7,
   "id": "6144efe1",
   "metadata": {},
   "outputs": [],
   "source": [
    "# Function to pull breweries for each location):\n",
    "def get_breweries(location):\n",
    "    with YelpAPI(api_key) as yelp_api:\n",
    "        # city_data is the json file with all businesses returned from search\n",
    "        city_data = yelp_api.search_query(term='Breweries', location = location)\n",
    "        # For each brewery in the search, return business name, coordinates, city, and buisness type\n",
    "        for i in range(len(city_data['businesses'])):\n",
    "            yelp_id = city_data['businesses'][i]['id']\n",
    "            name = city_data['businesses'][i]['name']\n",
    "            lat = city_data['businesses'][i]['coordinates']['latitude']\n",
    "            long = city_data['businesses'][i]['coordinates']['longitude']\n",
    "            city = city_data['businesses'][i]['location']['city']\n",
    "            business_type = city_data['businesses'][i]['categories'][0]['alias']\n",
    "            is_closed = city_data['businesses'][i]['is_closed']\n",
    "            rating = city_data['businesses'][i]['rating']\n",
    "            zip_code = city_data['businesses'][i]['location']['zip_code']\n",
    "            state = city_data['businesses'][i]['location']['state']\n",
    "\n",
    "            brewery_results.append(\n",
    "                {\n",
    "                    'yelp_id':yelp_id,\n",
    "                    'name':name, \n",
    "                    'lat':lat, \n",
    "                    'lng': long, \n",
    "                    'city':city, \n",
    "                    'business_type':business_type, \n",
    "                    'is_closed':is_closed, \n",
    "                    'rating':rating, \n",
    "                    'zip_code':zip_code, \n",
    "                    'state':state\n",
    "                }\n",
    "            )"
   ]
  },
  {
   "cell_type": "code",
   "execution_count": 8,
   "id": "8d43b8b0",
   "metadata": {
    "scrolled": true
   },
   "outputs": [],
   "source": [
    "# Apply get_breweries function to each location in cities_list\n",
    "for city in cities_list:\n",
    "    try:\n",
    "        get_breweries(city)\n",
    "    except Exception as e:\n",
    "        print(e)\n",
    "        print(f'An exception occurred for {city}')"
   ]
  },
  {
   "cell_type": "code",
   "execution_count": 9,
   "id": "0403a32f",
   "metadata": {},
   "outputs": [
    {
     "data": {
      "text/html": [
       "<div>\n",
       "<style scoped>\n",
       "    .dataframe tbody tr th:only-of-type {\n",
       "        vertical-align: middle;\n",
       "    }\n",
       "\n",
       "    .dataframe tbody tr th {\n",
       "        vertical-align: top;\n",
       "    }\n",
       "\n",
       "    .dataframe thead th {\n",
       "        text-align: right;\n",
       "    }\n",
       "</style>\n",
       "<table border=\"1\" class=\"dataframe\">\n",
       "  <thead>\n",
       "    <tr style=\"text-align: right;\">\n",
       "      <th></th>\n",
       "      <th>yelp_id</th>\n",
       "      <th>name</th>\n",
       "      <th>lat</th>\n",
       "      <th>lng</th>\n",
       "      <th>city</th>\n",
       "      <th>business_type</th>\n",
       "      <th>is_closed</th>\n",
       "      <th>rating</th>\n",
       "      <th>zip_code</th>\n",
       "      <th>state</th>\n",
       "    </tr>\n",
       "  </thead>\n",
       "  <tbody>\n",
       "    <tr>\n",
       "      <th>0</th>\n",
       "      <td>Be9YQy-QQzw8kjeMyFRMBA</td>\n",
       "      <td>Coachella Craft Beer Barn</td>\n",
       "      <td>33.678449</td>\n",
       "      <td>-116.237155</td>\n",
       "      <td>Indio</td>\n",
       "      <td>beer_and_wine</td>\n",
       "      <td>False</td>\n",
       "      <td>4.0</td>\n",
       "      <td>92201</td>\n",
       "      <td>CA</td>\n",
       "    </tr>\n",
       "    <tr>\n",
       "      <th>1</th>\n",
       "      <td>4eY-hs8mdt68EhtlFAv8nQ</td>\n",
       "      <td>Taproom 29</td>\n",
       "      <td>33.712645</td>\n",
       "      <td>-116.184130</td>\n",
       "      <td>Coachella</td>\n",
       "      <td>newamerican</td>\n",
       "      <td>False</td>\n",
       "      <td>3.0</td>\n",
       "      <td>92236</td>\n",
       "      <td>CA</td>\n",
       "    </tr>\n",
       "    <tr>\n",
       "      <th>2</th>\n",
       "      <td>0YScexYgQzkOPw0vNuia0A</td>\n",
       "      <td>Big Rock Golf and Pub</td>\n",
       "      <td>33.715190</td>\n",
       "      <td>-116.269910</td>\n",
       "      <td>Indio</td>\n",
       "      <td>tradamerican</td>\n",
       "      <td>False</td>\n",
       "      <td>3.5</td>\n",
       "      <td>92201</td>\n",
       "      <td>CA</td>\n",
       "    </tr>\n",
       "    <tr>\n",
       "      <th>3</th>\n",
       "      <td>W8m3jQ06xHwTLuMZfZ8UjQ</td>\n",
       "      <td>Parkway Market &amp; Spirits</td>\n",
       "      <td>33.729940</td>\n",
       "      <td>-116.198760</td>\n",
       "      <td>Indio</td>\n",
       "      <td>beer_and_wine</td>\n",
       "      <td>False</td>\n",
       "      <td>4.5</td>\n",
       "      <td>92203</td>\n",
       "      <td>CA</td>\n",
       "    </tr>\n",
       "    <tr>\n",
       "      <th>4</th>\n",
       "      <td>_o5YWmeMmgrzd_JvVgmA5Q</td>\n",
       "      <td>Burgers &amp; Beer</td>\n",
       "      <td>33.707135</td>\n",
       "      <td>-116.272040</td>\n",
       "      <td>La Quinta</td>\n",
       "      <td>tradamerican</td>\n",
       "      <td>False</td>\n",
       "      <td>3.5</td>\n",
       "      <td>92253</td>\n",
       "      <td>CA</td>\n",
       "    </tr>\n",
       "  </tbody>\n",
       "</table>\n",
       "</div>"
      ],
      "text/plain": [
       "                  yelp_id                       name        lat         lng  \\\n",
       "0  Be9YQy-QQzw8kjeMyFRMBA  Coachella Craft Beer Barn  33.678449 -116.237155   \n",
       "1  4eY-hs8mdt68EhtlFAv8nQ                 Taproom 29  33.712645 -116.184130   \n",
       "2  0YScexYgQzkOPw0vNuia0A      Big Rock Golf and Pub  33.715190 -116.269910   \n",
       "3  W8m3jQ06xHwTLuMZfZ8UjQ   Parkway Market & Spirits  33.729940 -116.198760   \n",
       "4  _o5YWmeMmgrzd_JvVgmA5Q             Burgers & Beer  33.707135 -116.272040   \n",
       "\n",
       "        city  business_type  is_closed  rating zip_code state  \n",
       "0      Indio  beer_and_wine      False     4.0    92201    CA  \n",
       "1  Coachella    newamerican      False     3.0    92236    CA  \n",
       "2      Indio   tradamerican      False     3.5    92201    CA  \n",
       "3      Indio  beer_and_wine      False     4.5    92203    CA  \n",
       "4  La Quinta   tradamerican      False     3.5    92253    CA  "
      ]
     },
     "execution_count": 9,
     "metadata": {},
     "output_type": "execute_result"
    }
   ],
   "source": [
    "breweries_df = pd.DataFrame(brewery_results)\n",
    "breweries_df.head()"
   ]
  },
  {
   "cell_type": "code",
   "execution_count": 10,
   "id": "32136ff0",
   "metadata": {},
   "outputs": [
    {
     "data": {
      "text/plain": [
       "421"
      ]
     },
     "execution_count": 10,
     "metadata": {},
     "output_type": "execute_result"
    }
   ],
   "source": [
    "# Length of breweries_df\n",
    "len(breweries_df)"
   ]
  },
  {
   "cell_type": "code",
   "execution_count": 11,
   "id": "2c682b17",
   "metadata": {},
   "outputs": [],
   "source": [
    "# Create empty List ot hold all Outdoor Gear Stores\n",
    "outdoor_gear_results = []"
   ]
  },
  {
   "cell_type": "code",
   "execution_count": 12,
   "id": "1ff22e9a",
   "metadata": {},
   "outputs": [],
   "source": [
    "# Function to pull stores from yelp with location as the variable\n",
    "def get_outdoor_stores(location):\n",
    "    with YelpAPI(api_key) as yelp_api:\n",
    "        # city_data is the json file with all businesses returned from search\n",
    "        city_data = yelp_api.search_query(term='Outdoor Gear', location = location)\n",
    "        # For each brewery in the search, return business name, coordinates, city, and buisness type\n",
    "        for i in range(len(city_data['businesses'])):\n",
    "            yelp_id = city_data['businesses'][i]['id']\n",
    "            name = city_data['businesses'][i]['name']\n",
    "            lat = city_data['businesses'][i]['coordinates']['latitude']\n",
    "            long = city_data['businesses'][i]['coordinates']['longitude']\n",
    "            city = city_data['businesses'][i]['location']['city']\n",
    "            business_type = city_data['businesses'][i]['categories'][0]['alias']\n",
    "            is_closed = city_data['businesses'][i]['is_closed']\n",
    "            rating = city_data['businesses'][i]['rating']\n",
    "            zip_code = city_data['businesses'][i]['location']['zip_code']\n",
    "            state = city_data['businesses'][i]['location']['state']\n",
    "            \n",
    "            outdoor_gear_results.append(\n",
    "                {\n",
    "                    'yelp_id':yelp_id,\n",
    "                    'name':name, \n",
    "                    'lat':lat, \n",
    "                    'lng': long, \n",
    "                    'city':city, \n",
    "                    'business_type':business_type, \n",
    "                    'is_closed':is_closed, \n",
    "                    'rating':rating, \n",
    "                    'zip_code':zip_code, \n",
    "                    'state':state\n",
    "                }\n",
    "            )"
   ]
  },
  {
   "cell_type": "code",
   "execution_count": 13,
   "id": "0e75238b",
   "metadata": {},
   "outputs": [],
   "source": [
    "# Apply get_outdoor_stores function to each location in the cities_list\n",
    "for city in cities_list:\n",
    "    try:\n",
    "        get_outdoor_stores(city)\n",
    "    except Exception as e:\n",
    "        print(e)\n",
    "        print(f'An exception occurred for {city}')"
   ]
  },
  {
   "cell_type": "code",
   "execution_count": 14,
   "id": "2de96367",
   "metadata": {},
   "outputs": [
    {
     "data": {
      "text/html": [
       "<div>\n",
       "<style scoped>\n",
       "    .dataframe tbody tr th:only-of-type {\n",
       "        vertical-align: middle;\n",
       "    }\n",
       "\n",
       "    .dataframe tbody tr th {\n",
       "        vertical-align: top;\n",
       "    }\n",
       "\n",
       "    .dataframe thead th {\n",
       "        text-align: right;\n",
       "    }\n",
       "</style>\n",
       "<table border=\"1\" class=\"dataframe\">\n",
       "  <thead>\n",
       "    <tr style=\"text-align: right;\">\n",
       "      <th></th>\n",
       "      <th>yelp_id</th>\n",
       "      <th>name</th>\n",
       "      <th>lat</th>\n",
       "      <th>lng</th>\n",
       "      <th>city</th>\n",
       "      <th>business_type</th>\n",
       "      <th>is_closed</th>\n",
       "      <th>rating</th>\n",
       "      <th>zip_code</th>\n",
       "      <th>state</th>\n",
       "    </tr>\n",
       "  </thead>\n",
       "  <tbody>\n",
       "    <tr>\n",
       "      <th>0</th>\n",
       "      <td>8y2LjgZAkUbCZYQTdFXzWg</td>\n",
       "      <td>Yellow Mart Stores</td>\n",
       "      <td>33.721600</td>\n",
       "      <td>-116.219711</td>\n",
       "      <td>Indio</td>\n",
       "      <td>deptstores</td>\n",
       "      <td>False</td>\n",
       "      <td>3.0</td>\n",
       "      <td>92201</td>\n",
       "      <td>CA</td>\n",
       "    </tr>\n",
       "    <tr>\n",
       "      <th>1</th>\n",
       "      <td>U-t1cpKQkEHBaX4dxYMOig</td>\n",
       "      <td>Turner's Outdoorsman-Palm Desert</td>\n",
       "      <td>33.767465</td>\n",
       "      <td>-116.312332</td>\n",
       "      <td>Palm Desert</td>\n",
       "      <td>guns_and_ammo</td>\n",
       "      <td>False</td>\n",
       "      <td>4.0</td>\n",
       "      <td>92211</td>\n",
       "      <td>CA</td>\n",
       "    </tr>\n",
       "    <tr>\n",
       "      <th>2</th>\n",
       "      <td>G9nZt-5uNXJbwZ0pCU5Wdw</td>\n",
       "      <td>DICK'S Sporting Goods</td>\n",
       "      <td>33.724108</td>\n",
       "      <td>-116.395622</td>\n",
       "      <td>Palm Desert</td>\n",
       "      <td>sportswear</td>\n",
       "      <td>False</td>\n",
       "      <td>2.5</td>\n",
       "      <td>92260</td>\n",
       "      <td>CA</td>\n",
       "    </tr>\n",
       "    <tr>\n",
       "      <th>3</th>\n",
       "      <td>AyyrWPxHqvChApd6PNmKuw</td>\n",
       "      <td>Tri-A-Bike</td>\n",
       "      <td>33.722567</td>\n",
       "      <td>-116.382986</td>\n",
       "      <td>Palm Desert</td>\n",
       "      <td>bikes</td>\n",
       "      <td>False</td>\n",
       "      <td>4.0</td>\n",
       "      <td>92260</td>\n",
       "      <td>CA</td>\n",
       "    </tr>\n",
       "    <tr>\n",
       "      <th>4</th>\n",
       "      <td>J_fa6g-eQhj_wmn3DJHeog</td>\n",
       "      <td>The Climbing Life Guides</td>\n",
       "      <td>34.111679</td>\n",
       "      <td>-116.330658</td>\n",
       "      <td>Joshua Tree</td>\n",
       "      <td>climbing</td>\n",
       "      <td>False</td>\n",
       "      <td>5.0</td>\n",
       "      <td>92252</td>\n",
       "      <td>CA</td>\n",
       "    </tr>\n",
       "  </tbody>\n",
       "</table>\n",
       "</div>"
      ],
      "text/plain": [
       "                  yelp_id                              name        lat  \\\n",
       "0  8y2LjgZAkUbCZYQTdFXzWg                Yellow Mart Stores  33.721600   \n",
       "1  U-t1cpKQkEHBaX4dxYMOig  Turner's Outdoorsman-Palm Desert  33.767465   \n",
       "2  G9nZt-5uNXJbwZ0pCU5Wdw             DICK'S Sporting Goods  33.724108   \n",
       "3  AyyrWPxHqvChApd6PNmKuw                        Tri-A-Bike  33.722567   \n",
       "4  J_fa6g-eQhj_wmn3DJHeog          The Climbing Life Guides  34.111679   \n",
       "\n",
       "          lng         city  business_type  is_closed  rating zip_code state  \n",
       "0 -116.219711        Indio     deptstores      False     3.0    92201    CA  \n",
       "1 -116.312332  Palm Desert  guns_and_ammo      False     4.0    92211    CA  \n",
       "2 -116.395622  Palm Desert     sportswear      False     2.5    92260    CA  \n",
       "3 -116.382986  Palm Desert          bikes      False     4.0    92260    CA  \n",
       "4 -116.330658  Joshua Tree       climbing      False     5.0    92252    CA  "
      ]
     },
     "execution_count": 14,
     "metadata": {},
     "output_type": "execute_result"
    }
   ],
   "source": [
    "# Convert to pandas DataFrame\n",
    "outdoor_df = pd.DataFrame(outdoor_gear_results)\n",
    "outdoor_df.head()"
   ]
  },
  {
   "cell_type": "code",
   "execution_count": 15,
   "id": "0712a698",
   "metadata": {},
   "outputs": [
    {
     "data": {
      "text/plain": [
       "369"
      ]
     },
     "execution_count": 15,
     "metadata": {},
     "output_type": "execute_result"
    }
   ],
   "source": [
    "# Length of outdoor_df\n",
    "len(outdoor_df)"
   ]
  },
  {
   "cell_type": "code",
   "execution_count": 16,
   "id": "8c91b867-3267-448f-ad13-94eb50eb3b02",
   "metadata": {},
   "outputs": [],
   "source": [
    "# fill `breweries` and `outdoor` tables with Yelp search results \n",
    "breweries_df.to_sql(\n",
    "    'breweries', \n",
    "    con=ENGINE, \n",
    "    if_exists='replace',\n",
    "    index=False\n",
    "    )"
   ]
  },
  {
   "cell_type": "code",
   "execution_count": 17,
   "id": "41d0283a-24e0-420a-b724-4994e9b0be74",
   "metadata": {},
   "outputs": [],
   "source": [
    "outdoor_df.to_sql(\n",
    "    'outdoor', \n",
    "    con=ENGINE, \n",
    "    if_exists='replace',\n",
    "    index=False\n",
    "    )"
   ]
  }
 ],
 "metadata": {
  "kernelspec": {
   "display_name": "PythonData",
   "language": "python",
   "name": "pythondata"
  },
  "language_info": {
   "codemirror_mode": {
    "name": "ipython",
    "version": 3
   },
   "file_extension": ".py",
   "mimetype": "text/x-python",
   "name": "python",
   "nbconvert_exporter": "python",
   "pygments_lexer": "ipython3",
   "version": "3.7.13"
  }
 },
 "nbformat": 4,
 "nbformat_minor": 5
}
