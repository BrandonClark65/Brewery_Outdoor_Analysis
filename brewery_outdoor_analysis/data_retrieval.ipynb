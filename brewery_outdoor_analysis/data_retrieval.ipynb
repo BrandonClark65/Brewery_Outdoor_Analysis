{
 "cells": [
  {
   "cell_type": "code",
   "execution_count": 1,
   "id": "af3dcc5d",
   "metadata": {},
   "outputs": [],
   "source": [
    "# Import dependencies\n",
    "import pandas as pd\n",
    "import requests\n",
    "\n",
    "from config import api_key\n",
    "from database_connection import ENGINE\n",
    "from update_city_summary import update_city_summary"
   ]
  },
  {
   "cell_type": "code",
   "execution_count": 2,
   "id": "7c004dc0",
   "metadata": {},
   "outputs": [],
   "source": [
    "# import yelpAPI\n",
    "from yelpapi import YelpAPI\n",
    "import argparse\n",
    "from pprint import pprint"
   ]
  },
  {
   "cell_type": "code",
   "execution_count": 3,
   "id": "82507cc6",
   "metadata": {},
   "outputs": [],
   "source": [
    "# grab the top 1000 US cities from the database\n",
    "top_us_cities_query = '''\n",
    "SELECT *\n",
    "FROM top_us_cities\n",
    "'''\n",
    "cities = pd.read_sql(\n",
    "    top_us_cities_query,\n",
    "    con=ENGINE\n",
    ")"
   ]
  },
  {
   "cell_type": "code",
   "execution_count": 4,
   "id": "1e5c70cf",
   "metadata": {
    "scrolled": true
   },
   "outputs": [
    {
     "data": {
      "text/plain": [
       "0           Houston, TX\n",
       "1          Brooklyn, NY\n",
       "2           Chicago, IL\n",
       "3       Los Angeles, CA\n",
       "4             Miami, FL\n",
       "             ...       \n",
       "995         Gadsden, AL\n",
       "996          Santee, CA\n",
       "997       Hempstead, NY\n",
       "998         Griffin, GA\n",
       "999    Harrisonburg, VA\n",
       "Length: 1000, dtype: object"
      ]
     },
     "execution_count": 4,
     "metadata": {},
     "output_type": "execute_result"
    }
   ],
   "source": [
    "# create list of city, state combinations\n",
    "cities_list = cities['city'] + ', ' + cities['state']\n",
    "cities_list"
   ]
  },
  {
   "cell_type": "code",
   "execution_count": 5,
   "id": "49b14a12-51b9-4ac6-9236-25a38fc13865",
   "metadata": {},
   "outputs": [],
   "source": [
    "# Create empty list to hold all breweries\n",
    "brewery_results = []"
   ]
  },
  {
   "cell_type": "code",
   "execution_count": 6,
   "id": "6144efe1",
   "metadata": {},
   "outputs": [],
   "source": [
    "# Function to pull breweries for each location):\n",
    "def get_breweries(location):\n",
    "    with YelpAPI(api_key) as yelp_api:\n",
    "        # city_data is the json file with all businesses returned from search\n",
    "        city_data = yelp_api.search_query(term='Breweries', location = location)\n",
    "        # For each brewery in the search, return business name, coordinates, city, and buisness type\n",
    "        for i in range(len(city_data['businesses'])):\n",
    "            country = city_data['businesses'][i]['location']['country']\n",
    "            if country == 'US':\n",
    "                yelp_id = city_data['businesses'][i]['id']\n",
    "                name = city_data['businesses'][i]['name']\n",
    "                lat = city_data['businesses'][i]['coordinates']['latitude']\n",
    "                long = city_data['businesses'][i]['coordinates']['longitude']\n",
    "                original_search_city = location.split(',')[0]\n",
    "                yelp_city = city_data['businesses'][i]['location']['city']\n",
    "                business_type = city_data['businesses'][i]['categories'][0]['alias']\n",
    "                is_closed = city_data['businesses'][i]['is_closed']\n",
    "                rating = city_data['businesses'][i]['rating']\n",
    "                zip_code = city_data['businesses'][i]['location']['zip_code']\n",
    "                state = city_data['businesses'][i]['location']['state']\n",
    "\n",
    "                brewery_results.append(\n",
    "                    {\n",
    "                        'yelp_id':yelp_id,\n",
    "                        'name':name, \n",
    "                        'lat':lat, \n",
    "                        'lng': long, \n",
    "                        'original_search_city':original_search_city,\n",
    "                        'yelp_city':yelp_city, \n",
    "                        'business_type':business_type, \n",
    "                        'is_closed':is_closed, \n",
    "                        'rating':rating, \n",
    "                        'zip_code':zip_code, \n",
    "                        'state':state\n",
    "                    }\n",
    "                )"
   ]
  },
  {
   "cell_type": "code",
   "execution_count": 7,
   "id": "8d43b8b0",
   "metadata": {
    "scrolled": true
   },
   "outputs": [],
   "source": [
    "# Apply get_breweries function to each location in cities_list\n",
    "for city in cities_list:\n",
    "    try:\n",
    "        get_breweries(city)\n",
    "    except Exception as e:\n",
    "        print(e)\n",
    "        print(f'An exception occurred for {city}')"
   ]
  },
  {
   "cell_type": "code",
   "execution_count": 8,
   "id": "0403a32f",
   "metadata": {},
   "outputs": [
    {
     "data": {
      "text/html": [
       "<div>\n",
       "<style scoped>\n",
       "    .dataframe tbody tr th:only-of-type {\n",
       "        vertical-align: middle;\n",
       "    }\n",
       "\n",
       "    .dataframe tbody tr th {\n",
       "        vertical-align: top;\n",
       "    }\n",
       "\n",
       "    .dataframe thead th {\n",
       "        text-align: right;\n",
       "    }\n",
       "</style>\n",
       "<table border=\"1\" class=\"dataframe\">\n",
       "  <thead>\n",
       "    <tr style=\"text-align: right;\">\n",
       "      <th></th>\n",
       "      <th>yelp_id</th>\n",
       "      <th>name</th>\n",
       "      <th>lat</th>\n",
       "      <th>lng</th>\n",
       "      <th>original_search_city</th>\n",
       "      <th>yelp_city</th>\n",
       "      <th>business_type</th>\n",
       "      <th>is_closed</th>\n",
       "      <th>rating</th>\n",
       "      <th>zip_code</th>\n",
       "      <th>state</th>\n",
       "    </tr>\n",
       "  </thead>\n",
       "  <tbody>\n",
       "    <tr>\n",
       "      <th>0</th>\n",
       "      <td>-SjX-mvv6ZZjxXUJvV3Quw</td>\n",
       "      <td>Saint Arnold Brewing Company</td>\n",
       "      <td>29.771090</td>\n",
       "      <td>-95.348410</td>\n",
       "      <td>Houston</td>\n",
       "      <td>Houston</td>\n",
       "      <td>brewpubs</td>\n",
       "      <td>False</td>\n",
       "      <td>4.5</td>\n",
       "      <td>77020</td>\n",
       "      <td>TX</td>\n",
       "    </tr>\n",
       "    <tr>\n",
       "      <th>1</th>\n",
       "      <td>bw5zHhEUJlLFlzo_6Id2Mw</td>\n",
       "      <td>Buffalo Bayou Brewing</td>\n",
       "      <td>29.772745</td>\n",
       "      <td>-95.379453</td>\n",
       "      <td>Houston</td>\n",
       "      <td>Houston</td>\n",
       "      <td>breweries</td>\n",
       "      <td>False</td>\n",
       "      <td>4.0</td>\n",
       "      <td>77007</td>\n",
       "      <td>TX</td>\n",
       "    </tr>\n",
       "    <tr>\n",
       "      <th>2</th>\n",
       "      <td>NQ3SptJthc-zoi93rtNubg</td>\n",
       "      <td>True Anomaly Brewing Company</td>\n",
       "      <td>29.749820</td>\n",
       "      <td>-95.357280</td>\n",
       "      <td>Houston</td>\n",
       "      <td>Houston</td>\n",
       "      <td>breweries</td>\n",
       "      <td>False</td>\n",
       "      <td>4.5</td>\n",
       "      <td>77003</td>\n",
       "      <td>TX</td>\n",
       "    </tr>\n",
       "    <tr>\n",
       "      <th>3</th>\n",
       "      <td>Dt2rzxZbXKixSRch8jcPVQ</td>\n",
       "      <td>8th Wonder Brewery</td>\n",
       "      <td>29.749059</td>\n",
       "      <td>-95.355806</td>\n",
       "      <td>Houston</td>\n",
       "      <td>Houston</td>\n",
       "      <td>breweries</td>\n",
       "      <td>False</td>\n",
       "      <td>4.0</td>\n",
       "      <td>77003</td>\n",
       "      <td>TX</td>\n",
       "    </tr>\n",
       "    <tr>\n",
       "      <th>4</th>\n",
       "      <td>VaKBKgeVFXa8gYDQfMLmJg</td>\n",
       "      <td>Frost Town Brewing</td>\n",
       "      <td>29.760800</td>\n",
       "      <td>-95.352340</td>\n",
       "      <td>Houston</td>\n",
       "      <td>Houston</td>\n",
       "      <td>brewpubs</td>\n",
       "      <td>False</td>\n",
       "      <td>5.0</td>\n",
       "      <td>77002</td>\n",
       "      <td>TX</td>\n",
       "    </tr>\n",
       "  </tbody>\n",
       "</table>\n",
       "</div>"
      ],
      "text/plain": [
       "                  yelp_id                          name        lat        lng  \\\n",
       "0  -SjX-mvv6ZZjxXUJvV3Quw  Saint Arnold Brewing Company  29.771090 -95.348410   \n",
       "1  bw5zHhEUJlLFlzo_6Id2Mw         Buffalo Bayou Brewing  29.772745 -95.379453   \n",
       "2  NQ3SptJthc-zoi93rtNubg  True Anomaly Brewing Company  29.749820 -95.357280   \n",
       "3  Dt2rzxZbXKixSRch8jcPVQ            8th Wonder Brewery  29.749059 -95.355806   \n",
       "4  VaKBKgeVFXa8gYDQfMLmJg            Frost Town Brewing  29.760800 -95.352340   \n",
       "\n",
       "  original_search_city yelp_city business_type  is_closed  rating zip_code  \\\n",
       "0              Houston   Houston      brewpubs      False     4.5    77020   \n",
       "1              Houston   Houston     breweries      False     4.0    77007   \n",
       "2              Houston   Houston     breweries      False     4.5    77003   \n",
       "3              Houston   Houston     breweries      False     4.0    77003   \n",
       "4              Houston   Houston      brewpubs      False     5.0    77002   \n",
       "\n",
       "  state  \n",
       "0    TX  \n",
       "1    TX  \n",
       "2    TX  \n",
       "3    TX  \n",
       "4    TX  "
      ]
     },
     "execution_count": 8,
     "metadata": {},
     "output_type": "execute_result"
    }
   ],
   "source": [
    "breweries_df = pd.DataFrame(brewery_results)\n",
    "breweries_df.head()"
   ]
  },
  {
   "cell_type": "code",
   "execution_count": 9,
   "id": "32136ff0",
   "metadata": {},
   "outputs": [
    {
     "data": {
      "text/plain": [
       "17432"
      ]
     },
     "execution_count": 9,
     "metadata": {},
     "output_type": "execute_result"
    }
   ],
   "source": [
    "# Length of breweries_df\n",
    "len(breweries_df)"
   ]
  },
  {
   "cell_type": "code",
   "execution_count": 10,
   "id": "2c682b17",
   "metadata": {},
   "outputs": [],
   "source": [
    "# Create empty List ot hold all Outdoor Gear Stores\n",
    "outdoor_gear_results = []"
   ]
  },
  {
   "cell_type": "code",
   "execution_count": 11,
   "id": "1ff22e9a",
   "metadata": {},
   "outputs": [],
   "source": [
    "# Function to pull stores from yelp with location as the variable\n",
    "def get_outdoor_stores(location):\n",
    "    with YelpAPI(api_key) as yelp_api:\n",
    "        # city_data is the json file with all businesses returned from search\n",
    "        city_data = yelp_api.search_query(term='Outdoor Gear', location = location)\n",
    "        # For each brewery in the search, return business name, coordinates, city, and business type\n",
    "        for i in range(len(city_data['businesses'])):\n",
    "            country = city_data['businesses'][i]['location']['country']\n",
    "            if country == 'US':\n",
    "                yelp_id = city_data['businesses'][i]['id']\n",
    "                name = city_data['businesses'][i]['name']\n",
    "                lat = city_data['businesses'][i]['coordinates']['latitude']\n",
    "                long = city_data['businesses'][i]['coordinates']['longitude']\n",
    "                original_search_city = location.split(',')[0]\n",
    "                yelp_city = city_data['businesses'][i]['location']['city']\n",
    "                business_type = city_data['businesses'][i]['categories'][0]['alias']\n",
    "                is_closed = city_data['businesses'][i]['is_closed']\n",
    "                rating = city_data['businesses'][i]['rating']\n",
    "                zip_code = city_data['businesses'][i]['location']['zip_code']\n",
    "                state = city_data['businesses'][i]['location']['state']\n",
    "            \n",
    "                outdoor_gear_results.append(\n",
    "                    {\n",
    "                        'yelp_id':yelp_id,\n",
    "                        'name':name, \n",
    "                        'lat':lat, \n",
    "                        'lng': long, \n",
    "                        'original_search_city':original_search_city,\n",
    "                        'yelp_city':yelp_city,\n",
    "                        'business_type':business_type, \n",
    "                        'is_closed':is_closed, \n",
    "                        'rating':rating, \n",
    "                        'zip_code':zip_code, \n",
    "                        'state':state\n",
    "                    }\n",
    "                )"
   ]
  },
  {
   "cell_type": "code",
   "execution_count": 12,
   "id": "0e75238b",
   "metadata": {},
   "outputs": [
    {
     "name": "stdout",
     "output_type": "stream",
     "text": [
      "list index out of range\n",
      "An exception occurred for Littleton, CO\n",
      "list index out of range\n",
      "An exception occurred for Topeka, KS\n",
      "list index out of range\n",
      "An exception occurred for Stamford, CT\n",
      "list index out of range\n",
      "An exception occurred for Norwalk, CT\n",
      "list index out of range\n",
      "An exception occurred for Gulfport, MS\n"
     ]
    }
   ],
   "source": [
    "# Apply get_outdoor_stores function to each location in the cities_list\n",
    "for city in cities_list:\n",
    "    try:\n",
    "        get_outdoor_stores(city)\n",
    "    except Exception as e:\n",
    "        print(e)\n",
    "        print(f'An exception occurred for {city}')"
   ]
  },
  {
   "cell_type": "code",
   "execution_count": 13,
   "id": "2de96367",
   "metadata": {},
   "outputs": [
    {
     "data": {
      "text/html": [
       "<div>\n",
       "<style scoped>\n",
       "    .dataframe tbody tr th:only-of-type {\n",
       "        vertical-align: middle;\n",
       "    }\n",
       "\n",
       "    .dataframe tbody tr th {\n",
       "        vertical-align: top;\n",
       "    }\n",
       "\n",
       "    .dataframe thead th {\n",
       "        text-align: right;\n",
       "    }\n",
       "</style>\n",
       "<table border=\"1\" class=\"dataframe\">\n",
       "  <thead>\n",
       "    <tr style=\"text-align: right;\">\n",
       "      <th></th>\n",
       "      <th>yelp_id</th>\n",
       "      <th>name</th>\n",
       "      <th>lat</th>\n",
       "      <th>lng</th>\n",
       "      <th>original_search_city</th>\n",
       "      <th>yelp_city</th>\n",
       "      <th>business_type</th>\n",
       "      <th>is_closed</th>\n",
       "      <th>rating</th>\n",
       "      <th>zip_code</th>\n",
       "      <th>state</th>\n",
       "    </tr>\n",
       "  </thead>\n",
       "  <tbody>\n",
       "    <tr>\n",
       "      <th>0</th>\n",
       "      <td>9xSfMWqjdJlQghkDQBtH3Q</td>\n",
       "      <td>Whole Earth Provision</td>\n",
       "      <td>29.739638</td>\n",
       "      <td>-95.410855</td>\n",
       "      <td>Houston</td>\n",
       "      <td>Houston</td>\n",
       "      <td>shoes</td>\n",
       "      <td>False</td>\n",
       "      <td>4.5</td>\n",
       "      <td>77098</td>\n",
       "      <td>TX</td>\n",
       "    </tr>\n",
       "    <tr>\n",
       "      <th>1</th>\n",
       "      <td>lE3zYqpeqkTrkbIWAf6EBw</td>\n",
       "      <td>5.11 Tactical</td>\n",
       "      <td>29.738527</td>\n",
       "      <td>-95.483354</td>\n",
       "      <td>Houston</td>\n",
       "      <td>Houston</td>\n",
       "      <td>outdoorgear</td>\n",
       "      <td>False</td>\n",
       "      <td>4.5</td>\n",
       "      <td>77057</td>\n",
       "      <td>TX</td>\n",
       "    </tr>\n",
       "    <tr>\n",
       "      <th>2</th>\n",
       "      <td>vUBjkadRtCXWJup0DkqIQg</td>\n",
       "      <td>YakGear</td>\n",
       "      <td>29.823106</td>\n",
       "      <td>-95.383425</td>\n",
       "      <td>Houston</td>\n",
       "      <td>Houston</td>\n",
       "      <td>outdoorgear</td>\n",
       "      <td>False</td>\n",
       "      <td>5.0</td>\n",
       "      <td>77022</td>\n",
       "      <td>TX</td>\n",
       "    </tr>\n",
       "    <tr>\n",
       "      <th>3</th>\n",
       "      <td>j1wPAGTo8FSMMJySl4oqBw</td>\n",
       "      <td>Gordy &amp; Sons Outfitters</td>\n",
       "      <td>29.768678</td>\n",
       "      <td>-95.398693</td>\n",
       "      <td>Houston</td>\n",
       "      <td>Houston</td>\n",
       "      <td>huntingfishingsupplies</td>\n",
       "      <td>False</td>\n",
       "      <td>5.0</td>\n",
       "      <td>77007</td>\n",
       "      <td>TX</td>\n",
       "    </tr>\n",
       "    <tr>\n",
       "      <th>4</th>\n",
       "      <td>pRVSJzx6EwzT3gKi_nvSuA</td>\n",
       "      <td>Bass Pro Shops</td>\n",
       "      <td>29.594926</td>\n",
       "      <td>-95.389867</td>\n",
       "      <td>Houston</td>\n",
       "      <td>Houston</td>\n",
       "      <td>sportswear</td>\n",
       "      <td>False</td>\n",
       "      <td>3.0</td>\n",
       "      <td>77047</td>\n",
       "      <td>TX</td>\n",
       "    </tr>\n",
       "  </tbody>\n",
       "</table>\n",
       "</div>"
      ],
      "text/plain": [
       "                  yelp_id                     name        lat        lng  \\\n",
       "0  9xSfMWqjdJlQghkDQBtH3Q    Whole Earth Provision  29.739638 -95.410855   \n",
       "1  lE3zYqpeqkTrkbIWAf6EBw            5.11 Tactical  29.738527 -95.483354   \n",
       "2  vUBjkadRtCXWJup0DkqIQg                  YakGear  29.823106 -95.383425   \n",
       "3  j1wPAGTo8FSMMJySl4oqBw  Gordy & Sons Outfitters  29.768678 -95.398693   \n",
       "4  pRVSJzx6EwzT3gKi_nvSuA           Bass Pro Shops  29.594926 -95.389867   \n",
       "\n",
       "  original_search_city yelp_city           business_type  is_closed  rating  \\\n",
       "0              Houston   Houston                   shoes      False     4.5   \n",
       "1              Houston   Houston             outdoorgear      False     4.5   \n",
       "2              Houston   Houston             outdoorgear      False     5.0   \n",
       "3              Houston   Houston  huntingfishingsupplies      False     5.0   \n",
       "4              Houston   Houston              sportswear      False     3.0   \n",
       "\n",
       "  zip_code state  \n",
       "0    77098    TX  \n",
       "1    77057    TX  \n",
       "2    77022    TX  \n",
       "3    77007    TX  \n",
       "4    77047    TX  "
      ]
     },
     "execution_count": 13,
     "metadata": {},
     "output_type": "execute_result"
    }
   ],
   "source": [
    "# Convert to pandas DataFrame\n",
    "outdoor_df = pd.DataFrame(outdoor_gear_results)\n",
    "outdoor_df.head()"
   ]
  },
  {
   "cell_type": "code",
   "execution_count": 14,
   "id": "0712a698",
   "metadata": {},
   "outputs": [
    {
     "data": {
      "text/plain": [
       "14561"
      ]
     },
     "execution_count": 14,
     "metadata": {},
     "output_type": "execute_result"
    }
   ],
   "source": [
    "# Length of outdoor_df\n",
    "len(outdoor_df)"
   ]
  },
  {
   "cell_type": "code",
   "execution_count": 15,
   "id": "1a696cca-eede-4212-8641-8e2deeccfbbc",
   "metadata": {},
   "outputs": [],
   "source": [
    "# ensure we do not have any zip codes that are empty\n",
    "breweries_df = breweries_df.loc[breweries_df['zip_code'] != '']\n",
    "outdoor_df = outdoor_df.loc[outdoor_df['zip_code'] != '']"
   ]
  },
  {
   "cell_type": "code",
   "execution_count": 16,
   "id": "c06925f1-5ff5-420a-9647-12b7c62d0218",
   "metadata": {},
   "outputs": [],
   "source": [
    "# cast zip codes as ints\n",
    "breweries_df['zip_code'] = breweries_df['zip_code'].astype('int')\n",
    "outdoor_df['zip_code'] = outdoor_df['zip_code'].astype('int')"
   ]
  },
  {
   "cell_type": "code",
   "execution_count": 17,
   "id": "8c91b867-3267-448f-ad13-94eb50eb3b02",
   "metadata": {},
   "outputs": [],
   "source": [
    "# fill `breweries` and `outdoor` tables with Yelp search results \n",
    "breweries_df.to_sql(\n",
    "    'breweries', \n",
    "    con=ENGINE, \n",
    "    if_exists='replace',\n",
    "    index=False\n",
    "    )"
   ]
  },
  {
   "cell_type": "code",
   "execution_count": 18,
   "id": "41d0283a-24e0-420a-b724-4994e9b0be74",
   "metadata": {},
   "outputs": [],
   "source": [
    "outdoor_df.to_sql(\n",
    "    'outdoor', \n",
    "    con=ENGINE, \n",
    "    if_exists='replace',\n",
    "    index=False\n",
    "    )"
   ]
  },
  {
   "cell_type": "code",
   "execution_count": 20,
   "id": "686825d8-e1de-4c8c-9346-5e55b4f48c80",
   "metadata": {},
   "outputs": [],
   "source": [
    "# update the city_summary table\n",
    "update_city_summary()"
   ]
  },
  {
   "cell_type": "code",
   "execution_count": null,
   "id": "0f0634f0",
   "metadata": {},
   "outputs": [],
   "source": []
  }
 ],
 "metadata": {
  "kernelspec": {
   "display_name": "PythonData",
   "language": "python",
   "name": "pythondata"
  },
  "language_info": {
   "codemirror_mode": {
    "name": "ipython",
    "version": 3
   },
   "file_extension": ".py",
   "mimetype": "text/x-python",
   "name": "python",
   "nbconvert_exporter": "python",
   "pygments_lexer": "ipython3",
   "version": "3.7.11"
  }
 },
 "nbformat": 4,
 "nbformat_minor": 5
}
