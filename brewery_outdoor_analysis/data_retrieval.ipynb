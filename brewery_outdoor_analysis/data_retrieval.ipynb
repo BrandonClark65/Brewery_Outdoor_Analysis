{
 "cells": [
  {
   "cell_type": "code",
   "execution_count": 1,
   "id": "af3dcc5d",
   "metadata": {},
   "outputs": [],
   "source": [
    "# Import dependencies\n",
    "import pandas as pd\n",
    "import requests\n",
    "\n",
    "from config import api_key\n",
    "from database_connection import ENGINE\n",
    "from update_city_summary import update_city_summary"
   ]
  },
  {
   "cell_type": "code",
   "execution_count": 2,
   "id": "7c004dc0",
   "metadata": {},
   "outputs": [],
   "source": [
    "# import yelpAPI\n",
    "from yelpapi import YelpAPI\n",
    "import argparse\n",
    "from pprint import pprint"
   ]
  },
  {
   "cell_type": "code",
   "execution_count": 3,
   "id": "82507cc6",
   "metadata": {},
   "outputs": [],
   "source": [
    "# grab the top 1000 US cities from the database\n",
    "top_us_cities_query = '''\n",
    "SELECT *\n",
    "FROM top_us_cities\n",
    "'''\n",
    "cities = pd.read_sql(\n",
    "    top_us_cities_query,\n",
    "    con=ENGINE\n",
    ")"
   ]
  },
  {
   "cell_type": "code",
   "execution_count": 5,
   "id": "1e5c70cf",
   "metadata": {
    "scrolled": true
   },
   "outputs": [
    {
     "data": {
      "text/plain": [
       "312          Albany, NY\n",
       "582        Bethesda, MD\n",
       "113          Irvine, CA\n",
       "226         Everett, WA\n",
       "487     Des Plaines, IL\n",
       "263           Tempe, AZ\n",
       "109     Jersey City, NJ\n",
       "470     Westerville, OH\n",
       "957      San Ysidro, CA\n",
       "123       Pensacola, FL\n",
       "882    Cartersville, GA\n",
       "910      Union City, NJ\n",
       "36       Louisville, KY\n",
       "231        Manassas, VA\n",
       "310           Tracy, CA\n",
       "873        Waterloo, IA\n",
       "641       Kingsport, TN\n",
       "567          Carson, CA\n",
       "696           Houma, LA\n",
       "797     Port Orange, FL\n",
       "501          Quincy, MA\n",
       "867       Goldsboro, NC\n",
       "421        Elmhurst, NY\n",
       "705        Columbus, IN\n",
       "411       Rochester, MI\n",
       "dtype: object"
      ]
     },
     "execution_count": 5,
     "metadata": {},
     "output_type": "execute_result"
    }
   ],
   "source": [
    "# create list of city, state combinations\n",
    "cities_list = cities['city'] + ', ' + cities['state']\n",
    "cities_list"
   ]
  },
  {
   "cell_type": "code",
   "execution_count": 6,
   "id": "49b14a12-51b9-4ac6-9236-25a38fc13865",
   "metadata": {},
   "outputs": [],
   "source": [
    "# Create empty list to hold all breweries\n",
    "brewery_results = []"
   ]
  },
  {
   "cell_type": "code",
   "execution_count": 7,
   "id": "6144efe1",
   "metadata": {},
   "outputs": [],
   "source": [
    "# Function to pull breweries for each location):\n",
    "def get_breweries(location):\n",
    "    with YelpAPI(api_key) as yelp_api:\n",
    "        # city_data is the json file with all businesses returned from search\n",
    "        city_data = yelp_api.search_query(term='Breweries', location = location)\n",
    "        # For each brewery in the search, return business name, coordinates, city, and buisness type\n",
    "        for i in range(len(city_data['businesses'])):\n",
    "            yelp_id = city_data['businesses'][i]['id']\n",
    "            name = city_data['businesses'][i]['name']\n",
    "            lat = city_data['businesses'][i]['coordinates']['latitude']\n",
    "            long = city_data['businesses'][i]['coordinates']['longitude']\n",
    "            original_search_city = location.split(',')[0]\n",
    "            yelp_city = city_data['businesses'][i]['location']['city']\n",
    "            business_type = city_data['businesses'][i]['categories'][0]['alias']\n",
    "            is_closed = city_data['businesses'][i]['is_closed']\n",
    "            rating = city_data['businesses'][i]['rating']\n",
    "            zip_code = city_data['businesses'][i]['location']['zip_code']\n",
    "            state = city_data['businesses'][i]['location']['state']\n",
    "\n",
    "            brewery_results.append(\n",
    "                {\n",
    "                    'yelp_id':yelp_id,\n",
    "                    'name':name, \n",
    "                    'lat':lat, \n",
    "                    'lng': long, \n",
    "                    'original_search_city':original_search_city,\n",
    "                    'yelp_city':yelp_city, \n",
    "                    'business_type':business_type, \n",
    "                    'is_closed':is_closed, \n",
    "                    'rating':rating, \n",
    "                    'zip_code':zip_code, \n",
    "                    'state':state\n",
    "                }\n",
    "            )"
   ]
  },
  {
   "cell_type": "code",
   "execution_count": 8,
   "id": "8d43b8b0",
   "metadata": {
    "scrolled": true
   },
   "outputs": [],
   "source": [
    "# Apply get_breweries function to each location in cities_list\n",
    "for city in cities_list:\n",
    "    try:\n",
    "        get_breweries(city)\n",
    "    except Exception as e:\n",
    "        print(e)\n",
    "        print(f'An exception occurred for {city}')"
   ]
  },
  {
   "cell_type": "code",
   "execution_count": 9,
   "id": "0403a32f",
   "metadata": {},
   "outputs": [
    {
     "data": {
      "text/html": [
       "<div>\n",
       "<style scoped>\n",
       "    .dataframe tbody tr th:only-of-type {\n",
       "        vertical-align: middle;\n",
       "    }\n",
       "\n",
       "    .dataframe tbody tr th {\n",
       "        vertical-align: top;\n",
       "    }\n",
       "\n",
       "    .dataframe thead th {\n",
       "        text-align: right;\n",
       "    }\n",
       "</style>\n",
       "<table border=\"1\" class=\"dataframe\">\n",
       "  <thead>\n",
       "    <tr style=\"text-align: right;\">\n",
       "      <th></th>\n",
       "      <th>yelp_id</th>\n",
       "      <th>name</th>\n",
       "      <th>lat</th>\n",
       "      <th>lng</th>\n",
       "      <th>original_search_city</th>\n",
       "      <th>yelp_city</th>\n",
       "      <th>business_type</th>\n",
       "      <th>is_closed</th>\n",
       "      <th>rating</th>\n",
       "      <th>zip_code</th>\n",
       "      <th>state</th>\n",
       "    </tr>\n",
       "  </thead>\n",
       "  <tbody>\n",
       "    <tr>\n",
       "      <th>0</th>\n",
       "      <td>ky2jlrpmBx0hH3mi6hnjOw</td>\n",
       "      <td>Fidens Brewing Company</td>\n",
       "      <td>42.717113</td>\n",
       "      <td>-73.837748</td>\n",
       "      <td>Albany</td>\n",
       "      <td>Colonie</td>\n",
       "      <td>breweries</td>\n",
       "      <td>False</td>\n",
       "      <td>5.0</td>\n",
       "      <td>12205</td>\n",
       "      <td>NY</td>\n",
       "    </tr>\n",
       "    <tr>\n",
       "      <th>1</th>\n",
       "      <td>Pvm0E8SyKn-SdqD5XEjN4A</td>\n",
       "      <td>The City Beer Hall</td>\n",
       "      <td>42.649550</td>\n",
       "      <td>-73.755030</td>\n",
       "      <td>Albany</td>\n",
       "      <td>Albany</td>\n",
       "      <td>bars</td>\n",
       "      <td>False</td>\n",
       "      <td>4.0</td>\n",
       "      <td>12207</td>\n",
       "      <td>NY</td>\n",
       "    </tr>\n",
       "    <tr>\n",
       "      <th>2</th>\n",
       "      <td>4ToPo-f-SK8vbrDGUjjMeQ</td>\n",
       "      <td>Druthers Brewing Company</td>\n",
       "      <td>42.666249</td>\n",
       "      <td>-73.741568</td>\n",
       "      <td>Albany</td>\n",
       "      <td>Albany</td>\n",
       "      <td>burgers</td>\n",
       "      <td>False</td>\n",
       "      <td>4.0</td>\n",
       "      <td>12204</td>\n",
       "      <td>NY</td>\n",
       "    </tr>\n",
       "    <tr>\n",
       "      <th>3</th>\n",
       "      <td>eInggtKDsGX7NnpsY1EyYQ</td>\n",
       "      <td>Fort Orange Brewing</td>\n",
       "      <td>42.667112</td>\n",
       "      <td>-73.743292</td>\n",
       "      <td>Albany</td>\n",
       "      <td>Albany</td>\n",
       "      <td>breweries</td>\n",
       "      <td>False</td>\n",
       "      <td>4.0</td>\n",
       "      <td>12204</td>\n",
       "      <td>NY</td>\n",
       "    </tr>\n",
       "    <tr>\n",
       "      <th>4</th>\n",
       "      <td>JkjHR7StocXN8bF6BKd1Sw</td>\n",
       "      <td>Delaware Supply</td>\n",
       "      <td>42.642988</td>\n",
       "      <td>-73.776625</td>\n",
       "      <td>Albany</td>\n",
       "      <td>Albany</td>\n",
       "      <td>beerbar</td>\n",
       "      <td>False</td>\n",
       "      <td>5.0</td>\n",
       "      <td>12209</td>\n",
       "      <td>NY</td>\n",
       "    </tr>\n",
       "  </tbody>\n",
       "</table>\n",
       "</div>"
      ],
      "text/plain": [
       "                  yelp_id                      name        lat        lng  \\\n",
       "0  ky2jlrpmBx0hH3mi6hnjOw    Fidens Brewing Company  42.717113 -73.837748   \n",
       "1  Pvm0E8SyKn-SdqD5XEjN4A        The City Beer Hall  42.649550 -73.755030   \n",
       "2  4ToPo-f-SK8vbrDGUjjMeQ  Druthers Brewing Company  42.666249 -73.741568   \n",
       "3  eInggtKDsGX7NnpsY1EyYQ       Fort Orange Brewing  42.667112 -73.743292   \n",
       "4  JkjHR7StocXN8bF6BKd1Sw           Delaware Supply  42.642988 -73.776625   \n",
       "\n",
       "  original_search_city yelp_city business_type  is_closed  rating zip_code  \\\n",
       "0               Albany   Colonie     breweries      False     5.0    12205   \n",
       "1               Albany    Albany          bars      False     4.0    12207   \n",
       "2               Albany    Albany       burgers      False     4.0    12204   \n",
       "3               Albany    Albany     breweries      False     4.0    12204   \n",
       "4               Albany    Albany       beerbar      False     5.0    12209   \n",
       "\n",
       "  state  \n",
       "0    NY  \n",
       "1    NY  \n",
       "2    NY  \n",
       "3    NY  \n",
       "4    NY  "
      ]
     },
     "execution_count": 9,
     "metadata": {},
     "output_type": "execute_result"
    }
   ],
   "source": [
    "breweries_df = pd.DataFrame(brewery_results)\n",
    "breweries_df.head()"
   ]
  },
  {
   "cell_type": "code",
   "execution_count": 10,
   "id": "32136ff0",
   "metadata": {},
   "outputs": [
    {
     "data": {
      "text/plain": [
       "455"
      ]
     },
     "execution_count": 10,
     "metadata": {},
     "output_type": "execute_result"
    }
   ],
   "source": [
    "# Length of breweries_df\n",
    "len(breweries_df)"
   ]
  },
  {
   "cell_type": "code",
   "execution_count": 11,
   "id": "2c682b17",
   "metadata": {},
   "outputs": [],
   "source": [
    "# Create empty List ot hold all Outdoor Gear Stores\n",
    "outdoor_gear_results = []"
   ]
  },
  {
   "cell_type": "code",
   "execution_count": 12,
   "id": "1ff22e9a",
   "metadata": {},
   "outputs": [],
   "source": [
    "# Function to pull stores from yelp with location as the variable\n",
    "def get_outdoor_stores(location):\n",
    "    with YelpAPI(api_key) as yelp_api:\n",
    "        # city_data is the json file with all businesses returned from search\n",
    "        city_data = yelp_api.search_query(term='Outdoor Gear', location = location)\n",
    "        # For each brewery in the search, return business name, coordinates, city, and buisness type\n",
    "        for i in range(len(city_data['businesses'])):\n",
    "            yelp_id = city_data['businesses'][i]['id']\n",
    "            name = city_data['businesses'][i]['name']\n",
    "            lat = city_data['businesses'][i]['coordinates']['latitude']\n",
    "            long = city_data['businesses'][i]['coordinates']['longitude']\n",
    "            original_search_city = location.split(',')[0]\n",
    "            yelp_city = city_data['businesses'][i]['location']['city']\n",
    "            business_type = city_data['businesses'][i]['categories'][0]['alias']\n",
    "            is_closed = city_data['businesses'][i]['is_closed']\n",
    "            rating = city_data['businesses'][i]['rating']\n",
    "            zip_code = city_data['businesses'][i]['location']['zip_code']\n",
    "            state = city_data['businesses'][i]['location']['state']\n",
    "            \n",
    "            outdoor_gear_results.append(\n",
    "                {\n",
    "                    'yelp_id':yelp_id,\n",
    "                    'name':name, \n",
    "                    'lat':lat, \n",
    "                    'lng': long, \n",
    "                    'original_search_city':original_search_city,\n",
    "                    'yelp_city':yelp_city,\n",
    "                    'business_type':business_type, \n",
    "                    'is_closed':is_closed, \n",
    "                    'rating':rating, \n",
    "                    'zip_code':zip_code, \n",
    "                    'state':state\n",
    "                }\n",
    "            )"
   ]
  },
  {
   "cell_type": "code",
   "execution_count": 13,
   "id": "0e75238b",
   "metadata": {},
   "outputs": [],
   "source": [
    "# Apply get_outdoor_stores function to each location in the cities_list\n",
    "for city in cities_list:\n",
    "    try:\n",
    "        get_outdoor_stores(city)\n",
    "    except Exception as e:\n",
    "        print(e)\n",
    "        print(f'An exception occurred for {city}')"
   ]
  },
  {
   "cell_type": "code",
   "execution_count": 14,
   "id": "2de96367",
   "metadata": {},
   "outputs": [
    {
     "data": {
      "text/html": [
       "<div>\n",
       "<style scoped>\n",
       "    .dataframe tbody tr th:only-of-type {\n",
       "        vertical-align: middle;\n",
       "    }\n",
       "\n",
       "    .dataframe tbody tr th {\n",
       "        vertical-align: top;\n",
       "    }\n",
       "\n",
       "    .dataframe thead th {\n",
       "        text-align: right;\n",
       "    }\n",
       "</style>\n",
       "<table border=\"1\" class=\"dataframe\">\n",
       "  <thead>\n",
       "    <tr style=\"text-align: right;\">\n",
       "      <th></th>\n",
       "      <th>yelp_id</th>\n",
       "      <th>name</th>\n",
       "      <th>lat</th>\n",
       "      <th>lng</th>\n",
       "      <th>original_search_city</th>\n",
       "      <th>yelp_city</th>\n",
       "      <th>business_type</th>\n",
       "      <th>is_closed</th>\n",
       "      <th>rating</th>\n",
       "      <th>zip_code</th>\n",
       "      <th>state</th>\n",
       "    </tr>\n",
       "  </thead>\n",
       "  <tbody>\n",
       "    <tr>\n",
       "      <th>0</th>\n",
       "      <td>FkYZFHvbLUJ6_K5xCkLnxw</td>\n",
       "      <td>Field &amp; Stream</td>\n",
       "      <td>42.752953</td>\n",
       "      <td>-73.763981</td>\n",
       "      <td>Albany</td>\n",
       "      <td>Latham</td>\n",
       "      <td>huntingfishingsupplies</td>\n",
       "      <td>False</td>\n",
       "      <td>4.5</td>\n",
       "      <td>12110</td>\n",
       "      <td>NY</td>\n",
       "    </tr>\n",
       "    <tr>\n",
       "      <th>1</th>\n",
       "      <td>wablChswRptR38ipjRHXjA</td>\n",
       "      <td>Eastern Mountain Sports</td>\n",
       "      <td>42.685050</td>\n",
       "      <td>-73.840111</td>\n",
       "      <td>Albany</td>\n",
       "      <td>Albany</td>\n",
       "      <td>outdoorgear</td>\n",
       "      <td>False</td>\n",
       "      <td>3.0</td>\n",
       "      <td>12203</td>\n",
       "      <td>NY</td>\n",
       "    </tr>\n",
       "    <tr>\n",
       "      <th>2</th>\n",
       "      <td>guyEBgSr3m4-4CLIyTYIMg</td>\n",
       "      <td>L.L. Bean</td>\n",
       "      <td>42.709640</td>\n",
       "      <td>-73.817730</td>\n",
       "      <td>Albany</td>\n",
       "      <td>Albany</td>\n",
       "      <td>sportswear</td>\n",
       "      <td>False</td>\n",
       "      <td>4.0</td>\n",
       "      <td>12205</td>\n",
       "      <td>NY</td>\n",
       "    </tr>\n",
       "    <tr>\n",
       "      <th>3</th>\n",
       "      <td>-t47CbsmRt-EGA7C_NBDXg</td>\n",
       "      <td>Mohawk Army Navy</td>\n",
       "      <td>42.770630</td>\n",
       "      <td>-73.893550</td>\n",
       "      <td>Albany</td>\n",
       "      <td>Schenectady</td>\n",
       "      <td>outdoorgear</td>\n",
       "      <td>False</td>\n",
       "      <td>3.5</td>\n",
       "      <td>12304</td>\n",
       "      <td>NY</td>\n",
       "    </tr>\n",
       "    <tr>\n",
       "      <th>4</th>\n",
       "      <td>2pJhX07LqqfyJwPq20zc7w</td>\n",
       "      <td>Steiner's Sports</td>\n",
       "      <td>42.601860</td>\n",
       "      <td>-73.789783</td>\n",
       "      <td>Albany</td>\n",
       "      <td>Glenmont</td>\n",
       "      <td>bikes</td>\n",
       "      <td>False</td>\n",
       "      <td>3.0</td>\n",
       "      <td>12077</td>\n",
       "      <td>NY</td>\n",
       "    </tr>\n",
       "  </tbody>\n",
       "</table>\n",
       "</div>"
      ],
      "text/plain": [
       "                  yelp_id                     name        lat        lng  \\\n",
       "0  FkYZFHvbLUJ6_K5xCkLnxw           Field & Stream  42.752953 -73.763981   \n",
       "1  wablChswRptR38ipjRHXjA  Eastern Mountain Sports  42.685050 -73.840111   \n",
       "2  guyEBgSr3m4-4CLIyTYIMg                L.L. Bean  42.709640 -73.817730   \n",
       "3  -t47CbsmRt-EGA7C_NBDXg         Mohawk Army Navy  42.770630 -73.893550   \n",
       "4  2pJhX07LqqfyJwPq20zc7w         Steiner's Sports  42.601860 -73.789783   \n",
       "\n",
       "  original_search_city    yelp_city           business_type  is_closed  \\\n",
       "0               Albany       Latham  huntingfishingsupplies      False   \n",
       "1               Albany       Albany             outdoorgear      False   \n",
       "2               Albany       Albany              sportswear      False   \n",
       "3               Albany  Schenectady             outdoorgear      False   \n",
       "4               Albany     Glenmont                   bikes      False   \n",
       "\n",
       "   rating zip_code state  \n",
       "0     4.5    12110    NY  \n",
       "1     3.0    12203    NY  \n",
       "2     4.0    12205    NY  \n",
       "3     3.5    12304    NY  \n",
       "4     3.0    12077    NY  "
      ]
     },
     "execution_count": 14,
     "metadata": {},
     "output_type": "execute_result"
    }
   ],
   "source": [
    "# Convert to pandas DataFrame\n",
    "outdoor_df = pd.DataFrame(outdoor_gear_results)\n",
    "outdoor_df.head()"
   ]
  },
  {
   "cell_type": "code",
   "execution_count": 15,
   "id": "0712a698",
   "metadata": {},
   "outputs": [
    {
     "data": {
      "text/plain": [
       "405"
      ]
     },
     "execution_count": 15,
     "metadata": {},
     "output_type": "execute_result"
    }
   ],
   "source": [
    "# Length of outdoor_df\n",
    "len(outdoor_df)"
   ]
  },
  {
   "cell_type": "code",
   "execution_count": 16,
   "id": "1a696cca-eede-4212-8641-8e2deeccfbbc",
   "metadata": {},
   "outputs": [],
   "source": [
    "# ensure we do not have any zip codes that are empty\n",
    "breweries_df = breweries_df.loc[breweries_df['zip_code'] != '']\n",
    "outdoor_df = outdoor_df.loc[outdoor_df['zip_code'] != '']"
   ]
  },
  {
   "cell_type": "code",
   "execution_count": 17,
   "id": "c06925f1-5ff5-420a-9647-12b7c62d0218",
   "metadata": {},
   "outputs": [],
   "source": [
    "# cast zip codes as ints\n",
    "breweries_df['zip_code'] = breweries_df['zip_code'].astype('int')\n",
    "outdoor_df['zip_code'] = outdoor_df['zip_code'].astype('int')"
   ]
  },
  {
   "cell_type": "code",
   "execution_count": 18,
   "id": "8c91b867-3267-448f-ad13-94eb50eb3b02",
   "metadata": {},
   "outputs": [],
   "source": [
    "# fill `breweries` and `outdoor` tables with Yelp search results \n",
    "breweries_df.to_sql(\n",
    "    'breweries', \n",
    "    con=ENGINE, \n",
    "    if_exists='replace',\n",
    "    index=False\n",
    "    )"
   ]
  },
  {
   "cell_type": "code",
   "execution_count": 19,
   "id": "41d0283a-24e0-420a-b724-4994e9b0be74",
   "metadata": {},
   "outputs": [],
   "source": [
    "outdoor_df.to_sql(\n",
    "    'outdoor', \n",
    "    con=ENGINE, \n",
    "    if_exists='replace',\n",
    "    index=False\n",
    "    )"
   ]
  },
  {
   "cell_type": "code",
   "execution_count": 20,
   "id": "686825d8-e1de-4c8c-9346-5e55b4f48c80",
   "metadata": {},
   "outputs": [],
   "source": [
    "# update the city_summary table\n",
    "update_city_summary()"
   ]
  }
 ],
 "metadata": {
  "kernelspec": {
   "display_name": "PythonData",
   "language": "python",
   "name": "pythondata"
  },
  "language_info": {
   "codemirror_mode": {
    "name": "ipython",
    "version": 3
   },
   "file_extension": ".py",
   "mimetype": "text/x-python",
   "name": "python",
   "nbconvert_exporter": "python",
   "pygments_lexer": "ipython3",
   "version": "3.7.13"
  }
 },
 "nbformat": 4,
 "nbformat_minor": 5
}
