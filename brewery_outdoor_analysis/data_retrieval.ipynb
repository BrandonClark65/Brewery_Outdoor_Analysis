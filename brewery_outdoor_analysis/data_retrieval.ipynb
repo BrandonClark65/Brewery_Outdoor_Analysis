{
 "cells": [
  {
   "cell_type": "code",
   "execution_count": 1,
   "id": "af3dcc5d",
   "metadata": {},
   "outputs": [],
   "source": [
    "# Import dependencies\n",
    "import pandas as pd\n",
    "import requests\n",
    "from config import api_key"
   ]
  },
  {
   "cell_type": "code",
   "execution_count": 2,
   "id": "7c004dc0",
   "metadata": {},
   "outputs": [],
   "source": [
    "# import yelpAPI\n",
    "from yelpapi import YelpAPI\n",
    "import argparse\n",
    "from pprint import pprint"
   ]
  },
  {
   "cell_type": "code",
   "execution_count": 3,
   "id": "82507cc6",
   "metadata": {},
   "outputs": [
    {
     "data": {
      "text/html": [
       "<div>\n",
       "<style scoped>\n",
       "    .dataframe tbody tr th:only-of-type {\n",
       "        vertical-align: middle;\n",
       "    }\n",
       "\n",
       "    .dataframe tbody tr th {\n",
       "        vertical-align: top;\n",
       "    }\n",
       "\n",
       "    .dataframe thead th {\n",
       "        text-align: right;\n",
       "    }\n",
       "</style>\n",
       "<table border=\"1\" class=\"dataframe\">\n",
       "  <thead>\n",
       "    <tr style=\"text-align: right;\">\n",
       "      <th></th>\n",
       "      <th>City</th>\n",
       "      <th>State</th>\n",
       "      <th>Population</th>\n",
       "      <th>lat</th>\n",
       "      <th>lon</th>\n",
       "    </tr>\n",
       "  </thead>\n",
       "  <tbody>\n",
       "    <tr>\n",
       "      <th>0</th>\n",
       "      <td>Marysville</td>\n",
       "      <td>Washington</td>\n",
       "      <td>63269</td>\n",
       "      <td>48.051764</td>\n",
       "      <td>-122.177082</td>\n",
       "    </tr>\n",
       "    <tr>\n",
       "      <th>1</th>\n",
       "      <td>Perris</td>\n",
       "      <td>California</td>\n",
       "      <td>72326</td>\n",
       "      <td>33.782519</td>\n",
       "      <td>-117.228648</td>\n",
       "    </tr>\n",
       "    <tr>\n",
       "      <th>2</th>\n",
       "      <td>Cleveland</td>\n",
       "      <td>Ohio</td>\n",
       "      <td>390113</td>\n",
       "      <td>41.499320</td>\n",
       "      <td>-81.694361</td>\n",
       "    </tr>\n",
       "    <tr>\n",
       "      <th>3</th>\n",
       "      <td>Worcester</td>\n",
       "      <td>Massachusetts</td>\n",
       "      <td>182544</td>\n",
       "      <td>42.262593</td>\n",
       "      <td>-71.802293</td>\n",
       "    </tr>\n",
       "    <tr>\n",
       "      <th>4</th>\n",
       "      <td>Columbia</td>\n",
       "      <td>South Carolina</td>\n",
       "      <td>133358</td>\n",
       "      <td>34.000710</td>\n",
       "      <td>-81.034814</td>\n",
       "    </tr>\n",
       "  </tbody>\n",
       "</table>\n",
       "</div>"
      ],
      "text/plain": [
       "         City           State  Population        lat         lon\n",
       "0  Marysville      Washington       63269  48.051764 -122.177082\n",
       "1      Perris      California       72326  33.782519 -117.228648\n",
       "2   Cleveland            Ohio      390113  41.499320  -81.694361\n",
       "3   Worcester   Massachusetts      182544  42.262593  -71.802293\n",
       "4    Columbia  South Carolina      133358  34.000710  -81.034814"
      ]
     },
     "execution_count": 3,
     "metadata": {},
     "output_type": "execute_result"
    }
   ],
   "source": [
    "# Import top 200 cities in the US csv file\n",
    "cities = pd.read_csv(\"Resources/us-cities-top-1k.csv\")\n",
    "cities.head()"
   ]
  },
  {
   "cell_type": "code",
   "execution_count": 4,
   "id": "1e5c70cf",
   "metadata": {
    "scrolled": true
   },
   "outputs": [
    {
     "data": {
      "text/plain": [
       "0         Marysville\n",
       "1             Perris\n",
       "2          Cleveland\n",
       "3          Worcester\n",
       "4           Columbia\n",
       "           ...      \n",
       "995    West New York\n",
       "996          Everett\n",
       "997           Linden\n",
       "998        Asheville\n",
       "999          Compton\n",
       "Name: City, Length: 1000, dtype: object"
      ]
     },
     "execution_count": 4,
     "metadata": {},
     "output_type": "execute_result"
    }
   ],
   "source": [
    "# Create list of top 200 cities\n",
    "cities_list = cities[\"City\"]\n",
    "cities_list"
   ]
  },
  {
   "cell_type": "code",
   "execution_count": 10,
   "id": "60fb872b",
   "metadata": {},
   "outputs": [],
   "source": [
    "# Create empty List ot hold all breweries\n",
    "brewery_results = []"
   ]
  },
  {
   "cell_type": "code",
   "execution_count": 12,
   "id": "6144efe1",
   "metadata": {},
   "outputs": [],
   "source": [
    "# Function to pull breweries for each location):\n",
    "def get_breweries(location):\n",
    "    with YelpAPI(api_key) as yelp_api:\n",
    "        # city_data is the json file with all businesses returned from search\n",
    "        city_data = yelp_api.search_query(term='Breweries', location = location)\n",
    "        # For each brewery in the search, return business name, coordinates, city, and buisness type\n",
    "        for i in range(len(city_data['businesses'])):\n",
    "            name = city_data['businesses'][i]['name']\n",
    "            lat = city_data['businesses'][i]['coordinates']['latitude']\n",
    "            long = city_data['businesses'][i]['coordinates']['longitude']\n",
    "            city = city_data['businesses'][i]['location']['city']\n",
    "            business_type = city_data['businesses'][i]['categories'][0]['alias']\n",
    "            is_closed = city_data['businesses'][i]['is_closed']\n",
    "            rating = city_data['businesses'][i]['rating']\n",
    "            zip_code = city_data['businesses'][i]['location']['zip_code']\n",
    "            state = city_data['businesses'][i]['location']['state']\n",
    "            brewery_results.append({\"Name\":name, \"Lat\":lat, \"Lng\": long, \"City\":city, \"Business Type\":business_type, \"Is Closed\":is_closed, \"Rating\":rating, \"Zip Code\":zip_code, \"State\":state})"
   ]
  },
  {
   "cell_type": "code",
   "execution_count": 13,
   "id": "8d43b8b0",
   "metadata": {
    "scrolled": true
   },
   "outputs": [
    {
     "name": "stdout",
     "output_type": "stream",
     "text": [
      "An exception occurred for Lima\n",
      "An exception occurred for Odessa\n"
     ]
    }
   ],
   "source": [
    "# Apply get_breweries function to each location in cities_list\n",
    "for city in cities_list:\n",
    "    try:\n",
    "        get_breweries(city)\n",
    "    except:\n",
    "        print(f\"An exception occurred for {city}\")"
   ]
  },
  {
   "cell_type": "code",
   "execution_count": 14,
   "id": "0403a32f",
   "metadata": {},
   "outputs": [
    {
     "data": {
      "text/html": [
       "<div>\n",
       "<style scoped>\n",
       "    .dataframe tbody tr th:only-of-type {\n",
       "        vertical-align: middle;\n",
       "    }\n",
       "\n",
       "    .dataframe tbody tr th {\n",
       "        vertical-align: top;\n",
       "    }\n",
       "\n",
       "    .dataframe thead th {\n",
       "        text-align: right;\n",
       "    }\n",
       "</style>\n",
       "<table border=\"1\" class=\"dataframe\">\n",
       "  <thead>\n",
       "    <tr style=\"text-align: right;\">\n",
       "      <th></th>\n",
       "      <th>Name</th>\n",
       "      <th>Lat</th>\n",
       "      <th>Lng</th>\n",
       "      <th>City</th>\n",
       "      <th>Business Type</th>\n",
       "      <th>Is Closed</th>\n",
       "      <th>Rating</th>\n",
       "      <th>Zip Code</th>\n",
       "      <th>State</th>\n",
       "    </tr>\n",
       "  </thead>\n",
       "  <tbody>\n",
       "    <tr>\n",
       "      <th>0</th>\n",
       "      <td>5 Rights Brewing Company</td>\n",
       "      <td>48.051043</td>\n",
       "      <td>-122.176124</td>\n",
       "      <td>Marysville</td>\n",
       "      <td>breweries</td>\n",
       "      <td>False</td>\n",
       "      <td>4.5</td>\n",
       "      <td>98270</td>\n",
       "      <td>WA</td>\n",
       "    </tr>\n",
       "    <tr>\n",
       "      <th>1</th>\n",
       "      <td>Whitewall Brewing Company</td>\n",
       "      <td>48.128250</td>\n",
       "      <td>-122.184200</td>\n",
       "      <td>Marysville</td>\n",
       "      <td>breweries</td>\n",
       "      <td>False</td>\n",
       "      <td>4.5</td>\n",
       "      <td>98271</td>\n",
       "      <td>WA</td>\n",
       "    </tr>\n",
       "    <tr>\n",
       "      <th>2</th>\n",
       "      <td>The Republic Bottleshop</td>\n",
       "      <td>48.081315</td>\n",
       "      <td>-122.174938</td>\n",
       "      <td>Marysville</td>\n",
       "      <td>beer_and_wine</td>\n",
       "      <td>False</td>\n",
       "      <td>5.0</td>\n",
       "      <td>98270</td>\n",
       "      <td>WA</td>\n",
       "    </tr>\n",
       "    <tr>\n",
       "      <th>3</th>\n",
       "      <td>Home Plate Pub</td>\n",
       "      <td>48.080788</td>\n",
       "      <td>-122.173687</td>\n",
       "      <td>Marysville</td>\n",
       "      <td>gastropubs</td>\n",
       "      <td>False</td>\n",
       "      <td>4.0</td>\n",
       "      <td>98270</td>\n",
       "      <td>WA</td>\n",
       "    </tr>\n",
       "    <tr>\n",
       "      <th>4</th>\n",
       "      <td>Swinnerton Brewery</td>\n",
       "      <td>48.055649</td>\n",
       "      <td>-122.170753</td>\n",
       "      <td>Marysville</td>\n",
       "      <td>breweries</td>\n",
       "      <td>False</td>\n",
       "      <td>5.0</td>\n",
       "      <td>98270</td>\n",
       "      <td>WA</td>\n",
       "    </tr>\n",
       "  </tbody>\n",
       "</table>\n",
       "</div>"
      ],
      "text/plain": [
       "                        Name        Lat         Lng        City  \\\n",
       "0   5 Rights Brewing Company  48.051043 -122.176124  Marysville   \n",
       "1  Whitewall Brewing Company  48.128250 -122.184200  Marysville   \n",
       "2    The Republic Bottleshop  48.081315 -122.174938  Marysville   \n",
       "3             Home Plate Pub  48.080788 -122.173687  Marysville   \n",
       "4         Swinnerton Brewery  48.055649 -122.170753  Marysville   \n",
       "\n",
       "   Business Type  Is Closed  Rating Zip Code State  \n",
       "0      breweries      False     4.5    98270    WA  \n",
       "1      breweries      False     4.5    98271    WA  \n",
       "2  beer_and_wine      False     5.0    98270    WA  \n",
       "3     gastropubs      False     4.0    98270    WA  \n",
       "4      breweries      False     5.0    98270    WA  "
      ]
     },
     "execution_count": 14,
     "metadata": {},
     "output_type": "execute_result"
    }
   ],
   "source": [
    "breweries_df = pd.DataFrame(brewery_results)\n",
    "breweries_df.head()"
   ]
  },
  {
   "cell_type": "code",
   "execution_count": 15,
   "id": "32136ff0",
   "metadata": {},
   "outputs": [
    {
     "data": {
      "text/plain": [
       "17186"
      ]
     },
     "execution_count": 15,
     "metadata": {},
     "output_type": "execute_result"
    }
   ],
   "source": [
    "# Length of breweries_df\n",
    "len(breweries_df)"
   ]
  },
  {
   "cell_type": "code",
   "execution_count": 16,
   "id": "2c682b17",
   "metadata": {},
   "outputs": [],
   "source": [
    "# Create empty List ot hold all Outdoor Gear Stores\n",
    "outdoor_gear_results = []"
   ]
  },
  {
   "cell_type": "code",
   "execution_count": 17,
   "id": "1ff22e9a",
   "metadata": {},
   "outputs": [],
   "source": [
    "# Function to pull stores from yelp with location as the variable\n",
    "def get_outdoor_stores(location):\n",
    "    with YelpAPI(api_key) as yelp_api:\n",
    "        # city_data is the json file with all businesses returned from search\n",
    "        city_data = yelp_api.search_query(term='Outdoor Gear', location = location)\n",
    "        # For each brewery in the search, return business name, coordinates, city, and buisness type\n",
    "        for i in range(len(city_data['businesses'])):\n",
    "            name = city_data['businesses'][i]['name']\n",
    "            lat = city_data['businesses'][i]['coordinates']['latitude']\n",
    "            long = city_data['businesses'][i]['coordinates']['longitude']\n",
    "            city = city_data['businesses'][i]['location']['city']\n",
    "            business_type = city_data['businesses'][i]['categories'][0]['alias']\n",
    "            is_closed = city_data['businesses'][i]['is_closed']\n",
    "            rating = city_data['businesses'][i]['rating']\n",
    "            zip_code = city_data['businesses'][i]['location']['zip_code']\n",
    "            state = city_data['businesses'][i]['location']['state']\n",
    "            outdoor_gear_results.append({\"Name\":name, \"Lat\":lat, \"Lng\": long, \"City\":city, \"Business Type\":business_type, \"Is Closed\":is_closed, \"Rating\":rating, \"Zip Code\":zip_code, \"State\":state})"
   ]
  },
  {
   "cell_type": "code",
   "execution_count": 18,
   "id": "0e75238b",
   "metadata": {},
   "outputs": [
    {
     "name": "stdout",
     "output_type": "stream",
     "text": [
      "An exception occurred for Lima\n",
      "An exception occurred for Stamford\n",
      "An exception occurred for Norwalk\n",
      "An exception occurred for Gulfport\n",
      "An exception occurred for Odessa\n",
      "An exception occurred for Topeka\n",
      "An exception occurred for Norwalk\n",
      "An exception occurred for Redmond\n",
      "An exception occurred for Biloxi\n"
     ]
    }
   ],
   "source": [
    "# Apply get_outdoor_stores function to each location in the cities_list\n",
    "for city in cities_list:\n",
    "    try:\n",
    "        get_outdoor_stores(city)\n",
    "    except:\n",
    "        print(f\"An exception occurred for {city}\")"
   ]
  },
  {
   "cell_type": "code",
   "execution_count": 19,
   "id": "2de96367",
   "metadata": {},
   "outputs": [
    {
     "data": {
      "text/html": [
       "<div>\n",
       "<style scoped>\n",
       "    .dataframe tbody tr th:only-of-type {\n",
       "        vertical-align: middle;\n",
       "    }\n",
       "\n",
       "    .dataframe tbody tr th {\n",
       "        vertical-align: top;\n",
       "    }\n",
       "\n",
       "    .dataframe thead th {\n",
       "        text-align: right;\n",
       "    }\n",
       "</style>\n",
       "<table border=\"1\" class=\"dataframe\">\n",
       "  <thead>\n",
       "    <tr style=\"text-align: right;\">\n",
       "      <th></th>\n",
       "      <th>Name</th>\n",
       "      <th>Lat</th>\n",
       "      <th>Lng</th>\n",
       "      <th>City</th>\n",
       "      <th>Business Type</th>\n",
       "      <th>Is Closed</th>\n",
       "      <th>Rating</th>\n",
       "      <th>Zip Code</th>\n",
       "      <th>State</th>\n",
       "    </tr>\n",
       "  </thead>\n",
       "  <tbody>\n",
       "    <tr>\n",
       "      <th>0</th>\n",
       "      <td>Cabela's</td>\n",
       "      <td>48.084695</td>\n",
       "      <td>-122.187122</td>\n",
       "      <td>Tulalip</td>\n",
       "      <td>outdoorgear</td>\n",
       "      <td>False</td>\n",
       "      <td>2.5</td>\n",
       "      <td>98271</td>\n",
       "      <td>WA</td>\n",
       "    </tr>\n",
       "    <tr>\n",
       "      <th>1</th>\n",
       "      <td>DICK'S Sporting Goods</td>\n",
       "      <td>48.154200</td>\n",
       "      <td>-122.195000</td>\n",
       "      <td>Marysville</td>\n",
       "      <td>sportswear</td>\n",
       "      <td>False</td>\n",
       "      <td>2.0</td>\n",
       "      <td>98271</td>\n",
       "      <td>WA</td>\n",
       "    </tr>\n",
       "    <tr>\n",
       "      <th>2</th>\n",
       "      <td>Columbia Factory Store</td>\n",
       "      <td>48.094629</td>\n",
       "      <td>-122.187234</td>\n",
       "      <td>Tulalip</td>\n",
       "      <td>sportswear</td>\n",
       "      <td>False</td>\n",
       "      <td>4.0</td>\n",
       "      <td>98271</td>\n",
       "      <td>WA</td>\n",
       "    </tr>\n",
       "    <tr>\n",
       "      <th>3</th>\n",
       "      <td>The North Face Seattle Premium Outlets</td>\n",
       "      <td>48.091680</td>\n",
       "      <td>-122.185630</td>\n",
       "      <td>Tulalip</td>\n",
       "      <td>sportswear</td>\n",
       "      <td>False</td>\n",
       "      <td>3.0</td>\n",
       "      <td>98271</td>\n",
       "      <td>WA</td>\n",
       "    </tr>\n",
       "    <tr>\n",
       "      <th>4</th>\n",
       "      <td>Action Sports</td>\n",
       "      <td>48.195910</td>\n",
       "      <td>-122.126800</td>\n",
       "      <td>Arlington</td>\n",
       "      <td>outdoorgear</td>\n",
       "      <td>False</td>\n",
       "      <td>4.5</td>\n",
       "      <td>98223</td>\n",
       "      <td>WA</td>\n",
       "    </tr>\n",
       "  </tbody>\n",
       "</table>\n",
       "</div>"
      ],
      "text/plain": [
       "                                     Name        Lat         Lng        City  \\\n",
       "0                                Cabela's  48.084695 -122.187122     Tulalip   \n",
       "1                   DICK'S Sporting Goods  48.154200 -122.195000  Marysville   \n",
       "2                  Columbia Factory Store  48.094629 -122.187234     Tulalip   \n",
       "3  The North Face Seattle Premium Outlets  48.091680 -122.185630     Tulalip   \n",
       "4                           Action Sports  48.195910 -122.126800   Arlington   \n",
       "\n",
       "  Business Type  Is Closed  Rating Zip Code State  \n",
       "0   outdoorgear      False     2.5    98271    WA  \n",
       "1    sportswear      False     2.0    98271    WA  \n",
       "2    sportswear      False     4.0    98271    WA  \n",
       "3    sportswear      False     3.0    98271    WA  \n",
       "4   outdoorgear      False     4.5    98223    WA  "
      ]
     },
     "execution_count": 19,
     "metadata": {},
     "output_type": "execute_result"
    }
   ],
   "source": [
    "# Convert to pandas DataFrame\n",
    "outdoor_df = pd.DataFrame(outdoor_gear_results)\n",
    "outdoor_df.head()"
   ]
  },
  {
   "cell_type": "code",
   "execution_count": 20,
   "id": "0712a698",
   "metadata": {},
   "outputs": [
    {
     "data": {
      "text/plain": [
       "14229"
      ]
     },
     "execution_count": 20,
     "metadata": {},
     "output_type": "execute_result"
    }
   ],
   "source": [
    "# Length of outdoor_df\n",
    "len(outdoor_df)"
   ]
  },
  {
   "cell_type": "code",
   "execution_count": null,
   "id": "f9bb8001",
   "metadata": {},
   "outputs": [],
   "source": []
  }
 ],
 "metadata": {
  "kernelspec": {
   "display_name": "PythonData",
   "language": "python",
   "name": "pythondata"
  },
  "language_info": {
   "codemirror_mode": {
    "name": "ipython",
    "version": 3
   },
   "file_extension": ".py",
   "mimetype": "text/x-python",
   "name": "python",
   "nbconvert_exporter": "python",
   "pygments_lexer": "ipython3",
   "version": "3.7.11"
  }
 },
 "nbformat": 4,
 "nbformat_minor": 5
}
