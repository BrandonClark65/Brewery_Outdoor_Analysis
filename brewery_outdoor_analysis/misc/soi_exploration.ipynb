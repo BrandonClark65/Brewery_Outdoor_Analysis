{
 "cells": [
  {
   "cell_type": "code",
   "execution_count": 1,
   "id": "faf2d0e0-26b6-4369-b9a9-81be5ff45e95",
   "metadata": {},
   "outputs": [],
   "source": [
    "import pandas as pd"
   ]
  },
  {
   "cell_type": "code",
   "execution_count": 2,
   "id": "1d48812f-70f5-4c2f-90e5-1853e35c1e1e",
   "metadata": {},
   "outputs": [],
   "source": [
    "file = 'Resources/19zpallagi.csv'\n",
    "df = pd.read_csv(file)"
   ]
  },
  {
   "cell_type": "markdown",
   "id": "472d3192-ebed-4779-a71b-4a09ef7654da",
   "metadata": {},
   "source": [
    "Keep only desired columns"
   ]
  },
  {
   "cell_type": "code",
   "execution_count": 45,
   "id": "2844fd75-94c2-4a6a-b6ad-cc87f6ba00e5",
   "metadata": {},
   "outputs": [
    {
     "data": {
      "text/html": [
       "<div>\n",
       "<style scoped>\n",
       "    .dataframe tbody tr th:only-of-type {\n",
       "        vertical-align: middle;\n",
       "    }\n",
       "\n",
       "    .dataframe tbody tr th {\n",
       "        vertical-align: top;\n",
       "    }\n",
       "\n",
       "    .dataframe thead th {\n",
       "        text-align: right;\n",
       "    }\n",
       "</style>\n",
       "<table border=\"1\" class=\"dataframe\">\n",
       "  <thead>\n",
       "    <tr style=\"text-align: right;\">\n",
       "      <th></th>\n",
       "      <th>STATE</th>\n",
       "      <th>zipcode</th>\n",
       "      <th>A00100</th>\n",
       "      <th>A00200</th>\n",
       "      <th>A02650</th>\n",
       "      <th>agi_stub</th>\n",
       "      <th>N03150</th>\n",
       "    </tr>\n",
       "  </thead>\n",
       "  <tbody>\n",
       "    <tr>\n",
       "      <th>6</th>\n",
       "      <td>AL</td>\n",
       "      <td>35004</td>\n",
       "      <td>18091.0</td>\n",
       "      <td>13932.0</td>\n",
       "      <td>18384.0000</td>\n",
       "      <td>1</td>\n",
       "      <td>0.0</td>\n",
       "    </tr>\n",
       "    <tr>\n",
       "      <th>7</th>\n",
       "      <td>AL</td>\n",
       "      <td>35004</td>\n",
       "      <td>51278.0</td>\n",
       "      <td>43332.0</td>\n",
       "      <td>51708.0000</td>\n",
       "      <td>2</td>\n",
       "      <td>30.0</td>\n",
       "    </tr>\n",
       "    <tr>\n",
       "      <th>8</th>\n",
       "      <td>AL</td>\n",
       "      <td>35004</td>\n",
       "      <td>59398.0</td>\n",
       "      <td>49853.0</td>\n",
       "      <td>59818.0000</td>\n",
       "      <td>3</td>\n",
       "      <td>0.0</td>\n",
       "    </tr>\n",
       "    <tr>\n",
       "      <th>9</th>\n",
       "      <td>AL</td>\n",
       "      <td>35004</td>\n",
       "      <td>56706.0</td>\n",
       "      <td>48129.0</td>\n",
       "      <td>57089.0000</td>\n",
       "      <td>4</td>\n",
       "      <td>30.0</td>\n",
       "    </tr>\n",
       "    <tr>\n",
       "      <th>10</th>\n",
       "      <td>AL</td>\n",
       "      <td>35004</td>\n",
       "      <td>104262.0</td>\n",
       "      <td>87896.0</td>\n",
       "      <td>105207.0000</td>\n",
       "      <td>5</td>\n",
       "      <td>0.0</td>\n",
       "    </tr>\n",
       "    <tr>\n",
       "      <th>...</th>\n",
       "      <td>...</td>\n",
       "      <td>...</td>\n",
       "      <td>...</td>\n",
       "      <td>...</td>\n",
       "      <td>...</td>\n",
       "      <td>...</td>\n",
       "      <td>...</td>\n",
       "    </tr>\n",
       "    <tr>\n",
       "      <th>166148</th>\n",
       "      <td>WY</td>\n",
       "      <td>83414</td>\n",
       "      <td>1451.0</td>\n",
       "      <td>1018.0</td>\n",
       "      <td>1539.0000</td>\n",
       "      <td>2</td>\n",
       "      <td>0.0</td>\n",
       "    </tr>\n",
       "    <tr>\n",
       "      <th>166149</th>\n",
       "      <td>WY</td>\n",
       "      <td>83414</td>\n",
       "      <td>1289.0</td>\n",
       "      <td>2178.0</td>\n",
       "      <td>1289.0001</td>\n",
       "      <td>3</td>\n",
       "      <td>0.0</td>\n",
       "    </tr>\n",
       "    <tr>\n",
       "      <th>166150</th>\n",
       "      <td>WY</td>\n",
       "      <td>83414</td>\n",
       "      <td>2237.0</td>\n",
       "      <td>0.0</td>\n",
       "      <td>2325.0000</td>\n",
       "      <td>4</td>\n",
       "      <td>0.0</td>\n",
       "    </tr>\n",
       "    <tr>\n",
       "      <th>166151</th>\n",
       "      <td>WY</td>\n",
       "      <td>83414</td>\n",
       "      <td>5415.0</td>\n",
       "      <td>2088.0</td>\n",
       "      <td>5415.0001</td>\n",
       "      <td>5</td>\n",
       "      <td>0.0</td>\n",
       "    </tr>\n",
       "    <tr>\n",
       "      <th>166152</th>\n",
       "      <td>WY</td>\n",
       "      <td>83414</td>\n",
       "      <td>75509.0</td>\n",
       "      <td>15852.0</td>\n",
       "      <td>75902.0000</td>\n",
       "      <td>6</td>\n",
       "      <td>0.0</td>\n",
       "    </tr>\n",
       "  </tbody>\n",
       "</table>\n",
       "<p>165547 rows × 7 columns</p>\n",
       "</div>"
      ],
      "text/plain": [
       "       STATE  zipcode    A00100   A00200       A02650  agi_stub  N03150\n",
       "6         AL    35004   18091.0  13932.0   18384.0000         1     0.0\n",
       "7         AL    35004   51278.0  43332.0   51708.0000         2    30.0\n",
       "8         AL    35004   59398.0  49853.0   59818.0000         3     0.0\n",
       "9         AL    35004   56706.0  48129.0   57089.0000         4    30.0\n",
       "10        AL    35004  104262.0  87896.0  105207.0000         5     0.0\n",
       "...      ...      ...       ...      ...          ...       ...     ...\n",
       "166148    WY    83414    1451.0   1018.0    1539.0000         2     0.0\n",
       "166149    WY    83414    1289.0   2178.0    1289.0001         3     0.0\n",
       "166150    WY    83414    2237.0      0.0    2325.0000         4     0.0\n",
       "166151    WY    83414    5415.0   2088.0    5415.0001         5     0.0\n",
       "166152    WY    83414   75509.0  15852.0   75902.0000         6     0.0\n",
       "\n",
       "[165547 rows x 7 columns]"
      ]
     },
     "execution_count": 45,
     "metadata": {},
     "output_type": "execute_result"
    }
   ],
   "source": [
    "df_soi = df.copy()[['STATE', 'zipcode', 'A00100', 'A00200', 'A02650', 'agi_stub', 'N03150']]\n",
    "# SCHF: farm returns\n",
    "# https://docs.google.com/document/d/1AoJyasTqZ5nRdsju_eYQE-gq8jwucO5FXnL83llOU9M/edit\n",
    "# A00100: Adjust gross income (AGI) [8]\n",
    "# N03150 Number of returns with Individual retirement arrangement payments\n",
    "# A00200: Salaries and wages amount\n",
    "# A02650: Total income amount\n",
    "\n",
    "# https://gist.github.com/lsl/98eb26082f71ce5d4f39eb348401b28b\n",
    "\n",
    "df_soi.loc[(df_soi['zipcode'] != 0) & (df_soi['zipcode'] != 99999)]"
   ]
  },
  {
   "cell_type": "markdown",
   "id": "8659b4a4-0786-4661-bc90-4a13960b5c48",
   "metadata": {},
   "source": [
    "Map agi_stub to income bins as described in the Documentation available for download here: \n",
    "https://www.irs.gov/statistics/soi-tax-stats-individual-income-tax-statistics-2019-zip-code-data-soi\n",
    "\n",
    "- 1 = $1  under  $25,000\n",
    "- 2 = $25,000  under $50,000\n",
    "- 3 = $50,000 under $75,000\n",
    "- 4 = $75,000 under $100,000\n",
    "- 5 = $100,000 under $200,000\n",
    "- 6 = $200,000 or more"
   ]
  },
  {
   "cell_type": "code",
   "execution_count": 32,
   "id": "27d7fc6b-d5ed-434b-a0d4-ed1678520a38",
   "metadata": {},
   "outputs": [
    {
     "data": {
      "text/plain": [
       "0                <$25,000\n",
       "1      $25,000 to $49,999\n",
       "2      $50,000 to $74,999\n",
       "3      $75,000 to $99,999\n",
       "4    $100,000 to $199,999\n",
       "Name: agi_stub, dtype: object"
      ]
     },
     "execution_count": 32,
     "metadata": {},
     "output_type": "execute_result"
    }
   ],
   "source": [
    "agi_map = {\n",
    "    1: '<$25,000',\n",
    "    2: '$25,000 to $49,999',\n",
    "    3: '$50,000 to $74,999',\n",
    "    4: '$75,000 to $99,999',\n",
    "    5: '$100,000 to $199,999',\n",
    "    6: '>$200000'\n",
    "}\n",
    "agi_bin = df_soi['agi_stub'].map(agi_map)\n",
    "agi_bin.head()"
   ]
  },
  {
   "cell_type": "code",
   "execution_count": 16,
   "id": "1732d5e8-14b6-42a8-9a5b-78c7b3f60b2c",
   "metadata": {},
   "outputs": [],
   "source": [
    "df_soi['agi_bin'] = agi_bin"
   ]
  },
  {
   "cell_type": "code",
   "execution_count": 30,
   "id": "20009927-1787-4fd5-815b-7f7ccfd8dcd3",
   "metadata": {},
   "outputs": [
    {
     "data": {
      "text/plain": [
       "<$25,000                27695\n",
       "$25,000 to $49,999      27695\n",
       "$50,000 to $74,999      27695\n",
       ">$200000                27695\n",
       "$100,000 to $199,999    27692\n",
       "$75,000 to $99,999      27687\n",
       "Name: agi_bin, dtype: int64"
      ]
     },
     "execution_count": 30,
     "metadata": {},
     "output_type": "execute_result"
    }
   ],
   "source": [
    "df_soi['agi_bin'].value_counts()"
   ]
  },
  {
   "cell_type": "code",
   "execution_count": 33,
   "id": "2b6f1f7b-493b-488b-b6ab-b8d0e1b5275e",
   "metadata": {},
   "outputs": [
    {
     "data": {
      "text/plain": [
       "TX    9707\n",
       "NY    9210\n",
       "CA    8868\n",
       "PA    8202\n",
       "IL    7385\n",
       "OH    5988\n",
       "FL    5526\n",
       "MI    5346\n",
       "MO    5327\n",
       "IA    4938\n",
       "MN    4746\n",
       "VA    4740\n",
       "NC    4344\n",
       "WI    4282\n",
       "IN    4056\n",
       "GA    4002\n",
       "KY    3906\n",
       "TN    3540\n",
       "KS    3480\n",
       "AL    3455\n",
       "NJ    3282\n",
       "OK    3270\n",
       "WV    3054\n",
       "WA    3000\n",
       "AR    2916\n",
       "MA    2892\n",
       "NE    2862\n",
       "LA    2694\n",
       "MD    2436\n",
       "CO    2376\n",
       "SC    2243\n",
       "MS    2220\n",
       "ME    2220\n",
       "OR    2124\n",
       "AZ    1763\n",
       "SD    1686\n",
       "ND    1620\n",
       "CT    1584\n",
       "VT    1422\n",
       "NH    1386\n",
       "MT    1325\n",
       "ID    1296\n",
       "NM    1258\n",
       "UT    1140\n",
       "NV     780\n",
       "WY     654\n",
       "RI     426\n",
       "HI     360\n",
       "DE     342\n",
       "AK     336\n",
       "DC     144\n",
       "Name: STATE, dtype: int64"
      ]
     },
     "execution_count": 33,
     "metadata": {},
     "output_type": "execute_result"
    }
   ],
   "source": [
    "df_soi['STATE'].value_counts()"
   ]
  }
 ],
 "metadata": {
  "kernelspec": {
   "display_name": "PythonData",
   "language": "python",
   "name": "pythondata"
  },
  "language_info": {
   "codemirror_mode": {
    "name": "ipython",
    "version": 3
   },
   "file_extension": ".py",
   "mimetype": "text/x-python",
   "name": "python",
   "nbconvert_exporter": "python",
   "pygments_lexer": "ipython3",
   "version": "3.7.13"
  }
 },
 "nbformat": 4,
 "nbformat_minor": 5
}
