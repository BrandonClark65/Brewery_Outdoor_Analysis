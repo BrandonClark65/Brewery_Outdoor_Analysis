{
 "cells": [
  {
   "cell_type": "code",
   "execution_count": 1,
   "id": "faf2d0e0-26b6-4369-b9a9-81be5ff45e95",
   "metadata": {},
   "outputs": [],
   "source": [
    "import pandas as pd\n",
    "\n",
    "from database_connection import ENGINE"
   ]
  },
  {
   "cell_type": "code",
   "execution_count": 2,
   "id": "1d48812f-70f5-4c2f-90e5-1853e35c1e1e",
   "metadata": {},
   "outputs": [],
   "source": [
    "file = 'https://www.irs.gov/pub/irs-soi/19zpallagi.csv'\n",
    "df = pd.read_csv(file)"
   ]
  },
  {
   "cell_type": "code",
   "execution_count": 3,
   "id": "2844fd75-94c2-4a6a-b6ad-cc87f6ba00e5",
   "metadata": {},
   "outputs": [],
   "source": [
    "# Keep only desired columns\n",
    "df_soi = df.copy()[['STATE', 'zipcode', 'A02650']]\n",
    "\n",
    "df_soi = df_soi.loc[\n",
    "    (df_soi['zipcode'] != 0) \n",
    "    & \n",
    "    (df_soi['zipcode'] != 99999)\n",
    "    &\n",
    "    df_soi['A02650'] != 0\n",
    "]"
   ]
  },
  {
   "cell_type": "code",
   "execution_count": 4,
   "id": "542b3233-2e31-407f-9375-6f52720903ca",
   "metadata": {},
   "outputs": [
    {
     "data": {
      "text/html": [
       "<div>\n",
       "<style scoped>\n",
       "    .dataframe tbody tr th:only-of-type {\n",
       "        vertical-align: middle;\n",
       "    }\n",
       "\n",
       "    .dataframe tbody tr th {\n",
       "        vertical-align: top;\n",
       "    }\n",
       "\n",
       "    .dataframe thead th {\n",
       "        text-align: right;\n",
       "    }\n",
       "</style>\n",
       "<table border=\"1\" class=\"dataframe\">\n",
       "  <thead>\n",
       "    <tr style=\"text-align: right;\">\n",
       "      <th></th>\n",
       "      <th>STATE</th>\n",
       "      <th>zipcode</th>\n",
       "      <th>A02650</th>\n",
       "    </tr>\n",
       "  </thead>\n",
       "  <tbody>\n",
       "    <tr>\n",
       "      <th>6</th>\n",
       "      <td>AL</td>\n",
       "      <td>35004</td>\n",
       "      <td>18384.0</td>\n",
       "    </tr>\n",
       "    <tr>\n",
       "      <th>7</th>\n",
       "      <td>AL</td>\n",
       "      <td>35004</td>\n",
       "      <td>51708.0</td>\n",
       "    </tr>\n",
       "    <tr>\n",
       "      <th>8</th>\n",
       "      <td>AL</td>\n",
       "      <td>35004</td>\n",
       "      <td>59818.0</td>\n",
       "    </tr>\n",
       "    <tr>\n",
       "      <th>9</th>\n",
       "      <td>AL</td>\n",
       "      <td>35004</td>\n",
       "      <td>57089.0</td>\n",
       "    </tr>\n",
       "    <tr>\n",
       "      <th>10</th>\n",
       "      <td>AL</td>\n",
       "      <td>35004</td>\n",
       "      <td>105207.0</td>\n",
       "    </tr>\n",
       "  </tbody>\n",
       "</table>\n",
       "</div>"
      ],
      "text/plain": [
       "   STATE  zipcode    A02650\n",
       "6     AL    35004   18384.0\n",
       "7     AL    35004   51708.0\n",
       "8     AL    35004   59818.0\n",
       "9     AL    35004   57089.0\n",
       "10    AL    35004  105207.0"
      ]
     },
     "execution_count": 4,
     "metadata": {},
     "output_type": "execute_result"
    }
   ],
   "source": [
    "df_soi.head()"
   ]
  },
  {
   "cell_type": "code",
   "execution_count": 5,
   "id": "f0c81897-64b3-4aa4-9a7b-db3d0945a6dc",
   "metadata": {},
   "outputs": [],
   "source": [
    "# perform some light cleanup"
   ]
  },
  {
   "cell_type": "code",
   "execution_count": 6,
   "id": "9e3d2d27-c20d-4daf-a137-b16ef737e7ad",
   "metadata": {},
   "outputs": [],
   "source": [
    "df_soi.rename(\n",
    "    {'STATE': 'state', 'zipcode': 'zip_code', 'A02650': 'total_income'}, \n",
    "    axis=1, \n",
    "    inplace=True\n",
    ")"
   ]
  },
  {
   "cell_type": "code",
   "execution_count": 7,
   "id": "d0624059-1e4f-4259-9d4c-59bf16b67a28",
   "metadata": {},
   "outputs": [
    {
     "data": {
      "text/plain": [
       "state           152424\n",
       "zip_code        152424\n",
       "total_income    152424\n",
       "dtype: int64"
      ]
     },
     "execution_count": 7,
     "metadata": {},
     "output_type": "execute_result"
    }
   ],
   "source": [
    "df_soi.count()"
   ]
  },
  {
   "cell_type": "code",
   "execution_count": 8,
   "id": "80cb030e-e300-4c9e-8160-332f0eb7efc0",
   "metadata": {},
   "outputs": [
    {
     "data": {
      "text/plain": [
       "state            object\n",
       "zip_code          int64\n",
       "total_income    float64\n",
       "dtype: object"
      ]
     },
     "execution_count": 8,
     "metadata": {},
     "output_type": "execute_result"
    }
   ],
   "source": [
    "df_soi.dtypes"
   ]
  },
  {
   "cell_type": "code",
   "execution_count": 9,
   "id": "2fe94f0e-3eca-4c0d-a57c-66c4a6ea8305",
   "metadata": {},
   "outputs": [],
   "source": [
    "# change income to int\n",
    "df_soi['total_income'] = df_soi['total_income'].astype('int')"
   ]
  },
  {
   "cell_type": "code",
   "execution_count": 10,
   "id": "95a07c76-ae5c-4f32-8ee0-8bc636f6669c",
   "metadata": {},
   "outputs": [
    {
     "data": {
      "text/plain": [
       "state           object\n",
       "zip_code         int64\n",
       "total_income     int64\n",
       "dtype: object"
      ]
     },
     "execution_count": 10,
     "metadata": {},
     "output_type": "execute_result"
    }
   ],
   "source": [
    "df_soi.dtypes"
   ]
  },
  {
   "cell_type": "code",
   "execution_count": 11,
   "id": "32641c47-3301-4a6d-9f6c-d6c0b39be92b",
   "metadata": {},
   "outputs": [],
   "source": [
    "# keep a csv for reference\n",
    "df_soi.to_csv('../Resources/income_data_cleaned.csv', index=False)"
   ]
  },
  {
   "cell_type": "code",
   "execution_count": 12,
   "id": "3ab3bce2-a9de-4d31-99c5-f8e667b69d9d",
   "metadata": {},
   "outputs": [],
   "source": [
    "# fill the corresponding postgres table\n",
    "df_soi.to_sql(\n",
    "    'income_data',\n",
    "    con=ENGINE,\n",
    "    if_exists='replace',\n",
    "    index=False\n",
    ")"
   ]
  }
 ],
 "metadata": {
  "kernelspec": {
   "display_name": "PythonData",
   "language": "python",
   "name": "pythondata"
  },
  "language_info": {
   "codemirror_mode": {
    "name": "ipython",
    "version": 3
   },
   "file_extension": ".py",
   "mimetype": "text/x-python",
   "name": "python",
   "nbconvert_exporter": "python",
   "pygments_lexer": "ipython3",
   "version": "3.7.13"
  }
 },
 "nbformat": 4,
 "nbformat_minor": 5
}
