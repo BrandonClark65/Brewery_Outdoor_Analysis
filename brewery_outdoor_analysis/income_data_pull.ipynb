{
 "cells": [
  {
   "cell_type": "code",
   "execution_count": 1,
   "id": "faf2d0e0-26b6-4369-b9a9-81be5ff45e95",
   "metadata": {},
   "outputs": [],
   "source": [
    "import pandas as pd"
   ]
  },
  {
   "cell_type": "code",
   "execution_count": 2,
   "id": "1d48812f-70f5-4c2f-90e5-1853e35c1e1e",
   "metadata": {},
   "outputs": [],
   "source": [
    "file = 'https://www.irs.gov/pub/irs-soi/19zpallagi.csv'\n",
    "df = pd.read_csv(file)"
   ]
  },
  {
   "cell_type": "markdown",
   "id": "472d3192-ebed-4779-a71b-4a09ef7654da",
   "metadata": {},
   "source": [
    "Keep only desired columns"
   ]
  },
  {
   "cell_type": "code",
   "execution_count": 3,
   "id": "2844fd75-94c2-4a6a-b6ad-cc87f6ba00e5",
   "metadata": {},
   "outputs": [],
   "source": [
    "df_soi = df.copy()[['STATE', 'zipcode', 'A02650']]\n",
    "\n",
    "df_soi = df_soi.loc[\n",
    "    (df_soi['zipcode'] != 0) \n",
    "    & \n",
    "    (df_soi['zipcode'] != 99999)\n",
    "    &\n",
    "    df_soi['A02650'] != 0\n",
    "]"
   ]
  },
  {
   "cell_type": "code",
   "execution_count": 4,
   "id": "9e3d2d27-c20d-4daf-a137-b16ef737e7ad",
   "metadata": {},
   "outputs": [],
   "source": [
    "df_soi.rename({'STATE': 'state','A02650': 'total_income'}, axis=1, inplace=True)"
   ]
  },
  {
   "cell_type": "code",
   "execution_count": 5,
   "id": "d0624059-1e4f-4259-9d4c-59bf16b67a28",
   "metadata": {},
   "outputs": [
    {
     "data": {
      "text/plain": [
       "state           152424\n",
       "zipcode         152424\n",
       "total_income    152424\n",
       "dtype: int64"
      ]
     },
     "execution_count": 5,
     "metadata": {},
     "output_type": "execute_result"
    }
   ],
   "source": [
    "df_soi.count()"
   ]
  },
  {
   "cell_type": "code",
   "execution_count": 6,
   "id": "0dd1f061-165e-4008-bf2d-11abb1820ae7",
   "metadata": {},
   "outputs": [],
   "source": [
    "df_soi.to_csv('../Resources/income_data.csv')"
   ]
  }
 ],
 "metadata": {
  "kernelspec": {
   "display_name": "PythonData",
   "language": "python",
   "name": "pythondata"
  },
  "language_info": {
   "codemirror_mode": {
    "name": "ipython",
    "version": 3
   },
   "file_extension": ".py",
   "mimetype": "text/x-python",
   "name": "python",
   "nbconvert_exporter": "python",
   "pygments_lexer": "ipython3",
   "version": "3.7.13"
  }
 },
 "nbformat": 4,
 "nbformat_minor": 5
}
