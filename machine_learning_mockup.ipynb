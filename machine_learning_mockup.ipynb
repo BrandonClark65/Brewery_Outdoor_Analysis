{
 "cells": [
  {
   "cell_type": "markdown",
   "id": "142215a0",
   "metadata": {},
   "source": [
    "\n",
    "1. Split the data into input(X) and output(y)\n",
    "2. Traintestsplit\n",
    "3. Create an instance of the model\n",
    "4. Train the model with the dataset model.fit(X,y)\n",
    "5. Create predictions with y_pred = model.predict(X)"
   ]
  },
  {
   "cell_type": "markdown",
   "id": "7cb53ed8",
   "metadata": {},
   "source": [
    "# Data Selection"
   ]
  },
  {
   "cell_type": "markdown",
   "id": "c394fa5e",
   "metadata": {},
   "source": [
    "# Data Processing"
   ]
  },
  {
   "cell_type": "markdown",
   "id": "0b23441c",
   "metadata": {},
   "source": [
    "# Data Transformation"
   ]
  }
 ],
 "metadata": {
  "kernelspec": {
   "display_name": "mlenv",
   "language": "python",
   "name": "mlenv"
  },
  "language_info": {
   "codemirror_mode": {
    "name": "ipython",
    "version": 3
   },
   "file_extension": ".py",
   "mimetype": "text/x-python",
   "name": "python",
   "nbconvert_exporter": "python",
   "pygments_lexer": "ipython3",
   "version": "3.7.13"
  }
 },
 "nbformat": 4,
 "nbformat_minor": 5
}
