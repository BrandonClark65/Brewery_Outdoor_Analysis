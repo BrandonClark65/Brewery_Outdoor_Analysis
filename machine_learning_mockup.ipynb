{
 "cells": [
  {
   "cell_type": "markdown",
   "id": "3c8c0695",
   "metadata": {},
   "source": [
    "\n",
    "1. Split the data into input(X) and output(y)\n",
    "2. Traintestsplit\n",
    "3. Create an instance of the model\n",
    "4. Train the model with the dataset model.fit(X,y)\n",
    "5. Create predictions with y_pred = model.predict(X)"
   ]
  },
  {
   "cell_type": "markdown",
   "id": "54ac1c23",
   "metadata": {},
   "source": [
    "# Data Selection"
   ]
  },
  {
   "cell_type": "code",
   "execution_count": null,
   "id": "d90d8a27",
   "metadata": {},
   "outputs": [],
   "source": [
    "# Remove not useful columns from dataframe"
   ]
  },
  {
   "cell_type": "code",
   "execution_count": null,
   "id": "1add4c80",
   "metadata": {},
   "outputs": [],
   "source": [
    "# Group dataframe based on number of breweries and location"
   ]
  },
  {
   "cell_type": "code",
   "execution_count": null,
   "id": "9e8a27f9",
   "metadata": {},
   "outputs": [],
   "source": [
    "# Merge dataframe with demographic infro dataframe grouped by location"
   ]
  },
  {
   "cell_type": "markdown",
   "id": "49962582",
   "metadata": {},
   "source": [
    "# Data Processing"
   ]
  },
  {
   "cell_type": "code",
   "execution_count": null,
   "id": "4038e868",
   "metadata": {},
   "outputs": [],
   "source": [
    "# Transform String Columns(Onehotencoder)"
   ]
  },
  {
   "cell_type": "code",
   "execution_count": null,
   "id": "b2c394da",
   "metadata": {},
   "outputs": [],
   "source": [
    "# Scale data if needed (StandardScaler)"
   ]
  },
  {
   "cell_type": "markdown",
   "id": "0e133298",
   "metadata": {},
   "source": [
    "# Data Transformation"
   ]
  },
  {
   "cell_type": "code",
   "execution_count": null,
   "id": "71bf24fd",
   "metadata": {},
   "outputs": [],
   "source": [
    "# Save Cleaned Data to csv"
   ]
  },
  {
   "cell_type": "code",
   "execution_count": null,
   "id": "c49719cd",
   "metadata": {},
   "outputs": [],
   "source": [
    "# Export cleaned data csv to sql table"
   ]
  },
  {
   "cell_type": "code",
   "execution_count": null,
   "id": "94e75e82",
   "metadata": {},
   "outputs": [],
   "source": [
    "# Set X and y \n",
    "# X = demographic info + number of Breweries per location(zipcode tabulation area?)\n",
    "# y = number of stores"
   ]
  },
  {
   "cell_type": "code",
   "execution_count": null,
   "id": "b38aac65",
   "metadata": {},
   "outputs": [],
   "source": [
    "# traintestsplit"
   ]
  },
  {
   "cell_type": "code",
   "execution_count": null,
   "id": "9466bf9f",
   "metadata": {},
   "outputs": [],
   "source": [
    "# Create an instance of the model(LinearRegression)"
   ]
  },
  {
   "cell_type": "code",
   "execution_count": null,
   "id": "8f8bd2db",
   "metadata": {},
   "outputs": [],
   "source": [
    "# Train the model with the dataset \n",
    "model.fit(X_train,y_train)"
   ]
  },
  {
   "cell_type": "code",
   "execution_count": null,
   "id": "8a7057f1",
   "metadata": {},
   "outputs": [],
   "source": [
    "# Create predictions\n",
    "predictions = model.predict(X_test)"
   ]
  },
  {
   "cell_type": "code",
   "execution_count": null,
   "id": "283e1651",
   "metadata": {},
   "outputs": [],
   "source": [
    "# Validate the model\n",
    "# accuracy_score\n",
    "# confusion_matrix/classification_report"
   ]
  }
 ],
 "metadata": {
  "kernelspec": {
   "display_name": "mlenv",
   "language": "python",
   "name": "mlenv"
  },
  "language_info": {
   "codemirror_mode": {
    "name": "ipython",
    "version": 3
   },
   "file_extension": ".py",
   "mimetype": "text/x-python",
   "name": "python",
   "nbconvert_exporter": "python",
   "pygments_lexer": "ipython3",
   "version": "3.7.13"
  }
 },
 "nbformat": 4,
 "nbformat_minor": 5
}
