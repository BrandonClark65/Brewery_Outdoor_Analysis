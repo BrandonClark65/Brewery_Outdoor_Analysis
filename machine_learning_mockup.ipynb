{
 "cells": [
  {
   "cell_type": "code",
   "execution_count": null,
   "id": "b76fee5c",
   "metadata": {},
   "outputs": [],
   "source": [
    "# Import dependencies\n"
   ]
  },
  {
   "cell_type": "markdown",
   "id": "be134445",
   "metadata": {},
   "source": [
    "# Data Selection"
   ]
  },
  {
   "cell_type": "code",
   "execution_count": null,
   "id": "d61abbb3",
   "metadata": {},
   "outputs": [],
   "source": [
    "# Read CSV"
   ]
  },
  {
   "cell_type": "code",
   "execution_count": null,
   "id": "64e21612",
   "metadata": {},
   "outputs": [],
   "source": [
    "# Remove not useful columns from dataframe"
   ]
  },
  {
   "cell_type": "code",
   "execution_count": null,
   "id": "a2e8d183",
   "metadata": {},
   "outputs": [],
   "source": [
    "# Group dataframe based on number of breweries and location"
   ]
  },
  {
   "cell_type": "code",
   "execution_count": null,
   "id": "ec2fe383",
   "metadata": {},
   "outputs": [],
   "source": [
    "# Merge dataframe with demographic infro dataframe grouped by location"
   ]
  },
  {
   "cell_type": "markdown",
   "id": "24e04b58",
   "metadata": {},
   "source": [
    "# Data Processing"
   ]
  },
  {
   "cell_type": "code",
   "execution_count": null,
   "id": "ca26bf4a",
   "metadata": {},
   "outputs": [],
   "source": [
    "# Transform String Columns(Onehotencoder)"
   ]
  },
  {
   "cell_type": "code",
   "execution_count": null,
   "id": "8c829479",
   "metadata": {},
   "outputs": [],
   "source": [
    "# Scale data if needed (StandardScaler)"
   ]
  },
  {
   "cell_type": "markdown",
   "id": "4fa0bb6f",
   "metadata": {},
   "source": [
    "# Data Transformation"
   ]
  },
  {
   "cell_type": "code",
   "execution_count": null,
   "id": "f7d1e2b6",
   "metadata": {},
   "outputs": [],
   "source": [
    "# Save Cleaned Data to csv"
   ]
  },
  {
   "cell_type": "code",
   "execution_count": null,
   "id": "16f3d3f3",
   "metadata": {},
   "outputs": [],
   "source": [
    "# Export cleaned data csv to sql table"
   ]
  },
  {
   "cell_type": "code",
   "execution_count": null,
   "id": "d6e6f5cf",
   "metadata": {},
   "outputs": [],
   "source": [
    "# Set X and y \n",
    "# X = demographic info + number of Breweries per location(zipcode tabulation area?)\n",
    "# y = number of stores"
   ]
  },
  {
   "cell_type": "code",
   "execution_count": null,
   "id": "2fcda03b",
   "metadata": {},
   "outputs": [],
   "source": [
    "# traintestsplit"
   ]
  },
  {
   "cell_type": "code",
   "execution_count": null,
   "id": "0bed1191",
   "metadata": {},
   "outputs": [],
   "source": [
    "# Create an instance of the model(LinearRegression)"
   ]
  },
  {
   "cell_type": "code",
   "execution_count": null,
   "id": "435e9843",
   "metadata": {},
   "outputs": [],
   "source": [
    "# Train the model with the dataset \n",
    "model.fit(X_train,y_train)"
   ]
  },
  {
   "cell_type": "code",
   "execution_count": null,
   "id": "a4590e9b",
   "metadata": {},
   "outputs": [],
   "source": [
    "# Create predictions\n",
    "predictions = model.predict(X_test)"
   ]
  },
  {
   "cell_type": "code",
   "execution_count": null,
   "id": "ac7817bd",
   "metadata": {},
   "outputs": [],
   "source": [
    "# Validate the model\n",
    "# accuracy_score\n",
    "# confusion_matrix/classification_report"
   ]
  },
  {
   "cell_type": "code",
   "execution_count": null,
   "id": "7ebcca02",
   "metadata": {},
   "outputs": [],
   "source": [
    "# Find impact of different variables"
   ]
  }
 ],
 "metadata": {
  "kernelspec": {
   "display_name": "mlenv",
   "language": "python",
   "name": "mlenv"
  },
  "language_info": {
   "codemirror_mode": {
    "name": "ipython",
    "version": 3
   },
   "file_extension": ".py",
   "mimetype": "text/x-python",
   "name": "python",
   "nbconvert_exporter": "python",
   "pygments_lexer": "ipython3",
   "version": "3.7.13"
  }
 },
 "nbformat": 4,
 "nbformat_minor": 5
}
