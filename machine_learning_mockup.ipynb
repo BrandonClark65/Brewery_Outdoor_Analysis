{
 "cells": [
  {
   "cell_type": "markdown",
   "id": "d93f55e7",
   "metadata": {},
   "source": [
    "\n",
    "1. Split the data into input(X) and output(y)\n",
    "2. Traintestsplit\n",
    "3. Create an instance of the model\n",
    "4. Train the model with the dataset model.fit(X,y)\n",
    "5. Create predictions with y_pred = model.predict(X)"
   ]
  },
  {
   "cell_type": "markdown",
   "id": "c21dc381",
   "metadata": {},
   "source": [
    "# Data Selection"
   ]
  },
  {
   "cell_type": "code",
   "execution_count": null,
   "id": "e766f816",
   "metadata": {},
   "outputs": [],
   "source": [
    "# Remove not useful columns from dataframe"
   ]
  },
  {
   "cell_type": "code",
   "execution_count": null,
   "id": "00170694",
   "metadata": {},
   "outputs": [],
   "source": [
    "# Group dataframe based on number of breweries in the city using groupby()"
   ]
  },
  {
   "cell_type": "markdown",
   "id": "6128aa4b",
   "metadata": {},
   "source": [
    "# Data Processing"
   ]
  },
  {
   "cell_type": "code",
   "execution_count": null,
   "id": "aefe1761",
   "metadata": {},
   "outputs": [],
   "source": [
    "# Transform String Columns"
   ]
  },
  {
   "cell_type": "code",
   "execution_count": null,
   "id": "e29db37d",
   "metadata": {},
   "outputs": [],
   "source": [
    "# Scale data if needed (StandardScaler)"
   ]
  },
  {
   "cell_type": "markdown",
   "id": "abedc4c5",
   "metadata": {},
   "source": [
    "# Data Transformation"
   ]
  },
  {
   "cell_type": "code",
   "execution_count": null,
   "id": "5f6ab069",
   "metadata": {},
   "outputs": [],
   "source": [
    "# Save Cleaned Data to csv"
   ]
  },
  {
   "cell_type": "code",
   "execution_count": null,
   "id": "e0ec4f67",
   "metadata": {},
   "outputs": [],
   "source": [
    "# Export cleaned data csv to sql table"
   ]
  },
  {
   "cell_type": "code",
   "execution_count": null,
   "id": "3018a260",
   "metadata": {},
   "outputs": [],
   "source": [
    "# Use an elbow curve to find "
   ]
  }
 ],
 "metadata": {
  "kernelspec": {
   "display_name": "mlenv",
   "language": "python",
   "name": "mlenv"
  },
  "language_info": {
   "codemirror_mode": {
    "name": "ipython",
    "version": 3
   },
   "file_extension": ".py",
   "mimetype": "text/x-python",
   "name": "python",
   "nbconvert_exporter": "python",
   "pygments_lexer": "ipython3",
   "version": "3.7.13"
  }
 },
 "nbformat": 4,
 "nbformat_minor": 5
}
