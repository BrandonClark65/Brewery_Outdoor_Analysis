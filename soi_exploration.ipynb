{
 "cells": [
  {
   "cell_type": "code",
   "execution_count": 1,
   "id": "faf2d0e0-26b6-4369-b9a9-81be5ff45e95",
   "metadata": {},
   "outputs": [],
   "source": [
    "import pandas as pd"
   ]
  },
  {
   "cell_type": "code",
   "execution_count": 2,
   "id": "1d48812f-70f5-4c2f-90e5-1853e35c1e1e",
   "metadata": {},
   "outputs": [],
   "source": [
    "file = 'Resources/19zpallagi.csv'\n",
    "df = pd.read_csv(file)"
   ]
  },
  {
   "cell_type": "markdown",
   "id": "472d3192-ebed-4779-a71b-4a09ef7654da",
   "metadata": {},
   "source": [
    "Keep only desired columns"
   ]
  },
  {
   "cell_type": "code",
   "execution_count": 11,
   "id": "2844fd75-94c2-4a6a-b6ad-cc87f6ba00e5",
   "metadata": {},
   "outputs": [
    {
     "data": {
      "text/html": [
       "<div>\n",
       "<style scoped>\n",
       "    .dataframe tbody tr th:only-of-type {\n",
       "        vertical-align: middle;\n",
       "    }\n",
       "\n",
       "    .dataframe tbody tr th {\n",
       "        vertical-align: top;\n",
       "    }\n",
       "\n",
       "    .dataframe thead th {\n",
       "        text-align: right;\n",
       "    }\n",
       "</style>\n",
       "<table border=\"1\" class=\"dataframe\">\n",
       "  <thead>\n",
       "    <tr style=\"text-align: right;\">\n",
       "      <th></th>\n",
       "      <th>STATE</th>\n",
       "      <th>zipcode</th>\n",
       "      <th>agi_stub</th>\n",
       "    </tr>\n",
       "  </thead>\n",
       "  <tbody>\n",
       "    <tr>\n",
       "      <th>0</th>\n",
       "      <td>AL</td>\n",
       "      <td>0</td>\n",
       "      <td>1</td>\n",
       "    </tr>\n",
       "    <tr>\n",
       "      <th>1</th>\n",
       "      <td>AL</td>\n",
       "      <td>0</td>\n",
       "      <td>2</td>\n",
       "    </tr>\n",
       "    <tr>\n",
       "      <th>2</th>\n",
       "      <td>AL</td>\n",
       "      <td>0</td>\n",
       "      <td>3</td>\n",
       "    </tr>\n",
       "    <tr>\n",
       "      <th>3</th>\n",
       "      <td>AL</td>\n",
       "      <td>0</td>\n",
       "      <td>4</td>\n",
       "    </tr>\n",
       "    <tr>\n",
       "      <th>4</th>\n",
       "      <td>AL</td>\n",
       "      <td>0</td>\n",
       "      <td>5</td>\n",
       "    </tr>\n",
       "  </tbody>\n",
       "</table>\n",
       "</div>"
      ],
      "text/plain": [
       "  STATE  zipcode  agi_stub\n",
       "0    AL        0         1\n",
       "1    AL        0         2\n",
       "2    AL        0         3\n",
       "3    AL        0         4\n",
       "4    AL        0         5"
      ]
     },
     "execution_count": 11,
     "metadata": {},
     "output_type": "execute_result"
    }
   ],
   "source": [
    "df_soi = df.copy()[['STATE', 'zipcode', 'agi_stub']]\n",
    "df_soi.head()"
   ]
  },
  {
   "cell_type": "markdown",
   "id": "8659b4a4-0786-4661-bc90-4a13960b5c48",
   "metadata": {},
   "source": [
    "Map agi_stub to income bins as described in the Documentation available for download here: \n",
    "https://www.irs.gov/statistics/soi-tax-stats-individual-income-tax-statistics-2019-zip-code-data-soi\n",
    "\n",
    "- 1 = $1  under  $25,000\n",
    "- 2 = $25,000  under $50,000\n",
    "- 3 = $50,000 under $75,000\n",
    "- 4 = $75,000 under $100,000\n",
    "- 5 = $100,000 under $200,000\n",
    "- 6 = $200,000 or more"
   ]
  },
  {
   "cell_type": "code",
   "execution_count": 32,
   "id": "27d7fc6b-d5ed-434b-a0d4-ed1678520a38",
   "metadata": {},
   "outputs": [
    {
     "data": {
      "text/plain": [
       "0                <$25,000\n",
       "1      $25,000 to $49,999\n",
       "2      $50,000 to $74,999\n",
       "3      $75,000 to $99,999\n",
       "4    $100,000 to $199,999\n",
       "Name: agi_stub, dtype: object"
      ]
     },
     "execution_count": 32,
     "metadata": {},
     "output_type": "execute_result"
    }
   ],
   "source": [
    "agi_map = {\n",
    "    1: '<$25,000',\n",
    "    2: '$25,000 to $49,999',\n",
    "    3: '$50,000 to $74,999',\n",
    "    4: '$75,000 to $99,999',\n",
    "    5: '$100,000 to $199,999',\n",
    "    6: '>$200000'\n",
    "}\n",
    "agi_bin = df_soi['agi_stub'].map(agi_map)\n",
    "agi_bin.head()"
   ]
  },
  {
   "cell_type": "code",
   "execution_count": 16,
   "id": "1732d5e8-14b6-42a8-9a5b-78c7b3f60b2c",
   "metadata": {},
   "outputs": [],
   "source": [
    "df_soi['agi_bin'] = agi_bin"
   ]
  },
  {
   "cell_type": "code",
   "execution_count": 30,
   "id": "20009927-1787-4fd5-815b-7f7ccfd8dcd3",
   "metadata": {},
   "outputs": [
    {
     "data": {
      "text/plain": [
       "<$25,000                27695\n",
       "$25,000 to $49,999      27695\n",
       "$50,000 to $74,999      27695\n",
       ">$200000                27695\n",
       "$100,000 to $199,999    27692\n",
       "$75,000 to $99,999      27687\n",
       "Name: agi_bin, dtype: int64"
      ]
     },
     "execution_count": 30,
     "metadata": {},
     "output_type": "execute_result"
    }
   ],
   "source": [
    "df_soi['agi_bin'].value_counts()"
   ]
  }
 ],
 "metadata": {
  "kernelspec": {
   "display_name": "PythonData",
   "language": "python",
   "name": "pythondata"
  },
  "language_info": {
   "codemirror_mode": {
    "name": "ipython",
    "version": 3
   },
   "file_extension": ".py",
   "mimetype": "text/x-python",
   "name": "python",
   "nbconvert_exporter": "python",
   "pygments_lexer": "ipython3",
   "version": "3.7.13"
  }
 },
 "nbformat": 4,
 "nbformat_minor": 5
}
