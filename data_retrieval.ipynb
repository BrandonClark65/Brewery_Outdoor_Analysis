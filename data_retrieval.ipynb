{
 "cells": [
  {
   "cell_type": "code",
   "execution_count": 1,
   "id": "af3dcc5d",
   "metadata": {},
   "outputs": [],
   "source": [
    "# Import dependencies\n",
    "import pandas as pd\n",
    "import requests\n",
    "from config import api_key"
   ]
  },
  {
   "cell_type": "code",
   "execution_count": 5,
   "id": "7c004dc0",
   "metadata": {},
   "outputs": [],
   "source": [
    "# import yelpAPI\n",
    "from yelpapi import YelpAPI\n",
    "import argparse\n",
    "from pprint import pprint"
   ]
  },
  {
   "cell_type": "code",
   "execution_count": 3,
   "id": "82507cc6",
   "metadata": {},
   "outputs": [
    {
     "data": {
      "text/html": [
       "<div>\n",
       "<style scoped>\n",
       "    .dataframe tbody tr th:only-of-type {\n",
       "        vertical-align: middle;\n",
       "    }\n",
       "\n",
       "    .dataframe tbody tr th {\n",
       "        vertical-align: top;\n",
       "    }\n",
       "\n",
       "    .dataframe thead th {\n",
       "        text-align: right;\n",
       "    }\n",
       "</style>\n",
       "<table border=\"1\" class=\"dataframe\">\n",
       "  <thead>\n",
       "    <tr style=\"text-align: right;\">\n",
       "      <th></th>\n",
       "      <th>rank</th>\n",
       "      <th>name</th>\n",
       "      <th>usps</th>\n",
       "      <th>pop2022</th>\n",
       "      <th>pop2010</th>\n",
       "      <th>growth</th>\n",
       "      <th>density</th>\n",
       "      <th>aland_sqmi</th>\n",
       "    </tr>\n",
       "  </thead>\n",
       "  <tbody>\n",
       "    <tr>\n",
       "      <th>0</th>\n",
       "      <td>1</td>\n",
       "      <td>New York City</td>\n",
       "      <td>NY</td>\n",
       "      <td>8930002</td>\n",
       "      <td>8175133</td>\n",
       "      <td>0.0923</td>\n",
       "      <td>29729</td>\n",
       "      <td>300.381</td>\n",
       "    </tr>\n",
       "    <tr>\n",
       "      <th>1</th>\n",
       "      <td>2</td>\n",
       "      <td>Los Angeles</td>\n",
       "      <td>CA</td>\n",
       "      <td>3919973</td>\n",
       "      <td>3792621</td>\n",
       "      <td>0.0336</td>\n",
       "      <td>8359</td>\n",
       "      <td>468.956</td>\n",
       "    </tr>\n",
       "    <tr>\n",
       "      <th>2</th>\n",
       "      <td>3</td>\n",
       "      <td>Chicago</td>\n",
       "      <td>IL</td>\n",
       "      <td>2756546</td>\n",
       "      <td>2695598</td>\n",
       "      <td>0.0226</td>\n",
       "      <td>12124</td>\n",
       "      <td>227.369</td>\n",
       "    </tr>\n",
       "    <tr>\n",
       "      <th>3</th>\n",
       "      <td>4</td>\n",
       "      <td>Houston</td>\n",
       "      <td>TX</td>\n",
       "      <td>2345606</td>\n",
       "      <td>2099451</td>\n",
       "      <td>0.1172</td>\n",
       "      <td>3664</td>\n",
       "      <td>640.194</td>\n",
       "    </tr>\n",
       "    <tr>\n",
       "      <th>4</th>\n",
       "      <td>5</td>\n",
       "      <td>Phoenix</td>\n",
       "      <td>AZ</td>\n",
       "      <td>1640641</td>\n",
       "      <td>1445632</td>\n",
       "      <td>0.1349</td>\n",
       "      <td>3169</td>\n",
       "      <td>517.673</td>\n",
       "    </tr>\n",
       "  </tbody>\n",
       "</table>\n",
       "</div>"
      ],
      "text/plain": [
       "   rank           name usps  pop2022  pop2010  growth  density  aland_sqmi\n",
       "0     1  New York City   NY  8930002  8175133  0.0923    29729     300.381\n",
       "1     2    Los Angeles   CA  3919973  3792621  0.0336     8359     468.956\n",
       "2     3        Chicago   IL  2756546  2695598  0.0226    12124     227.369\n",
       "3     4        Houston   TX  2345606  2099451  0.1172     3664     640.194\n",
       "4     5        Phoenix   AZ  1640641  1445632  0.1349     3169     517.673"
      ]
     },
     "execution_count": 3,
     "metadata": {},
     "output_type": "execute_result"
    }
   ],
   "source": [
    "# Import top 200 cities in the US csv file\n",
    "cities = pd.read_csv(\"Resources/top_200_cities.csv\")\n",
    "cities.head()"
   ]
  },
  {
   "cell_type": "code",
   "execution_count": 4,
   "id": "1e5c70cf",
   "metadata": {
    "scrolled": true
   },
   "outputs": [
    {
     "data": {
      "text/plain": [
       "0      New York City\n",
       "1        Los Angeles\n",
       "2            Chicago\n",
       "3            Houston\n",
       "4            Phoenix\n",
       "           ...      \n",
       "195             Kent\n",
       "196        Fullerton\n",
       "197           Denton\n",
       "198          Visalia\n",
       "199          McAllen\n",
       "Name: name, Length: 200, dtype: object"
      ]
     },
     "execution_count": 4,
     "metadata": {},
     "output_type": "execute_result"
    }
   ],
   "source": [
    "# Create list of top 200 cities\n",
    "cities_list = cities[\"name\"]\n",
    "cities_list"
   ]
  },
  {
   "cell_type": "code",
   "execution_count": 23,
   "id": "60fb872b",
   "metadata": {},
   "outputs": [],
   "source": [
    "# Create empty List ot hold all breweries\n",
    "brewery_results = []"
   ]
  },
  {
   "cell_type": "code",
   "execution_count": 24,
   "id": "6144efe1",
   "metadata": {},
   "outputs": [],
   "source": [
    "# Function to pull breweries for each location):\n",
    "    with YelpAPI(api_key) as yelp_api:\n",
    "        # city_data is the json file with all businesses returned from search\n",
    "        city_data = yelp_api.search_query(term='Breweries', location = location)\n",
    "        # For each brewery in the search, return business name, coordinates, city, and buisness type\n",
    "        for i in range(len(city_data['businesses'])):\n",
    "            name = city_data['businesses'][i]['name']\n",
    "            lat = city_data['businesses'][i]['coordinates']['latitude']\n",
    "            long = city_data['businesses'][i]['coordinates']['longitude']\n",
    "            city = city_data['businesses'][i]['location']['city']\n",
    "            business_type = city_data['businesses'][i]['categories'][0]['alias']\n",
    "            brewery_results.append({\"Name\":name, \"Lat\":lat, \"Lng\": long, \"City\":city, \"Business Type\":business_type})"
   ]
  },
  {
   "cell_type": "code",
   "execution_count": 25,
   "id": "8d43b8b0",
   "metadata": {
    "scrolled": true
   },
   "outputs": [],
   "source": [
    "# Apply get_breweries function to each location in cities_list\n",
    "for city in cities_list:\n",
    "    try:\n",
    "        get_breweries(city)\n",
    "    except:\n",
    "        print(f\"An exception occurred for {city}\")"
   ]
  },
  {
   "cell_type": "code",
   "execution_count": 26,
   "id": "0403a32f",
   "metadata": {},
   "outputs": [
    {
     "data": {
      "text/html": [
       "<div>\n",
       "<style scoped>\n",
       "    .dataframe tbody tr th:only-of-type {\n",
       "        vertical-align: middle;\n",
       "    }\n",
       "\n",
       "    .dataframe tbody tr th {\n",
       "        vertical-align: top;\n",
       "    }\n",
       "\n",
       "    .dataframe thead th {\n",
       "        text-align: right;\n",
       "    }\n",
       "</style>\n",
       "<table border=\"1\" class=\"dataframe\">\n",
       "  <thead>\n",
       "    <tr style=\"text-align: right;\">\n",
       "      <th></th>\n",
       "      <th>Name</th>\n",
       "      <th>Lat</th>\n",
       "      <th>Lng</th>\n",
       "      <th>City</th>\n",
       "      <th>Business Type</th>\n",
       "    </tr>\n",
       "  </thead>\n",
       "  <tbody>\n",
       "    <tr>\n",
       "      <th>0</th>\n",
       "      <td>Evil Twin Brewing - Dumbo Taproom</td>\n",
       "      <td>40.702834</td>\n",
       "      <td>-73.990503</td>\n",
       "      <td>Brooklyn</td>\n",
       "      <td>breweries</td>\n",
       "    </tr>\n",
       "    <tr>\n",
       "      <th>1</th>\n",
       "      <td>Other Half Brewing - Domino Park</td>\n",
       "      <td>40.715957</td>\n",
       "      <td>-73.966897</td>\n",
       "      <td>Brooklyn</td>\n",
       "      <td>breweries</td>\n",
       "    </tr>\n",
       "    <tr>\n",
       "      <th>2</th>\n",
       "      <td>Evil Twin Brewing</td>\n",
       "      <td>40.696213</td>\n",
       "      <td>-73.904159</td>\n",
       "      <td>Ridgewood</td>\n",
       "      <td>breweries</td>\n",
       "    </tr>\n",
       "    <tr>\n",
       "      <th>3</th>\n",
       "      <td>Grimm Artisanal Ales</td>\n",
       "      <td>40.714256</td>\n",
       "      <td>-73.936579</td>\n",
       "      <td>Brooklyn</td>\n",
       "      <td>breweries</td>\n",
       "    </tr>\n",
       "    <tr>\n",
       "      <th>4</th>\n",
       "      <td>Transmitter Brewing</td>\n",
       "      <td>40.698559</td>\n",
       "      <td>-73.971204</td>\n",
       "      <td>Brooklyn</td>\n",
       "      <td>breweries</td>\n",
       "    </tr>\n",
       "  </tbody>\n",
       "</table>\n",
       "</div>"
      ],
      "text/plain": [
       "                                Name        Lat        Lng       City  \\\n",
       "0  Evil Twin Brewing - Dumbo Taproom  40.702834 -73.990503   Brooklyn   \n",
       "1   Other Half Brewing - Domino Park  40.715957 -73.966897   Brooklyn   \n",
       "2                  Evil Twin Brewing  40.696213 -73.904159  Ridgewood   \n",
       "3               Grimm Artisanal Ales  40.714256 -73.936579   Brooklyn   \n",
       "4                Transmitter Brewing  40.698559 -73.971204   Brooklyn   \n",
       "\n",
       "  Business Type  \n",
       "0     breweries  \n",
       "1     breweries  \n",
       "2     breweries  \n",
       "3     breweries  \n",
       "4     breweries  "
      ]
     },
     "execution_count": 26,
     "metadata": {},
     "output_type": "execute_result"
    }
   ],
   "source": [
    "breweries_df = pd.DataFrame(brewery_results)\n",
    "breweries_df.head()"
   ]
  },
  {
   "cell_type": "code",
   "execution_count": 27,
   "id": "32136ff0",
   "metadata": {},
   "outputs": [
    {
     "data": {
      "text/plain": [
       "3746"
      ]
     },
     "execution_count": 27,
     "metadata": {},
     "output_type": "execute_result"
    }
   ],
   "source": [
    "# Length of breweries_df\n",
    "len(breweries_df)"
   ]
  },
  {
   "cell_type": "code",
   "execution_count": 28,
   "id": "2c682b17",
   "metadata": {},
   "outputs": [],
   "source": [
    "# Create empty List ot hold all Outdoor Gear Stores\n",
    "outdoor_gear_results = []"
   ]
  },
  {
   "cell_type": "code",
   "execution_count": 29,
   "id": "1ff22e9a",
   "metadata": {},
   "outputs": [],
   "source": [
    "# Function to pull stores from yelp with location as the variable\n",
    "def get_outdoor_stores(location):\n",
    "    with YelpAPI(api_key) as yelp_api:\n",
    "        # city_data is the json file with all businesses returned from search\n",
    "        city_data = yelp_api.search_query(term='Outdoor Gear', location = location)\n",
    "        # For each brewery in the search, return business name, coordinates, city, and buisness type\n",
    "        for i in range(len(city_data['businesses'])):\n",
    "            name = city_data['businesses'][i]['name']\n",
    "            lat = city_data['businesses'][i]['coordinates']['latitude']\n",
    "            long = city_data['businesses'][i]['coordinates']['longitude']\n",
    "            city = city_data['businesses'][i]['location']['city']\n",
    "            business_type = city_data['businesses'][i]['categories'][0]['alias']\n",
    "            outdoor_gear_results.append({\"Name\":name, \"Lat\":lat, \"Lng\": long, \"City\":city, \"Business Type\":business_type})"
   ]
  },
  {
   "cell_type": "code",
   "execution_count": 30,
   "id": "0e75238b",
   "metadata": {},
   "outputs": [
    {
     "name": "stdout",
     "output_type": "stream",
     "text": [
      "An exception occurred for Arlington\n"
     ]
    }
   ],
   "source": [
    "# Apply get_outdoor_stores function to each location in the cities_list\n",
    "for city in cities_list:\n",
    "    try:\n",
    "        get_outdoor_stores(city)\n",
    "    except:\n",
    "        print(f\"An exception occurred for {city}\")"
   ]
  },
  {
   "cell_type": "code",
   "execution_count": 31,
   "id": "2de96367",
   "metadata": {},
   "outputs": [
    {
     "data": {
      "text/html": [
       "<div>\n",
       "<style scoped>\n",
       "    .dataframe tbody tr th:only-of-type {\n",
       "        vertical-align: middle;\n",
       "    }\n",
       "\n",
       "    .dataframe tbody tr th {\n",
       "        vertical-align: top;\n",
       "    }\n",
       "\n",
       "    .dataframe thead th {\n",
       "        text-align: right;\n",
       "    }\n",
       "</style>\n",
       "<table border=\"1\" class=\"dataframe\">\n",
       "  <thead>\n",
       "    <tr style=\"text-align: right;\">\n",
       "      <th></th>\n",
       "      <th>Name</th>\n",
       "      <th>Lat</th>\n",
       "      <th>Lng</th>\n",
       "      <th>City</th>\n",
       "      <th>Business Type</th>\n",
       "    </tr>\n",
       "  </thead>\n",
       "  <tbody>\n",
       "    <tr>\n",
       "      <th>0</th>\n",
       "      <td>Paragon Sports</td>\n",
       "      <td>40.737760</td>\n",
       "      <td>-73.990331</td>\n",
       "      <td>New York</td>\n",
       "      <td>outdoorgear</td>\n",
       "    </tr>\n",
       "    <tr>\n",
       "      <th>1</th>\n",
       "      <td>REI</td>\n",
       "      <td>40.724814</td>\n",
       "      <td>-73.995205</td>\n",
       "      <td>New York</td>\n",
       "      <td>outdoorgear</td>\n",
       "    </tr>\n",
       "    <tr>\n",
       "      <th>2</th>\n",
       "      <td>Hatchet Outdoor Supply Co</td>\n",
       "      <td>40.691300</td>\n",
       "      <td>-73.997590</td>\n",
       "      <td>Brooklyn</td>\n",
       "      <td>outdoorgear</td>\n",
       "    </tr>\n",
       "    <tr>\n",
       "      <th>3</th>\n",
       "      <td>Fjällräven Epic NYC</td>\n",
       "      <td>40.721711</td>\n",
       "      <td>-74.002062</td>\n",
       "      <td>New York</td>\n",
       "      <td>outdoorgear</td>\n",
       "    </tr>\n",
       "    <tr>\n",
       "      <th>4</th>\n",
       "      <td>Patagonia Upper West Side</td>\n",
       "      <td>40.783070</td>\n",
       "      <td>-73.975118</td>\n",
       "      <td>New York</td>\n",
       "      <td>sportswear</td>\n",
       "    </tr>\n",
       "  </tbody>\n",
       "</table>\n",
       "</div>"
      ],
      "text/plain": [
       "                        Name        Lat        Lng      City Business Type\n",
       "0             Paragon Sports  40.737760 -73.990331  New York   outdoorgear\n",
       "1                        REI  40.724814 -73.995205  New York   outdoorgear\n",
       "2  Hatchet Outdoor Supply Co  40.691300 -73.997590  Brooklyn   outdoorgear\n",
       "3        Fjällräven Epic NYC  40.721711 -74.002062  New York   outdoorgear\n",
       "4  Patagonia Upper West Side  40.783070 -73.975118  New York    sportswear"
      ]
     },
     "execution_count": 31,
     "metadata": {},
     "output_type": "execute_result"
    }
   ],
   "source": [
    "# Convert to pandas DataFrame\n",
    "outdoor_df = pd.DataFrame(outdoor_gear_results)\n",
    "outdoor_df.head()"
   ]
  },
  {
   "cell_type": "code",
   "execution_count": 32,
   "id": "0712a698",
   "metadata": {},
   "outputs": [
    {
     "data": {
      "text/plain": [
       "3341"
      ]
     },
     "execution_count": 32,
     "metadata": {},
     "output_type": "execute_result"
    }
   ],
   "source": [
    "# Length of outdoor_df\n",
    "len(outdoor_df)"
   ]
  }
 ],
 "metadata": {
  "kernelspec": {
   "display_name": "PythonData",
   "language": "python",
   "name": "pythondata"
  },
  "language_info": {
   "codemirror_mode": {
    "name": "ipython",
    "version": 3
   },
   "file_extension": ".py",
   "mimetype": "text/x-python",
   "name": "python",
   "nbconvert_exporter": "python",
   "pygments_lexer": "ipython3",
   "version": "3.7.11"
  }
 },
 "nbformat": 4,
 "nbformat_minor": 5
}
